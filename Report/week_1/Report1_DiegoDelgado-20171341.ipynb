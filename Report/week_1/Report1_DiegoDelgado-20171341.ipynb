{
 "cells": [
  {
   "cell_type": "markdown",
   "id": "1eddeb39",
   "metadata": {},
   "source": [
    "# Report N 1\n",
    "\n",
    "## The Mincer Equation Thirty Years After Schooling, Experience and Earnings\n",
    "\n",
    "\n",
    "***"
   ]
  },
  {
   "cell_type": "markdown",
   "id": "d19b8754",
   "metadata": {},
   "source": [
    "Lemieux evaluates how the Mincer equation performs with more recent and detailed data. There should be considered that the initial work made by Mincer was published 50 years ago from now (and 35 years ago since the publication of Lemieux paper).  Among this time plenty of improvements in microdata and estimation techniques have appeared. Mincer’s book has been crucial for certain fields of economics such as labor economics or the human capital theory, so it’s crucial to evaluate if the empirical approximation that Mincer did is still valid in a context where it is still used even when there are remarkable differences in the labor market and in the society itself . \n",
    "\n",
    "\n",
    "The author focuses in 5 main topics along the paper. First, he discusses if the logarithmic specification of earnings is appropriate. Then he examinates if the education should enter linearly in the equation and if the experience should enter in a quadratic form. Finally, when analyzing possible differences among certain groups, the author evaluates if the relation between experience and earning is parallel among groups and If there are cohort effects.\n",
    "\n",
    "\n",
    "When evaluating if a logarithmic specification for the earnings is the appropriate, the author finds that the use of this specification has not just convenience purposes but a theoretical rationale. As Mincer pointed out, education has a multiplicative effect on future earnings. This is consistent with more recent works which validates the fact that the log-linear specification is appropriate for an empirical work of this type. On the other hand, when evaluating if a simple linear specification is the most appropriate, the author concluded that there are several reasons to consider other specification for the education.  Credentials could have an effect over earnings that the linear specification cannot identify. The author’s findings show that the linear specification does not fail when estimating wages with a linear specification for education for most of the years. However, the linear specification fails when predicting wages for 15 and 16 years of schooling which is consistent with the credentials hypothesis. Furthermore, when analyzing data for more recent years, the author found that the returns to schooling are convex and that a quadratic specification for schooling could enter into the equation. \n",
    "\n",
    "\n",
    "The author continues evaluating if the quadratic assumption for the experience is enough. He found that the quadratic assumption is not flexible enough because it doesn’t capture features of the experience-wages relation. More specifically, the quadratic specification understates the grow in wages at the first years of experiences. Thus, he proposes the use of a quartic specification which could capture those features that the quadratic specification failed to fit.  Other aspect evaluated by the author is the fact that there are parallel experience-earnings profiles. Mincer showed that the experience-earnings profile were parallel and, thus the wage gap between groups (high school and college) was a constant function of experience. However, recent research have showed that this feature is not longer valid in recent data which could be explained by the final topic analyzed by the author.\n",
    "\n",
    "\n",
    "In the remainder of the paper the author analyzes possible cohort effects that could have changed the findings of Mincer years ago. Mincer analyzed a cross-sectional data of workers for a certain year, such as most of the human capital empirical approached papers. Nothentheless, resarchers now believe that this way to estimate age-earnings profiles could overstate lifecycle earnings growth. The fact that younger workers could be entering the labor market for lower wages could be biasing the estimates. Hence, Lemieux found that college-high school wage gap increased for the older groups in data from 1974-81. Nevertheless, he found that for  samples from recent years the age-wage gap profile flattened and that the gap increased for the younger groups. This breaks in  inter-cohort   trends in education achievement could be the causing the increase of the wage gap for post 1950 cohorts. The cause of this could have been that the relative highly educate workforce have not  increased more since 1950. \n",
    "\n",
    "\n",
    "The author concludes saying that though the basic Mincer equation is a good approximation to empirically test the human capital theory it could overstate or understate experience or education returns on earnings for certain groups. However, this problem can be solved by including new polynomial specifications for some explanatory variables, and interactions for groups.  \n"
   ]
  },
  {
   "cell_type": "code",
   "execution_count": null,
   "id": "05da16c7",
   "metadata": {},
   "outputs": [],
   "source": []
  }
 ],
 "metadata": {
  "kernelspec": {
   "display_name": "R",
   "language": "R",
   "name": "ir"
  },
  "language_info": {
   "codemirror_mode": "r",
   "file_extension": ".r",
   "mimetype": "text/x-r-source",
   "name": "R",
   "pygments_lexer": "r",
   "version": "3.6.1"
  }
 },
 "nbformat": 4,
 "nbformat_minor": 5
}
