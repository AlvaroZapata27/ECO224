{
 "cells": [
  {
   "cell_type": "markdown",
   "metadata": {},
   "source": [
    "# R script is perfect!"
   ]
  },
  {
   "cell_type": "markdown",
   "metadata": {},
   "source": [
    "# R Basic Tutorial"
   ]
  },
  {
   "cell_type": "markdown",
   "metadata": {},
   "source": [
    "## Assignment\n",
    "Use `<-`, not `=`, for assignment.\n",
    "The symbol `=` is preferable for arguments in functions. Additionally, it can not be used in some syntax context. More information [here](https://stackoverflow.com/questions/1741820/what-are-the-differences-between-and-assignment-operators-in-r)."
   ]
  },
  {
   "cell_type": "code",
   "execution_count": null,
   "metadata": {},
   "outputs": [],
   "source": [
    "if (z =3 > 9) {\n",
    "    print('xsd')\n",
    "}"
   ]
  },
  {
   "cell_type": "code",
   "execution_count": null,
   "metadata": {},
   "outputs": [],
   "source": [
    "if ((z <- 12) >= 9){\n",
    "    print('xsd')\n",
    "}"
   ]
  },
  {
   "cell_type": "markdown",
   "metadata": {},
   "source": [
    "## Objects"
   ]
  },
  {
   "cell_type": "markdown",
   "metadata": {},
   "source": [
    "### Clases\n",
    "\n",
    "R is a functional programming language. It means that the programs are constructed by applying and composing functions. However, It can use Object Oriented Programming to construct tools for data analysis. Class is the blueprint that helps to create an object and contains its member variable along with the attributes. We have two main classes: S3 and S4. [info](https://www.datacamp.com/community/tutorials/r-objects-and-classes)\n",
    "\n",
    "### Objects\n",
    "Objects are the instance of a class. It means that it has some methods that can act upon its attributes. In R, everything is an object. We will cover four main objects: vector, matrix, list and dataframes. All of them comes from a class."
   ]
  },
  {
   "cell_type": "markdown",
   "metadata": {},
   "source": [
    "#### Data Types\n",
    "There are four data types: `character`, `numeric`, `integer` and `boolean`."
   ]
  },
  {
   "cell_type": "code",
   "execution_count": 32,
   "metadata": {},
   "outputs": [
    {
     "name": "stdout",
     "output_type": "stream",
     "text": [
      "[1] \"character\"\n"
     ]
    }
   ],
   "source": [
    "a <- 'Hola'\n",
    "print(class( a ))"
   ]
  },
  {
   "cell_type": "code",
   "execution_count": 38,
   "metadata": {},
   "outputs": [
    {
     "name": "stdout",
     "output_type": "stream",
     "text": [
      "[1] \"numeric\"\n"
     ]
    },
    {
     "data": {
      "text/html": [
       "20.5"
      ],
      "text/latex": [
       "20.5"
      ],
      "text/markdown": [
       "20.5"
      ],
      "text/plain": [
       "[1] 20.5"
      ]
     },
     "metadata": {},
     "output_type": "display_data"
    }
   ],
   "source": [
    "b <- 20.5\n",
    "print(class( b ))\n",
    "b"
   ]
  },
  {
   "cell_type": "code",
   "execution_count": 37,
   "metadata": {},
   "outputs": [
    {
     "name": "stdout",
     "output_type": "stream",
     "text": [
      "[1] \"integer\"\n"
     ]
    },
    {
     "data": {
      "text/html": [
       "20"
      ],
      "text/latex": [
       "20"
      ],
      "text/markdown": [
       "20"
      ],
      "text/plain": [
       "[1] 20"
      ]
     },
     "metadata": {},
     "output_type": "display_data"
    }
   ],
   "source": [
    "c <- as.integer(20.5)\n",
    "print(class( c ))\n",
    "c"
   ]
  },
  {
   "cell_type": "code",
   "execution_count": 39,
   "metadata": {},
   "outputs": [
    {
     "name": "stdout",
     "output_type": "stream",
     "text": [
      "[1] \"logical\"\n"
     ]
    },
    {
     "data": {
      "text/html": [
       "TRUE"
      ],
      "text/latex": [
       "TRUE"
      ],
      "text/markdown": [
       "TRUE"
      ],
      "text/plain": [
       "[1] TRUE"
      ]
     },
     "metadata": {},
     "output_type": "display_data"
    }
   ],
   "source": [
    "log_true <- TRUE\n",
    "print(class( log_true ))\n",
    "log_true"
   ]
  },
  {
   "cell_type": "code",
   "execution_count": null,
   "metadata": {},
   "outputs": [],
   "source": [
    "# typeof helps us to understand how this object is store in memory.\n",
    "typeof()\n",
    "# Class helps us to understand the type of a object\n",
    "class()"
   ]
  },
  {
   "cell_type": "code",
   "execution_count": 42,
   "metadata": {},
   "outputs": [
    {
     "name": "stdout",
     "output_type": "stream",
     "text": [
      "[1] good bad  ugly good bad  ugly\n",
      "Levels: bad good ugly\n"
     ]
    },
    {
     "data": {
      "text/html": [
       "'factor'"
      ],
      "text/latex": [
       "'factor'"
      ],
      "text/markdown": [
       "'factor'"
      ],
      "text/plain": [
       "[1] \"factor\""
      ]
     },
     "metadata": {},
     "output_type": "display_data"
    },
    {
     "data": {
      "text/html": [
       "<style>\n",
       ".list-inline {list-style: none; margin:0; padding: 0}\n",
       ".list-inline>li {display: inline-block}\n",
       ".list-inline>li:not(:last-child)::after {content: \"\\00b7\"; padding: 0 .5ex}\n",
       "</style>\n",
       "<ol class=list-inline><li>'bad'</li><li>'good'</li><li>'ugly'</li></ol>\n"
      ],
      "text/latex": [
       "\\begin{enumerate*}\n",
       "\\item 'bad'\n",
       "\\item 'good'\n",
       "\\item 'ugly'\n",
       "\\end{enumerate*}\n"
      ],
      "text/markdown": [
       "1. 'bad'\n",
       "2. 'good'\n",
       "3. 'ugly'\n",
       "\n",
       "\n"
      ],
      "text/plain": [
       "[1] \"bad\"  \"good\" \"ugly\""
      ]
     },
     "metadata": {},
     "output_type": "display_data"
    },
    {
     "data": {
      "text/html": [
       "3"
      ],
      "text/latex": [
       "3"
      ],
      "text/markdown": [
       "3"
      ],
      "text/plain": [
       "[1] 3"
      ]
     },
     "metadata": {},
     "output_type": "display_data"
    }
   ],
   "source": [
    "fac <- factor( c( \"good\", \"bad\", \"ugly\",\"good\", \"bad\", \"ugly\" ) )\n",
    "print( fac )\n",
    "# Type of class\n",
    "class( fac )\n",
    "# Levels\n",
    "levels( fac )\n",
    "# Number of Levels\n",
    "nlevels( fac )"
   ]
  },
  {
   "cell_type": "code",
   "execution_count": 44,
   "metadata": {},
   "outputs": [
    {
     "data": {
      "text/html": [
       "<style>\n",
       ".list-inline {list-style: none; margin:0; padding: 0}\n",
       ".list-inline>li {display: inline-block}\n",
       ".list-inline>li:not(:last-child)::after {content: \"\\00b7\"; padding: 0 .5ex}\n",
       "</style>\n",
       "<ol class=list-inline><li>'a'</li><li>'b'</li><li>'c'</li><li>'fac'</li><li>'log_true'</li><li>'x'</li><li>'y'</li><li>'z'</li></ol>\n"
      ],
      "text/latex": [
       "\\begin{enumerate*}\n",
       "\\item 'a'\n",
       "\\item 'b'\n",
       "\\item 'c'\n",
       "\\item 'fac'\n",
       "\\item 'log\\_true'\n",
       "\\item 'x'\n",
       "\\item 'y'\n",
       "\\item 'z'\n",
       "\\end{enumerate*}\n"
      ],
      "text/markdown": [
       "1. 'a'\n",
       "2. 'b'\n",
       "3. 'c'\n",
       "4. 'fac'\n",
       "5. 'log_true'\n",
       "6. 'x'\n",
       "7. 'y'\n",
       "8. 'z'\n",
       "\n",
       "\n"
      ],
      "text/plain": [
       "[1] \"a\"        \"b\"        \"c\"        \"fac\"      \"log_true\" \"x\"        \"y\"       \n",
       "[8] \"z\"       "
      ]
     },
     "metadata": {},
     "output_type": "display_data"
    }
   ],
   "source": [
    "# Check the variables that you defined\n",
    "ls()"
   ]
  },
  {
   "cell_type": "markdown",
   "metadata": {},
   "source": [
    "Basic data structures in R include the vector, list, matrix, data frame, and factors. Some of these structures require that all members be of the same data type (e.g. vectors, matrices) while others permit multiple data types (e.g. lists, data frames)."
   ]
  },
  {
   "cell_type": "markdown",
   "metadata": {},
   "source": [
    "#### Vectors\n",
    "This data structure requires that all members be of the same data type."
   ]
  },
  {
   "cell_type": "code",
   "execution_count": 56,
   "metadata": {},
   "outputs": [
    {
     "name": "stdout",
     "output_type": "stream",
     "text": [
      "[1] \"numeric\"\n",
      "[1] TRUE\n",
      "[1] 6\n"
     ]
    }
   ],
   "source": [
    "vec <- c( 2 , 3 , 4 , 5 , 6 , 4 )\n",
    "print( class( vec ) )\n",
    "print( is.vector( vec ) )\n",
    "print( length( vec ) )"
   ]
  },
  {
   "cell_type": "code",
   "execution_count": 58,
   "metadata": {},
   "outputs": [],
   "source": [
    "sec_1_9 <- seq(1,10, by = 2)"
   ]
  },
  {
   "cell_type": "markdown",
   "metadata": {},
   "source": [
    "#### Indexing"
   ]
  },
  {
   "cell_type": "code",
   "execution_count": 73,
   "metadata": {},
   "outputs": [
    {
     "name": "stdout",
     "output_type": "stream",
     "text": [
      "[1] 4 2 4 3\n",
      "[1] 4 2 3\n",
      "[1] 2\n",
      "[1] 2 4 3\n"
     ]
    }
   ],
   "source": [
    "index_vec  <- vec[ c( 3, 1, 6, 2 ) ]\n",
    "print( index_vec )\n",
    "print( index_vec[ -3 ] )\n",
    "print( index_vec[ index_vec < 3 ] )\n",
    "print( index_vec[ 2:4 ] )"
   ]
  },
  {
   "cell_type": "markdown",
   "metadata": {},
   "source": [
    "#### Matrix\n",
    "This data structure requires that all members be of the same data type."
   ]
  },
  {
   "cell_type": "code",
   "execution_count": 99,
   "metadata": {},
   "outputs": [
    {
     "name": "stdout",
     "output_type": "stream",
     "text": [
      "     colA colB colC\n",
      "rowA    3    6    6\n",
      "rowB    5    7    3\n",
      "rowC    2    1    7\n"
     ]
    }
   ],
   "source": [
    "A = matrix( c(3, 5, 2, 6, 7, 1, 6, 3, 7 ) , nrow = 3, ncol = 3 , byrow = FALSE, \n",
    "            dimnames = list( c( \"rowA\" , \"rowB\" , \"rowC\" ), c( \"colA\" , \"colB\" , \"colC\" ) ) )\n",
    "print( A )"
   ]
  },
  {
   "cell_type": "code",
   "execution_count": 100,
   "metadata": {},
   "outputs": [
    {
     "name": "stdout",
     "output_type": "stream",
     "text": [
      "     rowA rowB rowC\n",
      "rowA    1    0    0\n",
      "rowB    0    1    0\n",
      "rowC    0    0    1\n",
      "rowA rowB rowC \n",
      "   1    1    1 \n",
      "     rowA rowB rowC\n",
      "colA    3    5    2\n",
      "colB    6    7    1\n",
      "colC    6    3    7\n"
     ]
    }
   ],
   "source": [
    "# Solve for getting inverse matrix\n",
    "# %*% Matrix Multiplication\n",
    "# round output of the matrix\n",
    "B = round( A %*% solve( A ) , 2 )\n",
    "print( B )\n",
    "print( diag( B ) )\n",
    "print( t( A ) )"
   ]
  },
  {
   "cell_type": "markdown",
   "metadata": {},
   "source": [
    "#### Lists\n",
    "This data structure does not require that all members be of the same data type."
   ]
  },
  {
   "cell_type": "code",
   "execution_count": 101,
   "metadata": {},
   "outputs": [
    {
     "data": {
      "text/html": [
       "<dl>\n",
       "\t<dt>$num_UEFA</dt>\n",
       "\t\t<dd><style>\n",
       ".list-inline {list-style: none; margin:0; padding: 0}\n",
       ".list-inline>li {display: inline-block}\n",
       ".list-inline>li:not(:last-child)::after {content: \"\\00b7\"; padding: 0 .5ex}\n",
       "</style>\n",
       "<ol class=list-inline><li>13</li><li>7</li><li>6</li></ol>\n",
       "</dd>\n",
       "\t<dt>$clubs</dt>\n",
       "\t\t<dd><style>\n",
       ".list-inline {list-style: none; margin:0; padding: 0}\n",
       ".list-inline>li {display: inline-block}\n",
       ".list-inline>li:not(:last-child)::after {content: \"\\00b7\"; padding: 0 .5ex}\n",
       "</style>\n",
       "<ol class=list-inline><li>'Real Madrid'</li><li>'AC Milan'</li><li>'Liverpool FC'</li></ol>\n",
       "</dd>\n",
       "\t<dt>$last_year</dt>\n",
       "\t\t<dd><style>\n",
       ".list-inline {list-style: none; margin:0; padding: 0}\n",
       ".list-inline>li {display: inline-block}\n",
       ".list-inline>li:not(:last-child)::after {content: \"\\00b7\"; padding: 0 .5ex}\n",
       "</style>\n",
       "<ol class=list-inline><li>2018</li><li>2007</li><li>2019</li></ol>\n",
       "</dd>\n",
       "</dl>\n"
      ],
      "text/latex": [
       "\\begin{description}\n",
       "\\item[\\$num\\_UEFA] \\begin{enumerate*}\n",
       "\\item 13\n",
       "\\item 7\n",
       "\\item 6\n",
       "\\end{enumerate*}\n",
       "\n",
       "\\item[\\$clubs] \\begin{enumerate*}\n",
       "\\item 'Real Madrid'\n",
       "\\item 'AC Milan'\n",
       "\\item 'Liverpool FC'\n",
       "\\end{enumerate*}\n",
       "\n",
       "\\item[\\$last\\_year] \\begin{enumerate*}\n",
       "\\item 2018\n",
       "\\item 2007\n",
       "\\item 2019\n",
       "\\end{enumerate*}\n",
       "\n",
       "\\end{description}\n"
      ],
      "text/markdown": [
       "$num_UEFA\n",
       ":   1. 13\n",
       "2. 7\n",
       "3. 6\n",
       "\n",
       "\n",
       "\n",
       "$clubs\n",
       ":   1. 'Real Madrid'\n",
       "2. 'AC Milan'\n",
       "3. 'Liverpool FC'\n",
       "\n",
       "\n",
       "\n",
       "$last_year\n",
       ":   1. 2018\n",
       "2. 2007\n",
       "3. 2019\n",
       "\n",
       "\n",
       "\n",
       "\n",
       "\n"
      ],
      "text/plain": [
       "$num_UEFA\n",
       "[1] 13  7  6\n",
       "\n",
       "$clubs\n",
       "[1] \"Real Madrid\"  \"AC Milan\"     \"Liverpool FC\"\n",
       "\n",
       "$last_year\n",
       "[1] 2018 2007 2019\n"
      ]
     },
     "metadata": {},
     "output_type": "display_data"
    }
   ],
   "source": [
    "mylist <- list( num_UEFA = c( 13 , 7 , 6 ) , clubs = c( \"Real Madrid\" , \"AC Milan\" , \"Liverpool FC\" ) , \n",
    "               last_year = c( 2018 , 2007 , 2019 ) )\n",
    "mylist"
   ]
  },
  {
   "cell_type": "code",
   "execution_count": 105,
   "metadata": {},
   "outputs": [
    {
     "data": {
      "text/html": [
       "<style>\n",
       ".list-inline {list-style: none; margin:0; padding: 0}\n",
       ".list-inline>li {display: inline-block}\n",
       ".list-inline>li:not(:last-child)::after {content: \"\\00b7\"; padding: 0 .5ex}\n",
       "</style>\n",
       "<ol class=list-inline><li>2018</li><li>2007</li><li>2019</li></ol>\n"
      ],
      "text/latex": [
       "\\begin{enumerate*}\n",
       "\\item 2018\n",
       "\\item 2007\n",
       "\\item 2019\n",
       "\\end{enumerate*}\n"
      ],
      "text/markdown": [
       "1. 2018\n",
       "2. 2007\n",
       "3. 2019\n",
       "\n",
       "\n"
      ],
      "text/plain": [
       "[1] 2018 2007 2019"
      ]
     },
     "metadata": {},
     "output_type": "display_data"
    }
   ],
   "source": [
    "# Indexing vectors\n",
    "mylist[[3]]"
   ]
  },
  {
   "cell_type": "code",
   "execution_count": 109,
   "metadata": {},
   "outputs": [
    {
     "data": {
      "text/html": [
       "<style>\n",
       ".list-inline {list-style: none; margin:0; padding: 0}\n",
       ".list-inline>li {display: inline-block}\n",
       ".list-inline>li:not(:last-child)::after {content: \"\\00b7\"; padding: 0 .5ex}\n",
       "</style>\n",
       "<ol class=list-inline><li>2007</li><li>2019</li></ol>\n"
      ],
      "text/latex": [
       "\\begin{enumerate*}\n",
       "\\item 2007\n",
       "\\item 2019\n",
       "\\end{enumerate*}\n"
      ],
      "text/markdown": [
       "1. 2007\n",
       "2. 2019\n",
       "\n",
       "\n"
      ],
      "text/plain": [
       "[1] 2007 2019"
      ]
     },
     "metadata": {},
     "output_type": "display_data"
    }
   ],
   "source": [
    "# Indexing group of vectors\n",
    "mylist[[3]][2:3]"
   ]
  },
  {
   "cell_type": "code",
   "execution_count": 113,
   "metadata": {},
   "outputs": [
    {
     "data": {
      "text/html": [
       "<strong>$last_year</strong> = <style>\n",
       ".list-inline {list-style: none; margin:0; padding: 0}\n",
       ".list-inline>li {display: inline-block}\n",
       ".list-inline>li:not(:last-child)::after {content: \"\\00b7\"; padding: 0 .5ex}\n",
       "</style>\n",
       "<ol class=list-inline><li>2018</li><li>2007</li><li>2019</li></ol>\n"
      ],
      "text/latex": [
       "\\textbf{\\$last\\_year} = \\begin{enumerate*}\n",
       "\\item 2018\n",
       "\\item 2007\n",
       "\\item 2019\n",
       "\\end{enumerate*}\n"
      ],
      "text/markdown": [
       "**$last_year** = 1. 2018\n",
       "2. 2007\n",
       "3. 2019\n",
       "\n",
       "\n"
      ],
      "text/plain": [
       "$last_year\n",
       "[1] 2018 2007 2019\n"
      ]
     },
     "metadata": {},
     "output_type": "display_data"
    }
   ],
   "source": [
    "# Indexing group of vectors\n",
    "mylist[3][1]"
   ]
  },
  {
   "cell_type": "markdown",
   "metadata": {},
   "source": [
    "#### DataFrame\n",
    "This data structure does not require that all members be of the same data type."
   ]
  },
  {
   "cell_type": "code",
   "execution_count": 114,
   "metadata": {},
   "outputs": [
    {
     "data": {
      "text/html": [
       "<table class=\"dataframe\">\n",
       "<caption>A data.frame: 8 × 4</caption>\n",
       "<thead>\n",
       "\t<tr><th scope=col>Student_Name</th><th scope=col>Age</th><th scope=col>Gender</th><th scope=col>GPA</th></tr>\n",
       "\t<tr><th scope=col>&lt;chr&gt;</th><th scope=col>&lt;dbl&gt;</th><th scope=col>&lt;chr&gt;</th><th scope=col>&lt;dbl&gt;</th></tr>\n",
       "</thead>\n",
       "<tbody>\n",
       "\t<tr><td>Amy   </td><td>27</td><td>F</td><td>3.26</td></tr>\n",
       "\t<tr><td>Bob   </td><td>55</td><td>M</td><td>3.75</td></tr>\n",
       "\t<tr><td>Chuck </td><td>34</td><td>M</td><td>2.98</td></tr>\n",
       "\t<tr><td>Daisy </td><td>42</td><td>F</td><td>3.40</td></tr>\n",
       "\t<tr><td>Ellie </td><td>20</td><td>F</td><td>2.75</td></tr>\n",
       "\t<tr><td>Frank </td><td>27</td><td>M</td><td>3.32</td></tr>\n",
       "\t<tr><td>George</td><td>34</td><td>M</td><td>3.68</td></tr>\n",
       "\t<tr><td>Helen </td><td>42</td><td>F</td><td>3.97</td></tr>\n",
       "</tbody>\n",
       "</table>\n"
      ],
      "text/latex": [
       "A data.frame: 8 × 4\n",
       "\\begin{tabular}{llll}\n",
       " Student\\_Name & Age & Gender & GPA\\\\\n",
       " <chr> & <dbl> & <chr> & <dbl>\\\\\n",
       "\\hline\n",
       "\t Amy    & 27 & F & 3.26\\\\\n",
       "\t Bob    & 55 & M & 3.75\\\\\n",
       "\t Chuck  & 34 & M & 2.98\\\\\n",
       "\t Daisy  & 42 & F & 3.40\\\\\n",
       "\t Ellie  & 20 & F & 2.75\\\\\n",
       "\t Frank  & 27 & M & 3.32\\\\\n",
       "\t George & 34 & M & 3.68\\\\\n",
       "\t Helen  & 42 & F & 3.97\\\\\n",
       "\\end{tabular}\n"
      ],
      "text/markdown": [
       "\n",
       "A data.frame: 8 × 4\n",
       "\n",
       "| Student_Name &lt;chr&gt; | Age &lt;dbl&gt; | Gender &lt;chr&gt; | GPA &lt;dbl&gt; |\n",
       "|---|---|---|---|\n",
       "| Amy    | 27 | F | 3.26 |\n",
       "| Bob    | 55 | M | 3.75 |\n",
       "| Chuck  | 34 | M | 2.98 |\n",
       "| Daisy  | 42 | F | 3.40 |\n",
       "| Ellie  | 20 | F | 2.75 |\n",
       "| Frank  | 27 | M | 3.32 |\n",
       "| George | 34 | M | 3.68 |\n",
       "| Helen  | 42 | F | 3.97 |\n",
       "\n"
      ],
      "text/plain": [
       "  Student_Name Age Gender GPA \n",
       "1 Amy          27  F      3.26\n",
       "2 Bob          55  M      3.75\n",
       "3 Chuck        34  M      2.98\n",
       "4 Daisy        42  F      3.40\n",
       "5 Ellie        20  F      2.75\n",
       "6 Frank        27  M      3.32\n",
       "7 George       34  M      3.68\n",
       "8 Helen        42  F      3.97"
      ]
     },
     "metadata": {},
     "output_type": "display_data"
    }
   ],
   "source": [
    "Student_Name <- c(\"Amy\", \"Bob\", \"Chuck\", \"Daisy\", \"Ellie\", \"Frank\", \n",
    "                  \"George\", \"Helen\")\n",
    "\n",
    "Age <- c(27, 55, 34, 42, 20, 27, 34, 42)\n",
    "\n",
    "Gender <- c(\"F\", \"M\", \"M\", \"F\", \"F\", \"M\", \"M\", \"F\")\n",
    "\n",
    "GPA <- c(3.26, 3.75, 2.98, 3.40, 2.75, 3.32, 3.68, 3.97)\n",
    "\n",
    "nsc <- data.frame(Student_Name, Age, Gender, GPA)   # Naming the data frame\n",
    "nsc # Generates the data frame"
   ]
  },
  {
   "cell_type": "code",
   "execution_count": 115,
   "metadata": {},
   "outputs": [
    {
     "data": {
      "text/html": [
       "<style>\n",
       ".list-inline {list-style: none; margin:0; padding: 0}\n",
       ".list-inline>li {display: inline-block}\n",
       ".list-inline>li:not(:last-child)::after {content: \"\\00b7\"; padding: 0 .5ex}\n",
       "</style>\n",
       "<ol class=list-inline><li>'Student_Name'</li><li>'Age'</li><li>'Gender'</li><li>'GPA'</li></ol>\n"
      ],
      "text/latex": [
       "\\begin{enumerate*}\n",
       "\\item 'Student\\_Name'\n",
       "\\item 'Age'\n",
       "\\item 'Gender'\n",
       "\\item 'GPA'\n",
       "\\end{enumerate*}\n"
      ],
      "text/markdown": [
       "1. 'Student_Name'\n",
       "2. 'Age'\n",
       "3. 'Gender'\n",
       "4. 'GPA'\n",
       "\n",
       "\n"
      ],
      "text/plain": [
       "[1] \"Student_Name\" \"Age\"          \"Gender\"       \"GPA\"         "
      ]
     },
     "metadata": {},
     "output_type": "display_data"
    }
   ],
   "source": [
    "# Lists variables\n",
    "names(nsc)   "
   ]
  },
  {
   "cell_type": "code",
   "execution_count": 120,
   "metadata": {},
   "outputs": [
    {
     "data": {
      "text/html": [
       "<table class=\"dataframe\">\n",
       "<caption>A data.frame: 3 × 3</caption>\n",
       "<thead>\n",
       "\t<tr><th></th><th scope=col>Age</th><th scope=col>Gender</th><th scope=col>GPA</th></tr>\n",
       "\t<tr><th></th><th scope=col>&lt;dbl&gt;</th><th scope=col>&lt;chr&gt;</th><th scope=col>&lt;dbl&gt;</th></tr>\n",
       "</thead>\n",
       "<tbody>\n",
       "\t<tr><th scope=row>3</th><td>34</td><td>M</td><td>2.98</td></tr>\n",
       "\t<tr><th scope=row>4</th><td>42</td><td>F</td><td>3.40</td></tr>\n",
       "\t<tr><th scope=row>5</th><td>20</td><td>F</td><td>2.75</td></tr>\n",
       "</tbody>\n",
       "</table>\n"
      ],
      "text/latex": [
       "A data.frame: 3 × 3\n",
       "\\begin{tabular}{r|lll}\n",
       "  & Age & Gender & GPA\\\\\n",
       "  & <dbl> & <chr> & <dbl>\\\\\n",
       "\\hline\n",
       "\t3 & 34 & M & 2.98\\\\\n",
       "\t4 & 42 & F & 3.40\\\\\n",
       "\t5 & 20 & F & 2.75\\\\\n",
       "\\end{tabular}\n"
      ],
      "text/markdown": [
       "\n",
       "A data.frame: 3 × 3\n",
       "\n",
       "| <!--/--> | Age &lt;dbl&gt; | Gender &lt;chr&gt; | GPA &lt;dbl&gt; |\n",
       "|---|---|---|---|\n",
       "| 3 | 34 | M | 2.98 |\n",
       "| 4 | 42 | F | 3.40 |\n",
       "| 5 | 20 | F | 2.75 |\n",
       "\n"
      ],
      "text/plain": [
       "  Age Gender GPA \n",
       "3 34  M      2.98\n",
       "4 42  F      3.40\n",
       "5 20  F      2.75"
      ]
     },
     "metadata": {},
     "output_type": "display_data"
    }
   ],
   "source": [
    "# indexing dataframes\n",
    "nsc[3:5 , 2:4]    "
   ]
  },
  {
   "cell_type": "code",
   "execution_count": 121,
   "metadata": {},
   "outputs": [
    {
     "data": {
      "text/html": [
       "<table class=\"dataframe\">\n",
       "<caption>A data.frame: 4 × 2</caption>\n",
       "<thead>\n",
       "\t<tr><th></th><th scope=col>Gender</th><th scope=col>Age</th></tr>\n",
       "\t<tr><th></th><th scope=col>&lt;chr&gt;</th><th scope=col>&lt;dbl&gt;</th></tr>\n",
       "</thead>\n",
       "<tbody>\n",
       "\t<tr><th scope=row>1</th><td>F</td><td>27</td></tr>\n",
       "\t<tr><th scope=row>2</th><td>M</td><td>55</td></tr>\n",
       "\t<tr><th scope=row>4</th><td>F</td><td>42</td></tr>\n",
       "\t<tr><th scope=row>6</th><td>M</td><td>27</td></tr>\n",
       "</tbody>\n",
       "</table>\n"
      ],
      "text/latex": [
       "A data.frame: 4 × 2\n",
       "\\begin{tabular}{r|ll}\n",
       "  & Gender & Age\\\\\n",
       "  & <chr> & <dbl>\\\\\n",
       "\\hline\n",
       "\t1 & F & 27\\\\\n",
       "\t2 & M & 55\\\\\n",
       "\t4 & F & 42\\\\\n",
       "\t6 & M & 27\\\\\n",
       "\\end{tabular}\n"
      ],
      "text/markdown": [
       "\n",
       "A data.frame: 4 × 2\n",
       "\n",
       "| <!--/--> | Gender &lt;chr&gt; | Age &lt;dbl&gt; |\n",
       "|---|---|---|\n",
       "| 1 | F | 27 |\n",
       "| 2 | M | 55 |\n",
       "| 4 | F | 42 |\n",
       "| 6 | M | 27 |\n",
       "\n"
      ],
      "text/plain": [
       "  Gender Age\n",
       "1 F      27 \n",
       "2 M      55 \n",
       "4 F      42 \n",
       "6 M      27 "
      ]
     },
     "metadata": {},
     "output_type": "display_data"
    }
   ],
   "source": [
    "# indexing dataframes\n",
    "nsc[ c( 1 , 2 , 4, 6 ) , c( 3 , 2 ) ]"
   ]
  },
  {
   "cell_type": "code",
   "execution_count": 122,
   "metadata": {},
   "outputs": [
    {
     "data": {
      "text/html": [
       "<style>\n",
       ".list-inline {list-style: none; margin:0; padding: 0}\n",
       ".list-inline>li {display: inline-block}\n",
       ".list-inline>li:not(:last-child)::after {content: \"\\00b7\"; padding: 0 .5ex}\n",
       "</style>\n",
       "<ol class=list-inline><li>'Amy'</li><li>'Bob'</li><li>'Chuck'</li><li>'Daisy'</li><li>'Ellie'</li><li>'Frank'</li><li>'George'</li><li>'Helen'</li></ol>\n"
      ],
      "text/latex": [
       "\\begin{enumerate*}\n",
       "\\item 'Amy'\n",
       "\\item 'Bob'\n",
       "\\item 'Chuck'\n",
       "\\item 'Daisy'\n",
       "\\item 'Ellie'\n",
       "\\item 'Frank'\n",
       "\\item 'George'\n",
       "\\item 'Helen'\n",
       "\\end{enumerate*}\n"
      ],
      "text/markdown": [
       "1. 'Amy'\n",
       "2. 'Bob'\n",
       "3. 'Chuck'\n",
       "4. 'Daisy'\n",
       "5. 'Ellie'\n",
       "6. 'Frank'\n",
       "7. 'George'\n",
       "8. 'Helen'\n",
       "\n",
       "\n"
      ],
      "text/plain": [
       "[1] \"Amy\"    \"Bob\"    \"Chuck\"  \"Daisy\"  \"Ellie\"  \"Frank\"  \"George\" \"Helen\" "
      ]
     },
     "metadata": {},
     "output_type": "display_data"
    }
   ],
   "source": [
    "nsc$Student_Name"
   ]
  },
  {
   "cell_type": "markdown",
   "metadata": {},
   "source": [
    "## Packages"
   ]
  },
  {
   "cell_type": "code",
   "execution_count": 123,
   "metadata": {},
   "outputs": [
    {
     "name": "stderr",
     "output_type": "stream",
     "text": [
      "Installing package into 'C:/Users/Anzony/Documents/R/win-library/4.0'\n",
      "(as 'lib' is unspecified)\n",
      "\n"
     ]
    },
    {
     "name": "stdout",
     "output_type": "stream",
     "text": [
      "package 'glmnet' successfully unpacked and MD5 sums checked\n",
      "\n",
      "The downloaded binary packages are in\n",
      "\tC:\\Users\\Anzony\\AppData\\Local\\Temp\\RtmpAjeS7B\\downloaded_packages\n"
     ]
    },
    {
     "name": "stderr",
     "output_type": "stream",
     "text": [
      "Warning message:\n",
      "\"package 'glmnet' was built under R version 4.0.5\"\n",
      "Loading required package: Matrix\n",
      "\n",
      "Loaded glmnet 4.1-2\n",
      "\n"
     ]
    }
   ],
   "source": [
    "# install.packages( \"glmnet\" )\n",
    "library(glmnet)"
   ]
  },
  {
   "cell_type": "markdown",
   "metadata": {},
   "source": [
    "## Working with DataFrames"
   ]
  },
  {
   "cell_type": "code",
   "execution_count": null,
   "metadata": {},
   "outputs": [],
   "source": [
    "# #Downloading data from Dropbox link\n",
    "# download.file(\"https://www.dropbox.com/s/azntv5h351nq3c1/penn_jae.dat?dl=1\", \"penn_jae.dat\" )\n",
    "\n",
    "# Reading data and converting to dataframe\n",
    "Penn <- as.data.frame(read.table(\"https://www.dropbox.com/s/azntv5h351nq3c1/penn_jae.dat?dl=1\", header=T ))\n",
    "\n",
    "#Number of rows\n",
    "n <- dim(Penn)[1]\n",
    "\n",
    "# Number of columns\n",
    "p_1 <- dim(Penn)[2]\n",
    "\n",
    "# Filtering data to tg==4 | tg==0\n",
    "Penn<- subset(Penn, tg==4 | tg==0)\n",
    "\n",
    "# we are making the columns of the data frame as vectors available with its own name\n",
    "attach(Penn)"
   ]
  },
  {
   "cell_type": "code",
   "execution_count": 155,
   "metadata": {},
   "outputs": [
    {
     "data": {
      "text/plain": [
       "   Mode   FALSE    TRUE \n",
       "logical    3354    1745 "
      ]
     },
     "metadata": {},
     "output_type": "display_data"
    }
   ],
   "source": [
    "T4<- (tg==4)\n",
    "summary(T4)"
   ]
  },
  {
   "cell_type": "markdown",
   "metadata": {},
   "source": [
    "## Regressions"
   ]
  },
  {
   "cell_type": "markdown",
   "metadata": {},
   "source": [
    "### Formula\n",
    "For more information [link1](https://thomasleeper.com/Rcourse/Tutorials/formulae.html), [link2](https://www.datacamp.com/community/tutorials/r-formula-tutorial)."
   ]
  },
  {
   "cell_type": "code",
   "execution_count": 156,
   "metadata": {
    "scrolled": true
   },
   "outputs": [
    {
     "name": "stderr",
     "output_type": "stream",
     "text": [
      "Warning message:\n",
      "\"package 'lmtest' was built under R version 4.1.0\"\n",
      "Loading required package: zoo\n",
      "\n",
      "Warning message:\n",
      "\"package 'zoo' was built under R version 4.1.0\"\n",
      "\n",
      "Attaching package: 'zoo'\n",
      "\n",
      "\n",
      "The following objects are masked from 'package:base':\n",
      "\n",
      "    as.Date, as.Date.numeric\n",
      "\n",
      "\n",
      "Warning message:\n",
      "\"package 'sandwich' was built under R version 4.1.0\"\n"
     ]
    }
   ],
   "source": [
    "# install.packages( \"lmtest\" )\n",
    "# install.packages( \"sandwich\" )\n",
    "library(lmtest)\n",
    "library(sandwich)\n",
    "# Suggestion for update your R version"
   ]
  },
  {
   "cell_type": "code",
   "execution_count": 158,
   "metadata": {},
   "outputs": [
    {
     "data": {
      "text/html": [
       "'formula'"
      ],
      "text/latex": [
       "'formula'"
      ],
      "text/markdown": [
       "'formula'"
      ],
      "text/plain": [
       "[1] \"formula\""
      ]
     },
     "metadata": {},
     "output_type": "display_data"
    }
   ],
   "source": [
    "# Generation of formulas for regressions\n",
    "# The class formula\n",
    "formula1 <- (T4~ female )\n",
    "class(formula1)\n",
    "# formula1 <- (T4~(female+black+othrace+factor(dep)+q2+q3+q4+q5+q6+agelt35+agegt54+durable+lusd+husd)^2)\n"
   ]
  },
  {
   "cell_type": "code",
   "execution_count": 169,
   "metadata": {},
   "outputs": [
    {
     "data": {
      "text/html": [
       "<style>\n",
       ".list-inline {list-style: none; margin:0; padding: 0}\n",
       ".list-inline>li {display: inline-block}\n",
       ".list-inline>li:not(:last-child)::after {content: \"\\00b7\"; padding: 0 .5ex}\n",
       "</style>\n",
       "<ol class=list-inline><li>'T4'</li><li>'female'</li><li>'black'</li></ol>\n"
      ],
      "text/latex": [
       "\\begin{enumerate*}\n",
       "\\item 'T4'\n",
       "\\item 'female'\n",
       "\\item 'black'\n",
       "\\end{enumerate*}\n"
      ],
      "text/markdown": [
       "1. 'T4'\n",
       "2. 'female'\n",
       "3. 'black'\n",
       "\n",
       "\n"
      ],
      "text/plain": [
       "[1] \"T4\"     \"female\" \"black\" "
      ]
     },
     "metadata": {},
     "output_type": "display_data"
    },
    {
     "name": "stdout",
     "output_type": "stream",
     "text": [
      "T4 ~ female - black\n",
      "attr(,\"variables\")\n",
      "list(T4, female, black)\n",
      "attr(,\"factors\")\n",
      "       female\n",
      "T4          0\n",
      "female      1\n",
      "black       0\n",
      "attr(,\"term.labels\")\n",
      "[1] \"female\"\n",
      "attr(,\"order\")\n",
      "[1] 1\n",
      "attr(,\"intercept\")\n",
      "[1] 1\n",
      "attr(,\"response\")\n",
      "[1] 1\n",
      "attr(,\".Environment\")\n",
      "<environment: R_GlobalEnv>\n"
     ]
    }
   ],
   "source": [
    "# We can use multiple independent variables b simply separating them with the plus symbol(+)\n",
    "formula2 <- (T4 ~ female + black )\n",
    "# See the variables in the formula\n",
    "all.vars( formula2 )\n",
    "\n",
    "formula3 <- (T4 ~ female - black )\n",
    "print( terms( formula3 ) )"
   ]
  },
  {
   "cell_type": "code",
   "execution_count": null,
   "metadata": {},
   "outputs": [],
   "source": [
    "# Interactions terms\n",
    "# We include the two terms and their interaction\n",
    "formula5  <- (T4 ~ female * black)\n",
    "print( terms( formula5 ) )\n",
    "\n",
    "# We include only the interaction\n",
    "formula6  <- (T4 ~ female:black)\n",
    "print( terms( formula6 ) )"
   ]
  },
  {
   "cell_type": "code",
   "execution_count": null,
   "metadata": {},
   "outputs": [],
   "source": [
    "# Drop the intercept\n",
    "# Method 1\n",
    "formula5  <- (T4 ~  female * black)\n",
    "print( terms( formula5 ) )\n",
    "\n",
    "formula6  <- (T4 ~  -1 + female * black)\n",
    "print( terms( formula6 ) )\n",
    "\n",
    "# Method 2\n",
    "formula7  <- (T4 ~ female:black)\n",
    "print( terms( formula7 ) )\n",
    "\n",
    "formula8  <- (T4 ~ 0 + female:black)\n",
    "print( terms( formula8 ) )"
   ]
  },
  {
   "cell_type": "code",
   "execution_count": null,
   "metadata": {},
   "outputs": [],
   "source": [
    "# Factor in regression Analysis\n",
    "# dep is a factor variable but as defaul it is a vector\n",
    "dep[ 4:20 ]\n",
    "class(dep)\n",
    "# factor(dep) == as.factor( dep )\n",
    "\n",
    "# we need to specify that dep is a factor variable in a regression formula to not be treated as a numeric vector\n",
    "# by default, the factor's first level treated as a baseline\n",
    "formula6  <- (T4 ~  female * black + factor( dep ) )\n",
    "print( terms( formula6 ) )\n",
    "\n",
    "formula7  <- (T4 ~  female * black + dep )\n",
    "print( terms( formula7 ) )"
   ]
  },
  {
   "cell_type": "code",
   "execution_count": 193,
   "metadata": {},
   "outputs": [
    {
     "name": "stdout",
     "output_type": "stream",
     "text": [
      "T4 ~ female + black + lusd + lusd^2\n",
      "attr(,\"variables\")\n",
      "list(T4, female, black, lusd)\n",
      "attr(,\"factors\")\n",
      "       female black lusd\n",
      "T4          0     0    0\n",
      "female      1     0    0\n",
      "black       0     1    0\n",
      "lusd        0     0    1\n",
      "attr(,\"term.labels\")\n",
      "[1] \"female\" \"black\"  \"lusd\"  \n",
      "attr(,\"order\")\n",
      "[1] 1 1 1\n",
      "attr(,\"intercept\")\n",
      "[1] 1\n",
      "attr(,\"response\")\n",
      "[1] 1\n",
      "attr(,\".Environment\")\n",
      "<environment: R_GlobalEnv>\n"
     ]
    },
    {
     "data": {
      "text/html": [
       "'formula'"
      ],
      "text/latex": [
       "'formula'"
      ],
      "text/markdown": [
       "'formula'"
      ],
      "text/plain": [
       "[1] \"formula\""
      ]
     },
     "metadata": {},
     "output_type": "display_data"
    },
    {
     "name": "stdout",
     "output_type": "stream",
     "text": [
      "T4 ~ female + black + lusd + factor(dep)\n",
      "attr(,\"variables\")\n",
      "list(T4, female, black, lusd, factor(dep))\n",
      "attr(,\"factors\")\n",
      "            female black lusd factor(dep)\n",
      "T4               0     0    0           0\n",
      "female           1     0    0           0\n",
      "black            0     1    0           0\n",
      "lusd             0     0    1           0\n",
      "factor(dep)      0     0    0           1\n",
      "attr(,\"term.labels\")\n",
      "[1] \"female\"      \"black\"       \"lusd\"        \"factor(dep)\"\n",
      "attr(,\"order\")\n",
      "[1] 1 1 1 1\n",
      "attr(,\"intercept\")\n",
      "[1] 1\n",
      "attr(,\"response\")\n",
      "[1] 1\n",
      "attr(,\".Environment\")\n",
      "<environment: R_GlobalEnv>\n"
     ]
    }
   ],
   "source": [
    "# We can update formulas \n",
    "formula_modelA  <- (T4 ~  female + black + lusd + lusd ^ 2 )\n",
    "print( terms( formula_modelA ) )\n",
    "class( formula_modelA )\n",
    "\n",
    "# formula for model B\n",
    "formula_modelB  <- update( formula_modelA, ~ . + factor(dep))\n",
    "print( terms( formula_modelB ) )"
   ]
  },
  {
   "cell_type": "markdown",
   "metadata": {},
   "source": [
    "## Regressions Objects\n",
    "We will understand the output from a regression"
   ]
  },
  {
   "cell_type": "code",
   "execution_count": 327,
   "metadata": {},
   "outputs": [],
   "source": [
    "key_columns  <-  c('female', 'black', 'lusd' , 'dep', 'T4')"
   ]
  },
  {
   "cell_type": "code",
   "execution_count": 343,
   "metadata": {},
   "outputs": [],
   "source": [
    "data2  <-  data.frame( Penn[(names( Penn ) %in% key_columns ) ] )"
   ]
  },
  {
   "cell_type": "code",
   "execution_count": 345,
   "metadata": {},
   "outputs": [
    {
     "data": {
      "text/html": [
       "'list'"
      ],
      "text/latex": [
       "'list'"
      ],
      "text/markdown": [
       "'list'"
      ],
      "text/plain": [
       "[1] \"list\""
      ]
     },
     "metadata": {},
     "output_type": "display_data"
    },
    {
     "data": {
      "text/html": [
       "TRUE"
      ],
      "text/latex": [
       "TRUE"
      ],
      "text/markdown": [
       "TRUE"
      ],
      "text/plain": [
       "[1] TRUE"
      ]
     },
     "metadata": {},
     "output_type": "display_data"
    },
    {
     "data": {
      "text/html": [
       "<style>\n",
       ".list-inline {list-style: none; margin:0; padding: 0}\n",
       ".list-inline>li {display: inline-block}\n",
       ".list-inline>li:not(:last-child)::after {content: \"\\00b7\"; padding: 0 .5ex}\n",
       "</style>\n",
       "<ol class=list-inline><li>'coefficients'</li><li>'residuals'</li><li>'effects'</li><li>'rank'</li><li>'fitted.values'</li><li>'assign'</li><li>'qr'</li><li>'df.residual'</li><li>'contrasts'</li><li>'xlevels'</li><li>'call'</li><li>'terms'</li><li>'model'</li></ol>\n"
      ],
      "text/latex": [
       "\\begin{enumerate*}\n",
       "\\item 'coefficients'\n",
       "\\item 'residuals'\n",
       "\\item 'effects'\n",
       "\\item 'rank'\n",
       "\\item 'fitted.values'\n",
       "\\item 'assign'\n",
       "\\item 'qr'\n",
       "\\item 'df.residual'\n",
       "\\item 'contrasts'\n",
       "\\item 'xlevels'\n",
       "\\item 'call'\n",
       "\\item 'terms'\n",
       "\\item 'model'\n",
       "\\end{enumerate*}\n"
      ],
      "text/markdown": [
       "1. 'coefficients'\n",
       "2. 'residuals'\n",
       "3. 'effects'\n",
       "4. 'rank'\n",
       "5. 'fitted.values'\n",
       "6. 'assign'\n",
       "7. 'qr'\n",
       "8. 'df.residual'\n",
       "9. 'contrasts'\n",
       "10. 'xlevels'\n",
       "11. 'call'\n",
       "12. 'terms'\n",
       "13. 'model'\n",
       "\n",
       "\n"
      ],
      "text/plain": [
       " [1] \"coefficients\"  \"residuals\"     \"effects\"       \"rank\"         \n",
       " [5] \"fitted.values\" \"assign\"        \"qr\"            \"df.residual\"  \n",
       " [9] \"contrasts\"     \"xlevels\"       \"call\"          \"terms\"        \n",
       "[13] \"model\"        "
      ]
     },
     "metadata": {},
     "output_type": "display_data"
    }
   ],
   "source": [
    "# Regression\n",
    "reg1 <- lm(formula_modelB , data2 )\n",
    "\n",
    "# The output is a list of elements\n",
    "typeof(reg1)\n",
    "is.list( reg1 )\n",
    "# All the elements in the list are detailed in the table bellow.\n",
    "names( reg1 )"
   ]
  },
  {
   "cell_type": "markdown",
   "metadata": {},
   "source": [
    "| Elements \t| Definition \t|\n",
    "|---\t|---\t|\n",
    "| coefficients \t| Vector of coefficients. \t|\n",
    "| residuals \t| Vector of residuals. \t|\n",
    "| effects \t| Vector of the uncorrelated single-degree-of-freedom <br>values obtained by projecting the data onto the successive <br>orthogonal subspaces generated by the QR decomposition <br>during the fitting process. \t|\n",
    "| rank \t| Number of independent columns. \t|\n",
    "| fitted.values \t| Vector of fitted values. \t|\n",
    "| qr \t| The QR decomposition. \t|\n",
    "| df.residual \t| The degrees of freedom of the residuals. \t|\n",
    "| contrasts \t| A contrast is a linear combination of variables <br>that allows comparison of different treatments. \t|\n",
    "| xlevels \t| Levels of the factor variables. \t|\n",
    "| call \t| The formula. \t|\n",
    "| terms \t| Variables of the regression. \t|\n",
    "| model \t| DataFrame of the variables in the model. \t|"
   ]
  },
  {
   "cell_type": "markdown",
   "metadata": {},
   "source": [
    "#### Predictions\n",
    "We can get the vector of predictions using the formula `predict`."
   ]
  },
  {
   "cell_type": "code",
   "execution_count": null,
   "metadata": {},
   "outputs": [],
   "source": [
    "data2"
   ]
  },
  {
   "cell_type": "code",
   "execution_count": 346,
   "metadata": {},
   "outputs": [],
   "source": [
    "new_obs  <- data.frame(matrix( c(0, 0, 1 , 1), ncol= 4, dimnames = list( c() , c( \"female\" , \"black\" , \"dep\", \"lusd\"  ) ) ))"
   ]
  },
  {
   "cell_type": "code",
   "execution_count": 348,
   "metadata": {},
   "outputs": [
    {
     "data": {
      "text/html": [
       "<strong>1:</strong> 0.359962436403646"
      ],
      "text/latex": [
       "\\textbf{1:} 0.359962436403646"
      ],
      "text/markdown": [
       "**1:** 0.359962436403646"
      ],
      "text/plain": [
       "        1 \n",
       "0.3599624 "
      ]
     },
     "metadata": {},
     "output_type": "display_data"
    }
   ],
   "source": [
    "y_hat  <- predict(reg1,  new_obs )"
   ]
  },
  {
   "cell_type": "code",
   "execution_count": 347,
   "metadata": {},
   "outputs": [
    {
     "name": "stdout",
     "output_type": "stream",
     "text": [
      "         1 \n",
      "0.05555556 \n"
     ]
    }
   ],
   "source": [
    "df <- data.frame(meanValuesHeatingPower = c(1,4,3,7), \n",
    "                 meanValuesOutsideTemperature = c(4,3,4,7))\n",
    "\n",
    "linearModel<-lm(meanValuesHeatingPower ~ meanValuesOutsideTemperature, data = df)\n",
    "\n",
    "pred<-predict(linearModel, data.frame(meanValuesOutsideTemperature = c(1)))\n",
    "print(pred)"
   ]
  },
  {
   "cell_type": "code",
   "execution_count": 307,
   "metadata": {},
   "outputs": [
    {
     "data": {
      "text/plain": [
       "\n",
       "Call:\n",
       "lm(formula = formula_modelB, data = Penn)\n",
       "\n",
       "Coefficients:\n",
       " (Intercept)        female         black          lusd  factor(dep)1  \n",
       "    0.334987     -0.003385      0.007083      0.027561     -0.002586  \n",
       "factor(dep)2  \n",
       "    0.005105  \n"
      ]
     },
     "metadata": {},
     "output_type": "display_data"
    }
   ],
   "source": [
    "reg1"
   ]
  },
  {
   "cell_type": "code",
   "execution_count": 349,
   "metadata": {},
   "outputs": [
    {
     "data": {
      "text/plain": [
       "\n",
       "Call:\n",
       "lm(formula = formula_modelB, data = data2)\n",
       "\n",
       "Residuals:\n",
       "    Min      1Q  Median      3Q     Max \n",
       "-0.3747 -0.3401 -0.3324  0.6434  0.6710 \n",
       "\n",
       "Coefficients:\n",
       "              Estimate Std. Error t value Pr(>|t|)    \n",
       "(Intercept)   0.334987   0.010803  31.008   <2e-16 ***\n",
       "female       -0.003385   0.013595  -0.249   0.8034    \n",
       "black         0.007083   0.020388   0.347   0.7283    \n",
       "lusd          0.027561   0.015188   1.815   0.0696 .  \n",
       "factor(dep)1 -0.002586   0.021332  -0.121   0.9035    \n",
       "factor(dep)2  0.005105   0.018257   0.280   0.7798    \n",
       "---\n",
       "Signif. codes:  0 '***' 0.001 '**' 0.01 '*' 0.05 '.' 0.1 ' ' 1\n",
       "\n",
       "Residual standard error: 0.4746 on 5093 degrees of freedom\n",
       "Multiple R-squared:  0.0006796,\tAdjusted R-squared:  -0.0003015 \n",
       "F-statistic: 0.6927 on 5 and 5093 DF,  p-value: 0.6289\n"
      ]
     },
     "metadata": {},
     "output_type": "display_data"
    },
    {
     "data": {
      "text/html": [
       "<style>\n",
       ".list-inline {list-style: none; margin:0; padding: 0}\n",
       ".list-inline>li {display: inline-block}\n",
       ".list-inline>li:not(:last-child)::after {content: \"\\00b7\"; padding: 0 .5ex}\n",
       "</style>\n",
       "<ol class=list-inline><li>'call'</li><li>'terms'</li><li>'residuals'</li><li>'coefficients'</li><li>'aliased'</li><li>'sigma'</li><li>'df'</li><li>'r.squared'</li><li>'adj.r.squared'</li><li>'fstatistic'</li><li>'cov.unscaled'</li></ol>\n"
      ],
      "text/latex": [
       "\\begin{enumerate*}\n",
       "\\item 'call'\n",
       "\\item 'terms'\n",
       "\\item 'residuals'\n",
       "\\item 'coefficients'\n",
       "\\item 'aliased'\n",
       "\\item 'sigma'\n",
       "\\item 'df'\n",
       "\\item 'r.squared'\n",
       "\\item 'adj.r.squared'\n",
       "\\item 'fstatistic'\n",
       "\\item 'cov.unscaled'\n",
       "\\end{enumerate*}\n"
      ],
      "text/markdown": [
       "1. 'call'\n",
       "2. 'terms'\n",
       "3. 'residuals'\n",
       "4. 'coefficients'\n",
       "5. 'aliased'\n",
       "6. 'sigma'\n",
       "7. 'df'\n",
       "8. 'r.squared'\n",
       "9. 'adj.r.squared'\n",
       "10. 'fstatistic'\n",
       "11. 'cov.unscaled'\n",
       "\n",
       "\n"
      ],
      "text/plain": [
       " [1] \"call\"          \"terms\"         \"residuals\"     \"coefficients\" \n",
       " [5] \"aliased\"       \"sigma\"         \"df\"            \"r.squared\"    \n",
       " [9] \"adj.r.squared\" \"fstatistic\"    \"cov.unscaled\" "
      ]
     },
     "metadata": {},
     "output_type": "display_data"
    },
    {
     "data": {
      "text/html": [
       "TRUE"
      ],
      "text/latex": [
       "TRUE"
      ],
      "text/markdown": [
       "TRUE"
      ],
      "text/plain": [
       "[1] TRUE"
      ]
     },
     "metadata": {},
     "output_type": "display_data"
    },
    {
     "data": {
      "text/html": [
       "FALSE"
      ],
      "text/latex": [
       "FALSE"
      ],
      "text/markdown": [
       "FALSE"
      ],
      "text/plain": [
       "[1] FALSE"
      ]
     },
     "metadata": {},
     "output_type": "display_data"
    },
    {
     "data": {
      "text/html": [
       "TRUE"
      ],
      "text/latex": [
       "TRUE"
      ],
      "text/markdown": [
       "TRUE"
      ],
      "text/plain": [
       "[1] TRUE"
      ]
     },
     "metadata": {},
     "output_type": "display_data"
    }
   ],
   "source": [
    "# We can summary the regression output to get a estimation table using summary\n",
    "summary( reg1 )\n",
    "# This object is a list and we can go to each element to get key variables of information\n",
    "names( summary( reg1 ) )\n",
    "\n",
    "# Summary of regression is a list\n",
    "is.list(summary( reg1 ))\n",
    "is.data.frame(summary( reg1 ))\n",
    "is.matrix(summary( reg1 )$coefficients)\n"
   ]
  },
  {
   "cell_type": "markdown",
   "metadata": {},
   "source": [
    "## If condition\n",
    "The body of the if condition is excuted if the `test_expression` is `TRUE`. The ouput of the test expression should be a `boolean`variable. \n",
    "\n",
    "<img src=\"https://www.dropbox.com/s/8xwqk2ze1116qvp/if-statement.jpg?dl=1\" alt=\"image info\" />\n"
   ]
  },
  {
   "cell_type": "markdown",
   "metadata": {},
   "source": [
    "The structure of the code is the following: <br><br>\n",
    "\n",
    "<font size=\"4\">\n",
    "if <font color='green'>(test expresion)</font>{<br>\n",
    "&nbsp;&nbsp;&nbsp;&nbsp;Code to excute<br>\n",
    "}</font>\n",
    "\n",
    "The function **if** tests the veracity of a logic expression. The result of test statement should be a **<font color='red'>boolean</font>**. In other words, the output of the test statemen must be **<font color='red'>TRUE</font>** or **<font color='red'>FALSE</font>**. To sum, any function that its output is **boolean** can be used as a test expression in the **if** function. "
   ]
  },
  {
   "cell_type": "code",
   "execution_count": 350,
   "metadata": {},
   "outputs": [
    {
     "name": "stdout",
     "output_type": "stream",
     "text": [
      "[1] \"Non-negative number\"\n"
     ]
    }
   ],
   "source": [
    "x <- 4\n",
    "if(x > 0){\n",
    "print(\"Non-negative number\")\n",
    "}"
   ]
  },
  {
   "cell_type": "markdown",
   "metadata": {},
   "source": [
    "### Tests more than 1 expression\n",
    "\n",
    "We will use **else if**. This function allows us to add more test expressions.  <br><br>\n",
    "\n",
    "<font size=\"3\">\n",
    "if <font color='green'>(Test expression 1)</font>{ <br>\n",
    "&nbsp;&nbsp;&nbsp;&nbsp;Code1<br><br>\n",
    "} else if <font color='green'>(Test expression 2)</font>{<br>\n",
    "&nbsp;&nbsp;&nbsp;&nbsp;Code2<br><br>\n",
    "} else if <font color='green'>(Test expression 3)</font>{<br>\n",
    "&nbsp;&nbsp;&nbsp;&nbsp;Code3<br><br>\n",
    "} else if <font color='green'>(Test expression 4)</font>{<br>\n",
    "&nbsp;&nbsp;&nbsp;&nbsp;Code4<br><br>\n",
    "} else if <font color='green'>(Test expression 5)</font>{<br>\n",
    "&nbsp;&nbsp;&nbsp;&nbsp;Code5<br><br>\n",
    "}else{<br>&nbsp;&nbsp;&nbsp;&nbsp;Code6<br><br>\n",
    "}</font>\n",
    "\n",
    "R will read the conditions of the test in order. If **Test expression 1** is `TRUE`, the rest of the test expressions will not be evaluated. R execute **Code2** and will not test the next conditions. <br>\n",
    "\n",
    "In case no Test expression is `TRUE`, the **Code6** will be excuted."
   ]
  },
  {
   "cell_type": "code",
   "execution_count": 351,
   "metadata": {},
   "outputs": [
    {
     "name": "stdout",
     "output_type": "stream",
     "text": [
      "[1] \"Zero\"\n"
     ]
    }
   ],
   "source": [
    "x <- 0\n",
    "if (x < 0) {\n",
    "print(\"Negative number\")\n",
    "} else if (x > 0) {\n",
    "print(\"Positive number\")\n",
    "} else {\n",
    "print(\"Zero\")}"
   ]
  },
  {
   "cell_type": "markdown",
   "metadata": {},
   "source": [
    "## Loops\n",
    "A for loop is used for iterating over a sequence. It has the following structure:\n",
    "\n",
    "<img src=\"https://www.dropbox.com/s/a51fbr4m0vpvobe/for_loop.jpg?dl=1\" alt=\"image info\" />\n",
    "\n"
   ]
  },
  {
   "cell_type": "code",
   "execution_count": 352,
   "metadata": {},
   "outputs": [],
   "source": [
    "age = c( 20 , 27 , 31 , 25 , 28 )\n",
    "years = c( 2023 , 2021 , 2022 , 2026 , 2027 )"
   ]
  },
  {
   "cell_type": "code",
   "execution_count": 353,
   "metadata": {},
   "outputs": [
    {
     "name": "stdout",
     "output_type": "stream",
     "text": [
      "[1] 22 27 32 30 34\n"
     ]
    }
   ],
   "source": [
    "age_finish <- numeric( length = length( age ) )\n",
    "\n",
    "for ( i in c( 1:length( age ) ) ) {\n",
    "  age_finish[ i ] = age[ i ] + years[ i ] - 2021\n",
    "}\n",
    "print( age_finish )"
   ]
  },
  {
   "cell_type": "markdown",
   "metadata": {},
   "source": [
    "## Functions in R\n",
    "\n",
    "- `Arguments` − Elements that the function will use to make operations. Arguments are optional and can have default values.\n",
    "\n",
    "- `Function Body` − This defines what your function does.\n",
    "- `return` − Specifies the variable that will be the output of the function.\n",
    "\n",
    "Return Value − The return value of a function is the last expression in the function body to be evaluated.\n",
    "<br><br>\n",
    "<font size=\"4\">\n",
    "function <font color='green'>(arg_1, arg_2, ...) </font>{<br><br>\n",
    "&nbsp;&nbsp;&nbsp;&nbsp;Function body <br>\n",
    "    <br> &nbsp;&nbsp;&nbsp;&nbsp;return <br>\n",
    "}</font>\n"
   ]
  },
  {
   "cell_type": "code",
   "execution_count": 354,
   "metadata": {},
   "outputs": [],
   "source": [
    "demean<- function(x){ \n",
    "    new_var = x - mean(x)\n",
    "    return( new_var )\n",
    "}"
   ]
  },
  {
   "cell_type": "code",
   "execution_count": 355,
   "metadata": {},
   "outputs": [
    {
     "data": {
      "text/html": [
       "<style>\n",
       ".list-inline {list-style: none; margin:0; padding: 0}\n",
       ".list-inline>li {display: inline-block}\n",
       ".list-inline>li:not(:last-child)::after {content: \"\\00b7\"; padding: 0 .5ex}\n",
       "</style>\n",
       "<ol class=list-inline><li>-1</li><li>0</li><li>1</li></ol>\n"
      ],
      "text/latex": [
       "\\begin{enumerate*}\n",
       "\\item -1\n",
       "\\item 0\n",
       "\\item 1\n",
       "\\end{enumerate*}\n"
      ],
      "text/markdown": [
       "1. -1\n",
       "2. 0\n",
       "3. 1\n",
       "\n",
       "\n"
      ],
      "text/plain": [
       "[1] -1  0  1"
      ]
     },
     "metadata": {},
     "output_type": "display_data"
    }
   ],
   "source": [
    "demean( c(2 , 3, 4) )"
   ]
  },
  {
   "cell_type": "markdown",
   "metadata": {},
   "source": [
    "### Plot"
   ]
  },
  {
   "cell_type": "code",
   "execution_count": 285,
   "metadata": {},
   "outputs": [],
   "source": [
    "# See avilable data\n",
    "data()"
   ]
  },
  {
   "cell_type": "code",
   "execution_count": 362,
   "metadata": {},
   "outputs": [
    {
     "data": {
      "image/png": "[encoded data removed]",
      "text/plain": [
       "plot without title"
      ]
     },
     "metadata": {
      "image/png": {
       "height": 420,
       "width": 420
      }
     },
     "output_type": "display_data"
    }
   ],
   "source": [
    "Speed <- cars$speed\n",
    "Distance <- cars$dist\n",
    "plot(Speed, Distance, panel.first = grid(8, 8),\n",
    "     pch = 0, cex = 1.2, col = \"blue\" )\n",
    "abline(h=100, lty = 3, col = 4)\n",
    "abline(v=15, lty = 3, col = 2)\n",
    "abline(v=20, lty = 3, col = 2)"
   ]
  }
 ],
 "metadata": {
  "hide_input": false,
  "kernelspec": {
   "display_name": "R",
   "language": "R",
   "name": "ir"
  },
  "language_info": {
   "codemirror_mode": "r",
   "file_extension": ".r",
   "mimetype": "text/x-r-source",
   "name": "R",
   "pygments_lexer": "r",
   "version": "4.0.4"
  }
 },
 "nbformat": 4,
 "nbformat_minor": 4
}
