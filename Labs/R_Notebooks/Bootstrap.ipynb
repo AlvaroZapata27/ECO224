{
 "cells": [
  {
   "cell_type": "code",
   "execution_count": 83,
   "id": "480c9a57",
   "metadata": {},
   "outputs": [],
   "source": [
    "library(ISLR2)\n",
    "set.seed(1)\n",
    "library(boot)"
   ]
  },
  {
   "cell_type": "markdown",
   "id": "0c6887a5",
   "metadata": {},
   "source": [
    "## The Bootstrap"
   ]
  },
  {
   "cell_type": "markdown",
   "id": "b6cbb6ad",
   "metadata": {},
   "source": [
    "We illustrate the use of the bootstrap in the simple example of Section 5.2, as well as on an example involving estimating the\n",
    "accuracy of the linear regression model on the `Auto` data set.\n",
    "\n",
    "\\subsubsection{Estimating the Accuracy of a Statistic of Interest}\n",
    "\n",
    "\n",
    "One of the great advantages of the bootstrap approach is that it can be\n",
    "applied in almost all situations. No complicated mathematical calculations\n",
    "are required. Performing a bootstrap analysis in `R` entails only two\n",
    "steps. First, we must create a function that computes the statistic of\n",
    "interest. Second, we use the `boot()` function, which is part of the `boot` library, to perform the bootstrap by repeatedly\n",
    "sampling observations from the data set with replacement.\n",
    "\n",
    "The `Portfolio` data set in the `ISLR2` package is simulated data of $100$ pairs of returns, generated in the fashion described in Section 5.2.\n",
    "To illustrate the use of the bootstrap on this data, we must first\n",
    "create a function, `alpha.fn()`, which takes as input the $(X,Y)$ data\n",
    "as well as a vector indicating which observations should be used to\n",
    "estimate $\\alpha$. The function then outputs the estimate for $\\alpha$\n",
    "based on the selected observations."
   ]
  },
  {
   "cell_type": "code",
   "execution_count": 41,
   "id": "996fc134",
   "metadata": {
    "name": "chunk11"
   },
   "outputs": [],
   "source": [
    "alpha.fn <- function(data, index) {\n",
    "  X <- data$X[index]\n",
    "  Y <- data$Y[index]\n",
    "  (var(Y) - cov(X, Y)) / (var(X) + var(Y) - 2 * cov(X, Y))\n",
    "}"
   ]
  },
  {
   "cell_type": "markdown",
   "id": "76724d5e",
   "metadata": {},
   "source": [
    "This function *returns*, or outputs, an  estimate for $\\alpha$ based on applying ( 5.7) to the observations indexed by the argument `index`.\n",
    "For instance, the following command tells `R` to estimate $\\alpha$ using\n",
    "all $100$ observations."
   ]
  },
  {
   "cell_type": "code",
   "execution_count": 39,
   "id": "1ed83d60",
   "metadata": {},
   "outputs": [],
   "source": [
    "# write.csv(Portfolio,\"C:/Users/MSI-NB/Documents/GitHub/ECO224/Labs/data/Portfolio.csv\", row.names = FALSE)"
   ]
  },
  {
   "cell_type": "code",
   "execution_count": 42,
   "id": "bc3aa8b4",
   "metadata": {},
   "outputs": [
    {
     "data": {
      "text/html": [
       "<table class=\"dataframe\">\n",
       "<caption>A data.frame: 100 × 2</caption>\n",
       "<thead>\n",
       "\t<tr><th scope=col>X</th><th scope=col>Y</th></tr>\n",
       "\t<tr><th scope=col>&lt;dbl&gt;</th><th scope=col>&lt;dbl&gt;</th></tr>\n",
       "</thead>\n",
       "<tbody>\n",
       "\t<tr><td>-0.89525089</td><td>-0.23492353</td></tr>\n",
       "\t<tr><td>-1.56245433</td><td>-0.88517599</td></tr>\n",
       "\t<tr><td>-0.41708988</td><td> 0.27188802</td></tr>\n",
       "\t<tr><td> 1.04435573</td><td>-0.73419750</td></tr>\n",
       "\t<tr><td>-0.31556841</td><td> 0.84198343</td></tr>\n",
       "\t<tr><td>-1.73712385</td><td>-2.03719104</td></tr>\n",
       "\t<tr><td> 1.96641316</td><td> 1.45295666</td></tr>\n",
       "\t<tr><td> 2.15286790</td><td>-0.43413863</td></tr>\n",
       "\t<tr><td>-0.08120803</td><td> 1.45080850</td></tr>\n",
       "\t<tr><td>-0.89178179</td><td> 0.82101623</td></tr>\n",
       "\t<tr><td>-0.29320170</td><td>-1.04239112</td></tr>\n",
       "\t<tr><td> 0.50577917</td><td> 0.60847783</td></tr>\n",
       "\t<tr><td> 0.52675125</td><td>-0.22249334</td></tr>\n",
       "\t<tr><td> 1.06646932</td><td> 1.23135668</td></tr>\n",
       "\t<tr><td> 0.29401590</td><td> 0.62858948</td></tr>\n",
       "\t<tr><td> 0.04254930</td><td>-1.26757362</td></tr>\n",
       "\t<tr><td> 1.83096958</td><td>-0.57275161</td></tr>\n",
       "\t<tr><td>-0.32693750</td><td>-0.48747247</td></tr>\n",
       "\t<tr><td> 0.52148042</td><td> 2.56598529</td></tr>\n",
       "\t<tr><td> 1.39986835</td><td>-0.35783613</td></tr>\n",
       "\t<tr><td>-0.64544760</td><td>-1.41243139</td></tr>\n",
       "\t<tr><td>-0.90435188</td><td>-0.56830479</td></tr>\n",
       "\t<tr><td>-1.76458607</td><td>-0.74627256</td></tr>\n",
       "\t<tr><td>-1.81048464</td><td> 0.49374736</td></tr>\n",
       "\t<tr><td>-1.16989891</td><td>-2.72528149</td></tr>\n",
       "\t<tr><td>-0.68537574</td><td>-0.45761573</td></tr>\n",
       "\t<tr><td> 1.09091803</td><td> 0.01449451</td></tr>\n",
       "\t<tr><td>-0.43234011</td><td>-0.39983102</td></tr>\n",
       "\t<tr><td> 0.26881478</td><td>-0.20160835</td></tr>\n",
       "\t<tr><td>-0.85184075</td><td>-1.74182929</td></tr>\n",
       "\t<tr><td>...</td><td>...</td></tr>\n",
       "\t<tr><td>-0.98435652</td><td>-1.13916027</td></tr>\n",
       "\t<tr><td>-1.38499151</td><td> 0.70269993</td></tr>\n",
       "\t<tr><td>-0.35884256</td><td>-1.69451277</td></tr>\n",
       "\t<tr><td>-0.22661823</td><td> 0.80193855</td></tr>\n",
       "\t<tr><td>-0.94107744</td><td>-0.73318871</td></tr>\n",
       "\t<tr><td> 2.46033595</td><td>-0.04837282</td></tr>\n",
       "\t<tr><td> 0.71679728</td><td> 0.60233676</td></tr>\n",
       "\t<tr><td>-0.24808702</td><td>-1.01849037</td></tr>\n",
       "\t<tr><td> 1.01077289</td><td> 0.05297802</td></tr>\n",
       "\t<tr><td> 2.31304863</td><td> 1.75235888</td></tr>\n",
       "\t<tr><td> 0.83517980</td><td> 0.98571488</td></tr>\n",
       "\t<tr><td>-1.07190334</td><td>-1.24729787</td></tr>\n",
       "\t<tr><td>-1.65052614</td><td> 0.21546453</td></tr>\n",
       "\t<tr><td>-0.60048569</td><td>-0.42094053</td></tr>\n",
       "\t<tr><td>-0.05852938</td><td> 0.12762087</td></tr>\n",
       "\t<tr><td> 0.07572674</td><td>-0.52214922</td></tr>\n",
       "\t<tr><td>-1.15783156</td><td> 0.59089374</td></tr>\n",
       "\t<tr><td> 1.67360609</td><td> 0.11462332</td></tr>\n",
       "\t<tr><td>-1.04398824</td><td>-0.41894428</td></tr>\n",
       "\t<tr><td> 0.01468748</td><td>-0.55874662</td></tr>\n",
       "\t<tr><td> 0.67532197</td><td> 1.48262979</td></tr>\n",
       "\t<tr><td> 1.77834231</td><td> 0.94277411</td></tr>\n",
       "\t<tr><td>-1.29576364</td><td>-1.08520381</td></tr>\n",
       "\t<tr><td> 0.07960202</td><td>-0.53910081</td></tr>\n",
       "\t<tr><td> 2.26085771</td><td> 0.67322484</td></tr>\n",
       "\t<tr><td> 0.47909092</td><td> 1.45477446</td></tr>\n",
       "\t<tr><td>-0.53502000</td><td>-0.39917481</td></tr>\n",
       "\t<tr><td>-0.77312933</td><td>-0.95717485</td></tr>\n",
       "\t<tr><td> 0.40363434</td><td> 1.39603817</td></tr>\n",
       "\t<tr><td>-0.58849644</td><td>-0.49728509</td></tr>\n",
       "</tbody>\n",
       "</table>\n"
      ],
      "text/latex": [
       "A data.frame: 100 × 2\n",
       "\\begin{tabular}{ll}\n",
       " X & Y\\\\\n",
       " <dbl> & <dbl>\\\\\n",
       "\\hline\n",
       "\t -0.89525089 & -0.23492353\\\\\n",
       "\t -1.56245433 & -0.88517599\\\\\n",
       "\t -0.41708988 &  0.27188802\\\\\n",
       "\t  1.04435573 & -0.73419750\\\\\n",
       "\t -0.31556841 &  0.84198343\\\\\n",
       "\t -1.73712385 & -2.03719104\\\\\n",
       "\t  1.96641316 &  1.45295666\\\\\n",
       "\t  2.15286790 & -0.43413863\\\\\n",
       "\t -0.08120803 &  1.45080850\\\\\n",
       "\t -0.89178179 &  0.82101623\\\\\n",
       "\t -0.29320170 & -1.04239112\\\\\n",
       "\t  0.50577917 &  0.60847783\\\\\n",
       "\t  0.52675125 & -0.22249334\\\\\n",
       "\t  1.06646932 &  1.23135668\\\\\n",
       "\t  0.29401590 &  0.62858948\\\\\n",
       "\t  0.04254930 & -1.26757362\\\\\n",
       "\t  1.83096958 & -0.57275161\\\\\n",
       "\t -0.32693750 & -0.48747247\\\\\n",
       "\t  0.52148042 &  2.56598529\\\\\n",
       "\t  1.39986835 & -0.35783613\\\\\n",
       "\t -0.64544760 & -1.41243139\\\\\n",
       "\t -0.90435188 & -0.56830479\\\\\n",
       "\t -1.76458607 & -0.74627256\\\\\n",
       "\t -1.81048464 &  0.49374736\\\\\n",
       "\t -1.16989891 & -2.72528149\\\\\n",
       "\t -0.68537574 & -0.45761573\\\\\n",
       "\t  1.09091803 &  0.01449451\\\\\n",
       "\t -0.43234011 & -0.39983102\\\\\n",
       "\t  0.26881478 & -0.20160835\\\\\n",
       "\t -0.85184075 & -1.74182929\\\\\n",
       "\t ... & ...\\\\\n",
       "\t -0.98435652 & -1.13916027\\\\\n",
       "\t -1.38499151 &  0.70269993\\\\\n",
       "\t -0.35884256 & -1.69451277\\\\\n",
       "\t -0.22661823 &  0.80193855\\\\\n",
       "\t -0.94107744 & -0.73318871\\\\\n",
       "\t  2.46033595 & -0.04837282\\\\\n",
       "\t  0.71679728 &  0.60233676\\\\\n",
       "\t -0.24808702 & -1.01849037\\\\\n",
       "\t  1.01077289 &  0.05297802\\\\\n",
       "\t  2.31304863 &  1.75235888\\\\\n",
       "\t  0.83517980 &  0.98571488\\\\\n",
       "\t -1.07190334 & -1.24729787\\\\\n",
       "\t -1.65052614 &  0.21546453\\\\\n",
       "\t -0.60048569 & -0.42094053\\\\\n",
       "\t -0.05852938 &  0.12762087\\\\\n",
       "\t  0.07572674 & -0.52214922\\\\\n",
       "\t -1.15783156 &  0.59089374\\\\\n",
       "\t  1.67360609 &  0.11462332\\\\\n",
       "\t -1.04398824 & -0.41894428\\\\\n",
       "\t  0.01468748 & -0.55874662\\\\\n",
       "\t  0.67532197 &  1.48262979\\\\\n",
       "\t  1.77834231 &  0.94277411\\\\\n",
       "\t -1.29576364 & -1.08520381\\\\\n",
       "\t  0.07960202 & -0.53910081\\\\\n",
       "\t  2.26085771 &  0.67322484\\\\\n",
       "\t  0.47909092 &  1.45477446\\\\\n",
       "\t -0.53502000 & -0.39917481\\\\\n",
       "\t -0.77312933 & -0.95717485\\\\\n",
       "\t  0.40363434 &  1.39603817\\\\\n",
       "\t -0.58849644 & -0.49728509\\\\\n",
       "\\end{tabular}\n"
      ],
      "text/markdown": [
       "\n",
       "A data.frame: 100 × 2\n",
       "\n",
       "| X &lt;dbl&gt; | Y &lt;dbl&gt; |\n",
       "|---|---|\n",
       "| -0.89525089 | -0.23492353 |\n",
       "| -1.56245433 | -0.88517599 |\n",
       "| -0.41708988 |  0.27188802 |\n",
       "|  1.04435573 | -0.73419750 |\n",
       "| -0.31556841 |  0.84198343 |\n",
       "| -1.73712385 | -2.03719104 |\n",
       "|  1.96641316 |  1.45295666 |\n",
       "|  2.15286790 | -0.43413863 |\n",
       "| -0.08120803 |  1.45080850 |\n",
       "| -0.89178179 |  0.82101623 |\n",
       "| -0.29320170 | -1.04239112 |\n",
       "|  0.50577917 |  0.60847783 |\n",
       "|  0.52675125 | -0.22249334 |\n",
       "|  1.06646932 |  1.23135668 |\n",
       "|  0.29401590 |  0.62858948 |\n",
       "|  0.04254930 | -1.26757362 |\n",
       "|  1.83096958 | -0.57275161 |\n",
       "| -0.32693750 | -0.48747247 |\n",
       "|  0.52148042 |  2.56598529 |\n",
       "|  1.39986835 | -0.35783613 |\n",
       "| -0.64544760 | -1.41243139 |\n",
       "| -0.90435188 | -0.56830479 |\n",
       "| -1.76458607 | -0.74627256 |\n",
       "| -1.81048464 |  0.49374736 |\n",
       "| -1.16989891 | -2.72528149 |\n",
       "| -0.68537574 | -0.45761573 |\n",
       "|  1.09091803 |  0.01449451 |\n",
       "| -0.43234011 | -0.39983102 |\n",
       "|  0.26881478 | -0.20160835 |\n",
       "| -0.85184075 | -1.74182929 |\n",
       "| ... | ... |\n",
       "| -0.98435652 | -1.13916027 |\n",
       "| -1.38499151 |  0.70269993 |\n",
       "| -0.35884256 | -1.69451277 |\n",
       "| -0.22661823 |  0.80193855 |\n",
       "| -0.94107744 | -0.73318871 |\n",
       "|  2.46033595 | -0.04837282 |\n",
       "|  0.71679728 |  0.60233676 |\n",
       "| -0.24808702 | -1.01849037 |\n",
       "|  1.01077289 |  0.05297802 |\n",
       "|  2.31304863 |  1.75235888 |\n",
       "|  0.83517980 |  0.98571488 |\n",
       "| -1.07190334 | -1.24729787 |\n",
       "| -1.65052614 |  0.21546453 |\n",
       "| -0.60048569 | -0.42094053 |\n",
       "| -0.05852938 |  0.12762087 |\n",
       "|  0.07572674 | -0.52214922 |\n",
       "| -1.15783156 |  0.59089374 |\n",
       "|  1.67360609 |  0.11462332 |\n",
       "| -1.04398824 | -0.41894428 |\n",
       "|  0.01468748 | -0.55874662 |\n",
       "|  0.67532197 |  1.48262979 |\n",
       "|  1.77834231 |  0.94277411 |\n",
       "| -1.29576364 | -1.08520381 |\n",
       "|  0.07960202 | -0.53910081 |\n",
       "|  2.26085771 |  0.67322484 |\n",
       "|  0.47909092 |  1.45477446 |\n",
       "| -0.53502000 | -0.39917481 |\n",
       "| -0.77312933 | -0.95717485 |\n",
       "|  0.40363434 |  1.39603817 |\n",
       "| -0.58849644 | -0.49728509 |\n",
       "\n"
      ],
      "text/plain": [
       "    X           Y          \n",
       "1   -0.89525089 -0.23492353\n",
       "2   -1.56245433 -0.88517599\n",
       "3   -0.41708988  0.27188802\n",
       "4    1.04435573 -0.73419750\n",
       "5   -0.31556841  0.84198343\n",
       "6   -1.73712385 -2.03719104\n",
       "7    1.96641316  1.45295666\n",
       "8    2.15286790 -0.43413863\n",
       "9   -0.08120803  1.45080850\n",
       "10  -0.89178179  0.82101623\n",
       "11  -0.29320170 -1.04239112\n",
       "12   0.50577917  0.60847783\n",
       "13   0.52675125 -0.22249334\n",
       "14   1.06646932  1.23135668\n",
       "15   0.29401590  0.62858948\n",
       "16   0.04254930 -1.26757362\n",
       "17   1.83096958 -0.57275161\n",
       "18  -0.32693750 -0.48747247\n",
       "19   0.52148042  2.56598529\n",
       "20   1.39986835 -0.35783613\n",
       "21  -0.64544760 -1.41243139\n",
       "22  -0.90435188 -0.56830479\n",
       "23  -1.76458607 -0.74627256\n",
       "24  -1.81048464  0.49374736\n",
       "25  -1.16989891 -2.72528149\n",
       "26  -0.68537574 -0.45761573\n",
       "27   1.09091803  0.01449451\n",
       "28  -0.43234011 -0.39983102\n",
       "29   0.26881478 -0.20160835\n",
       "30  -0.85184075 -1.74182929\n",
       "... ...         ...        \n",
       "71  -0.98435652 -1.13916027\n",
       "72  -1.38499151  0.70269993\n",
       "73  -0.35884256 -1.69451277\n",
       "74  -0.22661823  0.80193855\n",
       "75  -0.94107744 -0.73318871\n",
       "76   2.46033595 -0.04837282\n",
       "77   0.71679728  0.60233676\n",
       "78  -0.24808702 -1.01849037\n",
       "79   1.01077289  0.05297802\n",
       "80   2.31304863  1.75235888\n",
       "81   0.83517980  0.98571488\n",
       "82  -1.07190334 -1.24729787\n",
       "83  -1.65052614  0.21546453\n",
       "84  -0.60048569 -0.42094053\n",
       "85  -0.05852938  0.12762087\n",
       "86   0.07572674 -0.52214922\n",
       "87  -1.15783156  0.59089374\n",
       "88   1.67360609  0.11462332\n",
       "89  -1.04398824 -0.41894428\n",
       "90   0.01468748 -0.55874662\n",
       "91   0.67532197  1.48262979\n",
       "92   1.77834231  0.94277411\n",
       "93  -1.29576364 -1.08520381\n",
       "94   0.07960202 -0.53910081\n",
       "95   2.26085771  0.67322484\n",
       "96   0.47909092  1.45477446\n",
       "97  -0.53502000 -0.39917481\n",
       "98  -0.77312933 -0.95717485\n",
       "99   0.40363434  1.39603817\n",
       "100 -0.58849644 -0.49728509"
      ]
     },
     "metadata": {},
     "output_type": "display_data"
    }
   ],
   "source": [
    "Portfolio"
   ]
  },
  {
   "cell_type": "code",
   "execution_count": 43,
   "id": "06100bce",
   "metadata": {
    "name": "chunk12"
   },
   "outputs": [
    {
     "data": {
      "text/html": [
       "0.57583207459283"
      ],
      "text/latex": [
       "0.57583207459283"
      ],
      "text/markdown": [
       "0.57583207459283"
      ],
      "text/plain": [
       "[1] 0.5758321"
      ]
     },
     "metadata": {},
     "output_type": "display_data"
    }
   ],
   "source": [
    "alpha.fn(Portfolio, 1:100)"
   ]
  },
  {
   "cell_type": "markdown",
   "id": "75cda089",
   "metadata": {},
   "source": [
    "The next command  uses the `sample()` function to randomly select\n",
    "$100$ observations from the range $1$ to $100$, with replacement. This is equivalent\n",
    "to constructing a new bootstrap data set and recomputing $\\hat{\\alpha}$\n",
    "based on the new data set."
   ]
  },
  {
   "cell_type": "code",
   "execution_count": 46,
   "id": "aff3c7de",
   "metadata": {},
   "outputs": [
    {
     "data": {
      "text/html": [
       "<style>\n",
       ".list-inline {list-style: none; margin:0; padding: 0}\n",
       ".list-inline>li {display: inline-block}\n",
       ".list-inline>li:not(:last-child)::after {content: \"\\00b7\"; padding: 0 .5ex}\n",
       "</style>\n",
       "<ol class=list-inline><li>88</li><li>53</li><li>86</li><li>50</li><li>80</li><li>30</li><li>93</li><li>2</li><li>72</li><li>78</li><li>36</li><li>90</li><li>40</li><li>37</li><li>72</li><li>56</li><li>71</li><li>100</li><li>100</li><li>73</li><li>27</li><li>41</li><li>15</li><li>57</li><li>38</li><li>62</li><li>6</li><li>4</li><li>35</li><li>99</li><li>77</li><li>57</li><li>71</li><li>25</li><li>31</li><li>37</li><li>92</li><li>28</li><li>62</li><li>20</li><li>29</li><li>42</li><li>60</li><li>65</li><li>28</li><li>78</li><li>31</li><li>12</li><li>93</li><li>80</li><li>44</li><li>74</li><li>98</li><li>26</li><li>33</li><li>4</li><li>53</li><li>86</li><li>89</li><li>24</li><li>37</li><li>15</li><li>14</li><li>81</li><li>82</li><li>97</li><li>96</li><li>72</li><li>53</li><li>56</li><li>71</li><li>91</li><li>50</li><li>73</li><li>20</li><li>98</li><li>93</li><li>75</li><li>2</li><li>3</li><li>38</li><li>15</li><li>28</li><li>55</li><li>69</li><li>92</li><li>78</li><li>37</li><li>43</li><li>81</li><li>1</li><li>90</li><li>45</li><li>97</li><li>83</li><li>90</li><li>23</li><li>68</li><li>80</li><li>91</li></ol>\n"
      ],
      "text/latex": [
       "\\begin{enumerate*}\n",
       "\\item 88\n",
       "\\item 53\n",
       "\\item 86\n",
       "\\item 50\n",
       "\\item 80\n",
       "\\item 30\n",
       "\\item 93\n",
       "\\item 2\n",
       "\\item 72\n",
       "\\item 78\n",
       "\\item 36\n",
       "\\item 90\n",
       "\\item 40\n",
       "\\item 37\n",
       "\\item 72\n",
       "\\item 56\n",
       "\\item 71\n",
       "\\item 100\n",
       "\\item 100\n",
       "\\item 73\n",
       "\\item 27\n",
       "\\item 41\n",
       "\\item 15\n",
       "\\item 57\n",
       "\\item 38\n",
       "\\item 62\n",
       "\\item 6\n",
       "\\item 4\n",
       "\\item 35\n",
       "\\item 99\n",
       "\\item 77\n",
       "\\item 57\n",
       "\\item 71\n",
       "\\item 25\n",
       "\\item 31\n",
       "\\item 37\n",
       "\\item 92\n",
       "\\item 28\n",
       "\\item 62\n",
       "\\item 20\n",
       "\\item 29\n",
       "\\item 42\n",
       "\\item 60\n",
       "\\item 65\n",
       "\\item 28\n",
       "\\item 78\n",
       "\\item 31\n",
       "\\item 12\n",
       "\\item 93\n",
       "\\item 80\n",
       "\\item 44\n",
       "\\item 74\n",
       "\\item 98\n",
       "\\item 26\n",
       "\\item 33\n",
       "\\item 4\n",
       "\\item 53\n",
       "\\item 86\n",
       "\\item 89\n",
       "\\item 24\n",
       "\\item 37\n",
       "\\item 15\n",
       "\\item 14\n",
       "\\item 81\n",
       "\\item 82\n",
       "\\item 97\n",
       "\\item 96\n",
       "\\item 72\n",
       "\\item 53\n",
       "\\item 56\n",
       "\\item 71\n",
       "\\item 91\n",
       "\\item 50\n",
       "\\item 73\n",
       "\\item 20\n",
       "\\item 98\n",
       "\\item 93\n",
       "\\item 75\n",
       "\\item 2\n",
       "\\item 3\n",
       "\\item 38\n",
       "\\item 15\n",
       "\\item 28\n",
       "\\item 55\n",
       "\\item 69\n",
       "\\item 92\n",
       "\\item 78\n",
       "\\item 37\n",
       "\\item 43\n",
       "\\item 81\n",
       "\\item 1\n",
       "\\item 90\n",
       "\\item 45\n",
       "\\item 97\n",
       "\\item 83\n",
       "\\item 90\n",
       "\\item 23\n",
       "\\item 68\n",
       "\\item 80\n",
       "\\item 91\n",
       "\\end{enumerate*}\n"
      ],
      "text/markdown": [
       "1. 88\n",
       "2. 53\n",
       "3. 86\n",
       "4. 50\n",
       "5. 80\n",
       "6. 30\n",
       "7. 93\n",
       "8. 2\n",
       "9. 72\n",
       "10. 78\n",
       "11. 36\n",
       "12. 90\n",
       "13. 40\n",
       "14. 37\n",
       "15. 72\n",
       "16. 56\n",
       "17. 71\n",
       "18. 100\n",
       "19. 100\n",
       "20. 73\n",
       "21. 27\n",
       "22. 41\n",
       "23. 15\n",
       "24. 57\n",
       "25. 38\n",
       "26. 62\n",
       "27. 6\n",
       "28. 4\n",
       "29. 35\n",
       "30. 99\n",
       "31. 77\n",
       "32. 57\n",
       "33. 71\n",
       "34. 25\n",
       "35. 31\n",
       "36. 37\n",
       "37. 92\n",
       "38. 28\n",
       "39. 62\n",
       "40. 20\n",
       "41. 29\n",
       "42. 42\n",
       "43. 60\n",
       "44. 65\n",
       "45. 28\n",
       "46. 78\n",
       "47. 31\n",
       "48. 12\n",
       "49. 93\n",
       "50. 80\n",
       "51. 44\n",
       "52. 74\n",
       "53. 98\n",
       "54. 26\n",
       "55. 33\n",
       "56. 4\n",
       "57. 53\n",
       "58. 86\n",
       "59. 89\n",
       "60. 24\n",
       "61. 37\n",
       "62. 15\n",
       "63. 14\n",
       "64. 81\n",
       "65. 82\n",
       "66. 97\n",
       "67. 96\n",
       "68. 72\n",
       "69. 53\n",
       "70. 56\n",
       "71. 71\n",
       "72. 91\n",
       "73. 50\n",
       "74. 73\n",
       "75. 20\n",
       "76. 98\n",
       "77. 93\n",
       "78. 75\n",
       "79. 2\n",
       "80. 3\n",
       "81. 38\n",
       "82. 15\n",
       "83. 28\n",
       "84. 55\n",
       "85. 69\n",
       "86. 92\n",
       "87. 78\n",
       "88. 37\n",
       "89. 43\n",
       "90. 81\n",
       "91. 1\n",
       "92. 90\n",
       "93. 45\n",
       "94. 97\n",
       "95. 83\n",
       "96. 90\n",
       "97. 23\n",
       "98. 68\n",
       "99. 80\n",
       "100. 91\n",
       "\n",
       "\n"
      ],
      "text/plain": [
       "  [1]  88  53  86  50  80  30  93   2  72  78  36  90  40  37  72  56  71 100\n",
       " [19] 100  73  27  41  15  57  38  62   6   4  35  99  77  57  71  25  31  37\n",
       " [37]  92  28  62  20  29  42  60  65  28  78  31  12  93  80  44  74  98  26\n",
       " [55]  33   4  53  86  89  24  37  15  14  81  82  97  96  72  53  56  71  91\n",
       " [73]  50  73  20  98  93  75   2   3  38  15  28  55  69  92  78  37  43  81\n",
       " [91]   1  90  45  97  83  90  23  68  80  91"
      ]
     },
     "metadata": {},
     "output_type": "display_data"
    }
   ],
   "source": [
    "sample(100, 100, replace = T)"
   ]
  },
  {
   "cell_type": "code",
   "execution_count": 56,
   "id": "e9166f4d",
   "metadata": {
    "name": "chunk13"
   },
   "outputs": [
    {
     "data": {
      "text/html": [
       "0.454190146390899"
      ],
      "text/latex": [
       "0.454190146390899"
      ],
      "text/markdown": [
       "0.454190146390899"
      ],
      "text/plain": [
       "[1] 0.4541901"
      ]
     },
     "metadata": {},
     "output_type": "display_data"
    }
   ],
   "source": [
    "#set.seed(8)\n",
    "alpha.fn(Portfolio, sample(100, 100, replace = T))"
   ]
  },
  {
   "cell_type": "markdown",
   "id": "33d913d4",
   "metadata": {},
   "source": [
    "We can implement a bootstrap analysis by performing this command many times, recording all of\n",
    "the corresponding estimates for $\\alpha$, and computing the resulting\n",
    "standard deviation.\n",
    "However, the `boot()` function automates this approach. Below we produce $R=1,000$ bootstrap estimates for $\\alpha$.\n"
   ]
  },
  {
   "cell_type": "code",
   "execution_count": null,
   "id": "ace95966",
   "metadata": {},
   "outputs": [],
   "source": [
    "boot(Portfolio, alpha.fn, R = 1000)"
   ]
  },
  {
   "cell_type": "code",
   "execution_count": 58,
   "id": "b4d57757",
   "metadata": {
    "lines_to_next_cell": 2,
    "name": "chunk14"
   },
   "outputs": [
    {
     "data": {
      "text/plain": [
       "\n",
       "ORDINARY NONPARAMETRIC BOOTSTRAP\n",
       "\n",
       "\n",
       "Call:\n",
       "boot(data = Portfolio, statistic = alpha.fn, R = 1000)\n",
       "\n",
       "\n",
       "Bootstrap Statistics :\n",
       "     original      bias    std. error\n",
       "t1* 0.5758321 0.002820429  0.09098453"
      ]
     },
     "metadata": {},
     "output_type": "display_data"
    }
   ],
   "source": [
    "example = boot(Portfolio, alpha.fn, R = 1000)\n",
    "example"
   ]
  },
  {
   "cell_type": "code",
   "execution_count": 59,
   "id": "f05fba53",
   "metadata": {},
   "outputs": [
    {
     "data": {
      "image/png": "[encoded data removed]",
      "text/plain": [
       "Plot with title \"Histogram of t\""
      ]
     },
     "metadata": {
      "image/png": {
       "height": 420,
       "width": 420
      }
     },
     "output_type": "display_data"
    }
   ],
   "source": [
    "plot(example)"
   ]
  },
  {
   "cell_type": "markdown",
   "id": "58823115",
   "metadata": {},
   "source": [
    "The final output shows that using the original data, $\\hat{\\alpha}=0.5758$,\n",
    "and that the bootstrap estimate for ${\\rm SE}(\\hat{\\alpha})$ is $0.0897$.\n",
    "\n",
    "\\subsubsection{Estimating the Accuracy of a Linear Regression Model}\n",
    "\n",
    "The bootstrap approach can be used  to assess the\n",
    "variability of the coefficient estimates and predictions from a statistical learning method. Here we use the bootstrap approach in order to assess the variability of\n",
    "the estimates for $\\beta_0$ and $\\beta_1$, the intercept and slope terms for the linear regression model\n",
    "that uses  `horsepower` to predict `mpg` in the `Auto` data set. We will compare the estimates obtained using the bootstrap to those obtained using the formulas\n",
    "for ${\\rm SE}(\\hat{\\beta}_0)$ and ${\\rm SE}(\\hat{\\beta}_1)$ described\n",
    "in Section 3.1.2.\n",
    "\n",
    "We first create a simple function, `boot.fn()`, which takes in the\n",
    "`Auto` data set as well as a set of indices for the observations, and\n",
    "returns the intercept and slope estimates for the linear regression model. We then apply this function\n",
    "to the full set of $392$ observations in order to compute the estimates of $\\beta_0$ and $\\beta_1$ on the entire data set using the usual linear regression coefficient estimate\n",
    "formulas from Chapter 3. Note that we do not need the `{` and `}` at the beginning and end of the function because it is only one line long."
   ]
  },
  {
   "cell_type": "code",
   "execution_count": 68,
   "id": "ec9774b6",
   "metadata": {
    "name": "chunk15"
   },
   "outputs": [],
   "source": [
    "boot.fn <- function(data, index)\n",
    "  coef(lm(mpg ~ horsepower, data = data, subset = index))"
   ]
  },
  {
   "cell_type": "code",
   "execution_count": 69,
   "id": "c85ba711",
   "metadata": {},
   "outputs": [
    {
     "data": {
      "text/plain": [
       "\n",
       "Call:\n",
       "lm(formula = mpg ~ horsepower, data = Auto)\n",
       "\n",
       "Coefficients:\n",
       "(Intercept)   horsepower  \n",
       "    39.9359      -0.1578  \n"
      ]
     },
     "metadata": {},
     "output_type": "display_data"
    }
   ],
   "source": [
    "lm(mpg ~ horsepower, data = Auto)"
   ]
  },
  {
   "cell_type": "code",
   "execution_count": 70,
   "id": "556ab840",
   "metadata": {
    "name": "chunk15"
   },
   "outputs": [
    {
     "data": {
      "text/html": [
       "<style>\n",
       ".dl-inline {width: auto; margin:0; padding: 0}\n",
       ".dl-inline>dt, .dl-inline>dd {float: none; width: auto; display: inline-block}\n",
       ".dl-inline>dt::after {content: \":\\0020\"; padding-right: .5ex}\n",
       ".dl-inline>dt:not(:first-of-type) {padding-left: .5ex}\n",
       "</style><dl class=dl-inline><dt>(Intercept)</dt><dd>39.9358610211705</dd><dt>horsepower</dt><dd>-0.157844733353654</dd></dl>\n"
      ],
      "text/latex": [
       "\\begin{description*}\n",
       "\\item[(Intercept)] 39.9358610211705\n",
       "\\item[horsepower] -0.157844733353654\n",
       "\\end{description*}\n"
      ],
      "text/markdown": [
       "(Intercept)\n",
       ":   39.9358610211705horsepower\n",
       ":   -0.157844733353654\n",
       "\n"
      ],
      "text/plain": [
       "(Intercept)  horsepower \n",
       " 39.9358610  -0.1578447 "
      ]
     },
     "metadata": {},
     "output_type": "display_data"
    }
   ],
   "source": [
    "boot.fn(Auto, 1:392)"
   ]
  },
  {
   "cell_type": "markdown",
   "id": "7b2c04cf",
   "metadata": {},
   "source": [
    " The `boot.fn()` function can also be used in order to create\n",
    " bootstrap estimates for the intercept and slope terms by randomly sampling from among the observations with replacement. Here we give two examples."
   ]
  },
  {
   "cell_type": "code",
   "execution_count": 72,
   "id": "1f62400a",
   "metadata": {
    "name": "chunk16"
   },
   "outputs": [
    {
     "data": {
      "text/html": [
       "<style>\n",
       ".dl-inline {width: auto; margin:0; padding: 0}\n",
       ".dl-inline>dt, .dl-inline>dd {float: none; width: auto; display: inline-block}\n",
       ".dl-inline>dt::after {content: \":\\0020\"; padding-right: .5ex}\n",
       ".dl-inline>dt:not(:first-of-type) {padding-left: .5ex}\n",
       "</style><dl class=dl-inline><dt>(Intercept)</dt><dd>40.3404516830189</dd><dt>horsepower</dt><dd>-0.163486837689938</dd></dl>\n"
      ],
      "text/latex": [
       "\\begin{description*}\n",
       "\\item[(Intercept)] 40.3404516830189\n",
       "\\item[horsepower] -0.163486837689938\n",
       "\\end{description*}\n"
      ],
      "text/markdown": [
       "(Intercept)\n",
       ":   40.3404516830189horsepower\n",
       ":   -0.163486837689938\n",
       "\n"
      ],
      "text/plain": [
       "(Intercept)  horsepower \n",
       " 40.3404517  -0.1634868 "
      ]
     },
     "metadata": {},
     "output_type": "display_data"
    },
    {
     "data": {
      "text/html": [
       "<style>\n",
       ".dl-inline {width: auto; margin:0; padding: 0}\n",
       ".dl-inline>dt, .dl-inline>dd {float: none; width: auto; display: inline-block}\n",
       ".dl-inline>dt::after {content: \":\\0020\"; padding-right: .5ex}\n",
       ".dl-inline>dt:not(:first-of-type) {padding-left: .5ex}\n",
       "</style><dl class=dl-inline><dt>(Intercept)</dt><dd>40.1186906449022</dd><dt>horsepower</dt><dd>-0.157706320543503</dd></dl>\n"
      ],
      "text/latex": [
       "\\begin{description*}\n",
       "\\item[(Intercept)] 40.1186906449022\n",
       "\\item[horsepower] -0.157706320543503\n",
       "\\end{description*}\n"
      ],
      "text/markdown": [
       "(Intercept)\n",
       ":   40.1186906449022horsepower\n",
       ":   -0.157706320543503\n",
       "\n"
      ],
      "text/plain": [
       "(Intercept)  horsepower \n",
       " 40.1186906  -0.1577063 "
      ]
     },
     "metadata": {},
     "output_type": "display_data"
    }
   ],
   "source": [
    "set.seed(1)\n",
    "boot.fn(Auto, sample(392, 392, replace = T))\n",
    "boot.fn(Auto, sample(392, 392, replace = T))"
   ]
  },
  {
   "cell_type": "markdown",
   "id": "45b3bb50",
   "metadata": {},
   "source": [
    "Next, we use the `boot()` function to compute the standard errors of 1,000 bootstrap estimates for the intercept and slope terms."
   ]
  },
  {
   "cell_type": "code",
   "execution_count": 73,
   "id": "becb7122",
   "metadata": {
    "name": "chunk17"
   },
   "outputs": [
    {
     "data": {
      "text/plain": [
       "\n",
       "ORDINARY NONPARAMETRIC BOOTSTRAP\n",
       "\n",
       "\n",
       "Call:\n",
       "boot(data = Auto, statistic = boot.fn, R = 1000)\n",
       "\n",
       "\n",
       "Bootstrap Statistics :\n",
       "      original        bias    std. error\n",
       "t1* 39.9358610  0.0544513229 0.841289790\n",
       "t2* -0.1578447 -0.0006170901 0.007343073"
      ]
     },
     "metadata": {},
     "output_type": "display_data"
    }
   ],
   "source": [
    "boot(Auto, boot.fn, 1000)"
   ]
  },
  {
   "cell_type": "markdown",
   "id": "f8b27a40",
   "metadata": {},
   "source": [
    "This indicates that the bootstrap estimate for ${\\rm SE}(\\hat{\\beta}_0)$ is $0.84$, and that the bootstrap estimate for ${\\rm SE}(\\hat{\\beta}_1)$ is $0.0073$.\n",
    "As discussed in Section 3.1.2, standard formulas can be used to compute the standard errors for the regression coefficients in a linear model. These can be obtained using the  `summary()` function."
   ]
  },
  {
   "cell_type": "code",
   "execution_count": 74,
   "id": "cec25af1",
   "metadata": {
    "lines_to_next_cell": 2,
    "name": "chunk18"
   },
   "outputs": [
    {
     "data": {
      "text/html": [
       "<table class=\"dataframe\">\n",
       "<caption>A matrix: 2 × 4 of type dbl</caption>\n",
       "<thead>\n",
       "\t<tr><th></th><th scope=col>Estimate</th><th scope=col>Std. Error</th><th scope=col>t value</th><th scope=col>Pr(&gt;|t|)</th></tr>\n",
       "</thead>\n",
       "<tbody>\n",
       "\t<tr><th scope=row>(Intercept)</th><td>39.9358610</td><td>0.717498656</td><td> 55.65984</td><td>1.220362e-187</td></tr>\n",
       "\t<tr><th scope=row>horsepower</th><td>-0.1578447</td><td>0.006445501</td><td>-24.48914</td><td> 7.031989e-81</td></tr>\n",
       "</tbody>\n",
       "</table>\n"
      ],
      "text/latex": [
       "A matrix: 2 × 4 of type dbl\n",
       "\\begin{tabular}{r|llll}\n",
       "  & Estimate & Std. Error & t value & Pr(>\\textbar{}t\\textbar{})\\\\\n",
       "\\hline\n",
       "\t(Intercept) & 39.9358610 & 0.717498656 &  55.65984 & 1.220362e-187\\\\\n",
       "\thorsepower & -0.1578447 & 0.006445501 & -24.48914 &  7.031989e-81\\\\\n",
       "\\end{tabular}\n"
      ],
      "text/markdown": [
       "\n",
       "A matrix: 2 × 4 of type dbl\n",
       "\n",
       "| <!--/--> | Estimate | Std. Error | t value | Pr(&gt;|t|) |\n",
       "|---|---|---|---|---|\n",
       "| (Intercept) | 39.9358610 | 0.717498656 |  55.65984 | 1.220362e-187 |\n",
       "| horsepower | -0.1578447 | 0.006445501 | -24.48914 |  7.031989e-81 |\n",
       "\n"
      ],
      "text/plain": [
       "            Estimate   Std. Error  t value   Pr(>|t|)     \n",
       "(Intercept) 39.9358610 0.717498656  55.65984 1.220362e-187\n",
       "horsepower  -0.1578447 0.006445501 -24.48914  7.031989e-81"
      ]
     },
     "metadata": {},
     "output_type": "display_data"
    }
   ],
   "source": [
    "summary(lm(mpg ~ horsepower, data = Auto))$coef"
   ]
  },
  {
   "cell_type": "markdown",
   "id": "48a4d5a4",
   "metadata": {},
   "source": [
    "The standard error estimates for $\\hat{\\beta}_0$ and\n",
    "$\\hat{\\beta}_1$ obtained using the formulas from\n",
    "Section 3.1.2 are $0.717$ for the intercept and $0.0064$\n",
    "for the slope. Interestingly, these are somewhat different from the\n",
    "estimates obtained using the bootstrap.  Does this indicate a problem\n",
    "with the bootstrap? In fact, it suggests the opposite.  Recall that\n",
    "the standard formulas given in Equation 3.8 on page66 rely on certain assumptions. For example, they depend\n",
    "on the unknown parameter $\\sigma^2$, the noise variance. We then estimate $\\sigma^2$\n",
    "using the RSS. Now although the formulas for the standard errors do not rely on the linear model\n",
    "being correct, the estimate for $\\sigma^2$ does.\n",
    "We see in\n",
    "Figure 3.8 on page91 that there is a non-linear relationship in\n",
    "the data, and so the residuals from a linear fit will be inflated, and so will $\\hat{\\sigma}^2$.\n",
    "Secondly, the standard formulas assume (somewhat unrealistically) that the $x_i$ are fixed, and all the variability comes from the variation in the errors $\\epsilon_i$.\n",
    " The bootstrap approach does not rely on any of these assumptions, and so it is\n",
    "likely giving a more accurate estimate of the standard errors of\n",
    "$\\hat{\\beta}_0$ and $\\hat{\\beta}_1$ than is the `summary()`\n",
    "function.\n",
    "\n",
    "Below we compute the bootstrap standard error estimates and the standard\n",
    "linear regression estimates that result from fitting the quadratic model to the data. Since this model provides a good fit to the data (Figure 3.8), there is now a better correspondence between the bootstrap estimates and the standard estimates of ${\\rm SE}(\\hat{\\beta}_0)$, ${\\rm SE}(\\hat{\\beta}_1)$ and ${\\rm SE}(\\hat{\\beta}_2)$."
   ]
  },
  {
   "cell_type": "code",
   "execution_count": 75,
   "id": "3a97db80",
   "metadata": {
    "lines_to_next_cell": 0,
    "name": "chunk19"
   },
   "outputs": [],
   "source": [
    "boot.fn <- function(data, index)\n",
    "  coef(\n",
    "      lm(mpg ~ horsepower + I(horsepower^2), \n",
    "        data = data, subset = index)\n",
    "    )"
   ]
  },
  {
   "cell_type": "code",
   "execution_count": 79,
   "id": "da209676",
   "metadata": {
    "lines_to_next_cell": 0,
    "name": "chunk19"
   },
   "outputs": [],
   "source": [
    "set.seed(1)\n",
    "reg_lineal = boot(Auto, boot.fn, 100000)"
   ]
  },
  {
   "cell_type": "code",
   "execution_count": 82,
   "id": "bb0d51f2",
   "metadata": {},
   "outputs": [
    {
     "data": {
      "text/plain": [
       "\n",
       "ORDINARY NONPARAMETRIC BOOTSTRAP\n",
       "\n",
       "\n",
       "Call:\n",
       "boot(data = Auto, statistic = boot.fn, R = 1e+05)\n",
       "\n",
       "\n",
       "Bootstrap Statistics :\n",
       "        original        bias     std. error\n",
       "t1* 56.900099702  4.500954e-02 2.0937092857\n",
       "t2* -0.466189630 -8.593452e-04 0.0334036419\n",
       "t3*  0.001230536  3.683089e-06 0.0001207652"
      ]
     },
     "metadata": {},
     "output_type": "display_data"
    }
   ],
   "source": [
    "boot(Auto, boot.fn, 100000)"
   ]
  },
  {
   "cell_type": "code",
   "execution_count": 80,
   "id": "4d5ca6e1",
   "metadata": {
    "lines_to_next_cell": 0,
    "name": "chunk19"
   },
   "outputs": [
    {
     "data": {
      "text/html": [
       "<table class=\"dataframe\">\n",
       "<caption>A matrix: 3 × 4 of type dbl</caption>\n",
       "<thead>\n",
       "\t<tr><th></th><th scope=col>Estimate</th><th scope=col>Std. Error</th><th scope=col>t value</th><th scope=col>Pr(&gt;|t|)</th></tr>\n",
       "</thead>\n",
       "<tbody>\n",
       "\t<tr><th scope=row>(Intercept)</th><td>56.900099702</td><td>1.8004268063</td><td> 31.60367</td><td>1.740911e-109</td></tr>\n",
       "\t<tr><th scope=row>horsepower</th><td>-0.466189630</td><td>0.0311246171</td><td>-14.97816</td><td> 2.289429e-40</td></tr>\n",
       "\t<tr><th scope=row>I(horsepower^2)</th><td> 0.001230536</td><td>0.0001220759</td><td> 10.08009</td><td> 2.196340e-21</td></tr>\n",
       "</tbody>\n",
       "</table>\n"
      ],
      "text/latex": [
       "A matrix: 3 × 4 of type dbl\n",
       "\\begin{tabular}{r|llll}\n",
       "  & Estimate & Std. Error & t value & Pr(>\\textbar{}t\\textbar{})\\\\\n",
       "\\hline\n",
       "\t(Intercept) & 56.900099702 & 1.8004268063 &  31.60367 & 1.740911e-109\\\\\n",
       "\thorsepower & -0.466189630 & 0.0311246171 & -14.97816 &  2.289429e-40\\\\\n",
       "\tI(horsepower\\textasciicircum{}2) &  0.001230536 & 0.0001220759 &  10.08009 &  2.196340e-21\\\\\n",
       "\\end{tabular}\n"
      ],
      "text/markdown": [
       "\n",
       "A matrix: 3 × 4 of type dbl\n",
       "\n",
       "| <!--/--> | Estimate | Std. Error | t value | Pr(&gt;|t|) |\n",
       "|---|---|---|---|---|\n",
       "| (Intercept) | 56.900099702 | 1.8004268063 |  31.60367 | 1.740911e-109 |\n",
       "| horsepower | -0.466189630 | 0.0311246171 | -14.97816 |  2.289429e-40 |\n",
       "| I(horsepower^2) |  0.001230536 | 0.0001220759 |  10.08009 |  2.196340e-21 |\n",
       "\n"
      ],
      "text/plain": [
       "                Estimate     Std. Error   t value   Pr(>|t|)     \n",
       "(Intercept)     56.900099702 1.8004268063  31.60367 1.740911e-109\n",
       "horsepower      -0.466189630 0.0311246171 -14.97816  2.289429e-40\n",
       "I(horsepower^2)  0.001230536 0.0001220759  10.08009  2.196340e-21"
      ]
     },
     "metadata": {},
     "output_type": "display_data"
    }
   ],
   "source": [
    "summary(\n",
    "    lm(mpg ~ horsepower + I(horsepower^2), data = Auto)\n",
    "  )$coef"
   ]
  },
  {
   "cell_type": "markdown",
   "id": "3cfca3e8",
   "metadata": {},
   "source": [
    "\n"
   ]
  },
  {
   "cell_type": "code",
   "execution_count": 81,
   "id": "f0cf6171",
   "metadata": {},
   "outputs": [
    {
     "data": {
      "image/png": "[encoded data removed]",
      "text/plain": [
       "Plot with title \"Histogram of t\""
      ]
     },
     "metadata": {
      "image/png": {
       "height": 420,
       "width": 420
      }
     },
     "output_type": "display_data"
    }
   ],
   "source": [
    "plot(reg_lineal)"
   ]
  },
  {
   "cell_type": "code",
   "execution_count": null,
   "id": "5aefe46e",
   "metadata": {},
   "outputs": [],
   "source": []
  }
 ],
 "metadata": {
  "kernelspec": {
   "display_name": "R",
   "language": "R",
   "name": "ir"
  },
  "language_info": {
   "codemirror_mode": "r",
   "file_extension": ".r",
   "mimetype": "text/x-r-source",
   "name": "R",
   "pygments_lexer": "r",
   "version": "4.0.4"
  }
 },
 "nbformat": 4,
 "nbformat_minor": 5
}
