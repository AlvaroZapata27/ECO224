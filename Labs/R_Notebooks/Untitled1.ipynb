{
 "cells": [
  {
   "cell_type": "code",
   "execution_count": null,
   "id": "15db86b9",
   "metadata": {},
   "outputs": [],
   "source": [
    "\n",
    "A <- matrix(rnorm(10) , nrow = 10, ncol = 9)\n",
    "B <- \n",
    "\n",
    "\n",
    "\n",
    "\n",
    "v1 <- rnorm(10)\n",
    "v2 <- rnorm(10)\n",
    "v3 <- rnorm(10)\n",
    "v4 <- rnorm(10)\n",
    "v5 <- rnorm(10)\n",
    "v6 <- rnorm(10)\n",
    "v7 <- rnorm(10)\n",
    "v8 <- rnorm(10)\n",
    "v9 <- rnorm(10)\n",
    "v10 <- v1*v2/v3\n",
    "\n",
    "matri\n",
    "matriz <- cbind(v1,v2,v3,v4,v5,v6,v7,v8,v9,v10)\n",
    "\n",
    "matriz\n",
    "\n",
    "matriz.i<-solve(matriz)\n",
    "\n",
    "\n",
    "hist(matriz[,1],main= 'Histograma  X1', xlab = 'X1', ylab = 'Densidad',probability = TRUE,breaks = 100)\n",
    "lines(density(T[,1]),col=\"red\")"
   ]
  }
 ],
 "metadata": {
  "kernelspec": {
   "display_name": "R",
   "language": "R",
   "name": "ir"
  }
 },
 "nbformat": 4,
 "nbformat_minor": 5
}
