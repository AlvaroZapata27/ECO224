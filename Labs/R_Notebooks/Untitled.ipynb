{
 "cells": [
  {
   "cell_type": "code",
   "execution_count": null,
   "id": "8b3ea919",
   "metadata": {},
   "outputs": [],
   "source": [
    "warner <- c(20, 20, 16, 17, 17, 22, 17, 18, 19)"
   ]
  }
 ],
 "metadata": {
  "kernelspec": {
   "display_name": "R",
   "language": "R",
   "name": "ir"
  }
 },
 "nbformat": 4,
 "nbformat_minor": 5
}
