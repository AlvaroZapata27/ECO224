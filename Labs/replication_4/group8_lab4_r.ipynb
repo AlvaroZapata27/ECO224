{
 "cells": [
  {
   "cell_type": "markdown",
   "metadata": {
    "papermill": {
     "duration": 0.022263,
     "end_time": "2021-01-20T08:46:44.289888",
     "exception": false,
     "start_time": "2021-01-20T08:46:44.267625",
     "status": "completed"
    },
    "tags": []
   },
   "source": [
    "## GRUPO 8 \n",
    "\n",
    "#### *Integrantes:* \n",
    "\n",
    "1. Gianfranco Soria (20163509)\n",
    "3. Andrea Clavo (20176040)\n",
    "4. Sandra Martínez (20173026)"
   ]
  },
  {
   "cell_type": "markdown",
   "metadata": {},
   "source": [
    "_____\n",
    "## Question 1: Orthogonal Learning\n",
    "_____"
   ]
  },
  {
   "cell_type": "markdown",
   "metadata": {},
   "source": [
    "1. Replicate Simulation Design 1 three times using different numbers of trials. So you have to use:\n",
    "\n",
    "- The equation of Y for the three cases now is: Y = 5*D + beta*X + rnorm(n)\n",
    "- B = 50 , B = 100, B = 1000.\n",
    "- Explain what do you see in the distribution of the histograms. Where the orthogonal and Naive should be centered?\n",
    "- Why does this happen? Give an econometric explanation of this.\n",
    "- Label your axes and legends correctly your figures."
   ]
  },
  {
   "cell_type": "markdown",
   "metadata": {},
   "source": [
    "_____\n",
    "## Question 2: Double Lasso - Testing the Convergence Hypothesis\n",
    "_____"
   ]
  },
  {
   "cell_type": "markdown",
   "metadata": {},
   "source": [
    "1. Explain what is the Double Lasso Approach in a markdown cell. Use equations for a better explanation."
   ]
  },
  {
   "cell_type": "markdown",
   "metadata": {},
   "source": [
    "2. Replicate the results using the next approaches:\n",
    "- OLS\n",
    "- Double LASSO using cross Validation (GLMNET in R and Sklearn in Python )\n",
    "- Double Lasso using theoretical Lambda (HDM package both in R and Python)\n",
    "- Double Lasso using method=\"partialling out\", this is a direct way to get results from the HDM package, check the Python script for an example, and also you have to read the documentation for more details.\n",
    "- Plot the main coefficient and its confidence interval of the convergence hypothesis from these 4 cases in one figure."
   ]
  },
  {
   "cell_type": "markdown",
   "metadata": {
    "papermill": {
     "duration": 0.02114,
     "end_time": "2021-01-20T08:46:44.333044",
     "exception": false,
     "start_time": "2021-01-20T08:46:44.311904",
     "status": "completed"
    },
    "tags": []
   },
   "source": [
    "# Testing the Convergence Hypothesis"
   ]
  },
  {
   "cell_type": "markdown",
   "metadata": {
    "papermill": {
     "duration": 0.020943,
     "end_time": "2021-01-20T08:46:44.375077",
     "exception": false,
     "start_time": "2021-01-20T08:46:44.354134",
     "status": "completed"
    },
    "tags": []
   },
   "source": [
    "## Introduction"
   ]
  },
  {
   "cell_type": "markdown",
   "metadata": {
    "papermill": {
     "duration": 0.020999,
     "end_time": "2021-01-20T08:46:44.417216",
     "exception": false,
     "start_time": "2021-01-20T08:46:44.396217",
     "status": "completed"
    },
    "tags": []
   },
   "source": [
    "We provide an additional empirical example of partialling-out with Lasso to estimate the regression coefficient $\\beta_1$ in the high-dimensional linear regression model:\n",
    "  $$\n",
    "  Y = \\beta_1 D +  \\beta_2'W + \\epsilon.\n",
    "  $$\n",
    "  \n",
    "Specifically, we are interested in how the rates  at which economies of different countries grow ($Y$) are related to the initial wealth levels in each country ($D$) controlling for country's institutional, educational, and other similar characteristics ($W$).\n",
    "  \n",
    "The relationship is captured by $\\beta_1$, the *speed of convergence/divergence*, which measures the speed at which poor countries catch up $(\\beta_1< 0)$ or fall behind $(\\beta_1> 0)$ rich countries, after controlling for $W$. Our inference question here is: do poor countries grow faster than rich countries, controlling for educational and other characteristics? In other words, is the speed of convergence negative: $ \\beta_1 <0?$ This is the Convergence Hypothesis predicted by the Solow Growth Model. This is a structural economic model. Under some strong assumptions, that we won't state here, the predictive exercise we are doing here can be given causal interpretation.\n"
   ]
  },
  {
   "cell_type": "markdown",
   "metadata": {
    "papermill": {
     "duration": 0.021587,
     "end_time": "2021-01-20T08:46:44.459779",
     "exception": false,
     "start_time": "2021-01-20T08:46:44.438192",
     "status": "completed"
    },
    "tags": []
   },
   "source": [
    "The outcome $Y$ is the realized annual growth rate of a country's wealth  (Gross Domestic Product per capita). The target regressor ($D$) is the initial level of the country's wealth. The target parameter $\\beta_1$ is the speed of convergence, which measures the speed at which poor countries catch up with rich countries. The controls ($W$) include measures of education levels, quality of institutions, trade openness, and political stability in the country."
   ]
  },
  {
   "cell_type": "markdown",
   "metadata": {
    "papermill": {
     "duration": 0.021064,
     "end_time": "2021-01-20T08:46:44.502289",
     "exception": false,
     "start_time": "2021-01-20T08:46:44.481225",
     "status": "completed"
    },
    "tags": []
   },
   "source": [
    "## Data analysis\n"
   ]
  },
  {
   "cell_type": "markdown",
   "metadata": {
    "papermill": {
     "duration": 0.021269,
     "end_time": "2021-01-20T08:46:44.545701",
     "exception": false,
     "start_time": "2021-01-20T08:46:44.524432",
     "status": "completed"
    },
    "tags": []
   },
   "source": [
    "We consider the data set GrowthData which is included in the package *hdm*. First, let us load the data set to get familiar with the data."
   ]
  },
  {
   "cell_type": "code",
   "execution_count": 52,
   "metadata": {},
   "outputs": [],
   "source": [
    "library(hdm)\n",
    "library(xtable)"
   ]
  },
  {
   "cell_type": "code",
   "execution_count": 53,
   "metadata": {},
   "outputs": [],
   "source": [
    "# Export data to read in python\n",
    "GrowthData <- GrowthData\n",
    "save(GrowthData, file = \"C:/Users/PC-1/Documents/GitHub/ECO224/Labs/data/GrowthData.RData\")"
   ]
  },
  {
   "cell_type": "code",
   "execution_count": 54,
   "metadata": {
    "execution": {
     "iopub.execute_input": "2021-01-20T08:46:44.640789Z",
     "iopub.status.busy": "2021-01-20T08:46:44.638074Z",
     "iopub.status.idle": "2021-01-20T08:46:44.895364Z",
     "shell.execute_reply": "2021-01-20T08:46:44.894062Z"
    },
    "papermill": {
     "duration": 0.328039,
     "end_time": "2021-01-20T08:46:44.895665",
     "exception": false,
     "start_time": "2021-01-20T08:46:44.567626",
     "status": "completed"
    },
    "tags": []
   },
   "outputs": [
    {
     "name": "stderr",
     "output_type": "stream",
     "text": [
      "The following objects are masked from growth (pos = 6):\n",
      "\n",
      "    bmp1l, ex1, fert1, fert65, freeop, freetar, gde1, gdpsh465,\n",
      "    geerec1, geetot1, govsh41, govwb1, gpop1, gvxdxe41, h65, hf65,\n",
      "    high65, highc65, highcf65, highcm65, highf65, highm65, hm65,\n",
      "    human65, humanf65, humanm65, hyr65, hyrf65, hyrm65, im1, intercept,\n",
      "    invsh41, lifee065, mort1, mort65, no65, nof65, nom65, Outcome, p65,\n",
      "    pf65, pinstab1, pm65, pop1565, pop65, pop6565, s65, sec65, secc65,\n",
      "    seccf65, seccm65, secf65, secm65, sf65, sm65, syr65, syrf65,\n",
      "    syrm65, teapri65, teasec65, tot1, worker65, xr65\n",
      "\n"
     ]
    },
    {
     "data": {
      "text/html": [
       "<ol class=list-inline>\n",
       "\t<li>'Outcome'</li>\n",
       "\t<li>'intercept'</li>\n",
       "\t<li>'gdpsh465'</li>\n",
       "\t<li>'bmp1l'</li>\n",
       "\t<li>'freeop'</li>\n",
       "\t<li>'freetar'</li>\n",
       "\t<li>'h65'</li>\n",
       "\t<li>'hm65'</li>\n",
       "\t<li>'hf65'</li>\n",
       "\t<li>'p65'</li>\n",
       "\t<li>'pm65'</li>\n",
       "\t<li>'pf65'</li>\n",
       "\t<li>'s65'</li>\n",
       "\t<li>'sm65'</li>\n",
       "\t<li>'sf65'</li>\n",
       "\t<li>'fert65'</li>\n",
       "\t<li>'mort65'</li>\n",
       "\t<li>'lifee065'</li>\n",
       "\t<li>'gpop1'</li>\n",
       "\t<li>'fert1'</li>\n",
       "\t<li>'mort1'</li>\n",
       "\t<li>'invsh41'</li>\n",
       "\t<li>'geetot1'</li>\n",
       "\t<li>'geerec1'</li>\n",
       "\t<li>'gde1'</li>\n",
       "\t<li>'govwb1'</li>\n",
       "\t<li>'govsh41'</li>\n",
       "\t<li>'gvxdxe41'</li>\n",
       "\t<li>'high65'</li>\n",
       "\t<li>'highm65'</li>\n",
       "\t<li>'highf65'</li>\n",
       "\t<li>'highc65'</li>\n",
       "\t<li>'highcm65'</li>\n",
       "\t<li>'highcf65'</li>\n",
       "\t<li>'human65'</li>\n",
       "\t<li>'humanm65'</li>\n",
       "\t<li>'humanf65'</li>\n",
       "\t<li>'hyr65'</li>\n",
       "\t<li>'hyrm65'</li>\n",
       "\t<li>'hyrf65'</li>\n",
       "\t<li>'no65'</li>\n",
       "\t<li>'nom65'</li>\n",
       "\t<li>'nof65'</li>\n",
       "\t<li>'pinstab1'</li>\n",
       "\t<li>'pop65'</li>\n",
       "\t<li>'worker65'</li>\n",
       "\t<li>'pop1565'</li>\n",
       "\t<li>'pop6565'</li>\n",
       "\t<li>'sec65'</li>\n",
       "\t<li>'secm65'</li>\n",
       "\t<li>'secf65'</li>\n",
       "\t<li>'secc65'</li>\n",
       "\t<li>'seccm65'</li>\n",
       "\t<li>'seccf65'</li>\n",
       "\t<li>'syr65'</li>\n",
       "\t<li>'syrm65'</li>\n",
       "\t<li>'syrf65'</li>\n",
       "\t<li>'teapri65'</li>\n",
       "\t<li>'teasec65'</li>\n",
       "\t<li>'ex1'</li>\n",
       "\t<li>'im1'</li>\n",
       "\t<li>'xr65'</li>\n",
       "\t<li>'tot1'</li>\n",
       "</ol>\n"
      ],
      "text/latex": [
       "\\begin{enumerate*}\n",
       "\\item 'Outcome'\n",
       "\\item 'intercept'\n",
       "\\item 'gdpsh465'\n",
       "\\item 'bmp1l'\n",
       "\\item 'freeop'\n",
       "\\item 'freetar'\n",
       "\\item 'h65'\n",
       "\\item 'hm65'\n",
       "\\item 'hf65'\n",
       "\\item 'p65'\n",
       "\\item 'pm65'\n",
       "\\item 'pf65'\n",
       "\\item 's65'\n",
       "\\item 'sm65'\n",
       "\\item 'sf65'\n",
       "\\item 'fert65'\n",
       "\\item 'mort65'\n",
       "\\item 'lifee065'\n",
       "\\item 'gpop1'\n",
       "\\item 'fert1'\n",
       "\\item 'mort1'\n",
       "\\item 'invsh41'\n",
       "\\item 'geetot1'\n",
       "\\item 'geerec1'\n",
       "\\item 'gde1'\n",
       "\\item 'govwb1'\n",
       "\\item 'govsh41'\n",
       "\\item 'gvxdxe41'\n",
       "\\item 'high65'\n",
       "\\item 'highm65'\n",
       "\\item 'highf65'\n",
       "\\item 'highc65'\n",
       "\\item 'highcm65'\n",
       "\\item 'highcf65'\n",
       "\\item 'human65'\n",
       "\\item 'humanm65'\n",
       "\\item 'humanf65'\n",
       "\\item 'hyr65'\n",
       "\\item 'hyrm65'\n",
       "\\item 'hyrf65'\n",
       "\\item 'no65'\n",
       "\\item 'nom65'\n",
       "\\item 'nof65'\n",
       "\\item 'pinstab1'\n",
       "\\item 'pop65'\n",
       "\\item 'worker65'\n",
       "\\item 'pop1565'\n",
       "\\item 'pop6565'\n",
       "\\item 'sec65'\n",
       "\\item 'secm65'\n",
       "\\item 'secf65'\n",
       "\\item 'secc65'\n",
       "\\item 'seccm65'\n",
       "\\item 'seccf65'\n",
       "\\item 'syr65'\n",
       "\\item 'syrm65'\n",
       "\\item 'syrf65'\n",
       "\\item 'teapri65'\n",
       "\\item 'teasec65'\n",
       "\\item 'ex1'\n",
       "\\item 'im1'\n",
       "\\item 'xr65'\n",
       "\\item 'tot1'\n",
       "\\end{enumerate*}\n"
      ],
      "text/markdown": [
       "1. 'Outcome'\n",
       "2. 'intercept'\n",
       "3. 'gdpsh465'\n",
       "4. 'bmp1l'\n",
       "5. 'freeop'\n",
       "6. 'freetar'\n",
       "7. 'h65'\n",
       "8. 'hm65'\n",
       "9. 'hf65'\n",
       "10. 'p65'\n",
       "11. 'pm65'\n",
       "12. 'pf65'\n",
       "13. 's65'\n",
       "14. 'sm65'\n",
       "15. 'sf65'\n",
       "16. 'fert65'\n",
       "17. 'mort65'\n",
       "18. 'lifee065'\n",
       "19. 'gpop1'\n",
       "20. 'fert1'\n",
       "21. 'mort1'\n",
       "22. 'invsh41'\n",
       "23. 'geetot1'\n",
       "24. 'geerec1'\n",
       "25. 'gde1'\n",
       "26. 'govwb1'\n",
       "27. 'govsh41'\n",
       "28. 'gvxdxe41'\n",
       "29. 'high65'\n",
       "30. 'highm65'\n",
       "31. 'highf65'\n",
       "32. 'highc65'\n",
       "33. 'highcm65'\n",
       "34. 'highcf65'\n",
       "35. 'human65'\n",
       "36. 'humanm65'\n",
       "37. 'humanf65'\n",
       "38. 'hyr65'\n",
       "39. 'hyrm65'\n",
       "40. 'hyrf65'\n",
       "41. 'no65'\n",
       "42. 'nom65'\n",
       "43. 'nof65'\n",
       "44. 'pinstab1'\n",
       "45. 'pop65'\n",
       "46. 'worker65'\n",
       "47. 'pop1565'\n",
       "48. 'pop6565'\n",
       "49. 'sec65'\n",
       "50. 'secm65'\n",
       "51. 'secf65'\n",
       "52. 'secc65'\n",
       "53. 'seccm65'\n",
       "54. 'seccf65'\n",
       "55. 'syr65'\n",
       "56. 'syrm65'\n",
       "57. 'syrf65'\n",
       "58. 'teapri65'\n",
       "59. 'teasec65'\n",
       "60. 'ex1'\n",
       "61. 'im1'\n",
       "62. 'xr65'\n",
       "63. 'tot1'\n",
       "\n",
       "\n"
      ],
      "text/plain": [
       " [1] \"Outcome\"   \"intercept\" \"gdpsh465\"  \"bmp1l\"     \"freeop\"    \"freetar\"  \n",
       " [7] \"h65\"       \"hm65\"      \"hf65\"      \"p65\"       \"pm65\"      \"pf65\"     \n",
       "[13] \"s65\"       \"sm65\"      \"sf65\"      \"fert65\"    \"mort65\"    \"lifee065\" \n",
       "[19] \"gpop1\"     \"fert1\"     \"mort1\"     \"invsh41\"   \"geetot1\"   \"geerec1\"  \n",
       "[25] \"gde1\"      \"govwb1\"    \"govsh41\"   \"gvxdxe41\"  \"high65\"    \"highm65\"  \n",
       "[31] \"highf65\"   \"highc65\"   \"highcm65\"  \"highcf65\"  \"human65\"   \"humanm65\" \n",
       "[37] \"humanf65\"  \"hyr65\"     \"hyrm65\"    \"hyrf65\"    \"no65\"      \"nom65\"    \n",
       "[43] \"nof65\"     \"pinstab1\"  \"pop65\"     \"worker65\"  \"pop1565\"   \"pop6565\"  \n",
       "[49] \"sec65\"     \"secm65\"    \"secf65\"    \"secc65\"    \"seccm65\"   \"seccf65\"  \n",
       "[55] \"syr65\"     \"syrm65\"    \"syrf65\"    \"teapri65\"  \"teasec65\"  \"ex1\"      \n",
       "[61] \"im1\"       \"xr65\"      \"tot1\"     "
      ]
     },
     "metadata": {},
     "output_type": "display_data"
    }
   ],
   "source": [
    "library(hdm)\n",
    "growth <- GrowthData\n",
    "attach(growth)\n",
    "names(growth)"
   ]
  },
  {
   "cell_type": "markdown",
   "metadata": {
    "papermill": {
     "duration": 0.022542,
     "end_time": "2021-01-20T08:46:44.941354",
     "exception": false,
     "start_time": "2021-01-20T08:46:44.918812",
     "status": "completed"
    },
    "tags": []
   },
   "source": [
    "We determine the dimension of our data set."
   ]
  },
  {
   "cell_type": "code",
   "execution_count": 55,
   "metadata": {
    "execution": {
     "iopub.execute_input": "2021-01-20T08:46:45.041191Z",
     "iopub.status.busy": "2021-01-20T08:46:44.993028Z",
     "iopub.status.idle": "2021-01-20T08:46:45.059804Z",
     "shell.execute_reply": "2021-01-20T08:46:45.057901Z"
    },
    "papermill": {
     "duration": 0.095528,
     "end_time": "2021-01-20T08:46:45.059972",
     "exception": false,
     "start_time": "2021-01-20T08:46:44.964444",
     "status": "completed"
    },
    "tags": []
   },
   "outputs": [
    {
     "data": {
      "text/html": [
       "<ol class=list-inline>\n",
       "\t<li>90</li>\n",
       "\t<li>63</li>\n",
       "</ol>\n"
      ],
      "text/latex": [
       "\\begin{enumerate*}\n",
       "\\item 90\n",
       "\\item 63\n",
       "\\end{enumerate*}\n"
      ],
      "text/markdown": [
       "1. 90\n",
       "2. 63\n",
       "\n",
       "\n"
      ],
      "text/plain": [
       "[1] 90 63"
      ]
     },
     "metadata": {},
     "output_type": "display_data"
    }
   ],
   "source": [
    "dim(growth)"
   ]
  },
  {
   "cell_type": "markdown",
   "metadata": {
    "papermill": {
     "duration": 0.025013,
     "end_time": "2021-01-20T08:46:45.109042",
     "exception": false,
     "start_time": "2021-01-20T08:46:45.084029",
     "status": "completed"
    },
    "tags": []
   },
   "source": [
    "The sample contains $90$ countries and $63$ controls. Thus $p \\approx 60$, $n=90$ and $p/n$ is not small. We expect the least squares method to provide a poor estimate of $\\beta_1$.  We expect the method based on partialling-out with Lasso to provide a high quality estimate of $\\beta_1$."
   ]
  },
  {
   "cell_type": "markdown",
   "metadata": {
    "papermill": {
     "duration": 0.024124,
     "end_time": "2021-01-20T08:46:45.157510",
     "exception": false,
     "start_time": "2021-01-20T08:46:45.133386",
     "status": "completed"
    },
    "tags": []
   },
   "source": [
    "To check this hypothesis, we analyze the relation between the output variable $Y$ and the other country's characteristics by running a linear regression in the first step."
   ]
  },
  {
   "cell_type": "markdown",
   "metadata": {},
   "source": [
    "## METHOD 1: OLS"
   ]
  },
  {
   "cell_type": "code",
   "execution_count": 56,
   "metadata": {
    "execution": {
     "iopub.execute_input": "2021-01-20T08:46:45.217667Z",
     "iopub.status.busy": "2021-01-20T08:46:45.215601Z",
     "iopub.status.idle": "2021-01-20T08:46:45.249261Z",
     "shell.execute_reply": "2021-01-20T08:46:45.247904Z"
    },
    "papermill": {
     "duration": 0.06791,
     "end_time": "2021-01-20T08:46:45.249423",
     "exception": false,
     "start_time": "2021-01-20T08:46:45.181513",
     "status": "completed"
    },
    "tags": []
   },
   "outputs": [
    {
     "data": {
      "text/plain": [
       "\n",
       "Call:\n",
       "lm(formula = Outcome ~ . - 1, data = growth)\n",
       "\n",
       "Residuals:\n",
       "      Min        1Q    Median        3Q       Max \n",
       "-0.040338 -0.011298 -0.000863  0.011813  0.043247 \n",
       "\n",
       "Coefficients:\n",
       "            Estimate Std. Error t value Pr(>|t|)   \n",
       "intercept  2.472e-01  7.845e-01   0.315  0.75506   \n",
       "gdpsh465  -9.378e-03  2.989e-02  -0.314  0.75602   \n",
       "bmp1l     -6.886e-02  3.253e-02  -2.117  0.04329 * \n",
       "freeop     8.007e-02  2.079e-01   0.385  0.70300   \n",
       "freetar   -4.890e-01  4.182e-01  -1.169  0.25214   \n",
       "h65       -2.362e+00  8.573e-01  -2.755  0.01019 * \n",
       "hm65       7.071e-01  5.231e-01   1.352  0.18729   \n",
       "hf65       1.693e+00  5.032e-01   3.365  0.00223 **\n",
       "p65        2.655e-01  1.643e-01   1.616  0.11727   \n",
       "pm65       1.370e-01  1.512e-01   0.906  0.37284   \n",
       "pf65      -3.313e-01  1.651e-01  -2.006  0.05458 . \n",
       "s65        3.908e-02  1.855e-01   0.211  0.83469   \n",
       "sm65      -3.067e-02  1.168e-01  -0.263  0.79479   \n",
       "sf65      -1.799e-01  1.181e-01  -1.523  0.13886   \n",
       "fert65     6.881e-03  2.705e-02   0.254  0.80108   \n",
       "mort65    -2.335e-01  8.174e-01  -0.286  0.77729   \n",
       "lifee065  -1.491e-02  1.933e-01  -0.077  0.93906   \n",
       "gpop1      9.702e-01  1.812e+00   0.535  0.59663   \n",
       "fert1      8.838e-03  3.504e-02   0.252  0.80271   \n",
       "mort1      6.656e-02  6.848e-01   0.097  0.92326   \n",
       "invsh41    7.446e-02  1.084e-01   0.687  0.49797   \n",
       "geetot1   -7.151e-01  1.680e+00  -0.426  0.67364   \n",
       "geerec1    6.300e-01  2.447e+00   0.257  0.79874   \n",
       "gde1      -4.436e-01  1.671e+00  -0.265  0.79263   \n",
       "govwb1     3.375e-01  4.380e-01   0.770  0.44748   \n",
       "govsh41    4.632e-01  1.925e+00   0.241  0.81165   \n",
       "gvxdxe41  -7.934e-01  2.059e+00  -0.385  0.70296   \n",
       "high65    -7.525e-01  9.057e-01  -0.831  0.41311   \n",
       "highm65   -3.903e-01  6.812e-01  -0.573  0.57131   \n",
       "highf65   -4.177e-01  5.615e-01  -0.744  0.46308   \n",
       "highc65   -2.216e+00  1.481e+00  -1.496  0.14575   \n",
       "highcm65   2.797e-01  6.582e-01   0.425  0.67412   \n",
       "highcf65   3.921e-01  7.660e-01   0.512  0.61278   \n",
       "human65    2.337e+00  3.307e+00   0.707  0.48559   \n",
       "humanm65  -1.209e+00  1.619e+00  -0.747  0.46121   \n",
       "humanf65  -1.104e+00  1.685e+00  -0.655  0.51763   \n",
       "hyr65      5.491e+01  2.389e+01   2.299  0.02918 * \n",
       "hyrm65     1.294e+01  2.317e+01   0.558  0.58112   \n",
       "hyrf65     9.093e+00  1.767e+01   0.515  0.61088   \n",
       "no65       3.721e-02  1.320e-01   0.282  0.78006   \n",
       "nom65     -2.120e-02  6.496e-02  -0.326  0.74661   \n",
       "nof65     -1.686e-02  6.700e-02  -0.252  0.80319   \n",
       "pinstab1  -4.997e-02  3.092e-02  -1.616  0.11729   \n",
       "pop65      1.032e-07  1.318e-07   0.783  0.44027   \n",
       "worker65   3.408e-02  1.562e-01   0.218  0.82887   \n",
       "pop1565   -4.655e-01  4.713e-01  -0.988  0.33176   \n",
       "pop6565   -1.357e+00  6.349e-01  -2.138  0.04139 * \n",
       "sec65     -1.089e-02  3.077e-01  -0.035  0.97201   \n",
       "secm65     3.344e-03  1.512e-01   0.022  0.98251   \n",
       "secf65    -2.304e-03  1.580e-01  -0.015  0.98847   \n",
       "secc65    -4.915e-01  7.290e-01  -0.674  0.50570   \n",
       "seccm65    2.596e-01  3.557e-01   0.730  0.47150   \n",
       "seccf65    2.207e-01  3.733e-01   0.591  0.55924   \n",
       "syr65     -7.556e-01  7.977e+00  -0.095  0.92521   \n",
       "syrm65     3.109e-01  3.897e+00   0.080  0.93698   \n",
       "syrf65     7.593e-01  4.111e+00   0.185  0.85479   \n",
       "teapri65   3.955e-05  7.700e-04   0.051  0.95941   \n",
       "teasec65   2.497e-04  1.171e-03   0.213  0.83274   \n",
       "ex1       -5.804e-01  2.418e-01  -2.400  0.02329 * \n",
       "im1        5.914e-01  2.503e-01   2.363  0.02531 * \n",
       "xr65      -1.038e-04  5.417e-05  -1.916  0.06565 . \n",
       "tot1      -1.279e-01  1.126e-01  -1.136  0.26561   \n",
       "---\n",
       "Signif. codes:  0 '***' 0.001 '**' 0.01 '*' 0.05 '.' 0.1 ' ' 1\n",
       "\n",
       "Residual standard error: 0.03074 on 28 degrees of freedom\n",
       "Multiple R-squared:  0.9369,\tAdjusted R-squared:  0.7973 \n",
       "F-statistic: 6.708 on 62 and 28 DF,  p-value: 2.963e-07\n"
      ]
     },
     "metadata": {},
     "output_type": "display_data"
    }
   ],
   "source": [
    "reg.ols <- lm(Outcome~.-1,data=growth)\n",
    "summary(reg.ols)"
   ]
  },
  {
   "cell_type": "markdown",
   "metadata": {
    "papermill": {
     "duration": 0.023954,
     "end_time": "2021-01-20T08:46:45.297880",
     "exception": false,
     "start_time": "2021-01-20T08:46:45.273926",
     "status": "completed"
    },
    "tags": []
   },
   "source": [
    "We determine the regression coefficient $\\beta_1$ of the target regressor *gdpsh465* ($D$), its 95% confidence interval and the standard error."
   ]
  },
  {
   "cell_type": "code",
   "execution_count": 57,
   "metadata": {
    "execution": {
     "iopub.execute_input": "2021-01-20T08:46:45.355205Z",
     "iopub.status.busy": "2021-01-20T08:46:45.352979Z",
     "iopub.status.idle": "2021-01-20T08:46:45.411296Z",
     "shell.execute_reply": "2021-01-20T08:46:45.409288Z"
    },
    "papermill": {
     "duration": 0.087755,
     "end_time": "2021-01-20T08:46:45.411431",
     "exception": false,
     "start_time": "2021-01-20T08:46:45.323676",
     "status": "completed"
    },
    "tags": []
   },
   "outputs": [],
   "source": [
    "est_ols <- summary(reg.ols)$coef[\"gdpsh465\",1]\n",
    "# output: estimated regression coefficient corresponding to the target regressor\n",
    "\n",
    "std_ols <- summary(reg.ols)$coef[\"gdpsh465\",2]\n",
    "# output: std. error\n",
    "\n",
    "ci_ols <- confint(reg.ols)[2,]\n",
    "# output: 95% confidence interval\n",
    "\n",
    "results_ols <- as.data.frame(cbind(est_ols,std_ols,ci_ols[1],ci_ols[2]))\n",
    "colnames(results_ols) <-c(\"estimator\",\"standard error\", \"lower bound CI\", \"upper bound CI\")\n",
    "rownames(results_ols) <-c(\"OLS\")"
   ]
  },
  {
   "cell_type": "code",
   "execution_count": 58,
   "metadata": {
    "execution": {
     "iopub.execute_input": "2021-01-20T08:46:45.461026Z",
     "iopub.status.busy": "2021-01-20T08:46:45.458711Z",
     "iopub.status.idle": "2021-01-20T08:46:45.540308Z",
     "shell.execute_reply": "2021-01-20T08:46:45.539451Z"
    },
    "papermill": {
     "duration": 0.107818,
     "end_time": "2021-01-20T08:46:45.540473",
     "exception": false,
     "start_time": "2021-01-20T08:46:45.432655",
     "status": "completed"
    },
    "tags": []
   },
   "outputs": [
    {
     "name": "stdout",
     "output_type": "stream",
     "text": [
      "<!-- html table generated in R 3.6.1 by xtable 1.8-4 package -->\n",
      "<!-- Thu Oct 07 19:28:23 2021 -->\n",
      "<table border=1>\n",
      "<tr> <th>  </th> <th> estimator </th> <th> standard error </th> <th> lower bound CI </th> <th> upper bound CI </th>  </tr>\n",
      "  <tr> <td align=\"right\"> OLS </td> <td align=\"right\"> -0.009 </td> <td align=\"right\"> 0.030 </td> <td align=\"right\"> -0.071 </td> <td align=\"right\"> 0.052 </td> </tr>\n",
      "   </table>\n"
     ]
    }
   ],
   "source": [
    "library(xtable)\n",
    "table <- matrix(0, 1, 4)\n",
    "table[1,1:4]   <- c(est_ols,std_ols,ci_ols[1],ci_ols[2])\n",
    "colnames(table) <-c(\"estimator\",\"standard error\", \"lower bound CI\", \"upper bound CI\")\n",
    "rownames(table) <-c(\"OLS\")\n",
    "tab1<- xtable(table, digits = 3)\n",
    "print(tab1,type=\"html\") # set type=\"latex\" for printing table in LaTeX"
   ]
  },
  {
   "cell_type": "markdown",
   "metadata": {
    "papermill": {
     "duration": 0.024477,
     "end_time": "2021-01-20T08:46:45.590014",
     "exception": false,
     "start_time": "2021-01-20T08:46:45.565537",
     "status": "completed"
    },
    "tags": []
   },
   "source": [
    "<!-- html table generated in R 3.6.3 by xtable 1.8-4 package -->\n",
    "<!-- Tue Jan 19 10:23:32 2021 -->\n",
    "<table border=1>\n",
    "<tr> <th>  </th> <th> estimator </th> <th> standard error </th> <th> lower bound CI </th> <th> upper bound CI </th>  </tr>\n",
    "  <tr> <td align=\"right\"> OLS </td> <td align=\"right\"> -0.009 </td> <td align=\"right\"> 0.030 </td> <td align=\"right\"> -0.071 </td> <td align=\"right\"> 0.052 </td> </tr>\n",
    "   </table>"
   ]
  },
  {
   "cell_type": "markdown",
   "metadata": {
    "papermill": {
     "duration": 0.025116,
     "end_time": "2021-01-20T08:46:45.640216",
     "exception": false,
     "start_time": "2021-01-20T08:46:45.615100",
     "status": "completed"
    },
    "tags": []
   },
   "source": [
    "Least squares provides a rather noisy estimate (high standard error) of the\n",
    "speed of convergence, and does not allow us to answer the question\n",
    "about the convergence hypothesis since the confidence interval includes zero."
   ]
  },
  {
   "cell_type": "markdown",
   "metadata": {
    "papermill": {
     "duration": 0.024882,
     "end_time": "2021-01-20T08:46:45.690232",
     "exception": false,
     "start_time": "2021-01-20T08:46:45.665350",
     "status": "completed"
    },
    "tags": []
   },
   "source": [
    "In contrast, we can use the partialling-out approach based on lasso regression (\"Double Lasso\")."
   ]
  },
  {
   "cell_type": "markdown",
   "metadata": {},
   "source": [
    "## Method 2 - Using GLMNET "
   ]
  },
  {
   "cell_type": "code",
   "execution_count": 41,
   "metadata": {
    "execution": {
     "iopub.execute_input": "2021-01-20T08:46:45.744759Z",
     "iopub.status.busy": "2021-01-20T08:46:45.742631Z",
     "iopub.status.idle": "2021-01-20T08:46:46.314594Z",
     "shell.execute_reply": "2021-01-20T08:46:46.312522Z"
    },
    "papermill": {
     "duration": 0.599855,
     "end_time": "2021-01-20T08:46:46.314727",
     "exception": false,
     "start_time": "2021-01-20T08:46:45.714872",
     "status": "completed"
    },
    "tags": []
   },
   "outputs": [
    {
     "data": {
      "text/html": [
       "<ol class=list-inline>\n",
       "\t<li>90</li>\n",
       "\t<li>60</li>\n",
       "</ol>\n"
      ],
      "text/latex": [
       "\\begin{enumerate*}\n",
       "\\item 90\n",
       "\\item 60\n",
       "\\end{enumerate*}\n"
      ],
      "text/markdown": [
       "1. 90\n",
       "2. 60\n",
       "\n",
       "\n"
      ],
      "text/plain": [
       "[1] 90 60"
      ]
     },
     "metadata": {},
     "output_type": "display_data"
    },
    {
     "data": {
      "text/html": [
       "<ol class=list-inline>\n",
       "\t<li>90</li>\n",
       "\t<li>1</li>\n",
       "</ol>\n"
      ],
      "text/latex": [
       "\\begin{enumerate*}\n",
       "\\item 90\n",
       "\\item 1\n",
       "\\end{enumerate*}\n"
      ],
      "text/markdown": [
       "1. 90\n",
       "2. 1\n",
       "\n",
       "\n"
      ],
      "text/plain": [
       "[1] 90  1"
      ]
     },
     "metadata": {},
     "output_type": "display_data"
    },
    {
     "data": {
      "text/html": [
       "<ol class=list-inline>\n",
       "\t<li>90</li>\n",
       "\t<li>1</li>\n",
       "</ol>\n"
      ],
      "text/latex": [
       "\\begin{enumerate*}\n",
       "\\item 90\n",
       "\\item 1\n",
       "\\end{enumerate*}\n"
      ],
      "text/markdown": [
       "1. 90\n",
       "2. 1\n",
       "\n",
       "\n"
      ],
      "text/plain": [
       "[1] 90  1"
      ]
     },
     "metadata": {},
     "output_type": "display_data"
    }
   ],
   "source": [
    "Y <- as.matrix(growth)[, 1, drop = F] # output variable\n",
    "W <- as.matrix(growth)[, -c(1, 2,3)] # controls\n",
    "D <- as.matrix(growth)[, 3, drop = F] # target regressor\n",
    "dim(W)\n",
    "dim(Y)\n",
    "dim(D)"
   ]
  },
  {
   "cell_type": "code",
   "execution_count": 48,
   "metadata": {},
   "outputs": [],
   "source": [
    "library(glmnet)\n",
    "fit.lasso.cv  <- cv.glmnet(x=W,y=Y, family=\"gaussian\", alpha=1)\n",
    "yhat.lasso.cv <- predict(fit.lasso.cv,newx=W)\n",
    "r.Y <- Y-yhat.lasso.cv # creates the \"residual\" output variable\n",
    "\n",
    "fit.lasso.cv  <- cv.glmnet(x=W,y=D, family=\"gaussian\", alpha=1)\n",
    "yhat.lasso.cv <- predict(fit.lasso.cv,newx=W)\n",
    "r.D <- Y-yhat.lasso.cv  # creates the \"residual\" target regressor\n",
    "\n",
    "partial.lasso <- lm(r.Y ~ r.D)\n",
    "est_lasso <- partial.lasso$coef[2]\n",
    "std_lasso <- summary(partial.lasso)$coef[2,2]\n",
    "ci_lasso <- confint(partial.lasso)[2,]\n"
   ]
  },
  {
   "cell_type": "code",
   "execution_count": 50,
   "metadata": {},
   "outputs": [
    {
     "name": "stdout",
     "output_type": "stream",
     "text": [
      "<!-- html table generated in R 3.6.1 by xtable 1.8-4 package -->\n",
      "<!-- Thu Oct 07 19:27:38 2021 -->\n",
      "<table border=1>\n",
      "<tr> <th>  </th> <th> estimator </th> <th> standard error </th> <th> lower bound CI </th> <th> upper bound CI </th>  </tr>\n",
      "  <tr> <td align=\"right\"> LASSO - GLMNET </td> <td align=\"right\"> -0.004 </td> <td align=\"right\"> 0.007 </td> <td align=\"right\"> -0.019 </td> <td align=\"right\"> 0.010 </td> </tr>\n",
      "   </table>\n"
     ]
    },
    {
     "data": {
      "text/html": [
       "<table>\n",
       "<thead><tr><th></th><th scope=col>estimator</th><th scope=col>standard error</th><th scope=col>lower bound CI</th><th scope=col>upper bound CI</th></tr></thead>\n",
       "<tbody>\n",
       "\t<tr><th scope=row>LASSO - GLMNET</th><td>-0.004328601</td><td>0.007237513 </td><td>-0.01871164 </td><td>0.01005443  </td></tr>\n",
       "</tbody>\n",
       "</table>\n"
      ],
      "text/latex": [
       "\\begin{tabular}{r|llll}\n",
       "  & estimator & standard error & lower bound CI & upper bound CI\\\\\n",
       "\\hline\n",
       "\tLASSO - GLMNET & -0.004328601 & 0.007237513  & -0.01871164  & 0.01005443  \\\\\n",
       "\\end{tabular}\n"
      ],
      "text/markdown": [
       "\n",
       "| <!--/--> | estimator | standard error | lower bound CI | upper bound CI |\n",
       "|---|---|---|---|---|\n",
       "| LASSO - GLMNET | -0.004328601 | 0.007237513  | -0.01871164  | 0.01005443   |\n",
       "\n"
      ],
      "text/plain": [
       "               estimator    standard error lower bound CI upper bound CI\n",
       "LASSO - GLMNET -0.004328601 0.007237513    -0.01871164    0.01005443    "
      ]
     },
     "metadata": {},
     "output_type": "display_data"
    }
   ],
   "source": [
    "library(xtable)\n",
    "table <- matrix(0, 1, 4)\n",
    "table[1,1:4]   <- c(est_lasso,std_lasso,ci_lasso[1],ci_lasso[2])\n",
    "colnames(table) <-c(\"estimator\",\"standard error\", \"lower bound CI\", \"upper bound CI\")\n",
    "rownames(table) <-c(\"LASSO - GLMNET\")\n",
    "tab2<- xtable(table, digits = 3)\n",
    "print(tab2,type=\"html\") # set type=\"latex\" for printing table in LaTeX\n",
    "tab2"
   ]
  },
  {
   "cell_type": "markdown",
   "metadata": {},
   "source": [
    "## Method 3 - HDM"
   ]
  },
  {
   "cell_type": "markdown",
   "metadata": {},
   "source": [
    "We can use the partialling-out approach based on lasso regression (\"Double Lasso\")"
   ]
  },
  {
   "cell_type": "code",
   "execution_count": 27,
   "metadata": {},
   "outputs": [
    {
     "data": {
      "text/html": [
       "<ol class=list-inline>\n",
       "\t<li>90</li>\n",
       "\t<li>60</li>\n",
       "</ol>\n"
      ],
      "text/latex": [
       "\\begin{enumerate*}\n",
       "\\item 90\n",
       "\\item 60\n",
       "\\end{enumerate*}\n"
      ],
      "text/markdown": [
       "1. 90\n",
       "2. 60\n",
       "\n",
       "\n"
      ],
      "text/plain": [
       "[1] 90 60"
      ]
     },
     "metadata": {},
     "output_type": "display_data"
    },
    {
     "data": {
      "text/html": [
       "<ol class=list-inline>\n",
       "\t<li>90</li>\n",
       "\t<li>1</li>\n",
       "</ol>\n"
      ],
      "text/latex": [
       "\\begin{enumerate*}\n",
       "\\item 90\n",
       "\\item 1\n",
       "\\end{enumerate*}\n"
      ],
      "text/markdown": [
       "1. 90\n",
       "2. 1\n",
       "\n",
       "\n"
      ],
      "text/plain": [
       "[1] 90  1"
      ]
     },
     "metadata": {},
     "output_type": "display_data"
    },
    {
     "data": {
      "text/html": [
       "<ol class=list-inline>\n",
       "\t<li>90</li>\n",
       "\t<li>1</li>\n",
       "</ol>\n"
      ],
      "text/latex": [
       "\\begin{enumerate*}\n",
       "\\item 90\n",
       "\\item 1\n",
       "\\end{enumerate*}\n"
      ],
      "text/markdown": [
       "1. 90\n",
       "2. 1\n",
       "\n",
       "\n"
      ],
      "text/plain": [
       "[1] 90  1"
      ]
     },
     "metadata": {},
     "output_type": "display_data"
    }
   ],
   "source": [
    "Y <- growth[, 1, drop = F] # output variable\n",
    "W <- as.matrix(growth)[, -c(1, 2,3)] # controls\n",
    "D <- growth[, 3, drop = F] # target regressor\n",
    "dim(W)\n",
    "dim(Y)\n",
    "dim(D)"
   ]
  },
  {
   "cell_type": "code",
   "execution_count": 28,
   "metadata": {},
   "outputs": [],
   "source": [
    "r.Y <- rlasso(x=W,y=Y)$res # creates the \"residual\" output variable\n",
    "r.D <- rlasso(x=W,y=D)$res # creates the \"residual\" target regressor\n",
    "partial.lasso <- lm(r.Y ~ r.D)\n",
    "est_lasso <- partial.lasso$coef[2]\n",
    "std_lasso <- summary(partial.lasso)$coef[2,2]\n",
    "ci_lasso <- confint(partial.lasso)[2,]"
   ]
  },
  {
   "cell_type": "code",
   "execution_count": 36,
   "metadata": {},
   "outputs": [
    {
     "name": "stdout",
     "output_type": "stream",
     "text": [
      "<!-- html table generated in R 3.6.1 by xtable 1.8-4 package -->\n",
      "<!-- Thu Oct 07 19:20:56 2021 -->\n",
      "<table border=1>\n",
      "<tr> <th>  </th> <th> estimator </th> <th> standard error </th> <th> lower bound CI </th> <th> upper bound CI </th>  </tr>\n",
      "  <tr> <td align=\"right\"> LASSO - HDMPY </td> <td align=\"right\"> -0.050 </td> <td align=\"right\"> 0.014 </td> <td align=\"right\"> -0.078 </td> <td align=\"right\"> -0.022 </td> </tr>\n",
      "   </table>\n"
     ]
    },
    {
     "data": {
      "text/html": [
       "<table>\n",
       "<thead><tr><th></th><th scope=col>estimator</th><th scope=col>standard error</th><th scope=col>lower bound CI</th><th scope=col>upper bound CI</th></tr></thead>\n",
       "<tbody>\n",
       "\t<tr><th scope=row>LASSO - HDMPY</th><td>-0.04981147</td><td>0.01393636 </td><td>-0.07750705</td><td>-0.02211588</td></tr>\n",
       "</tbody>\n",
       "</table>\n"
      ],
      "text/latex": [
       "\\begin{tabular}{r|llll}\n",
       "  & estimator & standard error & lower bound CI & upper bound CI\\\\\n",
       "\\hline\n",
       "\tLASSO - HDMPY & -0.04981147 & 0.01393636  & -0.07750705 & -0.02211588\\\\\n",
       "\\end{tabular}\n"
      ],
      "text/markdown": [
       "\n",
       "| <!--/--> | estimator | standard error | lower bound CI | upper bound CI |\n",
       "|---|---|---|---|---|\n",
       "| LASSO - HDMPY | -0.04981147 | 0.01393636  | -0.07750705 | -0.02211588 |\n",
       "\n"
      ],
      "text/plain": [
       "              estimator   standard error lower bound CI upper bound CI\n",
       "LASSO - HDMPY -0.04981147 0.01393636     -0.07750705    -0.02211588   "
      ]
     },
     "metadata": {},
     "output_type": "display_data"
    }
   ],
   "source": [
    "library(xtable)\n",
    "table <- matrix(0, 1, 4)\n",
    "table[1,1:4]   <- c(est_lasso,std_lasso,ci_lasso[1],ci_lasso[2])\n",
    "colnames(table) <-c(\"estimator\",\"standard error\", \"lower bound CI\", \"upper bound CI\")\n",
    "rownames(table) <-c(\"LASSO - HDM\")\n",
    "tab3<- xtable(table, digits = 3)\n",
    "print(tab3,type=\"html\") # set type=\"latex\" for printing table in LaTeX\n",
    "tab3"
   ]
  },
  {
   "cell_type": "markdown",
   "metadata": {},
   "source": [
    "## Method 4 - Partialling out from HDM"
   ]
  },
  {
   "cell_type": "code",
   "execution_count": 30,
   "metadata": {},
   "outputs": [
    {
     "data": {
      "text/html": [
       "<ol class=list-inline>\n",
       "\t<li>90</li>\n",
       "\t<li>60</li>\n",
       "</ol>\n"
      ],
      "text/latex": [
       "\\begin{enumerate*}\n",
       "\\item 90\n",
       "\\item 60\n",
       "\\end{enumerate*}\n"
      ],
      "text/markdown": [
       "1. 90\n",
       "2. 60\n",
       "\n",
       "\n"
      ],
      "text/plain": [
       "[1] 90 60"
      ]
     },
     "metadata": {},
     "output_type": "display_data"
    },
    {
     "data": {
      "text/html": [
       "<ol class=list-inline>\n",
       "\t<li>90</li>\n",
       "\t<li>1</li>\n",
       "</ol>\n"
      ],
      "text/latex": [
       "\\begin{enumerate*}\n",
       "\\item 90\n",
       "\\item 1\n",
       "\\end{enumerate*}\n"
      ],
      "text/markdown": [
       "1. 90\n",
       "2. 1\n",
       "\n",
       "\n"
      ],
      "text/plain": [
       "[1] 90  1"
      ]
     },
     "metadata": {},
     "output_type": "display_data"
    },
    {
     "data": {
      "text/html": [
       "<ol class=list-inline>\n",
       "\t<li>90</li>\n",
       "\t<li>1</li>\n",
       "</ol>\n"
      ],
      "text/latex": [
       "\\begin{enumerate*}\n",
       "\\item 90\n",
       "\\item 1\n",
       "\\end{enumerate*}\n"
      ],
      "text/markdown": [
       "1. 90\n",
       "2. 1\n",
       "\n",
       "\n"
      ],
      "text/plain": [
       "[1] 90  1"
      ]
     },
     "metadata": {},
     "output_type": "display_data"
    }
   ],
   "source": [
    "Y <- growth[, 1, drop = F] # output variable\n",
    "W <- as.matrix(growth)[, -c(1, 2,3)] # controls\n",
    "D <- growth[, 3, drop = F] # target regressor\n",
    "dim(W)\n",
    "dim(Y)\n",
    "dim(D)"
   ]
  },
  {
   "cell_type": "code",
   "execution_count": 31,
   "metadata": {},
   "outputs": [
    {
     "data": {
      "text/html": [
       "<ol class=list-inline>\n",
       "\t<li>'alpha'</li>\n",
       "\t<li>'se'</li>\n",
       "\t<li>'t'</li>\n",
       "\t<li>'pval'</li>\n",
       "\t<li>'coefficients'</li>\n",
       "\t<li>'coefficient'</li>\n",
       "\t<li>'coefficients.reg'</li>\n",
       "\t<li>'selection.index'</li>\n",
       "\t<li>'residuals'</li>\n",
       "\t<li>'call'</li>\n",
       "\t<li>'samplesize'</li>\n",
       "</ol>\n"
      ],
      "text/latex": [
       "\\begin{enumerate*}\n",
       "\\item 'alpha'\n",
       "\\item 'se'\n",
       "\\item 't'\n",
       "\\item 'pval'\n",
       "\\item 'coefficients'\n",
       "\\item 'coefficient'\n",
       "\\item 'coefficients.reg'\n",
       "\\item 'selection.index'\n",
       "\\item 'residuals'\n",
       "\\item 'call'\n",
       "\\item 'samplesize'\n",
       "\\end{enumerate*}\n"
      ],
      "text/markdown": [
       "1. 'alpha'\n",
       "2. 'se'\n",
       "3. 't'\n",
       "4. 'pval'\n",
       "5. 'coefficients'\n",
       "6. 'coefficient'\n",
       "7. 'coefficients.reg'\n",
       "8. 'selection.index'\n",
       "9. 'residuals'\n",
       "10. 'call'\n",
       "11. 'samplesize'\n",
       "\n",
       "\n"
      ],
      "text/plain": [
       " [1] \"alpha\"            \"se\"               \"t\"                \"pval\"            \n",
       " [5] \"coefficients\"     \"coefficient\"      \"coefficients.reg\" \"selection.index\" \n",
       " [9] \"residuals\"        \"call\"             \"samplesize\"      "
      ]
     },
     "metadata": {},
     "output_type": "display_data"
    }
   ],
   "source": [
    "lasso_direct = rlassoEffect(x = W, y = Y, d = D, method = \"partialling out\")\n",
    "names(lasso_direct)"
   ]
  },
  {
   "cell_type": "code",
   "execution_count": 32,
   "metadata": {},
   "outputs": [],
   "source": [
    "est_lasso = lasso_direct$coefficients\n",
    "std_lasso = lasso_direct$se\n",
    "lower_ci_lasso = est_lasso - 1.96*std_lasso\n",
    "upper_ci_lasso = est_lasso + 1.96*std_lasso"
   ]
  },
  {
   "cell_type": "code",
   "execution_count": 34,
   "metadata": {},
   "outputs": [
    {
     "name": "stdout",
     "output_type": "stream",
     "text": [
      "<!-- html table generated in R 3.6.1 by xtable 1.8-4 package -->\n",
      "<!-- Thu Oct 07 18:59:12 2021 -->\n",
      "<table border=1>\n",
      "<tr> <th>  </th> <th> estimator </th> <th> standard error </th> <th> lower bound CI </th> <th> upper bound CI </th>  </tr>\n",
      "  <tr> <td align=\"right\"> LASSO - PARTIALLING OUT </td> <td align=\"right\"> -0.050 </td> <td align=\"right\"> 0.014 </td> <td align=\"right\"> -0.078 </td> <td align=\"right\"> -0.022 </td> </tr>\n",
      "   </table>\n"
     ]
    },
    {
     "data": {
      "text/html": [
       "<table>\n",
       "<thead><tr><th></th><th scope=col>estimator</th><th scope=col>standard error</th><th scope=col>lower bound CI</th><th scope=col>upper bound CI</th></tr></thead>\n",
       "<tbody>\n",
       "\t<tr><th scope=row>LASSO - PARTIALLING OUT</th><td>-0.04981147</td><td>0.01393636 </td><td>-0.07750705</td><td>-0.02211588</td></tr>\n",
       "</tbody>\n",
       "</table>\n"
      ],
      "text/latex": [
       "\\begin{tabular}{r|llll}\n",
       "  & estimator & standard error & lower bound CI & upper bound CI\\\\\n",
       "\\hline\n",
       "\tLASSO - PARTIALLING OUT & -0.04981147 & 0.01393636  & -0.07750705 & -0.02211588\\\\\n",
       "\\end{tabular}\n"
      ],
      "text/markdown": [
       "\n",
       "| <!--/--> | estimator | standard error | lower bound CI | upper bound CI |\n",
       "|---|---|---|---|---|\n",
       "| LASSO - PARTIALLING OUT | -0.04981147 | 0.01393636  | -0.07750705 | -0.02211588 |\n",
       "\n"
      ],
      "text/plain": [
       "                        estimator   standard error lower bound CI\n",
       "LASSO - PARTIALLING OUT -0.04981147 0.01393636     -0.07750705   \n",
       "                        upper bound CI\n",
       "LASSO - PARTIALLING OUT -0.02211588   "
      ]
     },
     "metadata": {},
     "output_type": "display_data"
    }
   ],
   "source": [
    "library(xtable)\n",
    "table <- matrix(0, 1, 4)\n",
    "table[1,1:4]   <- c(est_lasso,std_lasso,ci_lasso[1],ci_lasso[2])\n",
    "colnames(table) <-c(\"estimator\",\"standard error\", \"lower bound CI\", \"upper bound CI\")\n",
    "rownames(table) <-c(\"LASSO - PARTIALLING OUT\")\n",
    "tab4<- xtable(table, digits = 3)\n",
    "print(tab4,type=\"html\") # set type=\"latex\" for printing table in LaTeX\n",
    "tab4"
   ]
  },
  {
   "cell_type": "markdown",
   "metadata": {},
   "source": [
    "## Summary"
   ]
  },
  {
   "cell_type": "markdown",
   "metadata": {},
   "source": [
    "Finally, let us have a look at the results."
   ]
  },
  {
   "cell_type": "code",
   "execution_count": 73,
   "metadata": {},
   "outputs": [
    {
     "data": {
      "text/html": [
       "<table>\n",
       "<thead><tr><th></th><th scope=col>estimator</th><th scope=col>standard error</th><th scope=col>lower bound CI</th><th scope=col>upper bound CI</th></tr></thead>\n",
       "<tbody>\n",
       "\t<tr><th scope=row>OLS</th><td>-0.009377989</td><td>0.029887726 </td><td>-0.07060022 </td><td> 0.05184424 </td></tr>\n",
       "\t<tr><th scope=row>LASSO - GLMNET</th><td>-0.004328601</td><td>0.007237513 </td><td>-0.01871164 </td><td> 0.01005443 </td></tr>\n",
       "\t<tr><th scope=row>LASSO - HDMPY</th><td>-0.049811465</td><td>0.013936358 </td><td>-0.07750705 </td><td>-0.02211588 </td></tr>\n",
       "\t<tr><th scope=row>LASSO - PARTIALLING OUT</th><td>-0.049811465</td><td>0.013936358 </td><td>-0.07750705 </td><td>-0.02211588 </td></tr>\n",
       "</tbody>\n",
       "</table>\n"
      ],
      "text/latex": [
       "\\begin{tabular}{r|llll}\n",
       "  & estimator & standard error & lower bound CI & upper bound CI\\\\\n",
       "\\hline\n",
       "\tOLS & -0.009377989 & 0.029887726  & -0.07060022  &  0.05184424 \\\\\n",
       "\tLASSO - GLMNET & -0.004328601 & 0.007237513  & -0.01871164  &  0.01005443 \\\\\n",
       "\tLASSO - HDMPY & -0.049811465 & 0.013936358  & -0.07750705  & -0.02211588 \\\\\n",
       "\tLASSO - PARTIALLING OUT & -0.049811465 & 0.013936358  & -0.07750705  & -0.02211588 \\\\\n",
       "\\end{tabular}\n"
      ],
      "text/markdown": [
       "\n",
       "| <!--/--> | estimator | standard error | lower bound CI | upper bound CI |\n",
       "|---|---|---|---|---|\n",
       "| OLS | -0.009377989 | 0.029887726  | -0.07060022  |  0.05184424  |\n",
       "| LASSO - GLMNET | -0.004328601 | 0.007237513  | -0.01871164  |  0.01005443  |\n",
       "| LASSO - HDMPY | -0.049811465 | 0.013936358  | -0.07750705  | -0.02211588  |\n",
       "| LASSO - PARTIALLING OUT | -0.049811465 | 0.013936358  | -0.07750705  | -0.02211588  |\n",
       "\n"
      ],
      "text/plain": [
       "                        estimator    standard error lower bound CI\n",
       "OLS                     -0.009377989 0.029887726    -0.07060022   \n",
       "LASSO - GLMNET          -0.004328601 0.007237513    -0.01871164   \n",
       "LASSO - HDMPY           -0.049811465 0.013936358    -0.07750705   \n",
       "LASSO - PARTIALLING OUT -0.049811465 0.013936358    -0.07750705   \n",
       "                        upper bound CI\n",
       "OLS                      0.05184424   \n",
       "LASSO - GLMNET           0.01005443   \n",
       "LASSO - HDMPY           -0.02211588   \n",
       "LASSO - PARTIALLING OUT -0.02211588   "
      ]
     },
     "metadata": {},
     "output_type": "display_data"
    }
   ],
   "source": [
    "Final=rbind(tab1,tab2,tab3,tab4)\n",
    "Final"
   ]
  },
  {
   "cell_type": "code",
   "execution_count": 159,
   "metadata": {},
   "outputs": [
    {
     "data": {
      "image/png": "[encoded data removed]",
      "text/plain": [
       "plot without title"
      ]
     },
     "metadata": {},
     "output_type": "display_data"
    }
   ],
   "source": [
    "\n",
    "Base=data.frame(Metodo=c(\"OLS\",\"LASSO - GLMNET\",\"LASSO - HDMPY\",\"LASSO - PARTIALLING OUT\"), \n",
    "     Estimador=c(tab1$estimator,tab2$estimator,tab3$estimator,tab4$estimator))\n",
    "\n",
    "barplot(Base$Estimador,col=c(\"blue\",\"green\",\"red\",\"yellow\"),ylim=c(-0.06,0.06),legend.text=Base$Metodo, border='white')"
   ]
  },
  {
   "cell_type": "code",
   "execution_count": null,
   "metadata": {},
   "outputs": [],
   "source": []
  }
 ],
 "metadata": {
  "kernelspec": {
   "display_name": "R",
   "language": "R",
   "name": "ir"
  },
  "language_info": {
   "codemirror_mode": "r",
   "file_extension": ".r",
   "mimetype": "text/x-r-source",
   "name": "R",
   "pygments_lexer": "r",
   "version": "3.6.1"
  },
  "papermill": {
   "default_parameters": {},
   "duration": 8.007784,
   "end_time": "2021-01-20T08:46:48.312746",
   "environment_variables": {},
   "exception": null,
   "input_path": "__notebook__.ipynb",
   "output_path": "__notebook__.ipynb",
   "parameters": {},
   "start_time": "2021-01-20T08:46:40.304962",
   "version": "2.2.2"
  }
 },
 "nbformat": 4,
 "nbformat_minor": 4
}
