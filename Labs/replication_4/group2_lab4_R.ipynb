{
 "cells": [
  {
   "cell_type": "markdown",
   "metadata": {
    "papermill": {
     "duration": 0.022263,
     "end_time": "2021-01-20T08:46:44.289888",
     "exception": false,
     "start_time": "2021-01-20T08:46:44.267625",
     "status": "completed"
    },
    "tags": []
   },
   "source": [
    "## GRUPO 2\n",
    "\n",
    "#### *Integrantes:* \n",
    "\n",
    "1. Diego Alonso Gómez (20171738)\n",
    "2. Alexander .... (.........)"
   ]
  },
  {
   "cell_type": "markdown",
   "metadata": {},
   "source": [
    "_____\n",
    "## Question 1: Orthogonal Learning\n",
    "_____"
   ]
  },
  {
   "cell_type": "markdown",
   "metadata": {},
   "source": [
    "1. Replicate Simulation Design 1 three times using different numbers of trials. So you have to use:\n",
    "\n",
    "- The equation of Y for the three cases now is: Y = 5*D + beta*X + rnorm(n)\n",
    "- B = 50 , B = 100, B = 1000.\n",
    "- Explain what do you see in the distribution of the histograms. Where the orthogonal and Naive should be centered?\n",
    "- Why does this happen? Give an econometric explanation of this.\n",
    "- Label your axes and legends correctly your figures."
   ]
  },
  {
   "cell_type": "code",
   "execution_count": null,
   "metadata": {},
   "outputs": [],
   "source": []
  },
  {
   "cell_type": "code",
   "execution_count": null,
   "metadata": {},
   "outputs": [],
   "source": []
  },
  {
   "cell_type": "code",
   "execution_count": null,
   "metadata": {},
   "outputs": [],
   "source": []
  },
  {
   "cell_type": "code",
   "execution_count": null,
   "metadata": {},
   "outputs": [],
   "source": []
  },
  {
   "cell_type": "markdown",
   "metadata": {},
   "source": [
    "# -----------------------------------------------------------------------------------------------------------"
   ]
  },
  {
   "cell_type": "markdown",
   "metadata": {},
   "source": [
    "_____\n",
    "## Question 2: Double Lasso - Testing the Convergence Hypothesis\n",
    "_____"
   ]
  },
  {
   "cell_type": "markdown",
   "metadata": {},
   "source": [
    "1. Explain what is the Double Lasso Approach in a markdown cell. Use equations for a better explanation."
   ]
  },
  {
   "cell_type": "markdown",
   "metadata": {},
   "source": [
    "2. Replicate the results using the next approaches:\n",
    "- OLS\n",
    "- Double LASSO using cross Validation (GLMNET in R and Sklearn in Python )\n",
    "- Double Lasso using theoretical Lambda (HDM package both in R and Python)\n",
    "- Double Lasso using method=\"partialling out\", this is a direct way to get results from the HDM package, check the Python script for an example, and also you have to read the documentation for more details.\n",
    "- Plot the main coefficient and its confidence interval of the convergence hypothesis from these 4 cases in one figure."
   ]
  },
  {
   "cell_type": "markdown",
   "metadata": {},
   "source": [
    "## 1.  Explanation of Double Lasso Approach:  (FALTA)"
   ]
  },
  {
   "cell_type": "markdown",
   "metadata": {
    "papermill": {
     "duration": 0.020999,
     "end_time": "2021-01-20T08:46:44.417216",
     "exception": false,
     "start_time": "2021-01-20T08:46:44.396217",
     "status": "completed"
    },
    "tags": []
   },
   "source": [
    "We provide an additional empirical example of partialling-out with Lasso to estimate the regression coefficient $\\beta_1$ in the high-dimensional linear regression model:\n",
    "\n",
    "  $$\n",
    "  Y = \\beta_1 D +  \\beta_2'W + \\epsilon.\n",
    "  $$\n",
    "  \n",
    "Specifically, we are interested in how different countries' real exchange rate growth rate --i.d real currency depreciation--($Y$) are related to the initial Central Bank policy rate of each country ($D$), controlling for country's inflation, risk premium, and other similar characteristics ($W$).\n",
    "  \n",
    "The relationship is captured by $\\beta_1$, the *speed of convergence/divergence*, which measures the speed at which poor countries catch up $(\\beta_1< 0)$ or fall behind $(\\beta_1> 0)$ rich countries, after controlling for $W$. Our inference question here is: do rich countries' real currency depreciation growth slower than poor countries, controlling for the covariates previously mentioned? In other words, is the convergence speed positive: $ \\beta_1 > 0?$ \n",
    "\n",
    "The outcome $Y$ is the realized annual growth rate of a country's wealth  (Gross Domestic Product per capita). The target regressor ($D$) is the initial level of the country's wealth. The target parameter $\\beta_1$ is the speed of convergence, which measures the speed at which poor countries catch up with rich countries. The controls ($W$) include measures of education levels, quality of institutions, trade openness, and political stability in the country.\n"
   ]
  },
  {
   "cell_type": "markdown",
   "metadata": {},
   "source": [
    "## 2.  Replicate the results using the next approaches:"
   ]
  },
  {
   "cell_type": "code",
   "execution_count": 35,
   "metadata": {},
   "outputs": [],
   "source": [
    "library(hdm)\n",
    "library(xtable)\n",
    "GrowthData <- GrowthData\n",
    "save(GrowthData, file = \"../data/GrowthData.RData\")\n",
    "library(hdm)\n",
    "df_growth <- GrowthData\n",
    "attach(df_growth)\n",
    "names(df_growth)"
   ]
  },
  {
   "cell_type": "markdown",
   "metadata": {},
   "source": [
    "# METHOD 1: OLS"
   ]
  },
  {
   "cell_type": "code",
   "execution_count": 38,
   "metadata": {
    "execution": {
     "iopub.execute_input": "2021-01-20T08:46:45.217667Z",
     "iopub.status.busy": "2021-01-20T08:46:45.215601Z",
     "iopub.status.idle": "2021-01-20T08:46:45.249261Z",
     "shell.execute_reply": "2021-01-20T08:46:45.247904Z"
    },
    "papermill": {
     "duration": 0.06791,
     "end_time": "2021-01-20T08:46:45.249423",
     "exception": false,
     "start_time": "2021-01-20T08:46:45.181513",
     "status": "completed"
    },
    "tags": []
   },
   "outputs": [
    {
     "data": {
      "text/plain": [
       "\n",
       "Call:\n",
       "lm(formula = Outcome ~ . - 1, data = df_growth)\n",
       "\n",
       "Residuals:\n",
       "      Min        1Q    Median        3Q       Max \n",
       "-0.040338 -0.011298 -0.000863  0.011813  0.043247 \n",
       "\n",
       "Coefficients:\n",
       "            Estimate Std. Error t value Pr(>|t|)   \n",
       "intercept  2.472e-01  7.845e-01   0.315  0.75506   \n",
       "gdpsh465  -9.378e-03  2.989e-02  -0.314  0.75602   \n",
       "bmp1l     -6.886e-02  3.253e-02  -2.117  0.04329 * \n",
       "freeop     8.007e-02  2.079e-01   0.385  0.70300   \n",
       "freetar   -4.890e-01  4.182e-01  -1.169  0.25214   \n",
       "h65       -2.362e+00  8.573e-01  -2.755  0.01019 * \n",
       "hm65       7.071e-01  5.231e-01   1.352  0.18729   \n",
       "hf65       1.693e+00  5.032e-01   3.365  0.00223 **\n",
       "p65        2.655e-01  1.643e-01   1.616  0.11727   \n",
       "pm65       1.370e-01  1.512e-01   0.906  0.37284   \n",
       "pf65      -3.313e-01  1.651e-01  -2.006  0.05458 . \n",
       "s65        3.908e-02  1.855e-01   0.211  0.83469   \n",
       "sm65      -3.067e-02  1.168e-01  -0.263  0.79479   \n",
       "sf65      -1.799e-01  1.181e-01  -1.523  0.13886   \n",
       "fert65     6.881e-03  2.705e-02   0.254  0.80108   \n",
       "mort65    -2.335e-01  8.174e-01  -0.286  0.77729   \n",
       "lifee065  -1.491e-02  1.933e-01  -0.077  0.93906   \n",
       "gpop1      9.702e-01  1.812e+00   0.535  0.59663   \n",
       "fert1      8.838e-03  3.504e-02   0.252  0.80271   \n",
       "mort1      6.656e-02  6.848e-01   0.097  0.92326   \n",
       "invsh41    7.446e-02  1.084e-01   0.687  0.49797   \n",
       "geetot1   -7.151e-01  1.680e+00  -0.426  0.67364   \n",
       "geerec1    6.300e-01  2.447e+00   0.257  0.79874   \n",
       "gde1      -4.436e-01  1.671e+00  -0.265  0.79263   \n",
       "govwb1     3.375e-01  4.380e-01   0.770  0.44748   \n",
       "govsh41    4.632e-01  1.925e+00   0.241  0.81165   \n",
       "gvxdxe41  -7.934e-01  2.059e+00  -0.385  0.70296   \n",
       "high65    -7.525e-01  9.057e-01  -0.831  0.41311   \n",
       "highm65   -3.903e-01  6.812e-01  -0.573  0.57131   \n",
       "highf65   -4.177e-01  5.615e-01  -0.744  0.46308   \n",
       "highc65   -2.216e+00  1.481e+00  -1.496  0.14575   \n",
       "highcm65   2.797e-01  6.582e-01   0.425  0.67412   \n",
       "highcf65   3.921e-01  7.660e-01   0.512  0.61278   \n",
       "human65    2.337e+00  3.307e+00   0.707  0.48559   \n",
       "humanm65  -1.209e+00  1.619e+00  -0.747  0.46121   \n",
       "humanf65  -1.104e+00  1.685e+00  -0.655  0.51763   \n",
       "hyr65      5.491e+01  2.389e+01   2.299  0.02918 * \n",
       "hyrm65     1.294e+01  2.317e+01   0.558  0.58112   \n",
       "hyrf65     9.093e+00  1.767e+01   0.515  0.61088   \n",
       "no65       3.721e-02  1.320e-01   0.282  0.78006   \n",
       "nom65     -2.120e-02  6.496e-02  -0.326  0.74661   \n",
       "nof65     -1.686e-02  6.700e-02  -0.252  0.80319   \n",
       "pinstab1  -4.997e-02  3.092e-02  -1.616  0.11729   \n",
       "pop65      1.032e-07  1.318e-07   0.783  0.44027   \n",
       "worker65   3.408e-02  1.562e-01   0.218  0.82887   \n",
       "pop1565   -4.655e-01  4.713e-01  -0.988  0.33176   \n",
       "pop6565   -1.357e+00  6.349e-01  -2.138  0.04139 * \n",
       "sec65     -1.089e-02  3.077e-01  -0.035  0.97201   \n",
       "secm65     3.344e-03  1.512e-01   0.022  0.98251   \n",
       "secf65    -2.304e-03  1.580e-01  -0.015  0.98847   \n",
       "secc65    -4.915e-01  7.290e-01  -0.674  0.50570   \n",
       "seccm65    2.596e-01  3.557e-01   0.730  0.47150   \n",
       "seccf65    2.207e-01  3.733e-01   0.591  0.55924   \n",
       "syr65     -7.556e-01  7.977e+00  -0.095  0.92521   \n",
       "syrm65     3.109e-01  3.897e+00   0.080  0.93698   \n",
       "syrf65     7.593e-01  4.111e+00   0.185  0.85479   \n",
       "teapri65   3.955e-05  7.700e-04   0.051  0.95941   \n",
       "teasec65   2.497e-04  1.171e-03   0.213  0.83274   \n",
       "ex1       -5.804e-01  2.418e-01  -2.400  0.02329 * \n",
       "im1        5.914e-01  2.503e-01   2.363  0.02531 * \n",
       "xr65      -1.038e-04  5.417e-05  -1.916  0.06565 . \n",
       "tot1      -1.279e-01  1.126e-01  -1.136  0.26561   \n",
       "---\n",
       "Signif. codes:  0 '***' 0.001 '**' 0.01 '*' 0.05 '.' 0.1 ' ' 1\n",
       "\n",
       "Residual standard error: 0.03074 on 28 degrees of freedom\n",
       "Multiple R-squared:  0.9369,\tAdjusted R-squared:  0.7973 \n",
       "F-statistic: 6.708 on 62 and 28 DF,  p-value: 2.963e-07\n"
      ]
     },
     "metadata": {},
     "output_type": "display_data"
    }
   ],
   "source": [
    "reg.ols <- lm(Outcome~.-1,data=df_growth)\n",
    "summary(reg.ols)"
   ]
  },
  {
   "cell_type": "markdown",
   "metadata": {
    "papermill": {
     "duration": 0.023954,
     "end_time": "2021-01-20T08:46:45.297880",
     "exception": false,
     "start_time": "2021-01-20T08:46:45.273926",
     "status": "completed"
    },
    "tags": []
   },
   "source": [
    "We determine the regression coefficient $\\beta_1$ of the target regressor *gdpsh465* ($D$), its 95% confidence interval and the standard error."
   ]
  },
  {
   "cell_type": "code",
   "execution_count": 69,
   "metadata": {
    "execution": {
     "iopub.execute_input": "2021-01-20T08:46:45.355205Z",
     "iopub.status.busy": "2021-01-20T08:46:45.352979Z",
     "iopub.status.idle": "2021-01-20T08:46:45.411296Z",
     "shell.execute_reply": "2021-01-20T08:46:45.409288Z"
    },
    "papermill": {
     "duration": 0.087755,
     "end_time": "2021-01-20T08:46:45.411431",
     "exception": false,
     "start_time": "2021-01-20T08:46:45.323676",
     "status": "completed"
    },
    "tags": []
   },
   "outputs": [],
   "source": [
    "estimator_ols <- summary(reg.ols)$coef[\"gdpsh465\",1]\n",
    "# output: estimated regression coefficient corresponding to the target regressor\n",
    "\n",
    "standard_error_ols <- summary(reg.ols)$coef[\"gdpsh465\",2]\n",
    "# output: std. error\n",
    "\n",
    "bounds <- confint(reg.ols)[2,]\n",
    "# output: 95% confidence interval\n",
    "\n",
    "results_ols <- as.data.frame(cbind(estimator_ols,standard_error_ols,bounds[1],bounds[2]))\n",
    "colnames(results_ols) <-c(\"estimator\",\"standard error\", \"lower bound CI\", \"upper bound CI\")\n",
    "rownames(results_ols) <-c(\"OLS\")"
   ]
  },
  {
   "cell_type": "code",
   "execution_count": 70,
   "metadata": {
    "execution": {
     "iopub.execute_input": "2021-01-20T08:46:45.461026Z",
     "iopub.status.busy": "2021-01-20T08:46:45.458711Z",
     "iopub.status.idle": "2021-01-20T08:46:45.540308Z",
     "shell.execute_reply": "2021-01-20T08:46:45.539451Z"
    },
    "papermill": {
     "duration": 0.107818,
     "end_time": "2021-01-20T08:46:45.540473",
     "exception": false,
     "start_time": "2021-01-20T08:46:45.432655",
     "status": "completed"
    },
    "tags": []
   },
   "outputs": [],
   "source": [
    "library(xtable)\n",
    "table <- matrix(0, 1, 4)\n",
    "table[1,1:4]   <- c(estimator_ols,standard_error_ols,bounds[1],bounds[2])\n",
    "colnames(table) <-c(\"estimator\",\"standard error\", \"lower bound CI\", \"upper bound CI\")\n",
    "rownames(table) <-c(\"OLS\")\n",
    "tab1<- xtable(table, digits = 3) "
   ]
  },
  {
   "cell_type": "markdown",
   "metadata": {
    "papermill": {
     "duration": 0.024477,
     "end_time": "2021-01-20T08:46:45.590014",
     "exception": false,
     "start_time": "2021-01-20T08:46:45.565537",
     "status": "completed"
    },
    "tags": []
   },
   "source": [
    "<!-- html table generated in R 3.6.3 by xtable 1.8-4 package -->\n",
    "<!-- Tue Jan 19 10:23:32 2021 -->\n",
    "<table border=1>\n",
    "<tr> <th>  </th> <th> estimator </th> <th> standard error </th> <th> lower bound CI </th> <th> upper bound CI </th>  </tr>\n",
    "  <tr> <td align=\"right\"> OLS </td> <td align=\"right\"> -0.009 </td> <td align=\"right\"> 0.030 </td> <td align=\"right\"> -0.071 </td> <td align=\"right\"> 0.052 </td> </tr>\n",
    "   </table>"
   ]
  },
  {
   "cell_type": "markdown",
   "metadata": {
    "papermill": {
     "duration": 0.025116,
     "end_time": "2021-01-20T08:46:45.640216",
     "exception": false,
     "start_time": "2021-01-20T08:46:45.615100",
     "status": "completed"
    },
    "tags": []
   },
   "source": [
    "Least squares provides a rather noisy estimate (high standard error) of the speed of convergence, and does not allow us to answer the question about the convergence hypothesis since the confidence interval includes zero."
   ]
  },
  {
   "cell_type": "markdown",
   "metadata": {
    "papermill": {
     "duration": 0.024882,
     "end_time": "2021-01-20T08:46:45.690232",
     "exception": false,
     "start_time": "2021-01-20T08:46:45.665350",
     "status": "completed"
    },
    "tags": []
   },
   "source": [
    "In contrast, we can use the partialling-out approach based on lasso regression (\"Double Lasso\")."
   ]
  },
  {
   "cell_type": "markdown",
   "metadata": {},
   "source": [
    "# Method 2 - Double LASSO using cross Validation (GLMNET) "
   ]
  },
  {
   "cell_type": "code",
   "execution_count": 44,
   "metadata": {
    "execution": {
     "iopub.execute_input": "2021-01-20T08:46:45.744759Z",
     "iopub.status.busy": "2021-01-20T08:46:45.742631Z",
     "iopub.status.idle": "2021-01-20T08:46:46.314594Z",
     "shell.execute_reply": "2021-01-20T08:46:46.312522Z"
    },
    "papermill": {
     "duration": 0.599855,
     "end_time": "2021-01-20T08:46:46.314727",
     "exception": false,
     "start_time": "2021-01-20T08:46:45.714872",
     "status": "completed"
    },
    "scrolled": true,
    "tags": []
   },
   "outputs": [
    {
     "data": {
      "text/html": [
       "<style>\n",
       ".list-inline {list-style: none; margin:0; padding: 0}\n",
       ".list-inline>li {display: inline-block}\n",
       ".list-inline>li:not(:last-child)::after {content: \"\\00b7\"; padding: 0 .5ex}\n",
       "</style>\n",
       "<ol class=list-inline><li>90</li><li>60</li></ol>\n"
      ],
      "text/latex": [
       "\\begin{enumerate*}\n",
       "\\item 90\n",
       "\\item 60\n",
       "\\end{enumerate*}\n"
      ],
      "text/markdown": [
       "1. 90\n",
       "2. 60\n",
       "\n",
       "\n"
      ],
      "text/plain": [
       "[1] 90 60"
      ]
     },
     "metadata": {},
     "output_type": "display_data"
    },
    {
     "data": {
      "text/html": [
       "<style>\n",
       ".list-inline {list-style: none; margin:0; padding: 0}\n",
       ".list-inline>li {display: inline-block}\n",
       ".list-inline>li:not(:last-child)::after {content: \"\\00b7\"; padding: 0 .5ex}\n",
       "</style>\n",
       "<ol class=list-inline><li>90</li><li>1</li></ol>\n"
      ],
      "text/latex": [
       "\\begin{enumerate*}\n",
       "\\item 90\n",
       "\\item 1\n",
       "\\end{enumerate*}\n"
      ],
      "text/markdown": [
       "1. 90\n",
       "2. 1\n",
       "\n",
       "\n"
      ],
      "text/plain": [
       "[1] 90  1"
      ]
     },
     "metadata": {},
     "output_type": "display_data"
    },
    {
     "data": {
      "text/html": [
       "<style>\n",
       ".list-inline {list-style: none; margin:0; padding: 0}\n",
       ".list-inline>li {display: inline-block}\n",
       ".list-inline>li:not(:last-child)::after {content: \"\\00b7\"; padding: 0 .5ex}\n",
       "</style>\n",
       "<ol class=list-inline><li>90</li><li>1</li></ol>\n"
      ],
      "text/latex": [
       "\\begin{enumerate*}\n",
       "\\item 90\n",
       "\\item 1\n",
       "\\end{enumerate*}\n"
      ],
      "text/markdown": [
       "1. 90\n",
       "2. 1\n",
       "\n",
       "\n"
      ],
      "text/plain": [
       "[1] 90  1"
      ]
     },
     "metadata": {},
     "output_type": "display_data"
    }
   ],
   "source": [
    "A <- as.matrix(df_growth)[, 1, drop = F] # output variable\n",
    "X <- as.matrix(df_growth)[, -c(1, 2,3)] # controls\n",
    "Z <- as.matrix(df_growth)[, 3, drop = F] # target regressor\n",
    "dim(X)\n",
    "dim(A)\n",
    "dim(Z)"
   ]
  },
  {
   "cell_type": "code",
   "execution_count": 45,
   "metadata": {},
   "outputs": [],
   "source": [
    "library(glmnet)\n",
    "fit.lasso.cv  <- cv.glmnet(x=X,y=A, family=\"gaussian\", alpha=1)\n",
    "yhat.lasso.cv <- predict(fit.lasso.cv,newx=X)\n",
    "r.A <- A-yhat.lasso.cv # creates the \"residual\" output variable\n",
    "\n",
    "fit.lasso.cv  <- cv.glmnet(x=X,y=Z, family=\"gaussian\", alpha=1)\n",
    "yhat.lasso.cv <- predict(fit.lasso.cv,newx=X)\n",
    "r.Z <- A-yhat.lasso.cv  # creates the \"residual\" target regressor\n",
    "\n",
    "partial.lasso <- lm(r.A ~ r.Z)\n",
    "est_lasso <- partial.lasso$coef[2]\n",
    "std_lasso <- summary(partial.lasso)$coef[2,2]\n",
    "ci_lasso <- confint(partial.lasso)[2,]\n"
   ]
  },
  {
   "cell_type": "code",
   "execution_count": 68,
   "metadata": {},
   "outputs": [
    {
     "data": {
      "text/html": [
       "<table class=\"dataframe\">\n",
       "<caption>A xtable: 1 × 4</caption>\n",
       "<thead>\n",
       "\t<tr><th></th><th scope=col>estimator</th><th scope=col>standard error</th><th scope=col>lower bound CI</th><th scope=col>upper bound CI</th></tr>\n",
       "\t<tr><th></th><th scope=col>&lt;dbl&gt;</th><th scope=col>&lt;dbl&gt;</th><th scope=col>&lt;dbl&gt;</th><th scope=col>&lt;dbl&gt;</th></tr>\n",
       "</thead>\n",
       "<tbody>\n",
       "\t<tr><th scope=row>LASSO - GLMNET</th><td>-0.04981147</td><td>0.01393636</td><td>-0.07750705</td><td>-0.02211588</td></tr>\n",
       "</tbody>\n",
       "</table>\n"
      ],
      "text/latex": [
       "A xtable: 1 × 4\n",
       "\\begin{tabular}{r|llll}\n",
       "  & estimator & standard error & lower bound CI & upper bound CI\\\\\n",
       "  & <dbl> & <dbl> & <dbl> & <dbl>\\\\\n",
       "\\hline\n",
       "\tLASSO - GLMNET & -0.04981147 & 0.01393636 & -0.07750705 & -0.02211588\\\\\n",
       "\\end{tabular}\n"
      ],
      "text/markdown": [
       "\n",
       "A xtable: 1 × 4\n",
       "\n",
       "| <!--/--> | estimator &lt;dbl&gt; | standard error &lt;dbl&gt; | lower bound CI &lt;dbl&gt; | upper bound CI &lt;dbl&gt; |\n",
       "|---|---|---|---|---|\n",
       "| LASSO - GLMNET | -0.04981147 | 0.01393636 | -0.07750705 | -0.02211588 |\n",
       "\n"
      ],
      "text/plain": [
       "               estimator   standard error lower bound CI upper bound CI\n",
       "LASSO - GLMNET -0.04981147 0.01393636     -0.07750705    -0.02211588   "
      ]
     },
     "metadata": {},
     "output_type": "display_data"
    }
   ],
   "source": [
    "library(xtable)\n",
    "table <- matrix(0, 1, 4)\n",
    "table[1,1:4]   <- c(est_lasso,std_lasso,ci_lasso[1],ci_lasso[2])\n",
    "colnames(table) <-c(\"estimator\",\"standard error\", \"lower bound CI\", \"upper bound CI\")\n",
    "rownames(table) <-c(\"LASSO - GLMNET\")\n",
    "tab2<- xtable(table, digits = 3)\n",
    "tab2"
   ]
  },
  {
   "cell_type": "markdown",
   "metadata": {},
   "source": [
    "# Method 3 - Double Lasso using theoretical Lambda (HDM)"
   ]
  },
  {
   "cell_type": "markdown",
   "metadata": {},
   "source": [
    "We can use the partialling-out approach based on lasso regression (\"Double Lasso\")"
   ]
  },
  {
   "cell_type": "code",
   "execution_count": 47,
   "metadata": {},
   "outputs": [
    {
     "data": {
      "text/html": [
       "<style>\n",
       ".list-inline {list-style: none; margin:0; padding: 0}\n",
       ".list-inline>li {display: inline-block}\n",
       ".list-inline>li:not(:last-child)::after {content: \"\\00b7\"; padding: 0 .5ex}\n",
       "</style>\n",
       "<ol class=list-inline><li>90</li><li>60</li></ol>\n"
      ],
      "text/latex": [
       "\\begin{enumerate*}\n",
       "\\item 90\n",
       "\\item 60\n",
       "\\end{enumerate*}\n"
      ],
      "text/markdown": [
       "1. 90\n",
       "2. 60\n",
       "\n",
       "\n"
      ],
      "text/plain": [
       "[1] 90 60"
      ]
     },
     "metadata": {},
     "output_type": "display_data"
    },
    {
     "data": {
      "text/html": [
       "<style>\n",
       ".list-inline {list-style: none; margin:0; padding: 0}\n",
       ".list-inline>li {display: inline-block}\n",
       ".list-inline>li:not(:last-child)::after {content: \"\\00b7\"; padding: 0 .5ex}\n",
       "</style>\n",
       "<ol class=list-inline><li>90</li><li>1</li></ol>\n"
      ],
      "text/latex": [
       "\\begin{enumerate*}\n",
       "\\item 90\n",
       "\\item 1\n",
       "\\end{enumerate*}\n"
      ],
      "text/markdown": [
       "1. 90\n",
       "2. 1\n",
       "\n",
       "\n"
      ],
      "text/plain": [
       "[1] 90  1"
      ]
     },
     "metadata": {},
     "output_type": "display_data"
    },
    {
     "data": {
      "text/html": [
       "<style>\n",
       ".list-inline {list-style: none; margin:0; padding: 0}\n",
       ".list-inline>li {display: inline-block}\n",
       ".list-inline>li:not(:last-child)::after {content: \"\\00b7\"; padding: 0 .5ex}\n",
       "</style>\n",
       "<ol class=list-inline><li>90</li><li>1</li></ol>\n"
      ],
      "text/latex": [
       "\\begin{enumerate*}\n",
       "\\item 90\n",
       "\\item 1\n",
       "\\end{enumerate*}\n"
      ],
      "text/markdown": [
       "1. 90\n",
       "2. 1\n",
       "\n",
       "\n"
      ],
      "text/plain": [
       "[1] 90  1"
      ]
     },
     "metadata": {},
     "output_type": "display_data"
    }
   ],
   "source": [
    "Q <- df_growth[, 1, drop = F] # output variable\n",
    "K <- as.matrix(df_growth)[, -c(1, 2,3)] # controls\n",
    "B <- df_growth[, 3, drop = F] # target regressor\n",
    "dim(K)\n",
    "dim(Q)\n",
    "dim(B)"
   ]
  },
  {
   "cell_type": "code",
   "execution_count": 48,
   "metadata": {},
   "outputs": [],
   "source": [
    "r.Q <- rlasso(x=K,y=Q)$res # creates the \"residual\" output variable\n",
    "r.B <- rlasso(x=K,y=B)$res # creates the \"residual\" target regressor\n",
    "partial.lasso <- lm(r.Q ~ r.B)\n",
    "est_lasso <- partial.lasso$coef[2]\n",
    "std_lasso <- summary(partial.lasso)$coef[2,2]\n",
    "ci_lasso <- confint(partial.lasso)[2,]"
   ]
  },
  {
   "cell_type": "code",
   "execution_count": 66,
   "metadata": {},
   "outputs": [
    {
     "data": {
      "text/html": [
       "<table class=\"dataframe\">\n",
       "<caption>A xtable: 1 × 4</caption>\n",
       "<thead>\n",
       "\t<tr><th></th><th scope=col>estimator</th><th scope=col>standard error</th><th scope=col>lower bound CI</th><th scope=col>upper bound CI</th></tr>\n",
       "\t<tr><th></th><th scope=col>&lt;dbl&gt;</th><th scope=col>&lt;dbl&gt;</th><th scope=col>&lt;dbl&gt;</th><th scope=col>&lt;dbl&gt;</th></tr>\n",
       "</thead>\n",
       "<tbody>\n",
       "\t<tr><th scope=row>LASSO - HBM</th><td>-0.04981147</td><td>0.01393636</td><td>-0.07750705</td><td>-0.02211588</td></tr>\n",
       "</tbody>\n",
       "</table>\n"
      ],
      "text/latex": [
       "A xtable: 1 × 4\n",
       "\\begin{tabular}{r|llll}\n",
       "  & estimator & standard error & lower bound CI & upper bound CI\\\\\n",
       "  & <dbl> & <dbl> & <dbl> & <dbl>\\\\\n",
       "\\hline\n",
       "\tLASSO - HBM & -0.04981147 & 0.01393636 & -0.07750705 & -0.02211588\\\\\n",
       "\\end{tabular}\n"
      ],
      "text/markdown": [
       "\n",
       "A xtable: 1 × 4\n",
       "\n",
       "| <!--/--> | estimator &lt;dbl&gt; | standard error &lt;dbl&gt; | lower bound CI &lt;dbl&gt; | upper bound CI &lt;dbl&gt; |\n",
       "|---|---|---|---|---|\n",
       "| LASSO - HBM | -0.04981147 | 0.01393636 | -0.07750705 | -0.02211588 |\n",
       "\n"
      ],
      "text/plain": [
       "            estimator   standard error lower bound CI upper bound CI\n",
       "LASSO - HBM -0.04981147 0.01393636     -0.07750705    -0.02211588   "
      ]
     },
     "metadata": {},
     "output_type": "display_data"
    }
   ],
   "source": [
    "library(xtable)\n",
    "table <- matrix(0, 1, 4)\n",
    "table[1,1:4]   <- c(est_lasso,std_lasso,ci_lasso[1],ci_lasso[2])\n",
    "colnames(table) <-c(\"estimator\",\"standard error\", \"lower bound CI\", \"upper bound CI\")\n",
    "rownames(table) <-c(\"LASSO - HBM\")\n",
    "tab3<- xtable(table, digits = 3)\n",
    "tab3"
   ]
  },
  {
   "cell_type": "markdown",
   "metadata": {},
   "source": [
    "# Method 4 - Double Lasso using method=\"partialling out\""
   ]
  },
  {
   "cell_type": "code",
   "execution_count": 55,
   "metadata": {
    "scrolled": true
   },
   "outputs": [],
   "source": [
    "O <- df_growth[, 1, drop = F] # output variable\n",
    "R <- as.matrix(df_growth)[, -c(1, 2,3)] # controls\n",
    "J <- df_growth[, 3, drop = F] # target regressor"
   ]
  },
  {
   "cell_type": "code",
   "execution_count": 56,
   "metadata": {},
   "outputs": [
    {
     "data": {
      "text/html": [
       "<style>\n",
       ".list-inline {list-style: none; margin:0; padding: 0}\n",
       ".list-inline>li {display: inline-block}\n",
       ".list-inline>li:not(:last-child)::after {content: \"\\00b7\"; padding: 0 .5ex}\n",
       "</style>\n",
       "<ol class=list-inline><li>'alpha'</li><li>'se'</li><li>'t'</li><li>'pval'</li><li>'coefficients'</li><li>'coefficient'</li><li>'coefficients.reg'</li><li>'selection.index'</li><li>'residuals'</li><li>'call'</li><li>'samplesize'</li></ol>\n"
      ],
      "text/latex": [
       "\\begin{enumerate*}\n",
       "\\item 'alpha'\n",
       "\\item 'se'\n",
       "\\item 't'\n",
       "\\item 'pval'\n",
       "\\item 'coefficients'\n",
       "\\item 'coefficient'\n",
       "\\item 'coefficients.reg'\n",
       "\\item 'selection.index'\n",
       "\\item 'residuals'\n",
       "\\item 'call'\n",
       "\\item 'samplesize'\n",
       "\\end{enumerate*}\n"
      ],
      "text/markdown": [
       "1. 'alpha'\n",
       "2. 'se'\n",
       "3. 't'\n",
       "4. 'pval'\n",
       "5. 'coefficients'\n",
       "6. 'coefficient'\n",
       "7. 'coefficients.reg'\n",
       "8. 'selection.index'\n",
       "9. 'residuals'\n",
       "10. 'call'\n",
       "11. 'samplesize'\n",
       "\n",
       "\n"
      ],
      "text/plain": [
       " [1] \"alpha\"            \"se\"               \"t\"                \"pval\"            \n",
       " [5] \"coefficients\"     \"coefficient\"      \"coefficients.reg\" \"selection.index\" \n",
       " [9] \"residuals\"        \"call\"             \"samplesize\"      "
      ]
     },
     "metadata": {},
     "output_type": "display_data"
    }
   ],
   "source": [
    "lasso_direct = rlassoEffect(x = R, y = O, d = J, method = \"partialling out\")\n",
    "names(lasso_direct)"
   ]
  },
  {
   "cell_type": "code",
   "execution_count": 57,
   "metadata": {},
   "outputs": [],
   "source": [
    "est_lasso = lasso_direct$coefficients\n",
    "std_lasso = lasso_direct$se\n",
    "lower_ci_lasso = est_lasso - 1.96*std_lasso\n",
    "upper_ci_lasso = est_lasso + 1.96*std_lasso"
   ]
  },
  {
   "cell_type": "code",
   "execution_count": 67,
   "metadata": {},
   "outputs": [
    {
     "data": {
      "text/html": [
       "<table class=\"dataframe\">\n",
       "<caption>A xtable: 1 × 4</caption>\n",
       "<thead>\n",
       "\t<tr><th></th><th scope=col>estimator</th><th scope=col>standard error</th><th scope=col>lower bound CI</th><th scope=col>upper bound CI</th></tr>\n",
       "\t<tr><th></th><th scope=col>&lt;dbl&gt;</th><th scope=col>&lt;dbl&gt;</th><th scope=col>&lt;dbl&gt;</th><th scope=col>&lt;dbl&gt;</th></tr>\n",
       "</thead>\n",
       "<tbody>\n",
       "\t<tr><th scope=row>LASSO - PARTIALLING OUT</th><td>-0.04981147</td><td>0.01393636</td><td>-0.07750705</td><td>-0.02211588</td></tr>\n",
       "</tbody>\n",
       "</table>\n"
      ],
      "text/latex": [
       "A xtable: 1 × 4\n",
       "\\begin{tabular}{r|llll}\n",
       "  & estimator & standard error & lower bound CI & upper bound CI\\\\\n",
       "  & <dbl> & <dbl> & <dbl> & <dbl>\\\\\n",
       "\\hline\n",
       "\tLASSO - PARTIALLING OUT & -0.04981147 & 0.01393636 & -0.07750705 & -0.02211588\\\\\n",
       "\\end{tabular}\n"
      ],
      "text/markdown": [
       "\n",
       "A xtable: 1 × 4\n",
       "\n",
       "| <!--/--> | estimator &lt;dbl&gt; | standard error &lt;dbl&gt; | lower bound CI &lt;dbl&gt; | upper bound CI &lt;dbl&gt; |\n",
       "|---|---|---|---|---|\n",
       "| LASSO - PARTIALLING OUT | -0.04981147 | 0.01393636 | -0.07750705 | -0.02211588 |\n",
       "\n"
      ],
      "text/plain": [
       "                        estimator   standard error lower bound CI\n",
       "LASSO - PARTIALLING OUT -0.04981147 0.01393636     -0.07750705   \n",
       "                        upper bound CI\n",
       "LASSO - PARTIALLING OUT -0.02211588   "
      ]
     },
     "metadata": {},
     "output_type": "display_data"
    }
   ],
   "source": [
    "library(xtable)\n",
    "table <- matrix(0, 1, 4)\n",
    "table[1,1:4]   <- c(est_lasso,std_lasso,ci_lasso[1],ci_lasso[2])\n",
    "colnames(table) <-c(\"estimator\",\"standard error\", \"lower bound CI\", \"upper bound CI\")\n",
    "rownames(table) <-c(\"LASSO - PARTIALLING OUT\")\n",
    "tab4<- xtable(table, digits = 3)\n",
    "tab4"
   ]
  },
  {
   "cell_type": "markdown",
   "metadata": {},
   "source": [
    "# Plot the main coefficient and its confidence interval"
   ]
  },
  {
   "cell_type": "markdown",
   "metadata": {},
   "source": [
    "Finally, let us have a look at the results."
   ]
  },
  {
   "cell_type": "code",
   "execution_count": 25,
   "metadata": {
    "scrolled": true
   },
   "outputs": [
    {
     "data": {
      "text/html": [
       "<table class=\"dataframe\">\n",
       "<caption>A xtable: 4 × 4</caption>\n",
       "<thead>\n",
       "\t<tr><th></th><th scope=col>estimator</th><th scope=col>standard error</th><th scope=col>lower bound CI</th><th scope=col>upper bound CI</th></tr>\n",
       "\t<tr><th></th><th scope=col>&lt;dbl&gt;</th><th scope=col>&lt;dbl&gt;</th><th scope=col>&lt;dbl&gt;</th><th scope=col>&lt;dbl&gt;</th></tr>\n",
       "</thead>\n",
       "<tbody>\n",
       "\t<tr><th scope=row>OLS</th><td>-0.009377989</td><td>0.029887726</td><td>-0.070600221</td><td> 0.05184424</td></tr>\n",
       "\t<tr><th scope=row>LASSO - GLMNET</th><td> 0.003739563</td><td>0.005887944</td><td>-0.007961487</td><td> 0.01544061</td></tr>\n",
       "\t<tr><th scope=row>LASSO - HDM</th><td>-0.049811465</td><td>0.013936358</td><td>-0.077507049</td><td>-0.02211588</td></tr>\n",
       "\t<tr><th scope=row>LASSO - PARTIALLING OUT</th><td>-0.049811465</td><td>0.013936358</td><td>-0.077507049</td><td>-0.02211588</td></tr>\n",
       "</tbody>\n",
       "</table>\n"
      ],
      "text/latex": [
       "A xtable: 4 × 4\n",
       "\\begin{tabular}{r|llll}\n",
       "  & estimator & standard error & lower bound CI & upper bound CI\\\\\n",
       "  & <dbl> & <dbl> & <dbl> & <dbl>\\\\\n",
       "\\hline\n",
       "\tOLS & -0.009377989 & 0.029887726 & -0.070600221 &  0.05184424\\\\\n",
       "\tLASSO - GLMNET &  0.003739563 & 0.005887944 & -0.007961487 &  0.01544061\\\\\n",
       "\tLASSO - HDM & -0.049811465 & 0.013936358 & -0.077507049 & -0.02211588\\\\\n",
       "\tLASSO - PARTIALLING OUT & -0.049811465 & 0.013936358 & -0.077507049 & -0.02211588\\\\\n",
       "\\end{tabular}\n"
      ],
      "text/markdown": [
       "\n",
       "A xtable: 4 × 4\n",
       "\n",
       "| <!--/--> | estimator &lt;dbl&gt; | standard error &lt;dbl&gt; | lower bound CI &lt;dbl&gt; | upper bound CI &lt;dbl&gt; |\n",
       "|---|---|---|---|---|\n",
       "| OLS | -0.009377989 | 0.029887726 | -0.070600221 |  0.05184424 |\n",
       "| LASSO - GLMNET |  0.003739563 | 0.005887944 | -0.007961487 |  0.01544061 |\n",
       "| LASSO - HDM | -0.049811465 | 0.013936358 | -0.077507049 | -0.02211588 |\n",
       "| LASSO - PARTIALLING OUT | -0.049811465 | 0.013936358 | -0.077507049 | -0.02211588 |\n",
       "\n"
      ],
      "text/plain": [
       "                        estimator    standard error lower bound CI\n",
       "OLS                     -0.009377989 0.029887726    -0.070600221  \n",
       "LASSO - GLMNET           0.003739563 0.005887944    -0.007961487  \n",
       "LASSO - HDM             -0.049811465 0.013936358    -0.077507049  \n",
       "LASSO - PARTIALLING OUT -0.049811465 0.013936358    -0.077507049  \n",
       "                        upper bound CI\n",
       "OLS                      0.05184424   \n",
       "LASSO - GLMNET           0.01544061   \n",
       "LASSO - HDM             -0.02211588   \n",
       "LASSO - PARTIALLING OUT -0.02211588   "
      ]
     },
     "metadata": {},
     "output_type": "display_data"
    }
   ],
   "source": [
    "Table_Final=rbind(tab1,tab2,tab3,tab4)\n",
    "Table_Final"
   ]
  },
  {
   "cell_type": "code",
   "execution_count": 65,
   "metadata": {},
   "outputs": [
    {
     "data": {
      "image/png": "[encoded data removed]",
      "text/plain": [
       "plot without title"
      ]
     },
     "metadata": {
      "image/png": {
       "height": 420,
       "width": 420
      }
     },
     "output_type": "display_data"
    }
   ],
   "source": [
    "Base=data.frame(Metodo=c(\"OLS\",\"LASSO - GLMNET\",\"LASSO - HDMPY\",\"LASSO - PARTIALLING OUT\"), \n",
    "     Estimador=c(tab1$estimator,tab2$estimator,tab3$estimator,tab4$estimator))\n",
    "\n",
    "barplot(Base$Estimador,col=c(\"#e5f70c\",\"#0a28cf\",\"#f40cf7\",\"#05cb08\"),ylim=c(-0.1,0.1),legend.text=Base$Metodo, border='white')"
   ]
  }
 ],
 "metadata": {
  "kernelspec": {
   "display_name": "R",
   "language": "R",
   "name": "ir"
  },
  "language_info": {
   "codemirror_mode": "r",
   "file_extension": ".r",
   "mimetype": "text/x-r-source",
   "name": "R",
   "pygments_lexer": "r",
   "version": "4.1.1"
  },
  "papermill": {
   "default_parameters": {},
   "duration": 8.007784,
   "end_time": "2021-01-20T08:46:48.312746",
   "environment_variables": {},
   "exception": null,
   "input_path": "__notebook__.ipynb",
   "output_path": "__notebook__.ipynb",
   "parameters": {},
   "start_time": "2021-01-20T08:46:40.304962",
   "version": "2.2.2"
  }
 },
 "nbformat": 4,
 "nbformat_minor": 4
}
