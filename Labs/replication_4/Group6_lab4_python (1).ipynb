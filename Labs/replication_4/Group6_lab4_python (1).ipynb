{
 "cells": [
  {
   "cell_type": "markdown",
   "metadata": {},
   "source": [
    "# Replication of Lab 4"
   ]
  },
  {
   "cell_type": "markdown",
   "metadata": {},
   "source": [
    "# Group 6\n",
    "Members:\n",
    "1. Eljaer Eusebio\n",
    "2. Claudia Vivas\n",
    "3. Luis Sandoval\n",
    "4. Andre Tapia"
   ]
  },
  {
   "cell_type": "markdown",
   "metadata": {},
   "source": [
    "# Question 1 "
   ]
  },
  {
   "cell_type": "code",
   "execution_count": 1,
   "metadata": {},
   "outputs": [],
   "source": [
    "import hdmpy\n",
    "import numpy as np\n",
    "import random\n",
    "import statsmodels.api as sm\n",
    "import matplotlib.pyplot as plt\n",
    "import numpy as np\n",
    "from matplotlib import colors"
   ]
  },
  {
   "cell_type": "markdown",
   "metadata": {},
   "source": [
    "# 1. Simulation Design 1"
   ]
  },
  {
   "cell_type": "markdown",
   "metadata": {},
   "source": [
    "## Simulationg desing in the case B=50"
   ]
  },
  {
   "cell_type": "code",
   "execution_count": 2,
   "metadata": {},
   "outputs": [],
   "source": [
    "np.random.seed(0)\n",
    "B = 50\n",
    "Naive = np.zeros( B )\n",
    "Orthogonal = np.zeros( B )"
   ]
  },
  {
   "cell_type": "code",
   "execution_count": 3,
   "metadata": {},
   "outputs": [],
   "source": [
    "for i in range( 0, B ):\n",
    "    n = 100\n",
    "    p = 100\n",
    "    beta = ( 1 / (np.arange( 1, p + 1 ) ** 2 ) ).reshape( p , 1 )\n",
    "    gamma = ( 1 / (np.arange( 1, p + 1 ) ** 2 ) ).reshape( p , 1 )\n",
    "\n",
    "    mean = 0\n",
    "    sd = 1\n",
    "    X = np.random.normal( mean , sd, n * p ).reshape( n, p )\n",
    "\n",
    "    D = ( X @ gamma ) + np.random.normal( mean , sd, n ).reshape( n, 1 )/4 \n",
    "   \n",
    "    # DGP \n",
    "    Y = 5*D + ( X @ beta ) + np.random.normal( mean , sd, n ).reshape( n, 1 )\n",
    "    # single selection method\n",
    "    r_lasso_estimation = hdmpy.rlasso( np.concatenate( ( D , X ) , axis  =  1 ) , Y , post = True ) # Regress main equation by lasso\n",
    "\n",
    "    coef_array = r_lasso_estimation.est[ 'coefficients' ].iloc[ 2:, :].to_numpy()    # Get \"X\" coefficients \n",
    "\n",
    "    SX_IDs = np.where( coef_array != 0 )[0]\n",
    "\n",
    "    # In case all X coefficients are zero, then regress Y on D\n",
    "    if sum(SX_IDs) == 0 : \n",
    "        Naive[ i ] = sm.OLS( Y , sm.add_constant(D) ).fit().summary2().tables[1].round(3).iloc[ 1, 0 ] \n",
    "\n",
    "    # Otherwise, then regress Y on X and D (but only in the selected coefficients)\n",
    "    elif sum( SX_IDs ) > 0 :\n",
    "        X_D = np.concatenate( ( D, X[:, SX_IDs ] ) , axis = 1 )\n",
    "        Naive[ i ] = sm.OLS( Y , sm.add_constant( X_D ) ).fit().summary2().tables[1].round(3).iloc[ 1, 0]\n",
    "\n",
    "    # In both cases we save D coefficient\n",
    "        \n",
    "    # Regress residuals. \n",
    "    resY = hdmpy.rlasso( X , Y , post = False ).est[ 'residuals' ]\n",
    "    resD = hdmpy.rlasso( X , D , post = False ).est[ 'residuals' ]\n",
    "    Orthogonal[ i ] = sm.OLS( resY , sm.add_constant( resD ) ).fit().summary2().tables[1].round(3).iloc[ 1, 0]\n"
   ]
  },
  {
   "cell_type": "code",
   "execution_count": 4,
   "metadata": {},
   "outputs": [],
   "source": [
    "Orto_breaks = [-1.2, -1, -0.8, -0.6, -0.4, -0.2, 0, 0.2, 0.4, 0.6, 0.8, 1, 1.2, 1.4, 1.6, 1.8, 2]\n",
    "Naive_breaks = [-0.6, -0.4, -0.2, 0, 0.2, 0.4, 0.6, 0.8, 1, 1.2]"
   ]
  },
  {
   "cell_type": "code",
   "execution_count": 5,
   "metadata": {},
   "outputs": [
    {
     "data": {
      "image/png": "[encoded data removed]",
      "text/plain": [
       "<Figure size 432x288 with 1 Axes>"
      ]
     },
     "metadata": {
      "needs_background": "light"
     },
     "output_type": "display_data"
    }
   ],
   "source": [
    "# Now we create a histogram\n",
    "fig, axs = plt.subplots(1, 1, sharex= True, tight_layout=True)\n",
    "\n",
    "N, bins, patches = axs.hist( Orthogonal - 5 , range = (-2, 2), density = True , bins = Orto_breaks)\n",
    "\n",
    "fracs = ((N**(1 / 5)) / N.max())\n",
    "norm = colors.Normalize(fracs.min(), fracs.max())\n",
    " \n",
    "for thisfrac, thispatch in zip(fracs, patches):\n",
    "    color = plt.cm.viridis(norm(thisfrac))\n",
    "    thispatch.set_facecolor(color)\n",
    "\n",
    "plt.title('Orthogonal', size=20)\n",
    "plt.xlabel(\"Difference of Orhtogonal - True\")\n",
    "\n",
    "plt.show()"
   ]
  },
  {
   "cell_type": "code",
   "execution_count": 6,
   "metadata": {},
   "outputs": [
    {
     "data": {
      "image/png": "[encoded data removed]",
      "text/plain": [
       "<Figure size 432x288 with 1 Axes>"
      ]
     },
     "metadata": {
      "needs_background": "light"
     },
     "output_type": "display_data"
    }
   ],
   "source": [
    "# Create histogram\n",
    "fig, axs = plt.subplots(1, 1, sharex= True, tight_layout=True)\n",
    "\n",
    "N, bins, patches = axs.hist( Naive - 5, range = (-2, 2), density = True , bins = Naive_breaks)\n",
    "\n",
    "fracs = ((N**(1 /5 )) / N.max())\n",
    "norm = colors.Normalize(fracs.min(), fracs.max())\n",
    " \n",
    "for thisfrac, thispatch in zip(fracs, patches):\n",
    "    color = plt.cm.viridis(norm(thisfrac))\n",
    "    thispatch.set_facecolor(color)\n",
    "\n",
    "plt.title('Naive', size=20)\n",
    "plt.xlabel(\"Difference of Naive - True\")\n",
    "\n",
    "# Show plot\n",
    "plt.show()"
   ]
  },
  {
   "cell_type": "markdown",
   "metadata": {},
   "source": [
    "## 1.2 Simulation design B=100"
   ]
  },
  {
   "cell_type": "code",
   "execution_count": 7,
   "metadata": {},
   "outputs": [],
   "source": [
    "np.random.seed(0)\n",
    "B = 100\n",
    "Naive = np.zeros( B )\n",
    "Orthogonal = np.zeros( B )"
   ]
  },
  {
   "cell_type": "code",
   "execution_count": 8,
   "metadata": {},
   "outputs": [],
   "source": [
    "for i in range( 0, B ):\n",
    "    n = 100\n",
    "    p = 100\n",
    "    beta = ( 1 / (np.arange( 1, p + 1 ) ** 2 ) ).reshape( p , 1 )\n",
    "    gamma = ( 1 / (np.arange( 1, p + 1 ) ** 2 ) ).reshape( p , 1 )\n",
    "\n",
    "    mean = 0\n",
    "    sd = 1\n",
    "    X = np.random.normal( mean , sd, n * p ).reshape( n, p )\n",
    "\n",
    "    D = ( X @ gamma ) + np.random.normal( mean , sd, n ).reshape( n, 1 )/4 \n",
    "    \n",
    "    # DGP \n",
    "    Y = 5*D + ( X @ beta ) + np.random.normal( mean , sd, n ).reshape( n, 1 )\n",
    "    # single selection method\n",
    "    r_lasso_estimation = hdmpy.rlasso( np.concatenate( ( D , X ) , axis  =  1 ) , Y , post = True ) # Regress main equation by lasso\n",
    "\n",
    "    coef_array = r_lasso_estimation.est[ 'coefficients' ].iloc[ 2:, :].to_numpy()    # Get \"X\" coefficients \n",
    "\n",
    "    SX_IDs = np.where( coef_array != 0 )[0]\n",
    "\n",
    "    # In case all X coefficients are zero, then regress Y on D\n",
    "    if sum(SX_IDs) == 0 : \n",
    "        Naive[ i ] = sm.OLS( Y , sm.add_constant(D) ).fit().summary2().tables[1].round(3).iloc[ 1, 0 ] \n",
    "\n",
    "    # Otherwise, then regress Y on X and D (but only in the selected coefficients)\n",
    "    elif sum( SX_IDs ) > 0 :\n",
    "        X_D = np.concatenate( ( D, X[:, SX_IDs ] ) , axis = 1 )\n",
    "        Naive[ i ] = sm.OLS( Y , sm.add_constant( X_D ) ).fit().summary2().tables[1].round(3).iloc[ 1, 0]\n",
    "        \n",
    "    # Regress residuals. \n",
    "    resY = hdmpy.rlasso( X , Y , post = False ).est[ 'residuals' ]\n",
    "    resD = hdmpy.rlasso( X , D , post = False ).est[ 'residuals' ]\n",
    "    Orthogonal[ i ] = sm.OLS( resY , sm.add_constant( resD ) ).fit().summary2().tables[1].round(3).iloc[ 1, 0]"
   ]
  },
  {
   "cell_type": "code",
   "execution_count": 9,
   "metadata": {},
   "outputs": [],
   "source": [
    "Orto_breaks = [-1.2, -1, -0.8, -0.6, -0.4, -0.2, 0, 0.2, 0.4, 0.6, 0.8, 1, 1.2, 1.4, 1.6, 1.8, 2]\n",
    "Naive_breaks = [-0.6, -0.4, -0.2, 0, 0.2, 0.4, 0.6, 0.8, 1, 1.2]"
   ]
  },
  {
   "cell_type": "code",
   "execution_count": 10,
   "metadata": {},
   "outputs": [
    {
     "data": {
      "image/png": "[encoded data removed]",
      "text/plain": [
       "<Figure size 432x288 with 1 Axes>"
      ]
     },
     "metadata": {
      "needs_background": "light"
     },
     "output_type": "display_data"
    }
   ],
   "source": [
    "# Create histogram\n",
    "fig, axs = plt.subplots(1, 1, sharex= True, tight_layout=True)\n",
    "\n",
    "N, bins, patches = axs.hist( Orthogonal - 5 , range = (-2, 2), density = True , bins = Orto_breaks)\n",
    "\n",
    "fracs = ((N**(1 / 5)) / N.max())\n",
    "norm = colors.Normalize(fracs.min(), fracs.max())\n",
    " \n",
    "for thisfrac, thispatch in zip(fracs, patches):\n",
    "    color = plt.cm.viridis(norm(thisfrac))\n",
    "    thispatch.set_facecolor(color)\n",
    "\n",
    "plt.title('Orthogonal', size=20)\n",
    "plt.xlabel(\"Difference of Orhtogonal - True\")\n",
    "\n",
    "plt.show()"
   ]
  },
  {
   "cell_type": "code",
   "execution_count": 11,
   "metadata": {},
   "outputs": [
    {
     "data": {
      "image/png": "[encoded data removed]",
      "text/plain": [
       "<Figure size 432x288 with 1 Axes>"
      ]
     },
     "metadata": {
      "needs_background": "light"
     },
     "output_type": "display_data"
    }
   ],
   "source": [
    "# Create histogram\n",
    "fig, axs = plt.subplots(1, 1, sharex= True, tight_layout=True)\n",
    "\n",
    "N, bins, patches = axs.hist( Naive - 5, range = (-2, 2), density = True , bins = Naive_breaks)\n",
    "\n",
    "fracs = ((N**(1 /5 )) / N.max())\n",
    "norm = colors.Normalize(fracs.min(), fracs.max())\n",
    " \n",
    "for thisfrac, thispatch in zip(fracs, patches):\n",
    "    color = plt.cm.viridis(norm(thisfrac))\n",
    "    thispatch.set_facecolor(color)\n",
    "\n",
    "plt.title('Naive', size=20)\n",
    "plt.xlabel(\"Difference of Naive - True\")\n",
    "\n",
    "plt.show()"
   ]
  },
  {
   "cell_type": "markdown",
   "metadata": {},
   "source": [
    "## 1.3 Simulation design B=1000"
   ]
  },
  {
   "cell_type": "code",
   "execution_count": 12,
   "metadata": {},
   "outputs": [],
   "source": [
    "np.random.seed(0)\n",
    "B = 1000\n",
    "Naive = np.zeros( B )\n",
    "Orthogonal = np.zeros( B )"
   ]
  },
  {
   "cell_type": "code",
   "execution_count": null,
   "metadata": {},
   "outputs": [],
   "source": [
    "for i in range( 0, B ):\n",
    "    n = 100\n",
    "    p = 100\n",
    "    beta = ( 1 / (np.arange( 1, p + 1 ) ** 2 ) ).reshape( p , 1 )\n",
    "    gamma = ( 1 / (np.arange( 1, p + 1 ) ** 2 ) ).reshape( p , 1 )\n",
    "\n",
    "    mean = 0\n",
    "    sd = 1\n",
    "    X = np.random.normal( mean , sd, n * p ).reshape( n, p )\n",
    "\n",
    "    D = ( X @ gamma ) + np.random.normal( mean , sd, n ).reshape( n, 1 )/4 \n",
    "    \n",
    "    # DGP \n",
    "    Y = 5*D + ( X @ beta ) + np.random.normal( mean , sd, n ).reshape( n, 1 )\n",
    "    # single selection method\n",
    "    r_lasso_estimation = hdmpy.rlasso( np.concatenate( ( D , X ) , axis  =  1 ) , Y , post = True ) # Regress main equation by lasso\n",
    "\n",
    "    coef_array = r_lasso_estimation.est[ 'coefficients' ].iloc[ 2:, :].to_numpy()    # Get \"X\" coefficients \n",
    "\n",
    "    SX_IDs = np.where( coef_array != 0 )[0]\n",
    "\n",
    "    # In case all X coefficients are zero, then regress Y on D\n",
    "    if sum(SX_IDs) == 0 : \n",
    "        Naive[ i ] = sm.OLS( Y , sm.add_constant(D) ).fit().summary2().tables[1].round(3).iloc[ 1, 0 ] \n",
    "\n",
    "    # Otherwise, then regress Y on X and D (but only in the selected coefficients)\n",
    "    elif sum( SX_IDs ) > 0 :\n",
    "        X_D = np.concatenate( ( D, X[:, SX_IDs ] ) , axis = 1 )\n",
    "        Naive[ i ] = sm.OLS( Y , sm.add_constant( X_D ) ).fit().summary2().tables[1].round(3).iloc[ 1, 0]\n",
    "\n",
    "    # In both cases we save D coefficient\n",
    "        \n",
    "    # Regress residuals. \n",
    "    resY = hdmpy.rlasso( X , Y , post = False ).est[ 'residuals' ]\n",
    "    resD = hdmpy.rlasso( X , D , post = False ).est[ 'residuals' ]\n",
    "    Orthogonal[ i ] = sm.OLS( resY , sm.add_constant( resD ) ).fit().summary2().tables[1].round(3).iloc[ 1, 0]\n",
    "\n"
   ]
  },
  {
   "cell_type": "code",
   "execution_count": null,
   "metadata": {},
   "outputs": [],
   "source": [
    "Orto_breaks = [-1.2, -1, -0.8, -0.6, -0.4, -0.2, 0, 0.2, 0.4, 0.6, 0.8, 1, 1.2, 1.4, 1.6, 1.8, 2]\n",
    "Naive_breaks = [-0.6, -0.4, -0.2, 0, 0.2, 0.4, 0.6, 0.8, 1, 1.2]"
   ]
  },
  {
   "cell_type": "code",
   "execution_count": null,
   "metadata": {},
   "outputs": [],
   "source": [
    "# Create histogram\n",
    "fig, axs = plt.subplots(1, 1, sharex= True, tight_layout=True)\n",
    "\n",
    "N, bins, patches = axs.hist( Orthogonal - 5 , range = (-2, 2), density = True , bins = Orto_breaks)\n",
    "\n",
    "fracs = ((N**(1 / 5)) / N.max())\n",
    "norm = colors.Normalize(fracs.min(), fracs.max())\n",
    " \n",
    "for thisfrac, thispatch in zip(fracs, patches):\n",
    "    color = plt.cm.viridis(norm(thisfrac))\n",
    "    thispatch.set_facecolor(color)\n",
    "\n",
    "plt.title('Orthogonal', size=20)\n",
    "plt.xlabel(\"Difference of Orhtogonal - True\")\n",
    "\n",
    "plt.show()"
   ]
  },
  {
   "cell_type": "code",
   "execution_count": null,
   "metadata": {},
   "outputs": [],
   "source": [
    "# Create\n",
    "fig, axs = plt.subplots(1, 1, sharex= True, tight_layout=True)\n",
    "\n",
    "# Create histogram\n",
    "N, bins, patches = axs.hist( Naive - 5, range = (-2, 2), density = True , bins = Naive_breaks)\n",
    "\n",
    "fracs = ((N**(11 /12 )) / N.max())\n",
    "norm = colors.Normalize(fracs.min(), fracs.max())\n",
    " \n",
    "for thisfrac, thispatch in zip(fracs, patches):\n",
    "    color = plt.cm.viridis(norm(thisfrac))\n",
    "    thispatch.set_facecolor(color)\n",
    "\n",
    "plt.title('Naive', size=20)\n",
    "plt.xlabel(\"Difference of Naive - True\")\n",
    "\n",
    "# Show plot\n",
    "plt.show()"
   ]
  },
  {
   "cell_type": "markdown",
   "metadata": {},
   "source": [
    "# CONCLUSIONS"
   ]
  },
  {
   "cell_type": "markdown",
   "metadata": {},
   "source": [
    "#### Explain what do you see in the distribution of the histograms. Where the orthogonal and Naive should be centered?\n",
    "In the orthogonal figure, the distribution is converging to 0 meanwhile in the naive figure we have that the graphic is skewed to the right. If we increase the number of trials, in the orthogonal case we have the data looks more like a normal distribution but in the naive the data tend more to the right. "
   ]
  },
  {
   "cell_type": "markdown",
   "metadata": {},
   "source": [
    "#### Why does this happen? Give an econometric explanation of this.\n",
    "Neyman Orthogonality\n",
    "\n",
    "$ D = \\vartheta_n\\alpha(\\eta^0) = 0 $ , $\\vartheta_nM(\\alpha, \\eta^0) = 0 $ \n",
    "\n",
    "Neyman's orthogonality holds that the estimated coefficient $(\\ alpha)$ of the treatment depends on the coefficients estimated via partialing-out. That is, $\\ alpha$ is insensitive to changes in the estimated coefficients via partialing-out.\n",
    "\n",
    "Taking into account the concept of orthogonality, the estimation of the treatment coefficient using a double lasso via partialling-out model generates an estimated coefficient with a lower standard error, since this is more similar to the population coefficient. This is because in the second step of the partialling-out algorithm the treatment (D) is cleaned of all possible effects of D. In this sense, the coefficient estimated via partialling-out closely resembles the population parameter and complies with Neyman's orthogonality. However, the naive method generates a less precise estimated coefficient than the previous method, because although it uses laso and ols regression, it does not clean up the effects of X on D. This difference in the estimated coefficients can be observed in the histogram distributions for the following trials."
   ]
  },
  {
   "cell_type": "markdown",
   "metadata": {},
   "source": [
    "# Question 2"
   ]
  },
  {
   "cell_type": "markdown",
   "metadata": {},
   "source": [
    "## Double-Lasso Approach\n",
    "We have some problems running regressions with many candidate predictors. Finding a model that helps us make decisions about which variables will be interesting and which ones is not a delicate task. Therefore, the main objective is to find a suitable model.\n",
    "\n",
    "One of them is related to DOUBLE-LASSO models, its method combines a regression model with a process of contractions of some parameters to zero and imposes a restriction or penalty on the regression coefficients, to select variables by two step, finding those that predict the dependent variable and those relative to independent variable. This is important, because exclusion of a covariate that is a modest predictor of the dependent variable but strong predictor of the independent variable can create a substantial omitted variable bias.Also, it helps to make test of randomization.\n",
    "\n",
    "In the following lines, the explanation about Lasso's steps will be explained according to the article \"Using double-loop regression for the selection of principle variables\" by Urminsky, Hansen and Chernozhukov,\n",
    "\n",
    "First, they estimate a linear regression model, because they want to find parameters that minimize the sum of squared errors in the regression equation:\n",
    "\n",
    "$$\n",
    " Y_i= \\beta_{0} + \\beta_{1}X_i +  \\beta_{2}W_i1+...+ \\beta_{k+1}W_ik+e_{i}\\\n",
    "$$\n",
    "\n",
    "A lasso regression find parameters which minimize the sum of squared errors in the regression equation with an additional penalty term:\n",
    "\n",
    "$$\n",
    "Min [\\sum_{i}(Y_i - \\beta_{0} + \\beta_{1}X_i +  \\beta_{2}W_i1+...+ \\beta_{k+1}W_ik)^2 + \\lambda \\sum_{k}|\\beta_{k}|\n",
    "$$\n",
    "\n",
    "The penalty term helps reduce the estimated regression coefficients to zero, and some are exactly zero, reducing the over-fitting. By setting some coefficients to zero, you also perform variable selection. Loop regression can be used when the number of observations is smaller than the number of predictors. However, we could omit important variables with nonzero coefficients and underestimate some nonzero coefficients. It would be a bias in the model. In this case, it is necessary to use the \"double lasso\" to select variables and alleviate both sources of bias.\n",
    "\n",
    "Step 1:Fit a lasso regression predicting the dependent variable, and keeping track of the variables with non-zero estimated coefficients:\n",
    "\n",
    "$$\n",
    "Y_i= \\alpha_{0} + \\alpha_{1}W_i1 +...+ \\alpha_{k}W_ik+e_{i}\\\n",
    "$$\n",
    "\n",
    "Step 2: Fit a lasso regression predicting the focal independent variable, keeping track of the variables with non-zero estimated coefficients:\n",
    "\n",
    "$$\n",
    "X_i= \\phi_{0} + \\phi_{1}W_i1 +...+ \\phi_{k}W_ik+e_{i}\\\n",
    "$$\n",
    "\n",
    "If Xi is an effectively randomized treatment, no covariates should be selected in this step.\n",
    "\n",
    "Step 3: Fit a linear regression of the dependent variable on the focal independent variable, including the covariates (Wik) selected in either of the first two steps\n",
    "\n",
    "$$\n",
    "Y_i= \\alpha_{0} + \\alpha_{1}W_i1 + \\sum_{k \\in A} \\beta_{k+1}+...+ \\alpha_{k}W_ik+e_{i}\\\n",
    "$$\n",
    "\n",
    "In the equation, A is the union of the variables estimated to have non-zero coefficients in Steps 1 and 2. This regression could also include a small set of additional covariates identified a priori as necessary. Interpret and report the coefficient estimates and significance tests on the focal variable(s) as the final results. So, lambda is important to avoid over-fitting."
   ]
  },
  {
   "cell_type": "markdown",
   "metadata": {},
   "source": [
    "# Testing the Convergence Hypothesis"
   ]
  },
  {
   "cell_type": "markdown",
   "metadata": {},
   "source": [
    "## Introduction"
   ]
  },
  {
   "cell_type": "markdown",
   "metadata": {},
   "source": [
    "We provide an additional empirical example of partialling-out with Lasso to estimate the regression coefficient $\\beta_1$ in the high-dimensional linear regression model:\n",
    "  $$\n",
    "  Y = \\beta_1 D +  \\beta_2'W + \\epsilon.\n",
    "  $$\n",
    "  \n",
    "Specifically, we are interested in how the rates  at which economies of different countries grow ($Y$) are related to the initial wealth levels in each country ($D$) controlling for country's institutional, educational, and other similar characteristics ($W$).\n",
    "  \n",
    "The relationship is captured by $\\beta_1$, the *speed of convergence/divergence*, which measures the speed at which poor countries catch up $(\\beta_1< 0)$ or fall behind $(\\beta_1> 0)$ rich countries, after controlling for $W$. Our inference question here is: do poor countries grow faster than rich countries, controlling for educational and other characteristics? In other words, is the speed of convergence negative: $ \\beta_1 <0?$ This is the Convergence Hypothesis predicted by the Solow Growth Model. This is a structural economic model. Under some strong assumptions, that we won't state here, the predictive exercise we are doing here can be given causal interpretation.\n"
   ]
  },
  {
   "cell_type": "markdown",
   "metadata": {},
   "source": [
    "The outcome $Y$ is the realized annual growth rate of a country's wealth  (Gross Domestic Product per capita). The target regressor ($D$) is the initial level of the country's wealth. The target parameter $\\beta_1$ is the speed of convergence, which measures the speed at which poor countries catch up with rich countries. The controls ($W$) include measures of education levels, quality of institutions, trade openness, and political stability in the country."
   ]
  },
  {
   "cell_type": "markdown",
   "metadata": {},
   "source": [
    "## Data analysis\n"
   ]
  },
  {
   "cell_type": "markdown",
   "metadata": {},
   "source": [
    "We consider the data set GrowthData which is included in the package *hdm*. First, let us load the data set to get familiar with the data."
   ]
  },
  {
   "cell_type": "code",
   "execution_count": null,
   "metadata": {},
   "outputs": [],
   "source": [
    "import hdmpy\n",
    "import pandas as pd\n",
    "import numpy as np\n",
    "import pyreadr\n",
    "import math\n",
    "import matplotlib.pyplot as plt\n",
    "import random"
   ]
  },
  {
   "cell_type": "code",
   "execution_count": null,
   "metadata": {},
   "outputs": [],
   "source": [
    "# I downloaded the data that the author used\n",
    "growth_read = pyreadr.read_r(\"C:/Users/edfra/OneDrive/Documentos/GitHub/ECO224/Labs/data/GrowthData.RData\")\n",
    "\n",
    "# Extracting the data frame from rdata_read\n",
    "growth = growth_read[ 'GrowthData' ]\n",
    "list(growth)"
   ]
  },
  {
   "cell_type": "markdown",
   "metadata": {},
   "source": [
    "We determine the dimension of our data set."
   ]
  },
  {
   "cell_type": "code",
   "execution_count": null,
   "metadata": {},
   "outputs": [],
   "source": [
    "growth.shape"
   ]
  },
  {
   "cell_type": "markdown",
   "metadata": {
    "papermill": {
     "duration": 0.025013,
     "end_time": "2021-01-20T08:46:45.109042",
     "exception": false,
     "start_time": "2021-01-20T08:46:45.084029",
     "status": "completed"
    },
    "tags": []
   },
   "source": [
    "The sample contains $90$ countries and $63$ controls. Thus $p \\approx 60$, $n=90$ and $p/n$ is not small. We expect the least squares method to provide a poor estimate of $\\beta_1$.  We expect the method based on partialling-out with Lasso to provide a high quality estimate of $\\beta_1$."
   ]
  },
  {
   "cell_type": "markdown",
   "metadata": {
    "papermill": {
     "duration": 0.024124,
     "end_time": "2021-01-20T08:46:45.157510",
     "exception": false,
     "start_time": "2021-01-20T08:46:45.133386",
     "status": "completed"
    },
    "tags": []
   },
   "source": [
    "To check this hypothesis, we analyze the relation between the output variable $Y$ and the other country's characteristics by running a linear regression in the first step."
   ]
  },
  {
   "cell_type": "code",
   "execution_count": null,
   "metadata": {},
   "outputs": [],
   "source": [
    "import statsmodels.api as sm\n",
    "import statsmodels.formula.api as smf"
   ]
  },
  {
   "cell_type": "code",
   "execution_count": null,
   "metadata": {},
   "outputs": [],
   "source": [
    "# We create the main variables\n",
    "y = growth['Outcome']\n",
    "X = growth.drop('Outcome', 1)"
   ]
  },
  {
   "cell_type": "code",
   "execution_count": null,
   "metadata": {},
   "outputs": [],
   "source": [
    "# OLS regression\n",
    "reg_ols  = sm.OLS(y, X).fit()\n",
    "print(reg_ols.summary())"
   ]
  },
  {
   "cell_type": "code",
   "execution_count": null,
   "metadata": {},
   "outputs": [],
   "source": [
    "# output: estimated regression coefficient corresponding to the target regressor\n",
    "est_ols = reg_ols.summary2().tables[1]['Coef.']['gdpsh465']\n",
    "\n",
    "# output: std. error\n",
    "std_ols = reg_ols.summary2().tables[1]['Std.Err.']['gdpsh465']\n",
    "\n",
    "# output: 95% confidence interval\n",
    "lower_ci = reg_ols.summary2().tables[1]['[0.025']['gdpsh465']\n",
    "upper_ci = reg_ols.summary2().tables[1]['0.975]']['gdpsh465']"
   ]
  },
  {
   "cell_type": "markdown",
   "metadata": {},
   "source": [
    "## Summarize OLS results"
   ]
  },
  {
   "cell_type": "code",
   "execution_count": null,
   "metadata": {},
   "outputs": [],
   "source": [
    "table_1 = np.zeros( (1, 4) )\n",
    "\n",
    "table_1[0,0] = est_ols  \n",
    "table_1[0,1] = std_ols   \n",
    "table_1[0,2] = lower_ci\n",
    "table_1[0,3] = upper_ci    \n",
    "\n",
    "\n",
    "table_1_pandas = pd.DataFrame( table_1, columns = [ \"Estimator\",\"Std. Error\", \"lower bound CI\", \"upper bound CI\"  ])\n",
    "table_1_pandas.index = [ \"OLS\" ]\n",
    "table_1_html = table_1_pandas.to_html()\n",
    "table_1_html"
   ]
  },
  {
   "cell_type": "markdown",
   "metadata": {},
   "source": [
    "<!-- html table generated in R 3.6.3 by xtable 1.8-4 package -->\n",
    "<!-- Tue Jan 19 10:23:32 2021 -->\n",
    "<table border=1>\n",
    "<tr> <th>  </th> <th> estimator </th> <th> standard error </th> <th> lower bound CI </th> <th> upper bound CI </th>  </tr>\n",
    "  <tr> <td align=\"right\"> OLS </td> <td align=\"right\"> -0.009 </td> <td align=\"right\"> 0.030 </td> <td align=\"right\"> -0.071 </td> <td align=\"right\"> 0.052 </td> </tr>\n",
    "   </table>"
   ]
  },
  {
   "cell_type": "markdown",
   "metadata": {},
   "source": [
    "Least squares provides a rather noisy estimate (high standard error) of the\n",
    "speed of convergence, and does not allow us to answer the question\n",
    "about the convergence hypothesis since the confidence interval includes zero."
   ]
  },
  {
   "cell_type": "code",
   "execution_count": null,
   "metadata": {},
   "outputs": [],
   "source": [
    "# Create main variables\n",
    "Y = growth['Outcome']\n",
    "W = growth.drop(['Outcome','intercept', 'gdpsh465'], 1 )\n",
    "D = growth['gdpsh465']"
   ]
  },
  {
   "cell_type": "code",
   "execution_count": null,
   "metadata": {},
   "outputs": [],
   "source": [
    "W.shape"
   ]
  },
  {
   "cell_type": "code",
   "execution_count": null,
   "metadata": {},
   "outputs": [],
   "source": [
    "Y.shape"
   ]
  },
  {
   "cell_type": "code",
   "execution_count": null,
   "metadata": {},
   "outputs": [],
   "source": [
    "D.shape"
   ]
  },
  {
   "cell_type": "markdown",
   "metadata": {},
   "source": [
    "## Double LASSO using cross Validation (Using Sklearn)"
   ]
  },
  {
   "cell_type": "markdown",
   "metadata": {},
   "source": [
    "Now, we are going to use sample splitting approach:"
   ]
  },
  {
   "cell_type": "code",
   "execution_count": null,
   "metadata": {},
   "outputs": [],
   "source": [
    "from sklearn.model_selection import train_test_split\n",
    "D_train, D_test, Y_train, Y_test, W_train, W_test = train_test_split(D, Y, W, test_size = 0.30)\n",
    "W_train.shape"
   ]
  },
  {
   "cell_type": "code",
   "execution_count": null,
   "metadata": {},
   "outputs": [],
   "source": [
    "D_train.shape"
   ]
  },
  {
   "cell_type": "code",
   "execution_count": null,
   "metadata": {},
   "outputs": [],
   "source": [
    "Y_train.shape"
   ]
  },
  {
   "cell_type": "code",
   "execution_count": null,
   "metadata": {},
   "outputs": [],
   "source": [
    "#rom sklearn import model_selection\n",
    "#from sklearn.model_selection import cross_val_score\n",
    "\n",
    "#kfold = model_selection.KFold(n_splits=10)\n",
    "#lr = LogisticRegression()\n",
    "#scoring = 'accuracy'\n",
    "#results = model_selection.cross_val_score(lr, X_train, y_train, cv=kfold, scoring=scoring)\n",
    "#print(\"10-fold cross validation average accuracy: %.3f\" % (results.mean()))\n",
    "#results"
   ]
  },
  {
   "cell_type": "markdown",
   "metadata": {},
   "source": [
    "#### First of all, let's use the $ \\alpha $ = 0.00077 because it is the value that get answers pretty similar in comparison with R"
   ]
  },
  {
   "cell_type": "code",
   "execution_count": null,
   "metadata": {},
   "outputs": [],
   "source": [
    "from sklearn import linear_model\n",
    "\n",
    "# Seat values for Lasso\n",
    "lasso_model = linear_model.Lasso( alpha = 0.00077 )\n",
    "r_Y = Y_train - lasso_model.fit(W_train,Y_train).predict(W_train)\n",
    "r_Y = r_Y.rename('r_Y')\n",
    "\n",
    "# Part. out d\n",
    "r_D = D_train - lasso_model.fit(W_train,D_train).predict(W_train)\n",
    "r_D = r_D.rename('r_D')\n",
    "\n",
    "# ols \n",
    "partial_lasso_fit = sm.OLS(r_Y, r_D).fit()\n",
    "\n",
    "est_lasso = partial_lasso_fit.summary2().tables[1]['Coef.']['r_D']\n",
    "std_lasso = partial_lasso_fit.summary2().tables[1]['Std.Err.']['r_D']\n",
    "lower_ci_lasso = partial_lasso_fit.summary2().tables[1]['[0.025']['r_D']\n",
    "upper_ci_lasso = partial_lasso_fit.summary2().tables[1]['0.975]']['r_D']"
   ]
  },
  {
   "cell_type": "code",
   "execution_count": null,
   "metadata": {},
   "outputs": [],
   "source": [
    "# from sklearn import linear_model\n",
    "\n",
    "# # Seat values for Lasso\n",
    "# lasso_model = linear_model.Lasso( alpha = 0.00077 )\n",
    "# r_Y = Y - lasso_model.fit( W, Y ).predict( W )\n",
    "# r_Y = r_Y.rename('r_Y')\n",
    "\n",
    "# # Part. out d\n",
    "# r_D = D - lasso_model.fit( W, D ).predict( W )\n",
    "# r_D = r_D.rename('r_D')\n",
    "\n",
    "# # Regress residuales\n",
    "# partial_lasso_fit = sm.OLS(r_Y, r_D).fit()\n",
    "\n",
    "# # output: estimated regression coefficient corresponding to the target regressor\n",
    "# est_lasso = partial_lasso_fit.summary2().tables[1]['Coef.']['r_D']\n",
    "\n",
    "# # output: std. error\n",
    "# std_lasso = partial_lasso_fit.summary2().tables[1]['Std.Err.']['r_D']\n",
    "\n",
    "# # output: 95% confidence interval\n",
    "# lower_ci_lasso = partial_lasso_fit.summary2().tables[1]['[0.025']['r_D']\n",
    "# upper_ci_lasso = partial_lasso_fit.summary2().tables[1]['0.975]']['r_D']"
   ]
  },
  {
   "cell_type": "code",
   "execution_count": null,
   "metadata": {},
   "outputs": [],
   "source": [
    "# Regress residuales\n",
    "partial_lasso_fit = sm.OLS(r_Y, r_D).fit()\n",
    "partial_lasso_est = partial_lasso_fit.summary2().tables[1]['Coef.']['r_D']\n",
    "\n",
    "print( f\"Coefficient for D via sample splitting using lasso {partial_lasso_est}\" )"
   ]
  },
  {
   "cell_type": "code",
   "execution_count": null,
   "metadata": {},
   "outputs": [],
   "source": [
    "# output: estimated regression coefficient corresponding to the target regressor\n",
    "est_lasso_train = partial_lasso_fit.summary2().tables[1]['Coef.']['r_D']\n",
    "\n",
    "# output: std. error\n",
    "std_lasso_train = partial_lasso_fit.summary2().tables[1]['Std.Err.']['r_D']\n",
    "\n",
    "# output: 95% confidence interval\n",
    "lower_ci_lasso_train = partial_lasso_fit.summary2().tables[1]['[0.025']['r_D']\n",
    "upper_ci_lasso_train = partial_lasso_fit.summary2().tables[1]['0.975]']['r_D']"
   ]
  },
  {
   "cell_type": "code",
   "execution_count": null,
   "metadata": {},
   "outputs": [],
   "source": [
    "r_Y = pd.DataFrame(r_Y)\n",
    "r_D = pd.DataFrame(r_D)"
   ]
  },
  {
   "cell_type": "code",
   "execution_count": null,
   "metadata": {},
   "outputs": [],
   "source": [
    "from sklearn.linear_model import LinearRegression\n",
    "model = LinearRegression()\n",
    "mymodel = model.fit(r_Y, r_D)"
   ]
  },
  {
   "cell_type": "code",
   "execution_count": null,
   "metadata": {},
   "outputs": [],
   "source": [
    "# K - fold CV\n",
    "# Importing cross_val score function\n",
    "\n",
    "from sklearn.model_selection import cross_val_score\n",
    "\n",
    "# 5-fold CV\n",
    "scores = cross_val_score(mymodel, W_train, D_train ,Y_train)\n",
    "scores"
   ]
  },
  {
   "cell_type": "code",
   "execution_count": null,
   "metadata": {},
   "outputs": [],
   "source": [
    "from sklearn import linear_model\n",
    "\n",
    "# Seat values for Lasso\n",
    "lasso_model = linear_model.Lasso( alpha = 0.00077 )\n",
    "r_Y = Y_test - lasso_model.fit(W_test,Y_test ).predict(W_test)\n",
    "r_Y = r_Y.rename('r_Y')\n",
    "\n",
    "# Part. out d\n",
    "r_D = D_test - lasso_model.fit(W_test,D_test).predict(W_test)\n",
    "r_D = r_D.rename('r_D')\n",
    "\n",
    "# ols \n",
    "partial_lasso_fit = sm.OLS(r_Y, r_D).fit()\n",
    "\n",
    "est_lasso = partial_lasso_fit.summary2().tables[1]['Coef.']['r_D']\n",
    "std_lasso = partial_lasso_fit.summary2().tables[1]['Std.Err.']['r_D']\n",
    "lower_ci_lasso = partial_lasso_fit.summary2().tables[1]['[0.025']['r_D']\n",
    "upper_ci_lasso = partial_lasso_fit.summary2().tables[1]['0.975]']['r_D']"
   ]
  },
  {
   "cell_type": "code",
   "execution_count": null,
   "metadata": {},
   "outputs": [],
   "source": [
    "r_Y = pd.DataFrame(r_Y)\n",
    "r_D = pd.DataFrame(r_D)"
   ]
  },
  {
   "cell_type": "code",
   "execution_count": null,
   "metadata": {},
   "outputs": [],
   "source": [
    "from sklearn.linear_model import LinearRegression\n",
    "model = LinearRegression()\n",
    "mymodel = model.fit(r_Y, r_D)"
   ]
  },
  {
   "cell_type": "code",
   "execution_count": null,
   "metadata": {},
   "outputs": [],
   "source": [
    "# K - fold CV\n",
    "# Importing cross_val score function\n",
    "\n",
    "from sklearn.model_selection import cross_val_score\n",
    "\n",
    "# 5-fold CV\n",
    "pred = cross_val_score(mymodel, W_test, D_test,Y_test)\n",
    "pred"
   ]
  },
  {
   "cell_type": "code",
   "execution_count": null,
   "metadata": {},
   "outputs": [],
   "source": [
    "# Regress residuales\n",
    "partial_lasso_fit = sm.OLS(r_Y, r_D).fit()\n",
    "partial_lasso_est = partial_lasso_fit.summary2().tables[1]['Coef.']['r_D']\n",
    "\n",
    "print( f\"Coefficient for D via sample splitting using lasso {partial_lasso_est}\" )"
   ]
  },
  {
   "cell_type": "code",
   "execution_count": null,
   "metadata": {},
   "outputs": [],
   "source": [
    "# output: estimated regression coefficient corresponding to the target regressor\n",
    "est_lasso_test = partial_lasso_fit.summary2().tables[1]['Coef.']['r_D']\n",
    "\n",
    "# output: std. error\n",
    "std_lasso_test = partial_lasso_fit.summary2().tables[1]['Std.Err.']['r_D']\n",
    "\n",
    "# output: 95% confidence interval\n",
    "lower_ci_lasso_test = partial_lasso_fit.summary2().tables[1]['[0.025']['r_D']\n",
    "upper_ci_lasso_test = partial_lasso_fit.summary2().tables[1]['0.975]']['r_D']"
   ]
  },
  {
   "cell_type": "markdown",
   "metadata": {},
   "source": [
    "#### Secondly, let's use the $ \\alpha $ = 0.1  in order to know how $\\beta$ changes in comparison when we use $ \\alpha $ = 0.00077"
   ]
  },
  {
   "cell_type": "code",
   "execution_count": null,
   "metadata": {},
   "outputs": [],
   "source": [
    "from sklearn import linear_model\n",
    "\n",
    "# Seat values for Lasso\n",
    "lasso_model = linear_model.Lasso( alpha = 0.1 )\n",
    "r_Y = Y_train - lasso_model.fit(W_train,Y_train).predict(W_train)\n",
    "r_Y = r_Y.rename('r_Y')\n",
    "\n",
    "# Part. out d\n",
    "r_D = D_train - lasso_model.fit(W_train,D_train).predict(W_train)\n",
    "r_D = r_D.rename('r_D')\n",
    "\n",
    "# ols \n",
    "partial_lasso_fit = sm.OLS(r_Y, r_D).fit()\n",
    "\n",
    "est_lasso = partial_lasso_fit.summary2().tables[1]['Coef.']['r_D']\n",
    "std_lasso = partial_lasso_fit.summary2().tables[1]['Std.Err.']['r_D']\n",
    "lower_ci_lasso = partial_lasso_fit.summary2().tables[1]['[0.025']['r_D']\n",
    "upper_ci_lasso = partial_lasso_fit.summary2().tables[1]['0.975]']['r_D']"
   ]
  },
  {
   "cell_type": "code",
   "execution_count": null,
   "metadata": {},
   "outputs": [],
   "source": [
    "# Regress residuales\n",
    "partial_lasso_fit = sm.OLS(r_Y, r_D).fit()\n",
    "partial_lasso_est = partial_lasso_fit.summary2().tables[1]['Coef.']['r_D']\n",
    "\n",
    "print( f\"Coefficient for D via sample splitting using lasso {partial_lasso_est}\" )"
   ]
  },
  {
   "cell_type": "code",
   "execution_count": null,
   "metadata": {},
   "outputs": [],
   "source": [
    "# output: estimated regression coefficient corresponding to the target regressor\n",
    "est_lasso_train_1 = partial_lasso_fit.summary2().tables[1]['Coef.']['r_D']\n",
    "\n",
    "# output: std. error\n",
    "std_lasso_train_1 = partial_lasso_fit.summary2().tables[1]['Std.Err.']['r_D']\n",
    "\n",
    "# output: 95% confidence interval\n",
    "lower_ci_lasso_train_1 = partial_lasso_fit.summary2().tables[1]['[0.025']['r_D']\n",
    "upper_ci_lasso_train_1 = partial_lasso_fit.summary2().tables[1]['0.975]']['r_D']"
   ]
  },
  {
   "cell_type": "code",
   "execution_count": null,
   "metadata": {},
   "outputs": [],
   "source": [
    "r_Y = pd.DataFrame(r_Y)\n",
    "r_D = pd.DataFrame(r_D)"
   ]
  },
  {
   "cell_type": "code",
   "execution_count": null,
   "metadata": {},
   "outputs": [],
   "source": [
    "from sklearn.linear_model import LinearRegression\n",
    "model = LinearRegression()\n",
    "mymodel = model.fit(r_Y, r_D)"
   ]
  },
  {
   "cell_type": "code",
   "execution_count": null,
   "metadata": {},
   "outputs": [],
   "source": [
    "# K - fold CV\n",
    "# Importing cross_val score function\n",
    "\n",
    "from sklearn.model_selection import cross_val_score\n",
    "\n",
    "# 5-fold CV\n",
    "scores = cross_val_score(mymodel, W_train, D_train ,Y_train)\n",
    "scores"
   ]
  },
  {
   "cell_type": "code",
   "execution_count": null,
   "metadata": {},
   "outputs": [],
   "source": [
    "from sklearn import linear_model\n",
    "\n",
    "# Seat values for Lasso\n",
    "lasso_model = linear_model.Lasso( alpha = 0.1 )\n",
    "r_Y = Y_test - lasso_model.fit(W_test,Y_test ).predict(W_test)\n",
    "r_Y = r_Y.rename('r_Y')\n",
    "\n",
    "# Part. out d\n",
    "r_D = D_test - lasso_model.fit(W_test,D_test).predict(W_test)\n",
    "r_D = r_D.rename('r_D')\n",
    "\n",
    "# ols \n",
    "partial_lasso_fit = sm.OLS(r_Y, r_D).fit()\n",
    "\n",
    "est_lasso = partial_lasso_fit.summary2().tables[1]['Coef.']['r_D']\n",
    "std_lasso = partial_lasso_fit.summary2().tables[1]['Std.Err.']['r_D']\n",
    "lower_ci_lasso = partial_lasso_fit.summary2().tables[1]['[0.025']['r_D']\n",
    "upper_ci_lasso = partial_lasso_fit.summary2().tables[1]['0.975]']['r_D']"
   ]
  },
  {
   "cell_type": "code",
   "execution_count": null,
   "metadata": {},
   "outputs": [],
   "source": [
    "r_Y = pd.DataFrame(r_Y)\n",
    "r_D = pd.DataFrame(r_D)"
   ]
  },
  {
   "cell_type": "code",
   "execution_count": null,
   "metadata": {},
   "outputs": [],
   "source": [
    "from sklearn.linear_model import LinearRegression\n",
    "model = LinearRegression()\n",
    "mymodel = model.fit(r_Y, r_D)"
   ]
  },
  {
   "cell_type": "code",
   "execution_count": null,
   "metadata": {},
   "outputs": [],
   "source": [
    "# K - fold CV\n",
    "# Importing cross_val score function\n",
    "\n",
    "from sklearn.model_selection import cross_val_score\n",
    "\n",
    "# 5-fold CV\n",
    "pred = cross_val_score(mymodel, W_test, D_test,Y_test)\n",
    "pred"
   ]
  },
  {
   "cell_type": "code",
   "execution_count": null,
   "metadata": {},
   "outputs": [],
   "source": [
    "# Regress residuales\n",
    "partial_lasso_fit = sm.OLS(r_Y, r_D).fit()\n",
    "partial_lasso_est = partial_lasso_fit.summary2().tables[1]['Coef.']['r_D']\n",
    "\n",
    "print( f\"Coefficient for D via sample splitting using lasso {partial_lasso_est}\" )"
   ]
  },
  {
   "cell_type": "code",
   "execution_count": null,
   "metadata": {},
   "outputs": [],
   "source": [
    "# output: estimated regression coefficient corresponding to the target regressor\n",
    "est_lasso_test_1 = partial_lasso_fit.summary2().tables[1]['Coef.']['r_D']\n",
    "\n",
    "# output: std. error\n",
    "std_lasso_test_1 = partial_lasso_fit.summary2().tables[1]['Std.Err.']['r_D']\n",
    "\n",
    "# output: 95% confidence interval\n",
    "lower_ci_lasso_test_1 = partial_lasso_fit.summary2().tables[1]['[0.025']['r_D']\n",
    "upper_ci_lasso_test_1 = partial_lasso_fit.summary2().tables[1]['0.975]']['r_D']"
   ]
  },
  {
   "cell_type": "markdown",
   "metadata": {},
   "source": [
    "#### Thridly, let's use the $ \\alpha $ = 0.8 in order to know how $\\beta$ changes in comparison when we use $ \\alpha $ =0.00077 and the other $ \\alpha $ = 0.1"
   ]
  },
  {
   "cell_type": "code",
   "execution_count": null,
   "metadata": {},
   "outputs": [],
   "source": [
    "from sklearn import linear_model\n",
    "\n",
    "# Seat values for Lasso\n",
    "lasso_model = linear_model.Lasso( alpha = 0.8 )\n",
    "r_Y = Y_train - lasso_model.fit(W_train,Y_train).predict(W_train)\n",
    "r_Y = r_Y.rename('r_Y')\n",
    "\n",
    "# Part. out d\n",
    "r_D = D_train - lasso_model.fit(W_train,D_train).predict(W_train)\n",
    "r_D = r_D.rename('r_D')\n",
    "\n",
    "# ols \n",
    "partial_lasso_fit = sm.OLS(r_Y, r_D).fit()\n",
    "\n",
    "est_lasso = partial_lasso_fit.summary2().tables[1]['Coef.']['r_D']\n",
    "std_lasso = partial_lasso_fit.summary2().tables[1]['Std.Err.']['r_D']\n",
    "lower_ci_lasso = partial_lasso_fit.summary2().tables[1]['[0.025']['r_D']\n",
    "upper_ci_lasso = partial_lasso_fit.summary2().tables[1]['0.975]']['r_D']"
   ]
  },
  {
   "cell_type": "code",
   "execution_count": null,
   "metadata": {},
   "outputs": [],
   "source": [
    "# Regress residuales\n",
    "partial_lasso_fit = sm.OLS(r_Y, r_D).fit()\n",
    "partial_lasso_est = partial_lasso_fit.summary2().tables[1]['Coef.']['r_D']\n",
    "\n",
    "print( f\"Coefficient for D via sample splitting using lasso {partial_lasso_est}\" )"
   ]
  },
  {
   "cell_type": "code",
   "execution_count": null,
   "metadata": {},
   "outputs": [],
   "source": [
    "# output: estimated regression coefficient corresponding to the target regressor\n",
    "est_lasso_train_2 = partial_lasso_fit.summary2().tables[1]['Coef.']['r_D']\n",
    "\n",
    "# output: std. error\n",
    "std_lasso_train_2 = partial_lasso_fit.summary2().tables[1]['Std.Err.']['r_D']\n",
    "\n",
    "# output: 95% confidence interval\n",
    "lower_ci_lasso_train_2 = partial_lasso_fit.summary2().tables[1]['[0.025']['r_D']\n",
    "upper_ci_lasso_train_2 = partial_lasso_fit.summary2().tables[1]['0.975]']['r_D']"
   ]
  },
  {
   "cell_type": "code",
   "execution_count": null,
   "metadata": {},
   "outputs": [],
   "source": [
    "r_Y = pd.DataFrame(r_Y)\n",
    "r_D = pd.DataFrame(r_D)"
   ]
  },
  {
   "cell_type": "code",
   "execution_count": null,
   "metadata": {},
   "outputs": [],
   "source": [
    "from sklearn.linear_model import LinearRegression\n",
    "model = LinearRegression()\n",
    "mymodel = model.fit(r_Y, r_D)"
   ]
  },
  {
   "cell_type": "code",
   "execution_count": null,
   "metadata": {},
   "outputs": [],
   "source": [
    "# K - fold CV\n",
    "# Importing cross_val score function\n",
    "\n",
    "from sklearn.model_selection import cross_val_score\n",
    "\n",
    "# 5-fold CV\n",
    "pred = cross_val_score(mymodel, W_test, D_test,Y_test)\n",
    "pred"
   ]
  },
  {
   "cell_type": "code",
   "execution_count": null,
   "metadata": {},
   "outputs": [],
   "source": [
    "# Regress residuales\n",
    "partial_lasso_fit = sm.OLS(r_Y, r_D).fit()\n",
    "partial_lasso_est = partial_lasso_fit.summary2().tables[1]['Coef.']['r_D']\n",
    "\n",
    "print( f\"Coefficient for D via sample splitting using lasso {partial_lasso_est}\" )"
   ]
  },
  {
   "cell_type": "code",
   "execution_count": null,
   "metadata": {},
   "outputs": [],
   "source": [
    "# output: estimated regression coefficient corresponding to the target regressor\n",
    "est_lasso_test_2 = partial_lasso_fit.summary2().tables[1]['Coef.']['r_D']\n",
    "\n",
    "# output: std. error\n",
    "std_lasso_test_2 = partial_lasso_fit.summary2().tables[1]['Std.Err.']['r_D']\n",
    "\n",
    "# output: 95% confidence interval\n",
    "lower_ci_lasso_test_2 = partial_lasso_fit.summary2().tables[1]['[0.025']['r_D']\n",
    "upper_ci_lasso_test_2 = partial_lasso_fit.summary2().tables[1]['0.975]']['r_D']"
   ]
  },
  {
   "cell_type": "markdown",
   "metadata": {},
   "source": [
    "## Summary LASSO results\n"
   ]
  },
  {
   "cell_type": "markdown",
   "metadata": {},
   "source": [
    "Finally, let us have a look at the results."
   ]
  },
  {
   "cell_type": "code",
   "execution_count": null,
   "metadata": {},
   "outputs": [],
   "source": [
    "table_2 = np.zeros( (1, 4) )\n",
    "\n",
    "table_2[0,0] = est_lasso_train\n",
    "table_2[0,1] = std_lasso_train\n",
    "table_2[0,2] = lower_ci_lasso_train\n",
    "table_2[0,3] = upper_ci_lasso_train\n",
    "\n",
    "\n",
    "table_2_pandas = pd.DataFrame( table_2, columns = [ \"Estimator\",\"Std. Error\", \"lower bound CI\", \"upper bound CI\"  ])\n",
    "table_2_pandas.index = [ \"LASSO TRAIN (alpha=0.00077)\" ]\n",
    "table_2_pandas"
   ]
  },
  {
   "cell_type": "code",
   "execution_count": null,
   "metadata": {},
   "outputs": [],
   "source": [
    "table_3 = table_1_pandas.append(table_2_pandas)\n",
    "table_3"
   ]
  },
  {
   "cell_type": "code",
   "execution_count": null,
   "metadata": {},
   "outputs": [],
   "source": [
    "table_4 = table_2 = np.zeros( (1, 4) )\n",
    "\n",
    "table_4[0,0] = est_lasso_test\n",
    "table_4[0,1] = std_lasso_test\n",
    "table_4[0,2] = lower_ci_lasso_test\n",
    "table_4[0,3] = upper_ci_lasso_test\n",
    "\n",
    "table_4_pandas = pd.DataFrame( table_4, columns = [ \"Estimator\",\"Std. Error\", \"lower bound CI\", \"upper bound CI\"  ])\n",
    "table_4_pandas.index = [ \"LASSO TEST (alpha= 0.00077)\" ]\n",
    "table_4_pandas"
   ]
  },
  {
   "cell_type": "code",
   "execution_count": null,
   "metadata": {},
   "outputs": [],
   "source": [
    "table_5 = table_3.append(table_4_pandas)\n",
    "table_5"
   ]
  },
  {
   "cell_type": "code",
   "execution_count": null,
   "metadata": {},
   "outputs": [],
   "source": [
    "table_6 = np.zeros( (1, 4) )\n",
    "\n",
    "table_6[0,0] = est_lasso_train_1\n",
    "table_6[0,1] = std_lasso_train_1\n",
    "table_6[0,2] = lower_ci_lasso_train_1\n",
    "table_6[0,3] = upper_ci_lasso_train_1\n",
    "\n",
    "\n",
    "table_6_pandas = pd.DataFrame( table_2, columns = [ \"Estimator\",\"Std. Error\", \"lower bound CI\", \"upper bound CI\"  ])\n",
    "table_6_pandas.index = [ \"LASSO TRAIN ( alpha =0.1)\" ]\n",
    "table_6_pandas"
   ]
  },
  {
   "cell_type": "code",
   "execution_count": null,
   "metadata": {},
   "outputs": [],
   "source": [
    "table_7 = table_5.append(table_6_pandas)\n",
    "table_7"
   ]
  },
  {
   "cell_type": "code",
   "execution_count": null,
   "metadata": {},
   "outputs": [],
   "source": [
    "table_8 = table_2 = np.zeros( (1, 4) )\n",
    "\n",
    "table_8[0,0] = est_lasso_test_1\n",
    "table_8[0,1] = std_lasso_test_1\n",
    "table_8[0,2] = lower_ci_lasso_test_1\n",
    "table_8[0,3] = upper_ci_lasso_test_1\n",
    "\n",
    "table_8_pandas = pd.DataFrame( table_4, columns = [ \"Estimator\",\"Std. Error\", \"lower bound CI\", \"upper bound CI\"  ])\n",
    "table_8_pandas.index = [ \"LASSO TEST ( alpha= 0.1 )\" ]\n",
    "table_8_pandas"
   ]
  },
  {
   "cell_type": "code",
   "execution_count": null,
   "metadata": {},
   "outputs": [],
   "source": [
    "table_9 = table_7.append(table_8_pandas)\n",
    "table_9"
   ]
  },
  {
   "cell_type": "code",
   "execution_count": null,
   "metadata": {},
   "outputs": [],
   "source": [
    "table_10 = np.zeros( (1, 4) )\n",
    "\n",
    "table_10[0,0] = est_lasso_train_2\n",
    "table_10[0,1] = std_lasso_train_2\n",
    "table_10[0,2] = lower_ci_lasso_train_2\n",
    "table_10[0,3] = upper_ci_lasso_train_2\n",
    "\n",
    "\n",
    "table_10_pandas = pd.DataFrame( table_2, columns = [ \"Estimator\",\"Std. Error\", \"lower bound CI\", \"upper bound CI\"  ])\n",
    "table_10_pandas.index = [ \"LASSO TRAIN (alpha=0.8)\" ]\n",
    "table_10_pandas"
   ]
  },
  {
   "cell_type": "code",
   "execution_count": null,
   "metadata": {},
   "outputs": [],
   "source": [
    "table_11 = table_9.append(table_10_pandas)\n",
    "table_11"
   ]
  },
  {
   "cell_type": "code",
   "execution_count": null,
   "metadata": {},
   "outputs": [],
   "source": [
    "table_12 = np.zeros( (1, 4) )\n",
    "\n",
    "table_12[0,0] = est_lasso_test_2\n",
    "table_12[0,1] = std_lasso_test_2\n",
    "table_12[0,2] = lower_ci_lasso_test_2\n",
    "table_12[0,3] = upper_ci_lasso_test_2\n",
    "\n",
    "\n",
    "table_12_pandas = pd.DataFrame( table_2, columns = [ \"Estimator\",\"Std. Error\", \"lower bound CI\", \"upper bound CI\"  ])\n",
    "table_12_pandas.index = [ \"LASSO TEST (alpha=0.8)\" ]\n",
    "table_12_pandas"
   ]
  },
  {
   "cell_type": "code",
   "execution_count": null,
   "metadata": {},
   "outputs": [],
   "source": [
    "table_13 = table_11.append(table_12_pandas)\n",
    "table_13"
   ]
  },
  {
   "cell_type": "code",
   "execution_count": null,
   "metadata": {},
   "outputs": [],
   "source": [
    "table_13_html = table_13.to_html()\n",
    "print(table_13_html)"
   ]
  },
  {
   "cell_type": "markdown",
   "metadata": {},
   "source": [
    "The least square method provides a rather noisy estimate of the speed of convergence. We can not answer the question if poor countries grow faster than rich countries. The least square method does not work when the ratio $p/n$ is large.\n",
    "\n",
    "First of all, these are the $\\beta$'s for Lasso when $\\alpha$ = 0.00077.\n",
    "\n",
    "On the one hand, for  sample splitting via Lasso provides a more precise estimate. \n",
    "The Lasso (Train sample) based point estimate is $-5\\%$ and the $95\\%$ confidence interval for the (annual) rate of convergence $[-8.14\\%,1.03\\%]$ only includes negative numbers. This empirical evidence does NOT support the convergence hypothesis.\n",
    "\n",
    "On the other hand, The Lasso (Test sample) based point estimate is $-5\\%$ and the $95\\%$ confidence interval for the (annual) rate of convergence $[-17.38\\%,-0.87\\%]$ only includes negative numbers. This empirical evidence does support the convergence hypothesis.\n",
    "\n",
    "Secondly, these are the $\\beta$'s for Lasso when $\\alpha$ = 0.1.\n",
    "\n",
    "On the one hand, for  sample splitting via Lasso provides a more precise estimate. \n",
    "The Lasso (Train sample) based point estimate is $-5\\%$ and the $95\\%$ confidence interval for the (annual) rate of convergence $[-17.38\\%,-0.87\\%]$ only includes negative numbers. This empirical evidence does support the convergence hypothesis.\n",
    "\n",
    "On the other hand, The Lasso (Test sample) based point estimate is $-5\\%$ and the $95\\%$ confidence interval for the (annual) rate of convergence $[-17.38\\%,-0.87\\%]$ only includes negative numbers. This empirical evidence does support the convergence hypothesis.\n",
    "\n",
    "First of all, these are the $\\beta$'s for Lasso when $\\alpha$ = 0.8\n",
    "\n",
    "On the one hand, for  sample splitting via Lasso provides a more precise estimate. \n",
    "The Lasso (Train sample) based point estimate is $-5\\%$ and the $95\\%$ confidence interval for the (annual) rate of convergence $[-8.06\\%,-0.12\\%]$ only includes negative numbers. This empirical evidence does support the convergence hypothesis.\n",
    "\n",
    "On the other hand, The Lasso (Test sample) based point estimate is $-5\\%$ and the $95\\%$ confidence interval for the (annual) rate of convergence $[-8.06\\%,-0.12\\%]$ only includes negative numbers. This empirical evidence does support the convergence hypothesis."
   ]
  },
  {
   "cell_type": "markdown",
   "metadata": {},
   "source": [
    "<table border=\"1\" class=\"dataframe\">\n",
    "  <thead>\n",
    "    <tr style=\"text-align: right;\">\n",
    "      <th></th>\n",
    "      <th>Estimator</th>\n",
    "      <th>Std. Error</th>\n",
    "      <th>lower bound CI</th>\n",
    "      <th>upper bound CI</th>\n",
    "    </tr>\n",
    "  </thead>\n",
    "  <tbody>\n",
    "    <tr>\n",
    "      <th>OLS</th>\n",
    "      <td>-0.009378</td>\n",
    "      <td>0.029888</td>\n",
    "      <td>-0.070600</td>\n",
    "      <td>0.051844</td>\n",
    "    </tr>\n",
    "    <tr>\n",
    "      <th>LASSO TRAIN (alpha=0.00077)</th>\n",
    "      <td>-0.035543</td>\n",
    "      <td>0.022953</td>\n",
    "      <td>-0.081426</td>\n",
    "      <td>0.010340</td>\n",
    "    </tr>\n",
    "    <tr>\n",
    "      <th>LASSO TEST (alpha= 0.00077)</th>\n",
    "      <td>-0.091273</td>\n",
    "      <td>0.040154</td>\n",
    "      <td>-0.173811</td>\n",
    "      <td>-0.008736</td>\n",
    "    </tr>\n",
    "    <tr>\n",
    "      <th>LASSO TRAIN ( alpha =0.1)</th>\n",
    "      <td>-0.091273</td>\n",
    "      <td>0.040154</td>\n",
    "      <td>-0.173811</td>\n",
    "      <td>-0.008736</td>\n",
    "    </tr>\n",
    "    <tr>\n",
    "      <th>LASSO TEST ( alpha= 0.1 )</th>\n",
    "      <td>-0.091273</td>\n",
    "      <td>0.040154</td>\n",
    "      <td>-0.173811</td>\n",
    "      <td>-0.008736</td>\n",
    "    </tr>\n",
    "    <tr>\n",
    "      <th>LASSO TRAIN (alpha=0.8)</th>\n",
    "      <td>-0.040951</td>\n",
    "      <td>0.019292</td>\n",
    "      <td>-0.080605</td>\n",
    "      <td>-0.001296</td>\n",
    "    </tr>\n",
    "    <tr>\n",
    "      <th>LASSO TEST (alpha=0.8)</th>\n",
    "      <td>-0.040951</td>\n",
    "      <td>0.019292</td>\n",
    "      <td>-0.080605</td>\n",
    "      <td>-0.001296</td>\n",
    "    </tr>\n",
    "  </tbody>\n",
    "</table>"
   ]
  },
  {
   "cell_type": "markdown",
   "metadata": {},
   "source": [
    "## Double LASSO using theoretical Lambda (HDM package)"
   ]
  },
  {
   "cell_type": "code",
   "execution_count": null,
   "metadata": {},
   "outputs": [],
   "source": [
    "res_Y = hdmpy.rlasso( W, Y, post=True ).est['residuals']\n",
    "res_D = hdmpy.rlasso( W, D, post=True ).est['residuals']\n",
    "\n",
    "r_Y = pd.DataFrame(res_Y, columns=['r_Y'])\n",
    "r_D = pd.DataFrame(res_D, columns=['r_D'])"
   ]
  },
  {
   "cell_type": "code",
   "execution_count": null,
   "metadata": {},
   "outputs": [],
   "source": [
    "# OLS regression\n",
    "reg_ols  = sm.OLS(r_Y, r_D).fit()\n",
    "print(reg_ols.summary())"
   ]
  },
  {
   "cell_type": "code",
   "execution_count": null,
   "metadata": {},
   "outputs": [],
   "source": [
    "# output: estimated regression coefficient corresponding to the target regressor\n",
    "est_lasso_HDM = reg_ols.summary2().tables[1]['Coef.']['r_D']\n",
    "\n",
    "# output: std. error\n",
    "std_lasso_HDM = reg_ols.summary2().tables[1]['Std.Err.']['r_D']\n",
    "\n",
    "# output: 95% confidence interval\n",
    "lower_ci_lasso_HDM = reg_ols.summary2().tables[1]['[0.025']['r_D']\n",
    "upper_ci_lasso_HDM = reg_ols.summary2().tables[1]['0.975]']['r_D']"
   ]
  },
  {
   "cell_type": "code",
   "execution_count": null,
   "metadata": {},
   "outputs": [],
   "source": [
    "table_3 = np.zeros( (1, 4) )\n",
    "\n",
    "table_3[0,0] = est_lasso_HDM\n",
    "table_3[0,1] = std_lasso_HDM\n",
    "table_3[0,2] = lower_ci_lasso_HDM \n",
    "table_3[0,3] = upper_ci_lasso_HDM\n",
    "\n",
    "\n",
    "table_3_pandas = pd.DataFrame( table_3, columns = [ \"Estimator\",\"Std. Error\", \"lower bound CI\", \"upper bound CI\"  ]) \n",
    "table_3_pandas.index = [ \"LASSO_HDM\" ]\n",
    "table_3_pandas"
   ]
  },
  {
   "cell_type": "markdown",
   "metadata": {},
   "source": [
    "Using HDM package via lasso provides estimation with $-5\\%$ and the $95\\%$ confidence interval for the (annual) rate of convergence $[-7.73\\%,-2.22\\%]$ only includes negative numbers. This empirical evidence does support the convergence hypothesis."
   ]
  },
  {
   "cell_type": "markdown",
   "metadata": {},
   "source": [
    "## Double LASSO using method = \"partialling out\""
   ]
  },
  {
   "cell_type": "code",
   "execution_count": null,
   "metadata": {},
   "outputs": [],
   "source": [
    "lasso_direct = hdmpy.rlassoEffect(x=W, y=Y, d=D, method=\"partialling out\")\n",
    "lasso_direct"
   ]
  },
  {
   "cell_type": "code",
   "execution_count": null,
   "metadata": {},
   "outputs": [],
   "source": [
    "est_lasso_part_out = lasso_direct[\"coefficients\"]\n",
    "std_lasso_part_out = lasso_direct[\"se\"]\n",
    "lower_ci_lasso_part_out = est_lasso - 1.96*std_lasso\n",
    "upper_ci_lasso_part_out = est_lasso + 1.96*std_lasso"
   ]
  },
  {
   "cell_type": "code",
   "execution_count": null,
   "metadata": {},
   "outputs": [],
   "source": [
    "table_4 = np.zeros( (1, 4) )\n",
    "\n",
    "table_4[0,0] = est_lasso_part_out\n",
    "table_4[0,1] = std_lasso_part_out\n",
    "table_4[0,2] = lower_ci_lasso_part_out\n",
    "table_4[0,3] = upper_ci_lasso_part_out\n",
    "\n",
    "\n",
    "table_4_pandas = pd.DataFrame( table_4, columns = [ \"Estimator\",\"Std. Error\", \"lower bound CI\", \"upper bound CI\"  ]) \n",
    "table_4_pandas.index = [ \"LASSO_partialling_out\" ]\n",
    "table_4_pandas"
   ]
  },
  {
   "cell_type": "markdown",
   "metadata": {},
   "source": [
    "The partialling-out approach via lasso does not allow us to answer the question about the convergence hypothesis since the confidence interval includes zero."
   ]
  },
  {
   "cell_type": "code",
   "execution_count": null,
   "metadata": {},
   "outputs": [],
   "source": [
    "table_14 = table_13.append(table_3_pandas)\n",
    "table_14"
   ]
  },
  {
   "cell_type": "code",
   "execution_count": null,
   "metadata": {},
   "outputs": [],
   "source": [
    "table_15 = table_14.append(table_4_pandas)\n",
    "table_15"
   ]
  },
  {
   "cell_type": "code",
   "execution_count": null,
   "metadata": {},
   "outputs": [],
   "source": [
    "coef_df = pd.DataFrame(table_15) \n",
    "coef_df"
   ]
  },
  {
   "cell_type": "code",
   "execution_count": null,
   "metadata": {},
   "outputs": [],
   "source": [
    "variables = list(coef_df.index.values)\n",
    "variables"
   ]
  },
  {
   "cell_type": "code",
   "execution_count": null,
   "metadata": {},
   "outputs": [],
   "source": [
    "coef_df['variables'] = variables\n",
    "coef_df"
   ]
  },
  {
   "cell_type": "code",
   "execution_count": null,
   "metadata": {},
   "outputs": [],
   "source": [
    "errors = coef_df['Estimator'] - coef_df['lower bound CI']"
   ]
  },
  {
   "cell_type": "code",
   "execution_count": null,
   "metadata": {},
   "outputs": [],
   "source": [
    "coef_df['errors'] = errors"
   ]
  },
  {
   "cell_type": "code",
   "execution_count": null,
   "metadata": {},
   "outputs": [],
   "source": [
    "# Define figure, axes, and plot\n",
    "fig, ax = plt.subplots(figsize=(15, 10))\n",
    "    \n",
    "# Error bars for 95% confidence interval\n",
    "# Can increase capsize to add whiskers\n",
    "coef_df.plot(x='variables', y='Estimator', kind='bar',\n",
    "            ax=ax, color='none', fontsize=22, \n",
    "            ecolor='steelblue',capsize=0,\n",
    "            yerr='errors', legend=False)\n",
    "    \n",
    "# Set title & labels\n",
    "plt.title('Coefficients of Features w/ 95% Confidence Intervals',fontsize=30)\n",
    "ax.set_ylabel('Coefficients',fontsize=22)\n",
    "ax.set_xlabel('',fontsize=22)\n",
    "    \n",
    "# Coefficients\n",
    "ax.scatter(x=pd.np.arange(coef_df.shape[0]), \n",
    "         marker='o', s=80, \n",
    "         y=coef_df['Estimator'], color='steelblue')\n",
    "    \n",
    "# Line to define zero on the y-axis\n",
    "ax.axhline(y=0, linestyle='--', color='red', linewidth=1)\n",
    "plt.show()"
   ]
  },
  {
   "cell_type": "markdown",
   "metadata": {},
   "source": [
    "#### This graph shows the comparison of the coefficients in the different model approaches: OLS, Lasso (with $\\alpha$ = 0.00077), Lasso (with $\\alpha$ = 0.1), Lasso (with $\\alpha$ = 0.8), Lasso with the HDM package and the Lasso by the \"partialling out\" method. These are the following inferences:\n",
    "\n",
    "\n",
    "- First of all, Ordinal Least squares provides a rather noisy estimate (high standard error) of the speed of convergence, and does not allow us to answer the question about the convergence hypothesis since the confidence interval includes zero.\n",
    "\n",
    "- Secondly, on the one hand, for  sample splitting via Lasso provides a more precise estimate. \n",
    "\n",
    "- The Lasso (Train sample) based point estimate is $-5\\%$ and the $95\\%$ confidence interval for the (annual) rate of convergence $[-8.14\\%,1.03\\%]$ only includes negative numbers. This empirical evidence does NOT support the convergence hypothesis.\n",
    "\n",
    "- On the other hand, The Lasso (Test sample) based point estimate is $-5\\%$ and the $95\\%$ confidence interval for the (annual) rate of convergence $[-17.38\\%,-0.87\\%]$ only includes negative numbers. This empirical evidence does support the convergence hypothesis.\n",
    "\n",
    "- Thirdly, these are the $\\beta$'s for Lasso when $\\alpha$ = 0.1. On the one hand, for  sample splitting via Lasso provides a more precise estimate. \n",
    "\n",
    "- The Lasso (Train sample) based point estimate is $-5\\%$ and the $95\\%$ confidence interval for the (annual) rate of convergence $[-17.38\\%,-0.87\\%]$ only includes negative numbers. This empirical evidence does support the convergence hypothesis.\n",
    "\n",
    "- On the other hand, The Lasso (Test sample) based point estimate is $-5\\%$ and the $95\\%$ confidence interval for the (annual) rate of convergence $[-17.38\\%,-0.87\\%]$ only includes negative numbers. This empirical evidence does support the convergence hypothesis.\n",
    "\n",
    "- Fourthly, these are the $\\beta$'s for Lasso when $\\alpha$ = 0.8\n",
    "\n",
    "- One the one hand, The Lasso (Train sample) based point estimate is $-5\\%$ and the $95\\%$ confidence interval for the (annual) rate of convergence $[-8.06\\%,-0.12\\%]$ only includes negative numbers. This empirical evidence does support the convergence hypothesis.\n",
    "\n",
    "- On the other hand, The Lasso (Test sample) based point estimate is $-5\\%$ and the $95\\%$ confidence interval for the (annual) rate of convergence $[-8.06\\%,-0.12\\%]$ only includes negative numbers. This empirical evidence does support the convergence hypothesis.\n",
    "\n",
    "- Fifthly, The Lasso via HDM package based point estimate is $-5\\%$ and the $95\\%$ confidence interval for the (annual) rate of convergence $[-7.73\\%,-2.22\\%]$ only includes negative numbers. This empirical evidence does support the convergence hypothesis.\n",
    "\n",
    "- Sixthly, The Lasso via partialling out method based point estimate is $-5\\%$ and the $95\\%$ confidence interval for the (annual) rate of convergence $[-8.05\\%,-0.94\\%]$ only includes negative numbers. This empirical evidence does support the convergence hypothesis.\n",
    "\n",
    "In conclusion, only lasso in almost all the methods used give us significant results (only not in the train sample with $\\alpha$=0.00077). In other words, according to this empirical research we can say that poor countries grow faster than rich countries."
   ]
  }
 ],
 "metadata": {
  "hide_input": false,
  "kernelspec": {
   "display_name": "Python 3",
   "language": "python",
   "name": "python3"
  },
  "language_info": {
   "codemirror_mode": {
    "name": "ipython",
    "version": 3
   },
   "file_extension": ".py",
   "mimetype": "text/x-python",
   "name": "python",
   "nbconvert_exporter": "python",
   "pygments_lexer": "ipython3",
   "version": "3.8.8"
  }
 },
 "nbformat": 4,
 "nbformat_minor": 4
}
