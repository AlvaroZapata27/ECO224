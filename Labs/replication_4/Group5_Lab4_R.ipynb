{
 "cells": [
  {
   "cell_type": "markdown",
   "id": "68fb1652",
   "metadata": {},
   "source": [
    "**Group 5 - LAB 4**\n",
    "\n",
    "Members:\n",
    "* Daniel Carillo\n",
    "* Sonia Asto\n",
    "* Elizabeth Linares"
   ]
  },
  {
   "cell_type": "markdown",
   "id": "ca8959ca",
   "metadata": {},
   "source": [
    "# 1. Double Lasso - Testing the Convergence Hypothesis"
   ]
  },
  {
   "cell_type": "markdown",
   "id": "67c88172",
   "metadata": {},
   "source": [
    "# 2. Double Lasso - Testing the Convergence Hypothesis"
   ]
  },
  {
   "cell_type": "markdown",
   "id": "773893c5",
   "metadata": {},
   "source": [
    "## 2.1  Explain what is the Double Lasso Approach\n"
   ]
  },
  {
   "cell_type": "markdown",
   "id": "b9324b05",
   "metadata": {},
   "source": [
    "Urminsky, Hansen and Chernozhukov introduce double-lasso regression as a primary method of variable selection because using lasso regression directly can be problematic. Coefficients estimated by the lasso that are actually nonzero are often underestimated, and the lasso may mistakenly exclude variables with nonzero coefficients, especially variables with moderate effects. Each of these phenomena usually causes significant regularization bias that negatively affects estimation and inference about $\\beta_1$. The omission of covariates with moderate but nonzero coefficients is especially problematic and results in omitted variable bias when these covariates are relevant predictors of the focal variable.To overcome these biases, it is recommended to use the \"double-lasso\" variable selection procedure that was explicitly designed to alleviate both sources of bias, as follows:"
   ]
  },
  {
   "cell_type": "markdown",
   "id": "4084d5f1",
   "metadata": {},
   "source": [
    "* Step 1: Fit a lasso regression predicting the dependent variable, and keeping track of the variables with non-zero estimated coefficients: $Y_i=\\alpha_0 + \\alpha_1 W_{i1} + \\alpha_2 W_{i2} + ... + \\alpha_k W_{ik} + \\epsilon_i$"
   ]
  },
  {
   "cell_type": "markdown",
   "id": "31b85ed7",
   "metadata": {},
   "source": [
    "* Step 2: Fit a lasso regression predicting the focal independent variable, keeping track of the variables with non-zero estimated coefficients: $X_i=\\delta_0 + \\delta_1 W_{i1} + \\delta_2 W_{i2} + ... + \\delta_k W_{ik} + \\epsilon_i$"
   ]
  },
  {
   "cell_type": "markdown",
   "id": "ed3fa501",
   "metadata": {},
   "source": [
    "If $X_i$ is an effectively randomized treatment, no covariates should be selected in this step."
   ]
  },
  {
   "cell_type": "markdown",
   "id": "0ba27c4c",
   "metadata": {},
   "source": [
    "* Step 3: Fit a linear regression of the dependent variable on the focal independent variable, including the covariates ($W_{ik}$) selected in either of the first two steps: $Y_i=\\beta_0 + \\beta_1 X_i + \\sum_{k \\in A}\\beta_{k+1} W_{ik} + \\epsilon_i$"
   ]
  },
  {
   "cell_type": "markdown",
   "id": "aca036cf",
   "metadata": {},
   "source": [
    "In the equation, $A$ is the union of the variables estimated to have non-zero coefficients in Steps 1 and 2. This regression could also include a small set of additional covariates identified a priori as necessary\n"
   ]
  },
  {
   "cell_type": "markdown",
   "id": "a25886c3",
   "metadata": {},
   "source": [
    "**We can also view the double lasso as using Lasso-based methods in the partialling-out steps when p/n is not small**"
   ]
  },
  {
   "cell_type": "markdown",
   "id": "93e346ec",
   "metadata": {},
   "source": [
    "* Step1: We run the Lasso regressions of $Y_i$ on $W_i$ and $D_i$ on $W_i$.\n",
    "* Step2: Obtain the resulting residuals.\n",
    "* Step3: We run the least squares of Y˘i on D˘ i to obtain the estimator."
   ]
  },
  {
   "cell_type": "markdown",
   "id": "aab56140",
   "metadata": {},
   "source": [
    "## 2.2 Replicate the results using the next approaches"
   ]
  },
  {
   "cell_type": "code",
   "execution_count": 7,
   "id": "ad8f7c79",
   "metadata": {},
   "outputs": [],
   "source": [
    "library(hdm)\n",
    "library(xtable)\n",
    "library(glmnet)"
   ]
  },
  {
   "cell_type": "markdown",
   "id": "52ba0761",
   "metadata": {},
   "source": [
    " * **Data Analysis**"
   ]
  },
  {
   "cell_type": "code",
   "execution_count": 8,
   "id": "1ad02049",
   "metadata": {},
   "outputs": [],
   "source": [
    "growth <- GrowthData"
   ]
  },
  {
   "cell_type": "code",
   "execution_count": 9,
   "id": "70195a67",
   "metadata": {},
   "outputs": [],
   "source": [
    "attach(growth)"
   ]
  },
  {
   "cell_type": "code",
   "execution_count": 10,
   "id": "8c2eb59a",
   "metadata": {},
   "outputs": [
    {
     "data": {
      "text/html": [
       "<ol class=list-inline>\n",
       "\t<li>'Outcome'</li>\n",
       "\t<li>'intercept'</li>\n",
       "\t<li>'gdpsh465'</li>\n",
       "\t<li>'bmp1l'</li>\n",
       "\t<li>'freeop'</li>\n",
       "\t<li>'freetar'</li>\n",
       "\t<li>'h65'</li>\n",
       "\t<li>'hm65'</li>\n",
       "\t<li>'hf65'</li>\n",
       "\t<li>'p65'</li>\n",
       "\t<li>'pm65'</li>\n",
       "\t<li>'pf65'</li>\n",
       "\t<li>'s65'</li>\n",
       "\t<li>'sm65'</li>\n",
       "\t<li>'sf65'</li>\n",
       "\t<li>'fert65'</li>\n",
       "\t<li>'mort65'</li>\n",
       "\t<li>'lifee065'</li>\n",
       "\t<li>'gpop1'</li>\n",
       "\t<li>'fert1'</li>\n",
       "\t<li>'mort1'</li>\n",
       "\t<li>'invsh41'</li>\n",
       "\t<li>'geetot1'</li>\n",
       "\t<li>'geerec1'</li>\n",
       "\t<li>'gde1'</li>\n",
       "\t<li>'govwb1'</li>\n",
       "\t<li>'govsh41'</li>\n",
       "\t<li>'gvxdxe41'</li>\n",
       "\t<li>'high65'</li>\n",
       "\t<li>'highm65'</li>\n",
       "\t<li>'highf65'</li>\n",
       "\t<li>'highc65'</li>\n",
       "\t<li>'highcm65'</li>\n",
       "\t<li>'highcf65'</li>\n",
       "\t<li>'human65'</li>\n",
       "\t<li>'humanm65'</li>\n",
       "\t<li>'humanf65'</li>\n",
       "\t<li>'hyr65'</li>\n",
       "\t<li>'hyrm65'</li>\n",
       "\t<li>'hyrf65'</li>\n",
       "\t<li>'no65'</li>\n",
       "\t<li>'nom65'</li>\n",
       "\t<li>'nof65'</li>\n",
       "\t<li>'pinstab1'</li>\n",
       "\t<li>'pop65'</li>\n",
       "\t<li>'worker65'</li>\n",
       "\t<li>'pop1565'</li>\n",
       "\t<li>'pop6565'</li>\n",
       "\t<li>'sec65'</li>\n",
       "\t<li>'secm65'</li>\n",
       "\t<li>'secf65'</li>\n",
       "\t<li>'secc65'</li>\n",
       "\t<li>'seccm65'</li>\n",
       "\t<li>'seccf65'</li>\n",
       "\t<li>'syr65'</li>\n",
       "\t<li>'syrm65'</li>\n",
       "\t<li>'syrf65'</li>\n",
       "\t<li>'teapri65'</li>\n",
       "\t<li>'teasec65'</li>\n",
       "\t<li>'ex1'</li>\n",
       "\t<li>'im1'</li>\n",
       "\t<li>'xr65'</li>\n",
       "\t<li>'tot1'</li>\n",
       "</ol>\n"
      ],
      "text/latex": [
       "\\begin{enumerate*}\n",
       "\\item 'Outcome'\n",
       "\\item 'intercept'\n",
       "\\item 'gdpsh465'\n",
       "\\item 'bmp1l'\n",
       "\\item 'freeop'\n",
       "\\item 'freetar'\n",
       "\\item 'h65'\n",
       "\\item 'hm65'\n",
       "\\item 'hf65'\n",
       "\\item 'p65'\n",
       "\\item 'pm65'\n",
       "\\item 'pf65'\n",
       "\\item 's65'\n",
       "\\item 'sm65'\n",
       "\\item 'sf65'\n",
       "\\item 'fert65'\n",
       "\\item 'mort65'\n",
       "\\item 'lifee065'\n",
       "\\item 'gpop1'\n",
       "\\item 'fert1'\n",
       "\\item 'mort1'\n",
       "\\item 'invsh41'\n",
       "\\item 'geetot1'\n",
       "\\item 'geerec1'\n",
       "\\item 'gde1'\n",
       "\\item 'govwb1'\n",
       "\\item 'govsh41'\n",
       "\\item 'gvxdxe41'\n",
       "\\item 'high65'\n",
       "\\item 'highm65'\n",
       "\\item 'highf65'\n",
       "\\item 'highc65'\n",
       "\\item 'highcm65'\n",
       "\\item 'highcf65'\n",
       "\\item 'human65'\n",
       "\\item 'humanm65'\n",
       "\\item 'humanf65'\n",
       "\\item 'hyr65'\n",
       "\\item 'hyrm65'\n",
       "\\item 'hyrf65'\n",
       "\\item 'no65'\n",
       "\\item 'nom65'\n",
       "\\item 'nof65'\n",
       "\\item 'pinstab1'\n",
       "\\item 'pop65'\n",
       "\\item 'worker65'\n",
       "\\item 'pop1565'\n",
       "\\item 'pop6565'\n",
       "\\item 'sec65'\n",
       "\\item 'secm65'\n",
       "\\item 'secf65'\n",
       "\\item 'secc65'\n",
       "\\item 'seccm65'\n",
       "\\item 'seccf65'\n",
       "\\item 'syr65'\n",
       "\\item 'syrm65'\n",
       "\\item 'syrf65'\n",
       "\\item 'teapri65'\n",
       "\\item 'teasec65'\n",
       "\\item 'ex1'\n",
       "\\item 'im1'\n",
       "\\item 'xr65'\n",
       "\\item 'tot1'\n",
       "\\end{enumerate*}\n"
      ],
      "text/markdown": [
       "1. 'Outcome'\n",
       "2. 'intercept'\n",
       "3. 'gdpsh465'\n",
       "4. 'bmp1l'\n",
       "5. 'freeop'\n",
       "6. 'freetar'\n",
       "7. 'h65'\n",
       "8. 'hm65'\n",
       "9. 'hf65'\n",
       "10. 'p65'\n",
       "11. 'pm65'\n",
       "12. 'pf65'\n",
       "13. 's65'\n",
       "14. 'sm65'\n",
       "15. 'sf65'\n",
       "16. 'fert65'\n",
       "17. 'mort65'\n",
       "18. 'lifee065'\n",
       "19. 'gpop1'\n",
       "20. 'fert1'\n",
       "21. 'mort1'\n",
       "22. 'invsh41'\n",
       "23. 'geetot1'\n",
       "24. 'geerec1'\n",
       "25. 'gde1'\n",
       "26. 'govwb1'\n",
       "27. 'govsh41'\n",
       "28. 'gvxdxe41'\n",
       "29. 'high65'\n",
       "30. 'highm65'\n",
       "31. 'highf65'\n",
       "32. 'highc65'\n",
       "33. 'highcm65'\n",
       "34. 'highcf65'\n",
       "35. 'human65'\n",
       "36. 'humanm65'\n",
       "37. 'humanf65'\n",
       "38. 'hyr65'\n",
       "39. 'hyrm65'\n",
       "40. 'hyrf65'\n",
       "41. 'no65'\n",
       "42. 'nom65'\n",
       "43. 'nof65'\n",
       "44. 'pinstab1'\n",
       "45. 'pop65'\n",
       "46. 'worker65'\n",
       "47. 'pop1565'\n",
       "48. 'pop6565'\n",
       "49. 'sec65'\n",
       "50. 'secm65'\n",
       "51. 'secf65'\n",
       "52. 'secc65'\n",
       "53. 'seccm65'\n",
       "54. 'seccf65'\n",
       "55. 'syr65'\n",
       "56. 'syrm65'\n",
       "57. 'syrf65'\n",
       "58. 'teapri65'\n",
       "59. 'teasec65'\n",
       "60. 'ex1'\n",
       "61. 'im1'\n",
       "62. 'xr65'\n",
       "63. 'tot1'\n",
       "\n",
       "\n"
      ],
      "text/plain": [
       " [1] \"Outcome\"   \"intercept\" \"gdpsh465\"  \"bmp1l\"     \"freeop\"    \"freetar\"  \n",
       " [7] \"h65\"       \"hm65\"      \"hf65\"      \"p65\"       \"pm65\"      \"pf65\"     \n",
       "[13] \"s65\"       \"sm65\"      \"sf65\"      \"fert65\"    \"mort65\"    \"lifee065\" \n",
       "[19] \"gpop1\"     \"fert1\"     \"mort1\"     \"invsh41\"   \"geetot1\"   \"geerec1\"  \n",
       "[25] \"gde1\"      \"govwb1\"    \"govsh41\"   \"gvxdxe41\"  \"high65\"    \"highm65\"  \n",
       "[31] \"highf65\"   \"highc65\"   \"highcm65\"  \"highcf65\"  \"human65\"   \"humanm65\" \n",
       "[37] \"humanf65\"  \"hyr65\"     \"hyrm65\"    \"hyrf65\"    \"no65\"      \"nom65\"    \n",
       "[43] \"nof65\"     \"pinstab1\"  \"pop65\"     \"worker65\"  \"pop1565\"   \"pop6565\"  \n",
       "[49] \"sec65\"     \"secm65\"    \"secf65\"    \"secc65\"    \"seccm65\"   \"seccf65\"  \n",
       "[55] \"syr65\"     \"syrm65\"    \"syrf65\"    \"teapri65\"  \"teasec65\"  \"ex1\"      \n",
       "[61] \"im1\"       \"xr65\"      \"tot1\"     "
      ]
     },
     "metadata": {},
     "output_type": "display_data"
    },
    {
     "data": {
      "text/html": [
       "<ol class=list-inline>\n",
       "\t<li>90</li>\n",
       "\t<li>63</li>\n",
       "</ol>\n"
      ],
      "text/latex": [
       "\\begin{enumerate*}\n",
       "\\item 90\n",
       "\\item 63\n",
       "\\end{enumerate*}\n"
      ],
      "text/markdown": [
       "1. 90\n",
       "2. 63\n",
       "\n",
       "\n"
      ],
      "text/plain": [
       "[1] 90 63"
      ]
     },
     "metadata": {},
     "output_type": "display_data"
    }
   ],
   "source": [
    "names(growth)\n",
    "dim(growth)\n",
    "\n",
    "n<- nrow(growth)\n",
    "p<- ncol(growth)"
   ]
  },
  {
   "cell_type": "markdown",
   "id": "3dcdfe6e",
   "metadata": {},
   "source": [
    "The sample contains $90$ countries and $63$ controls. Thus $p \\approx 60$, $n=90$ and $p/n$ is not small. We expect the least squares method to provide a poor estimate of $\\beta_1$.  We expect the method based on partialling-out with Lasso to provide a high quality estimate of $\\beta_1$."
   ]
  },
  {
   "cell_type": "markdown",
   "id": "507c9058",
   "metadata": {},
   "source": [
    "The outcome variable $Y$ is the realized annual growth rate of a country's wealth  (Gross Domestic Product per capita). The target regressor, $D$ (*gdpsh465*), is the initial level of the country's wealth. The target parameter $\\beta_1$ is the speed of convergence, which measures the speed at which poor countries catch up with rich countries. The controls ($W$) include measures of education levels, quality of institutions, trade openness, and political stability in the country."
   ]
  },
  {
   "cell_type": "markdown",
   "id": "62c55abc",
   "metadata": {},
   "source": [
    " * **OLS**"
   ]
  },
  {
   "cell_type": "code",
   "execution_count": 12,
   "id": "409f7b88",
   "metadata": {},
   "outputs": [
    {
     "data": {
      "text/plain": [
       "\n",
       "Call:\n",
       "lm(formula = Outcome ~ . - 1, data = growth)\n",
       "\n",
       "Residuals:\n",
       "      Min        1Q    Median        3Q       Max \n",
       "-0.040338 -0.011298 -0.000863  0.011813  0.043247 \n",
       "\n",
       "Coefficients:\n",
       "            Estimate Std. Error t value Pr(>|t|)   \n",
       "intercept  2.472e-01  7.845e-01   0.315  0.75506   \n",
       "gdpsh465  -9.378e-03  2.989e-02  -0.314  0.75602   \n",
       "bmp1l     -6.886e-02  3.253e-02  -2.117  0.04329 * \n",
       "freeop     8.007e-02  2.079e-01   0.385  0.70300   \n",
       "freetar   -4.890e-01  4.182e-01  -1.169  0.25214   \n",
       "h65       -2.362e+00  8.573e-01  -2.755  0.01019 * \n",
       "hm65       7.071e-01  5.231e-01   1.352  0.18729   \n",
       "hf65       1.693e+00  5.032e-01   3.365  0.00223 **\n",
       "p65        2.655e-01  1.643e-01   1.616  0.11727   \n",
       "pm65       1.370e-01  1.512e-01   0.906  0.37284   \n",
       "pf65      -3.313e-01  1.651e-01  -2.006  0.05458 . \n",
       "s65        3.908e-02  1.855e-01   0.211  0.83469   \n",
       "sm65      -3.067e-02  1.168e-01  -0.263  0.79479   \n",
       "sf65      -1.799e-01  1.181e-01  -1.523  0.13886   \n",
       "fert65     6.881e-03  2.705e-02   0.254  0.80108   \n",
       "mort65    -2.335e-01  8.174e-01  -0.286  0.77729   \n",
       "lifee065  -1.491e-02  1.933e-01  -0.077  0.93906   \n",
       "gpop1      9.702e-01  1.812e+00   0.535  0.59663   \n",
       "fert1      8.838e-03  3.504e-02   0.252  0.80271   \n",
       "mort1      6.656e-02  6.848e-01   0.097  0.92326   \n",
       "invsh41    7.446e-02  1.084e-01   0.687  0.49797   \n",
       "geetot1   -7.151e-01  1.680e+00  -0.426  0.67364   \n",
       "geerec1    6.300e-01  2.447e+00   0.257  0.79874   \n",
       "gde1      -4.436e-01  1.671e+00  -0.265  0.79263   \n",
       "govwb1     3.375e-01  4.380e-01   0.770  0.44748   \n",
       "govsh41    4.632e-01  1.925e+00   0.241  0.81165   \n",
       "gvxdxe41  -7.934e-01  2.059e+00  -0.385  0.70296   \n",
       "high65    -7.525e-01  9.057e-01  -0.831  0.41311   \n",
       "highm65   -3.903e-01  6.812e-01  -0.573  0.57131   \n",
       "highf65   -4.177e-01  5.615e-01  -0.744  0.46308   \n",
       "highc65   -2.216e+00  1.481e+00  -1.496  0.14575   \n",
       "highcm65   2.797e-01  6.582e-01   0.425  0.67412   \n",
       "highcf65   3.921e-01  7.660e-01   0.512  0.61278   \n",
       "human65    2.337e+00  3.307e+00   0.707  0.48559   \n",
       "humanm65  -1.209e+00  1.619e+00  -0.747  0.46121   \n",
       "humanf65  -1.104e+00  1.685e+00  -0.655  0.51763   \n",
       "hyr65      5.491e+01  2.389e+01   2.299  0.02918 * \n",
       "hyrm65     1.294e+01  2.317e+01   0.558  0.58112   \n",
       "hyrf65     9.093e+00  1.767e+01   0.515  0.61088   \n",
       "no65       3.721e-02  1.320e-01   0.282  0.78006   \n",
       "nom65     -2.120e-02  6.496e-02  -0.326  0.74661   \n",
       "nof65     -1.686e-02  6.700e-02  -0.252  0.80319   \n",
       "pinstab1  -4.997e-02  3.092e-02  -1.616  0.11729   \n",
       "pop65      1.032e-07  1.318e-07   0.783  0.44027   \n",
       "worker65   3.408e-02  1.562e-01   0.218  0.82887   \n",
       "pop1565   -4.655e-01  4.713e-01  -0.988  0.33176   \n",
       "pop6565   -1.357e+00  6.349e-01  -2.138  0.04139 * \n",
       "sec65     -1.089e-02  3.077e-01  -0.035  0.97201   \n",
       "secm65     3.344e-03  1.512e-01   0.022  0.98251   \n",
       "secf65    -2.304e-03  1.580e-01  -0.015  0.98847   \n",
       "secc65    -4.915e-01  7.290e-01  -0.674  0.50570   \n",
       "seccm65    2.596e-01  3.557e-01   0.730  0.47150   \n",
       "seccf65    2.207e-01  3.733e-01   0.591  0.55924   \n",
       "syr65     -7.556e-01  7.977e+00  -0.095  0.92521   \n",
       "syrm65     3.109e-01  3.897e+00   0.080  0.93698   \n",
       "syrf65     7.593e-01  4.111e+00   0.185  0.85479   \n",
       "teapri65   3.955e-05  7.700e-04   0.051  0.95941   \n",
       "teasec65   2.497e-04  1.171e-03   0.213  0.83274   \n",
       "ex1       -5.804e-01  2.418e-01  -2.400  0.02329 * \n",
       "im1        5.914e-01  2.503e-01   2.363  0.02531 * \n",
       "xr65      -1.038e-04  5.417e-05  -1.916  0.06565 . \n",
       "tot1      -1.279e-01  1.126e-01  -1.136  0.26561   \n",
       "---\n",
       "Signif. codes:  0 '***' 0.001 '**' 0.01 '*' 0.05 '.' 0.1 ' ' 1\n",
       "\n",
       "Residual standard error: 0.03074 on 28 degrees of freedom\n",
       "Multiple R-squared:  0.9369,\tAdjusted R-squared:  0.7973 \n",
       "F-statistic: 6.708 on 62 and 28 DF,  p-value: 2.963e-07\n"
      ]
     },
     "metadata": {},
     "output_type": "display_data"
    }
   ],
   "source": [
    "# Regression Model\n",
    "reg_ols <- lm(Outcome~.-1,data=growth)\n",
    "summary(reg_ols)"
   ]
  },
  {
   "cell_type": "code",
   "execution_count": 13,
   "id": "4f2be0d8",
   "metadata": {},
   "outputs": [],
   "source": [
    "# Estimated regression coefficient corresponding to the target regressor\n",
    "est_ols <- summary(reg_ols)$coef[\"gdpsh465\",1]\n",
    "\n",
    "# Standar Error\n",
    "std_ols <- summary(reg_ols)$coef[\"gdpsh465\",2]\n",
    "\n",
    "# 95% confidence interval\n",
    "ci_ols <- confint(reg_ols)[2,]"
   ]
  },
  {
   "cell_type": "code",
   "execution_count": 70,
   "id": "cd588aab",
   "metadata": {},
   "outputs": [
    {
     "data": {
      "text/html": [
       "<table>\n",
       "<thead><tr><th scope=col>Model</th><th scope=col>Estimator</th><th scope=col>Standard Error</th><th scope=col>Lower Bound CI</th><th scope=col>Upper Bound CI</th></tr></thead>\n",
       "<tbody>\n",
       "\t<tr><td>OLS                 </td><td>-0.00937798878258103</td><td>0.0298877263660764  </td><td>-0.0706002209228739 </td><td>0.0518442433577119  </td></tr>\n",
       "</tbody>\n",
       "</table>\n"
      ],
      "text/latex": [
       "\\begin{tabular}{r|lllll}\n",
       " Model & Estimator & Standard Error & Lower Bound CI & Upper Bound CI\\\\\n",
       "\\hline\n",
       "\t OLS                  & -0.00937798878258103 & 0.0298877263660764   & -0.0706002209228739  & 0.0518442433577119  \\\\\n",
       "\\end{tabular}\n"
      ],
      "text/markdown": [
       "\n",
       "| Model | Estimator | Standard Error | Lower Bound CI | Upper Bound CI |\n",
       "|---|---|---|---|---|\n",
       "| OLS                  | -0.00937798878258103 | 0.0298877263660764   | -0.0706002209228739  | 0.0518442433577119   |\n",
       "\n"
      ],
      "text/plain": [
       "  Model Estimator            Standard Error     Lower Bound CI     \n",
       "1 OLS   -0.00937798878258103 0.0298877263660764 -0.0706002209228739\n",
       "  Upper Bound CI    \n",
       "1 0.0518442433577119"
      ]
     },
     "metadata": {},
     "output_type": "display_data"
    }
   ],
   "source": [
    "results_ols <- as.data.frame(cbind(\"OLS\", est_ols,std_ols,ci_ols[1],ci_ols[2]))\n",
    "colnames(results_ols) <-c(\"Model\",\"Estimator\",\"Standard Error\", \"Lower Bound CI\", \"Upper Bound CI\")\n",
    "rownames(results_ols) <-c(\"1\")\n",
    "results_ols"
   ]
  },
  {
   "cell_type": "markdown",
   "id": "88f5918c",
   "metadata": {},
   "source": [
    " * **Double Lasso using cross Validation**"
   ]
  },
  {
   "cell_type": "code",
   "execution_count": 15,
   "id": "d67bcf4e",
   "metadata": {},
   "outputs": [
    {
     "data": {
      "text/html": [
       "<ol class=list-inline>\n",
       "\t<li>23</li>\n",
       "\t<li>63</li>\n",
       "</ol>\n"
      ],
      "text/latex": [
       "\\begin{enumerate*}\n",
       "\\item 23\n",
       "\\item 63\n",
       "\\end{enumerate*}\n"
      ],
      "text/markdown": [
       "1. 23\n",
       "2. 63\n",
       "\n",
       "\n"
      ],
      "text/plain": [
       "[1] 23 63"
      ]
     },
     "metadata": {},
     "output_type": "display_data"
    },
    {
     "data": {
      "text/html": [
       "<ol class=list-inline>\n",
       "\t<li>67</li>\n",
       "\t<li>63</li>\n",
       "</ol>\n"
      ],
      "text/latex": [
       "\\begin{enumerate*}\n",
       "\\item 67\n",
       "\\item 63\n",
       "\\end{enumerate*}\n"
      ],
      "text/markdown": [
       "1. 67\n",
       "2. 63\n",
       "\n",
       "\n"
      ],
      "text/plain": [
       "[1] 67 63"
      ]
     },
     "metadata": {},
     "output_type": "display_data"
    }
   ],
   "source": [
    "set.seed(1234)\n",
    "training <- sample(nrow(growth), nrow(growth)*(3/4), replace=FALSE)\n",
    "\n",
    "#Training Set\n",
    "growth_train <- growth[training,]\n",
    "\n",
    "#Test Set\n",
    "growth_test <- growth[-training,]\n",
    "\n",
    "dim(growth_test)\n",
    "dim(growth_train)"
   ]
  },
  {
   "cell_type": "code",
   "execution_count": 16,
   "id": "209065d9",
   "metadata": {},
   "outputs": [],
   "source": [
    "model_train <- model.matrix(Outcome ~ .-1,growth_train)\n",
    "model_test <- model.matrix(Outcome ~ .-1,growth_test)\n",
    "\n",
    "Y_train <- growth_train$Outcome\n",
    "Y_test <- growth_test$Outcome"
   ]
  },
  {
   "cell_type": "code",
   "execution_count": 41,
   "id": "da54a0c7",
   "metadata": {},
   "outputs": [
    {
     "data": {
      "text/html": [
       "0.00136509524954089"
      ],
      "text/latex": [
       "0.00136509524954089"
      ],
      "text/markdown": [
       "0.00136509524954089"
      ],
      "text/plain": [
       "[1] 0.001365095"
      ]
     },
     "metadata": {},
     "output_type": "display_data"
    },
    {
     "data": {
      "text/html": [
       "<ol class=list-inline>\n",
       "\t<li>0.00203619520670392</li>\n",
       "\t<li>0.000732852744668438</li>\n",
       "</ol>\n"
      ],
      "text/latex": [
       "\\begin{enumerate*}\n",
       "\\item 0.00203619520670392\n",
       "\\item 0.000732852744668438\n",
       "\\end{enumerate*}\n"
      ],
      "text/markdown": [
       "1. 0.00203619520670392\n",
       "2. 0.000732852744668438\n",
       "\n",
       "\n"
      ],
      "text/plain": [
       "[1] 0.0020361952 0.0007328527"
      ]
     },
     "metadata": {},
     "output_type": "display_data"
    }
   ],
   "source": [
    "set.seed(123)\n",
    "lambda.lasso <- cv.glmnet(model_train, Y_train, family=\"gaussian\", alpha=1)$lambda.min\n",
    "lambda.lasso\n",
    "\n",
    "reg.lasso.cv <- glmnet(model_train, Y_train,family=\"gaussian\", alpha=1, lambda=lambda.lasso)\n",
    "predict.lasso.cv <- predict(reg.lasso.cv,model_test)\n",
    "\n",
    "MSE.lasso.cv <- summary(lm((Y_test-predict.lasso.cv)^2~1))$coef[1:2]\n",
    "R2.lasso.cv <- 1-MSE.lasso.cv[1]/var(Y_test)\n",
    "MSE.lasso.cv"
   ]
  },
  {
   "cell_type": "code",
   "execution_count": 45,
   "id": "ab8cb020",
   "metadata": {},
   "outputs": [
    {
     "data": {
      "text/plain": [
       "62 x 1 sparse Matrix of class \"dgCMatrix\"\n",
       "                     s0\n",
       "intercept  .           \n",
       "gdpsh465  -2.670298e-02\n",
       "bmp1l     -6.599034e-02\n",
       "freeop     1.227532e-01\n",
       "freetar   -3.552560e-02\n",
       "h65       -2.902198e-02\n",
       "hm65       .           \n",
       "hf65       .           \n",
       "p65        .           \n",
       "pm65       9.830695e-02\n",
       "pf65       .           \n",
       "s65       -5.872753e-02\n",
       "sm65       .           \n",
       "sf65       .           \n",
       "fert65     .           \n",
       "mort65     .           \n",
       "lifee065   .           \n",
       "gpop1     -1.328742e+00\n",
       "fert1      .           \n",
       "mort1     -1.202997e-01\n",
       "invsh41    7.291042e-02\n",
       "geetot1    .           \n",
       "geerec1   -2.466542e-01\n",
       "gde1       7.343398e-01\n",
       "govwb1    -4.213536e-01\n",
       "govsh41   -1.885016e-02\n",
       "gvxdxe41  -5.106130e-03\n",
       "high65     .           \n",
       "highm65    2.492557e-03\n",
       "highf65    .           \n",
       "highc65    .           \n",
       "highcm65   .           \n",
       "highcf65  -2.375494e-03\n",
       "human65    .           \n",
       "humanm65   .           \n",
       "humanf65   .           \n",
       "hyr65      .           \n",
       "hyrm65     .           \n",
       "hyrf65     .           \n",
       "no65       .           \n",
       "nom65      .           \n",
       "nof65      .           \n",
       "pinstab1  -2.618759e-02\n",
       "pop65      .           \n",
       "worker65   .           \n",
       "pop1565   -7.913958e-03\n",
       "pop6565    .           \n",
       "sec65      .           \n",
       "secm65     .           \n",
       "secf65     .           \n",
       "secc65     .           \n",
       "seccm65    1.763045e-03\n",
       "seccf65    .           \n",
       "syr65      .           \n",
       "syrm65     .           \n",
       "syrf65     .           \n",
       "teapri65   1.069743e-03\n",
       "teasec65   .           \n",
       "ex1        .           \n",
       "im1        2.412926e-02\n",
       "xr65       6.766928e-06\n",
       "tot1       .           "
      ]
     },
     "metadata": {},
     "output_type": "display_data"
    }
   ],
   "source": [
    "reg.lasso.cv$beta\n",
    "est_lasso.cv <- -2.670298e-02"
   ]
  },
  {
   "cell_type": "code",
   "execution_count": 92,
   "id": "cfa68753",
   "metadata": {},
   "outputs": [
    {
     "data": {
      "text/html": [
       "<table>\n",
       "<thead><tr><th scope=col>Model</th><th scope=col>Estimator</th><th scope=col>Standard Error</th><th scope=col>Lower Bound CI</th><th scope=col>Upper Bound CI</th></tr></thead>\n",
       "<tbody>\n",
       "\t<tr><td>Cross Validation</td><td>-0.02670298     </td><td>                </td><td>                </td><td>                </td></tr>\n",
       "</tbody>\n",
       "</table>\n"
      ],
      "text/latex": [
       "\\begin{tabular}{r|lllll}\n",
       " Model & Estimator & Standard Error & Lower Bound CI & Upper Bound CI\\\\\n",
       "\\hline\n",
       "\t Cross Validation & -0.02670298      &                  &                  &                 \\\\\n",
       "\\end{tabular}\n"
      ],
      "text/markdown": [
       "\n",
       "| Model | Estimator | Standard Error | Lower Bound CI | Upper Bound CI |\n",
       "|---|---|---|---|---|\n",
       "| Cross Validation | -0.02670298      |                  |                  |                  |\n",
       "\n"
      ],
      "text/plain": [
       "  Model            Estimator   Standard Error Lower Bound CI Upper Bound CI\n",
       "1 Cross Validation -0.02670298                                             "
      ]
     },
     "metadata": {},
     "output_type": "display_data"
    }
   ],
   "source": [
    "results_lasso_cv <- as.data.frame(cbind(\"Cross Validation\",est_lasso.cv, \"\" , \"\", \"\"))\n",
    "colnames(results_lasso_cv) <-c(\"Model\",\"Estimator\",\"Standard Error\", \"Lower Bound CI\", \"Upper Bound CI\")\n",
    "rownames(results_lasso_cv) <-c(\"1\")\n",
    "results_lasso_cv"
   ]
  },
  {
   "cell_type": "markdown",
   "id": "2d7f76a2",
   "metadata": {},
   "source": [
    " * **Double Lasso using theoretical Lambda**"
   ]
  },
  {
   "cell_type": "code",
   "execution_count": 19,
   "id": "1d74ad5c",
   "metadata": {},
   "outputs": [],
   "source": [
    "# A theoretically valid choice for penalty term is (Belloni Chernozhukov, 2013)\n",
    "model<- model.matrix(Outcome ~ .-1,growth)\n",
    "n=nrow(model)\n",
    "p=ncol(model)\n",
    "\n",
    "sda = sd(residuals(lm(Outcome ~ .-1, data=growth)))\n",
    "lambda1 = sda*(1.1/sqrt(n))* qnorm(1 - (.1/log(n))/(2*p))\n",
    "\n",
    "#Output variable\n",
    "Y <- growth[, 1, drop = F]\n",
    "\n",
    "#Target regressor\n",
    "D <- growth[, 3, drop = F]\n",
    "\n",
    "#Control regressors\n",
    "W <- as.matrix(growth)[, -c(1, 2,3)]"
   ]
  },
  {
   "cell_type": "code",
   "execution_count": 168,
   "id": "bb485a2d",
   "metadata": {},
   "outputs": [
    {
     "data": {
      "text/plain": [
       "\n",
       "Call:\n",
       "lm(formula = r_Y ~ gdpsh465)\n",
       "\n",
       "Residuals:\n",
       "      Min        1Q    Median        3Q       Max \n",
       "-0.134088 -0.024875  0.000313  0.023809  0.137749 \n",
       "\n",
       "Coefficients:\n",
       "              Estimate Std. Error t value Pr(>|t|)    \n",
       "(Intercept)  2.974e-17  4.729e-03   0.000 1.000000    \n",
       "gdpsh465    -4.981e-02  1.394e-02  -3.574 0.000573 ***\n",
       "---\n",
       "Signif. codes:  0 '***' 0.001 '**' 0.01 '*' 0.05 '.' 0.1 ' ' 1\n",
       "\n",
       "Residual standard error: 0.04486 on 88 degrees of freedom\n",
       "Multiple R-squared:  0.1268,\tAdjusted R-squared:  0.1168 \n",
       "F-statistic: 12.77 on 1 and 88 DF,  p-value: 0.000573\n"
      ]
     },
     "metadata": {},
     "output_type": "display_data"
    }
   ],
   "source": [
    "#Compute \"residual\" output variable\n",
    "r_Y <- rlasso(x=W,y=Y,lambda=lambda1)$res\n",
    "\n",
    "#Compute \"residual\" target regressor\n",
    "gdpsh465 <- rlasso(x=W,y=D,lambda=lambda1)$res  #r_D\n",
    "\n",
    "#Regress residual of the output variable on residual of the target regressor\n",
    "lasso <- lm(r_Y ~ gdpsh465)\n",
    "summary(lasso)"
   ]
  },
  {
   "cell_type": "code",
   "execution_count": 76,
   "id": "35185cba",
   "metadata": {},
   "outputs": [
    {
     "data": {
      "text/html": [
       "<table>\n",
       "<thead><tr><th scope=col>Model</th><th scope=col>Estimator</th><th scope=col>Standard Error</th><th scope=col>Lower Bound CI</th><th scope=col>Upper Bound CI</th></tr></thead>\n",
       "<tbody>\n",
       "\t<tr><td>Double Lasso - Theorical</td><td>-0.0498114653009749     </td><td>0.0139363584193822      </td><td>-0.0775070491404676     </td><td>-0.0221158814614822     </td></tr>\n",
       "</tbody>\n",
       "</table>\n"
      ],
      "text/latex": [
       "\\begin{tabular}{r|lllll}\n",
       " Model & Estimator & Standard Error & Lower Bound CI & Upper Bound CI\\\\\n",
       "\\hline\n",
       "\t Double Lasso - Theorical & -0.0498114653009749      & 0.0139363584193822       & -0.0775070491404676      & -0.0221158814614822     \\\\\n",
       "\\end{tabular}\n"
      ],
      "text/markdown": [
       "\n",
       "| Model | Estimator | Standard Error | Lower Bound CI | Upper Bound CI |\n",
       "|---|---|---|---|---|\n",
       "| Double Lasso - Theorical | -0.0498114653009749      | 0.0139363584193822       | -0.0775070491404676      | -0.0221158814614822      |\n",
       "\n"
      ],
      "text/plain": [
       "  Model                    Estimator           Standard Error    \n",
       "1 Double Lasso - Theorical -0.0498114653009749 0.0139363584193822\n",
       "  Lower Bound CI      Upper Bound CI     \n",
       "1 -0.0775070491404676 -0.0221158814614822"
      ]
     },
     "metadata": {},
     "output_type": "display_data"
    }
   ],
   "source": [
    "# Estimated regression coefficient corresponding to the target regressor\n",
    "est_lasso <- lasso$coef[2]\n",
    "\n",
    "# Standar Error\n",
    "std_lasso <- summary(lasso)$coef[2,2]\n",
    "\n",
    "# 95% confidence interval\n",
    "ci_lasso <- confint(lasso)[2,]\n",
    "\n",
    "#Results\n",
    "results_lasso <- as.data.frame(cbind(\"Double Lasso - Theorical\", est_lasso,std_lasso ,ci_lasso[1],ci_lasso[2]))\n",
    "colnames(results_lasso) <-c(\"Model\",\"Estimator\",\"Standard Error\", \"Lower Bound CI\", \"Upper Bound CI\")\n",
    "rownames(results_lasso) <-c(\"1\")\n",
    "results_lasso"
   ]
  },
  {
   "cell_type": "markdown",
   "id": "e0bf6d8d",
   "metadata": {},
   "source": [
    " * **Double Lasso using method = \"partialling out\"**"
   ]
  },
  {
   "cell_type": "code",
   "execution_count": 72,
   "id": "7f1705c2",
   "metadata": {},
   "outputs": [
    {
     "data": {
      "text/plain": [
       "[1] \"Estimates and significance testing of the effect of target variables\"\n",
       "     Estimate. Std. Error t value Pr(>|t|)    \n",
       "[1,]  -0.04981    0.01394  -3.574 0.000351 ***\n",
       "---\n",
       "Signif. codes:  0 '***' 0.001 '**' 0.01 '*' 0.05 '.' 0.1 ' ' 1\n",
       "\n"
      ]
     },
     "metadata": {},
     "output_type": "display_data"
    },
    {
     "data": {
      "text/html": [
       "<table>\n",
       "<thead><tr><th scope=col>Model</th><th scope=col>Estimator</th><th scope=col>Standard Error</th><th scope=col>Lower Bound CI</th><th scope=col>Upper Bound CI</th></tr></thead>\n",
       "<tbody>\n",
       "\t<tr><td>Double Lasso - Direct</td><td>-0.0498114653009749  </td><td>0.0139363584193822   </td><td>-0.077126727802964   </td><td>-0.0224962027989859  </td></tr>\n",
       "</tbody>\n",
       "</table>\n"
      ],
      "text/latex": [
       "\\begin{tabular}{r|lllll}\n",
       " Model & Estimator & Standard Error & Lower Bound CI & Upper Bound CI\\\\\n",
       "\\hline\n",
       "\t Double Lasso - Direct & -0.0498114653009749   & 0.0139363584193822    & -0.077126727802964    & -0.0224962027989859  \\\\\n",
       "\\end{tabular}\n"
      ],
      "text/markdown": [
       "\n",
       "| Model | Estimator | Standard Error | Lower Bound CI | Upper Bound CI |\n",
       "|---|---|---|---|---|\n",
       "| Double Lasso - Direct | -0.0498114653009749   | 0.0139363584193822    | -0.077126727802964    | -0.0224962027989859   |\n",
       "\n"
      ],
      "text/plain": [
       "  Model                 Estimator           Standard Error    \n",
       "1 Double Lasso - Direct -0.0498114653009749 0.0139363584193822\n",
       "  Lower Bound CI     Upper Bound CI     \n",
       "1 -0.077126727802964 -0.0224962027989859"
      ]
     },
     "metadata": {},
     "output_type": "display_data"
    }
   ],
   "source": [
    "lasso_direct <-rlassoEffect(W, Y, D, method = \"partialling out\")\n",
    "summary(lasso_direct)\n",
    "\n",
    "# Estimated regression coefficient corresponding to the target regressor\n",
    "est_lasso_direct <- summary(lasso_direct)$coef[,1]\n",
    "\n",
    "# Standar Error\n",
    "std_lasso_direct <- summary(lasso_direct)$coef[,2]\n",
    "\n",
    "# 95% confidence interval\n",
    "lower_ci_lasso_direct = est_lasso_direct - 1.96*std_lasso_direct\n",
    "upper_ci_lasso_direct = est_lasso_direct + 1.96*std_lasso_direct\n",
    "\n",
    "#Results\n",
    "results_lasso_direct <- as.data.frame(cbind(\"Double Lasso - Direct\",est_lasso_direct,std_lasso_direct ,lower_ci_lasso_direct,upper_ci_lasso_direct))\n",
    "colnames(results_lasso_direct) <-c(\"Model\",\"Estimator\",\"Standard Error\", \"Lower Bound CI\", \"Upper Bound CI\")\n",
    "rownames(results_lasso_direct) <-c(\"1\")\n",
    "results_lasso_direct"
   ]
  },
  {
   "cell_type": "markdown",
   "id": "79b37c65",
   "metadata": {},
   "source": [
    " * **Partial Regression using method = \"double selection\"**"
   ]
  },
  {
   "cell_type": "code",
   "execution_count": 73,
   "id": "40b06fd5",
   "metadata": {},
   "outputs": [
    {
     "data": {
      "text/plain": [
       "[1] \"Estimates and significance testing of the effect of target variables\"\n",
       "         Estimate. Std. Error t value Pr(>|t|)   \n",
       "gdpsh465  -0.05001    0.01579  -3.167  0.00154 **\n",
       "---\n",
       "Signif. codes:  0 '***' 0.001 '**' 0.01 '*' 0.05 '.' 0.1 ' ' 1\n",
       "\n"
      ]
     },
     "metadata": {},
     "output_type": "display_data"
    },
    {
     "data": {
      "text/html": [
       "<table>\n",
       "<thead><tr><th scope=col>Model</th><th scope=col>Estimator</th><th scope=col>Standard Error</th><th scope=col>Lower Bound CI</th><th scope=col>Upper Bound CI</th></tr></thead>\n",
       "<tbody>\n",
       "\t<tr><td>Double Selection   </td><td>-0.0500058545149132</td><td>0.0157913798691104 </td><td>-0.0809569590583695</td><td>-0.0190547499714568</td></tr>\n",
       "</tbody>\n",
       "</table>\n"
      ],
      "text/latex": [
       "\\begin{tabular}{r|lllll}\n",
       " Model & Estimator & Standard Error & Lower Bound CI & Upper Bound CI\\\\\n",
       "\\hline\n",
       "\t Double Selection    & -0.0500058545149132 & 0.0157913798691104  & -0.0809569590583695 & -0.0190547499714568\\\\\n",
       "\\end{tabular}\n"
      ],
      "text/markdown": [
       "\n",
       "| Model | Estimator | Standard Error | Lower Bound CI | Upper Bound CI |\n",
       "|---|---|---|---|---|\n",
       "| Double Selection    | -0.0500058545149132 | 0.0157913798691104  | -0.0809569590583695 | -0.0190547499714568 |\n",
       "\n"
      ],
      "text/plain": [
       "  Model            Estimator           Standard Error     Lower Bound CI     \n",
       "1 Double Selection -0.0500058545149132 0.0157913798691104 -0.0809569590583695\n",
       "  Upper Bound CI     \n",
       "1 -0.0190547499714568"
      ]
     },
     "metadata": {},
     "output_type": "display_data"
    }
   ],
   "source": [
    "lasso_ds <-rlassoEffect(W, Y, D, method = \"double selection\")\n",
    "summary(lasso_ds)\n",
    "\n",
    "# Estimated regression coefficient corresponding to the target regressor\n",
    "est_lasso_ds <- summary(lasso_ds)$coef[,1]\n",
    "\n",
    "# Standar Error\n",
    "std_lasso_ds <- summary(lasso_ds)$coef[,2]\n",
    "\n",
    "# 95% confidence interval\n",
    "lower_ci_lasso_ds = est_lasso_ds - 1.96*std_lasso_ds\n",
    "upper_ci_lasso_ds = est_lasso_ds + 1.96*std_lasso_ds\n",
    "\n",
    "results_lasso_ds <- as.data.frame(cbind(\"Double Selection\",est_lasso_ds,std_lasso_ds ,lower_ci_lasso_ds,upper_ci_lasso_ds))\n",
    "colnames(results_lasso_ds) <-c(\"Model\",\"Estimator\",\"Standard Error\", \"Lower Bound CI\", \"Upper Bound CI\")\n",
    "rownames(results_lasso_ds) <-c(\"1\")\n",
    "results_lasso_ds"
   ]
  },
  {
   "cell_type": "markdown",
   "id": "3ee5e6ae",
   "metadata": {},
   "source": [
    " * **Summary**"
   ]
  },
  {
   "cell_type": "code",
   "execution_count": 140,
   "id": "a6582699",
   "metadata": {},
   "outputs": [
    {
     "data": {
      "text/html": [
       "'matrix'"
      ],
      "text/latex": [
       "'matrix'"
      ],
      "text/markdown": [
       "'matrix'"
      ],
      "text/plain": [
       "[1] \"matrix\""
      ]
     },
     "metadata": {},
     "output_type": "display_data"
    },
    {
     "data": {
      "text/html": [
       "<table>\n",
       "<thead><tr><th></th><th scope=col>Model</th><th scope=col>Estimator</th><th scope=col>Standard Error</th><th scope=col>Lower Bound CI</th><th scope=col>Upper Bound CI</th></tr></thead>\n",
       "<tbody>\n",
       "\t<tr><th scope=row>1</th><td>OLS                     </td><td>-0.00937798878258103    </td><td>0.0298877263660764      </td><td>-0.0706002209228739     </td><td>0.0518442433577119      </td></tr>\n",
       "\t<tr><th scope=row>11</th><td>Cross Validation        </td><td>-0.02670298             </td><td>                        </td><td>                        </td><td>                        </td></tr>\n",
       "\t<tr><th scope=row>12</th><td>Double Lasso - Theorical</td><td>-0.0498114653009749     </td><td>0.0139363584193822      </td><td>-0.0775070491404676     </td><td>-0.0221158814614822     </td></tr>\n",
       "\t<tr><th scope=row>13</th><td>Double Lasso - Direct   </td><td>-0.0498114653009749     </td><td>0.0139363584193822      </td><td>-0.077126727802964      </td><td>-0.0224962027989859     </td></tr>\n",
       "\t<tr><th scope=row>14</th><td>Double Selection        </td><td>-0.0500058545149132     </td><td>0.0157913798691104      </td><td>-0.0809569590583695     </td><td>-0.0190547499714568     </td></tr>\n",
       "</tbody>\n",
       "</table>\n"
      ],
      "text/latex": [
       "\\begin{tabular}{r|lllll}\n",
       "  & Model & Estimator & Standard Error & Lower Bound CI & Upper Bound CI\\\\\n",
       "\\hline\n",
       "\t1 & OLS                      & -0.00937798878258103     & 0.0298877263660764       & -0.0706002209228739      & 0.0518442433577119      \\\\\n",
       "\t11 & Cross Validation         & -0.02670298              &                          &                          &                         \\\\\n",
       "\t12 & Double Lasso - Theorical & -0.0498114653009749      & 0.0139363584193822       & -0.0775070491404676      & -0.0221158814614822     \\\\\n",
       "\t13 & Double Lasso - Direct    & -0.0498114653009749      & 0.0139363584193822       & -0.077126727802964       & -0.0224962027989859     \\\\\n",
       "\t14 & Double Selection         & -0.0500058545149132      & 0.0157913798691104       & -0.0809569590583695      & -0.0190547499714568     \\\\\n",
       "\\end{tabular}\n"
      ],
      "text/markdown": [
       "\n",
       "| <!--/--> | Model | Estimator | Standard Error | Lower Bound CI | Upper Bound CI |\n",
       "|---|---|---|---|---|---|\n",
       "| 1 | OLS                      | -0.00937798878258103     | 0.0298877263660764       | -0.0706002209228739      | 0.0518442433577119       |\n",
       "| 11 | Cross Validation         | -0.02670298              |                          |                          |                          |\n",
       "| 12 | Double Lasso - Theorical | -0.0498114653009749      | 0.0139363584193822       | -0.0775070491404676      | -0.0221158814614822      |\n",
       "| 13 | Double Lasso - Direct    | -0.0498114653009749      | 0.0139363584193822       | -0.077126727802964       | -0.0224962027989859      |\n",
       "| 14 | Double Selection         | -0.0500058545149132      | 0.0157913798691104       | -0.0809569590583695      | -0.0190547499714568      |\n",
       "\n"
      ],
      "text/plain": [
       "   Model                    Estimator            Standard Error    \n",
       "1  OLS                      -0.00937798878258103 0.0298877263660764\n",
       "11 Cross Validation         -0.02670298                            \n",
       "12 Double Lasso - Theorical -0.0498114653009749  0.0139363584193822\n",
       "13 Double Lasso - Direct    -0.0498114653009749  0.0139363584193822\n",
       "14 Double Selection         -0.0500058545149132  0.0157913798691104\n",
       "   Lower Bound CI      Upper Bound CI     \n",
       "1  -0.0706002209228739 0.0518442433577119 \n",
       "11                                        \n",
       "12 -0.0775070491404676 -0.0221158814614822\n",
       "13 -0.077126727802964  -0.0224962027989859\n",
       "14 -0.0809569590583695 -0.0190547499714568"
      ]
     },
     "metadata": {},
     "output_type": "display_data"
    }
   ],
   "source": [
    "table <- rbind(results_ols,results_lasso_cv,results_lasso,results_lasso_direct,results_lasso_ds)\n",
    "table <- as.matrix(table)\n",
    "class(table)\n",
    "table"
   ]
  },
  {
   "cell_type": "markdown",
   "id": "ada7504f",
   "metadata": {},
   "source": [
    "The least square method provides a rather noisy estimate of the speed of convergence. We can not answer the question if poor countries grow faster than rich countries. The least square method does not work when the ratio $p/n$ is large.\n",
    "\n",
    "In sharp contrast, partialling-out via Lasso provides a more precise estimate. The Double Lasso based point estimate is $-5\\%$ and the $95\\%$ confidence interval for the (annual) rate of convergence $[-7.75\\%,-2.21\\%]$ only includes negative numbers. This empirical evidence does support the convergence hypothesis.\n"
   ]
  },
  {
   "cell_type": "markdown",
   "id": "7aeb5661",
   "metadata": {},
   "source": [
    " * **Plot the main coefficient and its confidence interval of the convergence hypothesis from these 4 cases**"
   ]
  },
  {
   "cell_type": "code",
   "execution_count": 185,
   "id": "6249418b",
   "metadata": {},
   "outputs": [
    {
     "name": "stderr",
     "output_type": "stream",
     "text": [
      "Warning message:\n",
      "\"It is deprecated to specify `guide = FALSE` to remove a guide. Please use `guide = \"none\"` instead.\"Warning message:\n",
      "\"It is deprecated to specify `guide = FALSE` to remove a guide. Please use `guide = \"none\"` instead.\""
     ]
    },
    {
     "data": {
      "image/png": "[encoded data removed]",
      "text/plain": [
       "plot without title"
      ]
     },
     "metadata": {},
     "output_type": "display_data"
    }
   ],
   "source": [
    "library(coefplot)\n",
    "\n",
    "coefplot::multiplot(reg_ols,lasso,\n",
    "    coefficients=c('gdpsh465'), \n",
    "    single=FALSE, \n",
    "    names=c(reg_ols=\"OLS\",lasso=\"Lasso Theoric and Lasso Direct\"))"
   ]
  }
 ],
 "metadata": {
  "kernelspec": {
   "display_name": "R",
   "language": "R",
   "name": "ir"
  },
  "language_info": {
   "codemirror_mode": "r",
   "file_extension": ".r",
   "mimetype": "text/x-r-source",
   "name": "R",
   "pygments_lexer": "r",
   "version": "3.6.1"
  }
 },
 "nbformat": 4,
 "nbformat_minor": 5
}
