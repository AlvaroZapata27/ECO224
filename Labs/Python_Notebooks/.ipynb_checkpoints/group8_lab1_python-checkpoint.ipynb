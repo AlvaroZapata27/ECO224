{
 "cells": [
  {
   "cell_type": "markdown",
   "metadata": {},
   "source": [
    "## GRUPO 8 \n",
    "\n",
    "#### *Integrantes:* \n",
    "\n",
    "1. Gianfranco Soria (20163509)\n",
    "2. Erick Morales (20163041)\n",
    "3. Andrea Clavo (20176040)\n",
    "4. Sandra Martínez (20173026)"
   ]
  },
  {
   "cell_type": "markdown",
   "metadata": {
    "papermill": {
     "duration": 0.018579,
     "end_time": "2021-02-21T17:17:47.809138",
     "exception": false,
     "start_time": "2021-02-21T17:17:47.790559",
     "status": "completed"
    },
    "tags": []
   },
   "source": [
    "# An inferential problem: The Gender Wage Gap for College-Educated Workers\n",
    "___"
   ]
  },
  {
   "cell_type": "markdown",
   "metadata": {},
   "source": [
    "### * *Question 1*\n",
    "___"
   ]
  },
  {
   "cell_type": "markdown",
   "metadata": {
    "papermill": {
     "duration": 0.019386,
     "end_time": "2021-02-21T17:17:47.847419",
     "exception": false,
     "start_time": "2021-02-21T17:17:47.828033",
     "status": "completed"
    },
    "tags": []
   },
   "source": [
    "What is the difference in predicted wages between men and women college educated workers with the same job-relevant characteristics?\n",
    "\n",
    "Thus, we analyze if there is a difference in the payment of men and women (*gender wage gap*). The gender wage gap may partly reflect *discrimination* against women in the labor market or may partly reflect a *selection effect*, namely that women are relatively more likely to take on occupations that pay somewhat less (for example, school teaching).\n"
   ]
  },
  {
   "cell_type": "markdown",
   "metadata": {
    "papermill": {
     "duration": 0.018623,
     "end_time": "2021-02-21T17:17:47.884840",
     "exception": false,
     "start_time": "2021-02-21T17:17:47.866217",
     "status": "completed"
    },
    "tags": []
   },
   "source": [
    "To investigate the gender wage gap, we consider the following log-linear regression model\n",
    "\n",
    "\\begin{align}\n",
    "\\log(Y) &= \\beta'X + \\epsilon\\\\\n",
    "&= \\beta_1 D  + \\beta_2' W + \\epsilon,\n",
    "\\end{align}\n",
    "\n",
    "where $D$ is the indicator of being scl ($1$ if scl and $0$ otherwise) and the\n",
    "$W$'s are controls explaining variation in wages. Considering transformed wages by the logarithm, we are analyzing the relative difference in the payment of men and women."
   ]
  },
  {
   "cell_type": "markdown",
   "metadata": {
    "papermill": {
     "duration": 0.018169,
     "end_time": "2021-02-21T17:17:47.921363",
     "exception": false,
     "start_time": "2021-02-21T17:17:47.903194",
     "status": "completed"
    },
    "tags": []
   },
   "source": [
    "## Data analysis"
   ]
  },
  {
   "cell_type": "markdown",
   "metadata": {
    "papermill": {
     "duration": 0.018446,
     "end_time": "2021-02-21T17:17:47.958377",
     "exception": false,
     "start_time": "2021-02-21T17:17:47.939931",
     "status": "completed"
    },
    "tags": []
   },
   "source": [
    "We consider the same subsample of the U.S. Current Population Survey (2015) as in the previous lab. Let us load the data set."
   ]
  },
  {
   "cell_type": "code",
   "execution_count": 140,
   "metadata": {
    "hide_input": true
   },
   "outputs": [],
   "source": [
    "import pandas as pd\n",
    "import numpy as np\n",
    "import matplotlib.pyplot as plt\n",
    "import pyreadr\n",
    "import math"
   ]
  },
  {
   "cell_type": "code",
   "execution_count": 49,
   "metadata": {},
   "outputs": [
    {
     "data": {
      "text/plain": [
       "(5150, 20)"
      ]
     },
     "execution_count": 49,
     "metadata": {},
     "output_type": "execute_result"
    }
   ],
   "source": [
    "rdata_read = pyreadr.read_r(\"../data/wage2015_subsample_inference.Rdata\")\n",
    "\n",
    "# Extracting the data frame from rdata_read\n",
    "data1 = rdata_read[ 'data' ]\n",
    "\n",
    "data1.shape"
   ]
  },
  {
   "cell_type": "code",
   "execution_count": 50,
   "metadata": {},
   "outputs": [
    {
     "data": {
      "text/plain": [
       "Index(['wage', 'lwage', 'sex', 'shs', 'hsg', 'scl', 'clg', 'ad', 'mw', 'so',\n",
       "       'we', 'ne', 'exp1', 'exp2', 'exp3', 'exp4', 'occ', 'occ2', 'ind',\n",
       "       'ind2'],\n",
       "      dtype='object')"
      ]
     },
     "execution_count": 50,
     "metadata": {},
     "output_type": "execute_result"
    }
   ],
   "source": [
    "data1.columns"
   ]
  },
  {
   "cell_type": "code",
   "execution_count": 51,
   "metadata": {
    "scrolled": false
   },
   "outputs": [
    {
     "data": {
      "text/plain": [
       "(0.0    3718\n",
       " 1.0    1432\n",
       " Name: scl, dtype: int64,\n",
       " 0.0    3514\n",
       " 1.0    1636\n",
       " Name: clg, dtype: int64)"
      ]
     },
     "execution_count": 51,
     "metadata": {},
     "output_type": "execute_result"
    }
   ],
   "source": [
    "(data1['scl'].value_counts(), data1['clg'].value_counts())"
   ]
  },
  {
   "cell_type": "code",
   "execution_count": 71,
   "metadata": {
    "scrolled": true
   },
   "outputs": [
    {
     "data": {
      "text/html": [
       "<div>\n",
       "<style scoped>\n",
       "    .dataframe tbody tr th:only-of-type {\n",
       "        vertical-align: middle;\n",
       "    }\n",
       "\n",
       "    .dataframe tbody tr th {\n",
       "        vertical-align: top;\n",
       "    }\n",
       "\n",
       "    .dataframe thead th {\n",
       "        text-align: right;\n",
       "    }\n",
       "</style>\n",
       "<table border=\"1\" class=\"dataframe\">\n",
       "  <thead>\n",
       "    <tr style=\"text-align: right;\">\n",
       "      <th></th>\n",
       "      <th>wage</th>\n",
       "      <th>lwage</th>\n",
       "      <th>sex</th>\n",
       "      <th>shs</th>\n",
       "      <th>hsg</th>\n",
       "      <th>scl</th>\n",
       "      <th>clg</th>\n",
       "      <th>ad</th>\n",
       "      <th>mw</th>\n",
       "      <th>so</th>\n",
       "      <th>we</th>\n",
       "      <th>ne</th>\n",
       "      <th>exp1</th>\n",
       "      <th>exp2</th>\n",
       "      <th>exp3</th>\n",
       "      <th>exp4</th>\n",
       "      <th>occ</th>\n",
       "      <th>occ2</th>\n",
       "      <th>ind</th>\n",
       "      <th>ind2</th>\n",
       "    </tr>\n",
       "    <tr>\n",
       "      <th>rownames</th>\n",
       "      <th></th>\n",
       "      <th></th>\n",
       "      <th></th>\n",
       "      <th></th>\n",
       "      <th></th>\n",
       "      <th></th>\n",
       "      <th></th>\n",
       "      <th></th>\n",
       "      <th></th>\n",
       "      <th></th>\n",
       "      <th></th>\n",
       "      <th></th>\n",
       "      <th></th>\n",
       "      <th></th>\n",
       "      <th></th>\n",
       "      <th></th>\n",
       "      <th></th>\n",
       "      <th></th>\n",
       "      <th></th>\n",
       "      <th></th>\n",
       "    </tr>\n",
       "  </thead>\n",
       "  <tbody>\n",
       "    <tr>\n",
       "      <th>10</th>\n",
       "      <td>9.615385</td>\n",
       "      <td>2.263364</td>\n",
       "      <td>1.0</td>\n",
       "      <td>0.0</td>\n",
       "      <td>0.0</td>\n",
       "      <td>0.0</td>\n",
       "      <td>1.0</td>\n",
       "      <td>0.0</td>\n",
       "      <td>0.0</td>\n",
       "      <td>0.0</td>\n",
       "      <td>0.0</td>\n",
       "      <td>1.0</td>\n",
       "      <td>7.0</td>\n",
       "      <td>0.49</td>\n",
       "      <td>0.343</td>\n",
       "      <td>0.2401</td>\n",
       "      <td>3600</td>\n",
       "      <td>11</td>\n",
       "      <td>8370</td>\n",
       "      <td>18</td>\n",
       "    </tr>\n",
       "    <tr>\n",
       "      <th>12</th>\n",
       "      <td>48.076923</td>\n",
       "      <td>3.872802</td>\n",
       "      <td>0.0</td>\n",
       "      <td>0.0</td>\n",
       "      <td>0.0</td>\n",
       "      <td>0.0</td>\n",
       "      <td>1.0</td>\n",
       "      <td>0.0</td>\n",
       "      <td>0.0</td>\n",
       "      <td>0.0</td>\n",
       "      <td>0.0</td>\n",
       "      <td>1.0</td>\n",
       "      <td>31.0</td>\n",
       "      <td>9.61</td>\n",
       "      <td>29.791</td>\n",
       "      <td>92.3521</td>\n",
       "      <td>3050</td>\n",
       "      <td>10</td>\n",
       "      <td>5070</td>\n",
       "      <td>9</td>\n",
       "    </tr>\n",
       "    <tr>\n",
       "      <th>19</th>\n",
       "      <td>28.846154</td>\n",
       "      <td>3.361977</td>\n",
       "      <td>1.0</td>\n",
       "      <td>0.0</td>\n",
       "      <td>0.0</td>\n",
       "      <td>0.0</td>\n",
       "      <td>1.0</td>\n",
       "      <td>0.0</td>\n",
       "      <td>0.0</td>\n",
       "      <td>0.0</td>\n",
       "      <td>0.0</td>\n",
       "      <td>1.0</td>\n",
       "      <td>22.0</td>\n",
       "      <td>4.84</td>\n",
       "      <td>10.648</td>\n",
       "      <td>23.4256</td>\n",
       "      <td>2015</td>\n",
       "      <td>6</td>\n",
       "      <td>9470</td>\n",
       "      <td>22</td>\n",
       "    </tr>\n",
       "    <tr>\n",
       "      <th>30</th>\n",
       "      <td>11.730769</td>\n",
       "      <td>2.462215</td>\n",
       "      <td>1.0</td>\n",
       "      <td>0.0</td>\n",
       "      <td>0.0</td>\n",
       "      <td>0.0</td>\n",
       "      <td>1.0</td>\n",
       "      <td>0.0</td>\n",
       "      <td>0.0</td>\n",
       "      <td>0.0</td>\n",
       "      <td>0.0</td>\n",
       "      <td>1.0</td>\n",
       "      <td>1.0</td>\n",
       "      <td>0.01</td>\n",
       "      <td>0.001</td>\n",
       "      <td>0.0001</td>\n",
       "      <td>1650</td>\n",
       "      <td>5</td>\n",
       "      <td>7460</td>\n",
       "      <td>14</td>\n",
       "    </tr>\n",
       "    <tr>\n",
       "      <th>71</th>\n",
       "      <td>19.230769</td>\n",
       "      <td>2.956512</td>\n",
       "      <td>1.0</td>\n",
       "      <td>0.0</td>\n",
       "      <td>0.0</td>\n",
       "      <td>0.0</td>\n",
       "      <td>1.0</td>\n",
       "      <td>0.0</td>\n",
       "      <td>0.0</td>\n",
       "      <td>0.0</td>\n",
       "      <td>0.0</td>\n",
       "      <td>1.0</td>\n",
       "      <td>4.0</td>\n",
       "      <td>0.16</td>\n",
       "      <td>0.064</td>\n",
       "      <td>0.0256</td>\n",
       "      <td>3255</td>\n",
       "      <td>10</td>\n",
       "      <td>8190</td>\n",
       "      <td>18</td>\n",
       "    </tr>\n",
       "  </tbody>\n",
       "</table>\n",
       "</div>"
      ],
      "text/plain": [
       "               wage     lwage  sex  shs  hsg  scl  clg   ad   mw   so   we  \\\n",
       "rownames                                                                     \n",
       "10         9.615385  2.263364  1.0  0.0  0.0  0.0  1.0  0.0  0.0  0.0  0.0   \n",
       "12        48.076923  3.872802  0.0  0.0  0.0  0.0  1.0  0.0  0.0  0.0  0.0   \n",
       "19        28.846154  3.361977  1.0  0.0  0.0  0.0  1.0  0.0  0.0  0.0  0.0   \n",
       "30        11.730769  2.462215  1.0  0.0  0.0  0.0  1.0  0.0  0.0  0.0  0.0   \n",
       "71        19.230769  2.956512  1.0  0.0  0.0  0.0  1.0  0.0  0.0  0.0  0.0   \n",
       "\n",
       "           ne  exp1  exp2    exp3     exp4   occ occ2   ind ind2  \n",
       "rownames                                                          \n",
       "10        1.0   7.0  0.49   0.343   0.2401  3600   11  8370   18  \n",
       "12        1.0  31.0  9.61  29.791  92.3521  3050   10  5070    9  \n",
       "19        1.0  22.0  4.84  10.648  23.4256  2015    6  9470   22  \n",
       "30        1.0   1.0  0.01   0.001   0.0001  1650    5  7460   14  \n",
       "71        1.0   4.0  0.16   0.064   0.0256  3255   10  8190   18  "
      ]
     },
     "execution_count": 71,
     "metadata": {},
     "output_type": "execute_result"
    }
   ],
   "source": [
    "data = data1[(data1['scl'] == 1) | (data1['clg'] == 1)]\n",
    "data.head()"
   ]
  },
  {
   "cell_type": "code",
   "execution_count": 72,
   "metadata": {},
   "outputs": [
    {
     "data": {
      "text/plain": [
       "(3068, 20)"
      ]
     },
     "execution_count": 72,
     "metadata": {},
     "output_type": "execute_result"
    }
   ],
   "source": [
    "data.shape"
   ]
  },
  {
   "cell_type": "markdown",
   "metadata": {
    "papermill": {
     "duration": 0.020145,
     "end_time": "2021-02-21T17:17:48.235598",
     "exception": false,
     "start_time": "2021-02-21T17:17:48.215453",
     "status": "completed"
    },
    "tags": []
   },
   "source": [
    "To start our (causal) analysis, we compare the sample means given gender:"
   ]
  },
  {
   "cell_type": "code",
   "execution_count": 73,
   "metadata": {},
   "outputs": [
    {
     "data": {
      "text/plain": [
       "(3068, 12)"
      ]
     },
     "execution_count": 73,
     "metadata": {},
     "output_type": "execute_result"
    }
   ],
   "source": [
    "Z = data[ [\"lwage\",\"sex\",\"shs\",\"hsg\",\"scl\",\"clg\",\"ad\",\"ne\",\"mw\",\"so\",\"we\",\"exp1\"] ]\n",
    "Z.shape"
   ]
  },
  {
   "cell_type": "code",
   "execution_count": 75,
   "metadata": {},
   "outputs": [
    {
     "data": {
      "text/plain": [
       "((1445, 20), (1623, 20), (1445, 12), (1623, 12))"
      ]
     },
     "execution_count": 75,
     "metadata": {},
     "output_type": "execute_result"
    }
   ],
   "source": [
    "data_female = data[data[ 'sex' ] == 1 ]\n",
    "Z_female = data_female[ [\"lwage\",\"sex\",\"shs\",\"hsg\",\"scl\",\"clg\",\"ad\",\"ne\",\"mw\",\"so\",\"we\",\"exp1\"] ]\n",
    "\n",
    "data_male = data[ data[ 'sex' ] == 0 ]\n",
    "Z_male = data_male[ [ \"lwage\",\"sex\",\"shs\",\"hsg\",\"scl\",\"clg\",\"ad\",\"ne\",\"mw\",\"so\",\"we\",\"exp1\"] ]\n",
    "\n",
    "(data_female.shape , data_male.shape , Z_female.shape , Z_male.shape)"
   ]
  },
  {
   "cell_type": "code",
   "execution_count": 76,
   "metadata": {},
   "outputs": [
    {
     "data": {
      "text/html": [
       "<div>\n",
       "<style scoped>\n",
       "    .dataframe tbody tr th:only-of-type {\n",
       "        vertical-align: middle;\n",
       "    }\n",
       "\n",
       "    .dataframe tbody tr th {\n",
       "        vertical-align: top;\n",
       "    }\n",
       "\n",
       "    .dataframe thead th {\n",
       "        text-align: right;\n",
       "    }\n",
       "</style>\n",
       "<table border=\"1\" class=\"dataframe\">\n",
       "  <thead>\n",
       "    <tr style=\"text-align: right;\">\n",
       "      <th></th>\n",
       "      <th>All</th>\n",
       "      <th>Men</th>\n",
       "      <th>Women</th>\n",
       "    </tr>\n",
       "  </thead>\n",
       "  <tbody>\n",
       "    <tr>\n",
       "      <th>Log Wage</th>\n",
       "      <td>3.000022</td>\n",
       "      <td>3.038412</td>\n",
       "      <td>2.956904</td>\n",
       "    </tr>\n",
       "    <tr>\n",
       "      <th>Sex</th>\n",
       "      <td>0.470991</td>\n",
       "      <td>0.000000</td>\n",
       "      <td>1.000000</td>\n",
       "    </tr>\n",
       "    <tr>\n",
       "      <th>Less then High School</th>\n",
       "      <td>0.000000</td>\n",
       "      <td>0.000000</td>\n",
       "      <td>0.000000</td>\n",
       "    </tr>\n",
       "    <tr>\n",
       "      <th>High School Graduate</th>\n",
       "      <td>0.000000</td>\n",
       "      <td>0.000000</td>\n",
       "      <td>0.000000</td>\n",
       "    </tr>\n",
       "    <tr>\n",
       "      <th>Some College</th>\n",
       "      <td>0.466754</td>\n",
       "      <td>0.481824</td>\n",
       "      <td>0.449827</td>\n",
       "    </tr>\n",
       "    <tr>\n",
       "      <th>Collage Graduate</th>\n",
       "      <td>0.533246</td>\n",
       "      <td>0.518176</td>\n",
       "      <td>0.550173</td>\n",
       "    </tr>\n",
       "    <tr>\n",
       "      <th>Advanced Degree</th>\n",
       "      <td>0.000000</td>\n",
       "      <td>0.000000</td>\n",
       "      <td>0.000000</td>\n",
       "    </tr>\n",
       "    <tr>\n",
       "      <th>Northeast</th>\n",
       "      <td>0.226532</td>\n",
       "      <td>0.219347</td>\n",
       "      <td>0.234602</td>\n",
       "    </tr>\n",
       "    <tr>\n",
       "      <th>Midwest</th>\n",
       "      <td>0.265971</td>\n",
       "      <td>0.261245</td>\n",
       "      <td>0.271280</td>\n",
       "    </tr>\n",
       "    <tr>\n",
       "      <th>South</th>\n",
       "      <td>0.285854</td>\n",
       "      <td>0.290819</td>\n",
       "      <td>0.280277</td>\n",
       "    </tr>\n",
       "    <tr>\n",
       "      <th>West</th>\n",
       "      <td>0.221643</td>\n",
       "      <td>0.228589</td>\n",
       "      <td>0.213841</td>\n",
       "    </tr>\n",
       "    <tr>\n",
       "      <th>Experience</th>\n",
       "      <td>12.700945</td>\n",
       "      <td>12.433148</td>\n",
       "      <td>13.001730</td>\n",
       "    </tr>\n",
       "  </tbody>\n",
       "</table>\n",
       "</div>"
      ],
      "text/plain": [
       "                             All        Men      Women\n",
       "Log Wage                3.000022   3.038412   2.956904\n",
       "Sex                     0.470991   0.000000   1.000000\n",
       "Less then High School   0.000000   0.000000   0.000000\n",
       "High School Graduate    0.000000   0.000000   0.000000\n",
       "Some College            0.466754   0.481824   0.449827\n",
       "Collage Graduate        0.533246   0.518176   0.550173\n",
       "Advanced Degree         0.000000   0.000000   0.000000\n",
       "Northeast               0.226532   0.219347   0.234602\n",
       "Midwest                 0.265971   0.261245   0.271280\n",
       "South                   0.285854   0.290819   0.280277\n",
       "West                    0.221643   0.228589   0.213841\n",
       "Experience             12.700945  12.433148  13.001730"
      ]
     },
     "execution_count": 76,
     "metadata": {},
     "output_type": "execute_result"
    }
   ],
   "source": [
    "table = np.zeros( (12, 3) )\n",
    "\n",
    "table[:, 0] = Z.mean().values\n",
    "table[:, 1] = Z_male.mean().values\n",
    "table[:, 2] = Z_female.mean().values\n",
    "table_pandas = pd.DataFrame( table, columns = [ 'All', 'Men', 'Women'])\n",
    "table_pandas.index = [\"Log Wage\",\"Sex\",\"Less then High School\",\"High School Graduate\",\"Some College\",\"Collage Graduate\",\"Advanced Degree\", \"Northeast\",\"Midwest\",\"South\",\"West\",\"Experience\"]\n",
    "\n",
    "table_pandas"
   ]
  },
  {
   "cell_type": "markdown",
   "metadata": {
    "papermill": {
     "duration": 0.020634,
     "end_time": "2021-02-21T17:17:48.532828",
     "exception": false,
     "start_time": "2021-02-21T17:17:48.512194",
     "status": "completed"
    },
    "tags": []
   },
   "source": [
    "In particular, the table above shows that the difference in average *logwage* between men and women is equal to $0,0815$"
   ]
  },
  {
   "cell_type": "code",
   "execution_count": 60,
   "metadata": {
    "scrolled": true
   },
   "outputs": [
    {
     "data": {
      "text/plain": [
       "0.08150855508736621"
      ]
     },
     "execution_count": 60,
     "metadata": {},
     "output_type": "execute_result"
    }
   ],
   "source": [
    "data_male['lwage'].mean() - data_female['lwage'].mean()"
   ]
  },
  {
   "cell_type": "markdown",
   "metadata": {
    "papermill": {
     "duration": 0.022161,
     "end_time": "2021-02-21T17:17:48.635417",
     "exception": false,
     "start_time": "2021-02-21T17:17:48.613256",
     "status": "completed"
    },
    "tags": []
   },
   "source": [
    "Thus, the unconditional gender wage gap is about $8.15$\\% for the group of never married workers (women get paid less on average in our sample). We also observe that never married working women are relatively more educated than working men and have more working experience."
   ]
  },
  {
   "cell_type": "markdown",
   "metadata": {
    "papermill": {
     "duration": 0.02073,
     "end_time": "2021-02-21T17:17:48.677447",
     "exception": false,
     "start_time": "2021-02-21T17:17:48.656717",
     "status": "completed"
    },
    "tags": []
   },
   "source": [
    "This unconditional (predictive) effect of gender equals the coefficient $\\beta$ in the univariate ols regression of $Y$ on $D$:\n",
    "\n",
    "\\begin{align}\n",
    "\\log(Y) &=\\beta D + \\epsilon.\n",
    "\\end{align}"
   ]
  },
  {
   "cell_type": "markdown",
   "metadata": {
    "papermill": {
     "duration": 0.020929,
     "end_time": "2021-02-21T17:17:48.718630",
     "exception": false,
     "start_time": "2021-02-21T17:17:48.697701",
     "status": "completed"
    },
    "tags": []
   },
   "source": [
    "We verify this by running an ols regression in R."
   ]
  },
  {
   "cell_type": "code",
   "execution_count": 61,
   "metadata": {
    "hide_input": true
   },
   "outputs": [],
   "source": [
    "import statsmodels.api as sm\n",
    "import statsmodels.formula.api as smf"
   ]
  },
  {
   "cell_type": "code",
   "execution_count": 77,
   "metadata": {
    "scrolled": true
   },
   "outputs": [
    {
     "name": "stdout",
     "output_type": "stream",
     "text": [
      "The estimated gender coefficient is -0.08150855508736049 and the corresponding robust standard error is 0.019579647767772348\n"
     ]
    }
   ],
   "source": [
    "nocontrol_model = smf.ols( formula = 'lwage ~ sex', data = data )\n",
    "nocontrol_est = nocontrol_model.fit().summary2().tables[1]['Coef.']['sex']\n",
    "HCV_coefs = nocontrol_model.fit().cov_HC0\n",
    "nocontrol_se = np.power( HCV_coefs.diagonal() , 0.5)[1]\n",
    "\n",
    "# print unconditional effect of gender and the corresponding standard error\n",
    "print( f'The estimated gender coefficient is {nocontrol_est} and the corresponding robust standard error is {nocontrol_se}' )"
   ]
  },
  {
   "cell_type": "markdown",
   "metadata": {
    "papermill": {
     "duration": 0.021605,
     "end_time": "2021-02-21T17:17:49.034485",
     "exception": false,
     "start_time": "2021-02-21T17:17:49.012880",
     "status": "completed"
    },
    "tags": []
   },
   "source": [
    "Next, we run an ols regression of $Y$ on $(D,W)$ to control for the effect of covariates summarized in $W$:\n",
    "\n",
    "\\begin{align}\n",
    "\\log(Y) &=\\beta_1 D  + \\beta_2' W + \\epsilon.\n",
    "\\end{align}\n",
    "\n",
    "Here, we are considering the flexible model from the previous lab. Hence, $W$ controls for experience, education, region, and occupation and industry indicators plus transformations and two-way interactions."
   ]
  },
  {
   "cell_type": "markdown",
   "metadata": {
    "papermill": {
     "duration": 0.021109,
     "end_time": "2021-02-21T17:17:49.076809",
     "exception": false,
     "start_time": "2021-02-21T17:17:49.055700",
     "status": "completed"
    },
    "tags": []
   },
   "source": [
    "Let us run the ols regression with controls."
   ]
  },
  {
   "cell_type": "markdown",
   "metadata": {},
   "source": [
    "## Ols regression with controls"
   ]
  },
  {
   "cell_type": "code",
   "execution_count": 78,
   "metadata": {},
   "outputs": [
    {
     "name": "stdout",
     "output_type": "stream",
     "text": [
      "               Coef.  Std.Err.         t         P>|t|    [0.025    0.975]\n",
      "Intercept   2.073357  0.214419  9.669647  8.761691e-22  1.652924  2.493790\n",
      "occ2[T.10]  0.091982  0.243220  0.378184  7.053225e-01 -0.384925  0.568888\n",
      "occ2[T.11] -0.499418  0.436858 -1.143202  2.530511e-01 -1.356010  0.357175\n",
      "occ2[T.12]  0.190101  0.341142  0.557249  5.774012e-01 -0.478810  0.859012\n",
      "occ2[T.13] -0.194529  0.271881 -0.715492  4.743637e-01 -0.727633  0.338575\n",
      "...              ...       ...       ...           ...       ...       ...\n",
      "exp4:scl    0.021375  0.022071  0.968465  3.328946e-01 -0.021902  0.064653\n",
      "exp4:clg    0.007909  0.021929  0.360650  7.183881e-01 -0.035090  0.050908\n",
      "exp4:mw     0.014287  0.025814  0.553477  5.799802e-01 -0.036328  0.064902\n",
      "exp4:so    -0.003759  0.022547 -0.166725  8.675981e-01 -0.047968  0.040450\n",
      "exp4:we     0.028286  0.023812  1.187890  2.349761e-01 -0.018405  0.074978\n",
      "\n",
      "[246 rows x 6 columns]\n",
      "Coefficient for OLS with controls -0.053062340357749746\n"
     ]
    }
   ],
   "source": [
    "flex = 'lwage ~ sex + (exp1+exp2+exp3+exp4)*(shs+hsg+scl+clg+occ2+ind2+mw+so+we)'\n",
    "\n",
    "# The smf api replicates R script when it transform data\n",
    "control_model = smf.ols( formula = flex, data = data )\n",
    "control_est = control_model.fit().summary2().tables[1]['Coef.']['sex']\n",
    "\n",
    "print(control_model.fit().summary2().tables[1])\n",
    "print( f\"Coefficient for OLS with controls {control_est}\" )\n",
    "\n",
    "HCV_coefs = control_model.fit().cov_HC0\n",
    "control_se = np.power( HCV_coefs.diagonal() , 0.5)[1]"
   ]
  },
  {
   "cell_type": "markdown",
   "metadata": {
    "papermill": {
     "duration": 0.040523,
     "end_time": "2021-02-21T17:17:49.873210",
     "exception": false,
     "start_time": "2021-02-21T17:17:49.832687",
     "status": "completed"
    },
    "tags": []
   },
   "source": [
    "The estimated regression coefficient $\\beta_1\\approx-0.0531$ measures how our linear prediction of wage changes if we set the gender variable $D$ from 0 to 1, holding the controls $W$ fixed.\n",
    "We can call this the *predictive effect* (PE), as it measures the impact of a variable on the prediction we make. Overall, we see that the unconditional wage gap of size $8$\\% for women decreases to about $5$\\% after controlling for worker characteristics.  \n"
   ]
  },
  {
   "cell_type": "markdown",
   "metadata": {
    "papermill": {
     "duration": 0.023222,
     "end_time": "2021-02-21T17:17:49.931749",
     "exception": false,
     "start_time": "2021-02-21T17:17:49.908527",
     "status": "completed"
    },
    "tags": []
   },
   "source": [
    "Next, we are using the Frisch-Waugh-Lovell theorem from the lecture partialling-out the linear effect of the controls via ols."
   ]
  },
  {
   "cell_type": "markdown",
   "metadata": {},
   "source": [
    "## Partialling-Out using ols"
   ]
  },
  {
   "cell_type": "code",
   "execution_count": 64,
   "metadata": {},
   "outputs": [
    {
     "name": "stdout",
     "output_type": "stream",
     "text": [
      "Coefficient for D via partialling-out -0.053062340357753875\n"
     ]
    },
    {
     "data": {
      "text/plain": [
       "0   -0.089571\n",
       "1   -0.016554\n",
       "Name: t_D, dtype: float64"
      ]
     },
     "execution_count": 64,
     "metadata": {},
     "output_type": "execute_result"
    }
   ],
   "source": [
    "# models\n",
    "# model for Y\n",
    "flex_y = 'lwage ~  (exp1+exp2+exp3+exp4)*(shs+hsg+scl+clg+occ2+ind2+mw+so+we)'\n",
    "# model for D\n",
    "flex_d = 'sex ~ (exp1+exp2+exp3+exp4)*(shs+hsg+scl+clg+occ2+ind2+mw+so+we)' \n",
    "\n",
    "# partialling-out the linear effect of W from Y\n",
    "t_Y = smf.ols( formula = flex_y , data = data ).fit().resid\n",
    "\n",
    "# partialling-out the linear effect of W from D\n",
    "t_D = smf.ols( formula = flex_d , data = data ).fit().resid\n",
    "\n",
    "data_res = pd.DataFrame( np.vstack(( t_Y.values , t_D.values )).T , columns = [ 't_Y', 't_D' ] )\n",
    "# regression of Y on D after partialling-out the effect of W\n",
    "partial_fit =  smf.ols( formula = 't_Y ~ t_D' , data = data_res ).fit()\n",
    "partial_est = partial_fit.summary2().tables[1]['Coef.']['t_D']\n",
    "\n",
    "print(\"Coefficient for D via partialling-out\", partial_est)\n",
    "\n",
    "# standard error\n",
    "HCV_coefs = partial_fit.cov_HC0\n",
    "partial_se = np.power( HCV_coefs.diagonal() , 0.5)[1]\n",
    "\n",
    "# confidence interval\n",
    "partial_fit.conf_int( alpha=0.05 ).iloc[1, :]"
   ]
  },
  {
   "cell_type": "markdown",
   "metadata": {
    "papermill": {
     "duration": 0.023907,
     "end_time": "2021-02-21T17:17:50.458203",
     "exception": false,
     "start_time": "2021-02-21T17:17:50.434296",
     "status": "completed"
    },
    "tags": []
   },
   "source": [
    "Again, the estimated coefficient measures the linear predictive effect (PE) of $D$ on $Y$ after taking out the linear effect of $W$ on both of these variables. This coefficient equals the estimated coefficient from the ols regression with controls."
   ]
  },
  {
   "cell_type": "markdown",
   "metadata": {},
   "source": [
    "### * *Question 2*\n",
    "___"
   ]
  },
  {
   "cell_type": "code",
   "execution_count": 81,
   "metadata": {},
   "outputs": [
    {
     "data": {
      "text/plain": [
       "(1432, 20)"
      ]
     },
     "execution_count": 81,
     "metadata": {},
     "output_type": "execute_result"
    }
   ],
   "source": [
    "data_scl = data[data['scl'] == 1]\n",
    "data_scl.shape"
   ]
  },
  {
   "cell_type": "code",
   "execution_count": 328,
   "metadata": {},
   "outputs": [
    {
     "data": {
      "text/plain": [
       "(1636, 20)"
      ]
     },
     "execution_count": 328,
     "metadata": {},
     "output_type": "execute_result"
    }
   ],
   "source": [
    "data_clg = data[data['clg'] == 1]\n",
    "data_clg.shape"
   ]
  },
  {
   "cell_type": "code",
   "execution_count": 359,
   "metadata": {
    "scrolled": true
   },
   "outputs": [
    {
     "data": {
      "text/html": [
       "<div>\n",
       "<style scoped>\n",
       "    .dataframe tbody tr th:only-of-type {\n",
       "        vertical-align: middle;\n",
       "    }\n",
       "\n",
       "    .dataframe tbody tr th {\n",
       "        vertical-align: top;\n",
       "    }\n",
       "\n",
       "    .dataframe thead th {\n",
       "        text-align: right;\n",
       "    }\n",
       "</style>\n",
       "<table border=\"1\" class=\"dataframe\">\n",
       "  <thead>\n",
       "    <tr style=\"text-align: right;\">\n",
       "      <th></th>\n",
       "      <th>exp1</th>\n",
       "      <th>lwage</th>\n",
       "      <th>promed</th>\n",
       "    </tr>\n",
       "  </thead>\n",
       "  <tbody>\n",
       "    <tr>\n",
       "      <th>0</th>\n",
       "      <td>3.0</td>\n",
       "      <td>2.693883</td>\n",
       "      <td>0</td>\n",
       "    </tr>\n",
       "    <tr>\n",
       "      <th>1</th>\n",
       "      <td>3.5</td>\n",
       "      <td>2.729320</td>\n",
       "      <td>0</td>\n",
       "    </tr>\n",
       "    <tr>\n",
       "      <th>2</th>\n",
       "      <td>4.0</td>\n",
       "      <td>2.696418</td>\n",
       "      <td>0</td>\n",
       "    </tr>\n",
       "    <tr>\n",
       "      <th>3</th>\n",
       "      <td>4.5</td>\n",
       "      <td>2.611629</td>\n",
       "      <td>0</td>\n",
       "    </tr>\n",
       "    <tr>\n",
       "      <th>4</th>\n",
       "      <td>5.0</td>\n",
       "      <td>2.727195</td>\n",
       "      <td>0</td>\n",
       "    </tr>\n",
       "    <tr>\n",
       "      <th>...</th>\n",
       "      <td>...</td>\n",
       "      <td>...</td>\n",
       "      <td>...</td>\n",
       "    </tr>\n",
       "    <tr>\n",
       "      <th>75</th>\n",
       "      <td>40.5</td>\n",
       "      <td>2.889598</td>\n",
       "      <td>0</td>\n",
       "    </tr>\n",
       "    <tr>\n",
       "      <th>76</th>\n",
       "      <td>41.0</td>\n",
       "      <td>3.011219</td>\n",
       "      <td>0</td>\n",
       "    </tr>\n",
       "    <tr>\n",
       "      <th>77</th>\n",
       "      <td>41.5</td>\n",
       "      <td>3.097123</td>\n",
       "      <td>0</td>\n",
       "    </tr>\n",
       "    <tr>\n",
       "      <th>78</th>\n",
       "      <td>42.0</td>\n",
       "      <td>2.668829</td>\n",
       "      <td>0</td>\n",
       "    </tr>\n",
       "    <tr>\n",
       "      <th>79</th>\n",
       "      <td>42.5</td>\n",
       "      <td>2.822980</td>\n",
       "      <td>0</td>\n",
       "    </tr>\n",
       "  </tbody>\n",
       "</table>\n",
       "<p>80 rows × 3 columns</p>\n",
       "</div>"
      ],
      "text/plain": [
       "    exp1     lwage  promed\n",
       "0    3.0  2.693883       0\n",
       "1    3.5  2.729320       0\n",
       "2    4.0  2.696418       0\n",
       "3    4.5  2.611629       0\n",
       "4    5.0  2.727195       0\n",
       "..   ...       ...     ...\n",
       "75  40.5  2.889598       0\n",
       "76  41.0  3.011219       0\n",
       "77  41.5  3.097123       0\n",
       "78  42.0  2.668829       0\n",
       "79  42.5  2.822980       0\n",
       "\n",
       "[80 rows x 3 columns]"
      ]
     },
     "execution_count": 359,
     "metadata": {},
     "output_type": "execute_result"
    }
   ],
   "source": [
    "scl = data_scl[['lwage','exp1']].groupby(['exp1']).mean().reset_index()\n",
    "scl['promed'] = 0\n",
    "scl"
   ]
  },
  {
   "cell_type": "code",
   "execution_count": 360,
   "metadata": {
    "scrolled": true
   },
   "outputs": [
    {
     "data": {
      "text/html": [
       "<div>\n",
       "<style scoped>\n",
       "    .dataframe tbody tr th:only-of-type {\n",
       "        vertical-align: middle;\n",
       "    }\n",
       "\n",
       "    .dataframe tbody tr th {\n",
       "        vertical-align: top;\n",
       "    }\n",
       "\n",
       "    .dataframe thead th {\n",
       "        text-align: right;\n",
       "    }\n",
       "</style>\n",
       "<table border=\"1\" class=\"dataframe\">\n",
       "  <thead>\n",
       "    <tr style=\"text-align: right;\">\n",
       "      <th></th>\n",
       "      <th>exp1</th>\n",
       "      <th>lwage</th>\n",
       "      <th>promed</th>\n",
       "    </tr>\n",
       "  </thead>\n",
       "  <tbody>\n",
       "    <tr>\n",
       "      <th>0</th>\n",
       "      <td>1.0</td>\n",
       "      <td>3.031143</td>\n",
       "      <td>0</td>\n",
       "    </tr>\n",
       "    <tr>\n",
       "      <th>1</th>\n",
       "      <td>2.0</td>\n",
       "      <td>3.019492</td>\n",
       "      <td>0</td>\n",
       "    </tr>\n",
       "    <tr>\n",
       "      <th>2</th>\n",
       "      <td>3.0</td>\n",
       "      <td>3.061553</td>\n",
       "      <td>0</td>\n",
       "    </tr>\n",
       "    <tr>\n",
       "      <th>3</th>\n",
       "      <td>4.0</td>\n",
       "      <td>3.070771</td>\n",
       "      <td>0</td>\n",
       "    </tr>\n",
       "    <tr>\n",
       "      <th>4</th>\n",
       "      <td>5.0</td>\n",
       "      <td>3.030900</td>\n",
       "      <td>0</td>\n",
       "    </tr>\n",
       "    <tr>\n",
       "      <th>5</th>\n",
       "      <td>6.0</td>\n",
       "      <td>3.182292</td>\n",
       "      <td>0</td>\n",
       "    </tr>\n",
       "    <tr>\n",
       "      <th>6</th>\n",
       "      <td>7.0</td>\n",
       "      <td>3.107772</td>\n",
       "      <td>0</td>\n",
       "    </tr>\n",
       "    <tr>\n",
       "      <th>7</th>\n",
       "      <td>8.0</td>\n",
       "      <td>3.142271</td>\n",
       "      <td>0</td>\n",
       "    </tr>\n",
       "    <tr>\n",
       "      <th>8</th>\n",
       "      <td>9.0</td>\n",
       "      <td>3.038090</td>\n",
       "      <td>0</td>\n",
       "    </tr>\n",
       "    <tr>\n",
       "      <th>9</th>\n",
       "      <td>10.0</td>\n",
       "      <td>3.139449</td>\n",
       "      <td>0</td>\n",
       "    </tr>\n",
       "    <tr>\n",
       "      <th>10</th>\n",
       "      <td>11.0</td>\n",
       "      <td>3.111374</td>\n",
       "      <td>0</td>\n",
       "    </tr>\n",
       "    <tr>\n",
       "      <th>11</th>\n",
       "      <td>12.0</td>\n",
       "      <td>3.372184</td>\n",
       "      <td>0</td>\n",
       "    </tr>\n",
       "    <tr>\n",
       "      <th>12</th>\n",
       "      <td>13.0</td>\n",
       "      <td>3.134240</td>\n",
       "      <td>0</td>\n",
       "    </tr>\n",
       "    <tr>\n",
       "      <th>13</th>\n",
       "      <td>14.0</td>\n",
       "      <td>3.275004</td>\n",
       "      <td>0</td>\n",
       "    </tr>\n",
       "    <tr>\n",
       "      <th>14</th>\n",
       "      <td>15.0</td>\n",
       "      <td>3.287349</td>\n",
       "      <td>0</td>\n",
       "    </tr>\n",
       "    <tr>\n",
       "      <th>15</th>\n",
       "      <td>16.0</td>\n",
       "      <td>3.254997</td>\n",
       "      <td>0</td>\n",
       "    </tr>\n",
       "    <tr>\n",
       "      <th>16</th>\n",
       "      <td>17.0</td>\n",
       "      <td>3.258694</td>\n",
       "      <td>0</td>\n",
       "    </tr>\n",
       "    <tr>\n",
       "      <th>17</th>\n",
       "      <td>18.0</td>\n",
       "      <td>3.408159</td>\n",
       "      <td>0</td>\n",
       "    </tr>\n",
       "    <tr>\n",
       "      <th>18</th>\n",
       "      <td>19.0</td>\n",
       "      <td>3.153315</td>\n",
       "      <td>0</td>\n",
       "    </tr>\n",
       "    <tr>\n",
       "      <th>19</th>\n",
       "      <td>20.0</td>\n",
       "      <td>3.204437</td>\n",
       "      <td>0</td>\n",
       "    </tr>\n",
       "    <tr>\n",
       "      <th>20</th>\n",
       "      <td>21.0</td>\n",
       "      <td>3.303849</td>\n",
       "      <td>0</td>\n",
       "    </tr>\n",
       "    <tr>\n",
       "      <th>21</th>\n",
       "      <td>22.0</td>\n",
       "      <td>3.200675</td>\n",
       "      <td>0</td>\n",
       "    </tr>\n",
       "    <tr>\n",
       "      <th>22</th>\n",
       "      <td>23.0</td>\n",
       "      <td>3.065550</td>\n",
       "      <td>0</td>\n",
       "    </tr>\n",
       "    <tr>\n",
       "      <th>23</th>\n",
       "      <td>24.0</td>\n",
       "      <td>3.267125</td>\n",
       "      <td>0</td>\n",
       "    </tr>\n",
       "    <tr>\n",
       "      <th>24</th>\n",
       "      <td>25.0</td>\n",
       "      <td>3.214664</td>\n",
       "      <td>0</td>\n",
       "    </tr>\n",
       "    <tr>\n",
       "      <th>25</th>\n",
       "      <td>26.0</td>\n",
       "      <td>3.418911</td>\n",
       "      <td>0</td>\n",
       "    </tr>\n",
       "    <tr>\n",
       "      <th>26</th>\n",
       "      <td>27.0</td>\n",
       "      <td>3.379309</td>\n",
       "      <td>0</td>\n",
       "    </tr>\n",
       "    <tr>\n",
       "      <th>27</th>\n",
       "      <td>28.0</td>\n",
       "      <td>3.223364</td>\n",
       "      <td>0</td>\n",
       "    </tr>\n",
       "    <tr>\n",
       "      <th>28</th>\n",
       "      <td>29.0</td>\n",
       "      <td>3.441726</td>\n",
       "      <td>0</td>\n",
       "    </tr>\n",
       "    <tr>\n",
       "      <th>29</th>\n",
       "      <td>30.0</td>\n",
       "      <td>3.268815</td>\n",
       "      <td>0</td>\n",
       "    </tr>\n",
       "    <tr>\n",
       "      <th>30</th>\n",
       "      <td>31.0</td>\n",
       "      <td>3.239399</td>\n",
       "      <td>0</td>\n",
       "    </tr>\n",
       "    <tr>\n",
       "      <th>31</th>\n",
       "      <td>32.0</td>\n",
       "      <td>3.315334</td>\n",
       "      <td>0</td>\n",
       "    </tr>\n",
       "    <tr>\n",
       "      <th>32</th>\n",
       "      <td>33.0</td>\n",
       "      <td>3.336597</td>\n",
       "      <td>0</td>\n",
       "    </tr>\n",
       "    <tr>\n",
       "      <th>33</th>\n",
       "      <td>34.0</td>\n",
       "      <td>3.381862</td>\n",
       "      <td>0</td>\n",
       "    </tr>\n",
       "    <tr>\n",
       "      <th>34</th>\n",
       "      <td>35.0</td>\n",
       "      <td>3.110984</td>\n",
       "      <td>0</td>\n",
       "    </tr>\n",
       "    <tr>\n",
       "      <th>35</th>\n",
       "      <td>36.0</td>\n",
       "      <td>3.235879</td>\n",
       "      <td>0</td>\n",
       "    </tr>\n",
       "    <tr>\n",
       "      <th>36</th>\n",
       "      <td>37.0</td>\n",
       "      <td>3.121215</td>\n",
       "      <td>0</td>\n",
       "    </tr>\n",
       "    <tr>\n",
       "      <th>37</th>\n",
       "      <td>38.0</td>\n",
       "      <td>2.971469</td>\n",
       "      <td>0</td>\n",
       "    </tr>\n",
       "    <tr>\n",
       "      <th>38</th>\n",
       "      <td>39.0</td>\n",
       "      <td>2.679251</td>\n",
       "      <td>0</td>\n",
       "    </tr>\n",
       "    <tr>\n",
       "      <th>39</th>\n",
       "      <td>40.0</td>\n",
       "      <td>2.960661</td>\n",
       "      <td>0</td>\n",
       "    </tr>\n",
       "  </tbody>\n",
       "</table>\n",
       "</div>"
      ],
      "text/plain": [
       "    exp1     lwage  promed\n",
       "0    1.0  3.031143       0\n",
       "1    2.0  3.019492       0\n",
       "2    3.0  3.061553       0\n",
       "3    4.0  3.070771       0\n",
       "4    5.0  3.030900       0\n",
       "5    6.0  3.182292       0\n",
       "6    7.0  3.107772       0\n",
       "7    8.0  3.142271       0\n",
       "8    9.0  3.038090       0\n",
       "9   10.0  3.139449       0\n",
       "10  11.0  3.111374       0\n",
       "11  12.0  3.372184       0\n",
       "12  13.0  3.134240       0\n",
       "13  14.0  3.275004       0\n",
       "14  15.0  3.287349       0\n",
       "15  16.0  3.254997       0\n",
       "16  17.0  3.258694       0\n",
       "17  18.0  3.408159       0\n",
       "18  19.0  3.153315       0\n",
       "19  20.0  3.204437       0\n",
       "20  21.0  3.303849       0\n",
       "21  22.0  3.200675       0\n",
       "22  23.0  3.065550       0\n",
       "23  24.0  3.267125       0\n",
       "24  25.0  3.214664       0\n",
       "25  26.0  3.418911       0\n",
       "26  27.0  3.379309       0\n",
       "27  28.0  3.223364       0\n",
       "28  29.0  3.441726       0\n",
       "29  30.0  3.268815       0\n",
       "30  31.0  3.239399       0\n",
       "31  32.0  3.315334       0\n",
       "32  33.0  3.336597       0\n",
       "33  34.0  3.381862       0\n",
       "34  35.0  3.110984       0\n",
       "35  36.0  3.235879       0\n",
       "36  37.0  3.121215       0\n",
       "37  38.0  2.971469       0\n",
       "38  39.0  2.679251       0\n",
       "39  40.0  2.960661       0"
      ]
     },
     "execution_count": 360,
     "metadata": {},
     "output_type": "execute_result"
    }
   ],
   "source": [
    "clg = data_clg[['lwage','exp1']].groupby(['exp1']).mean().reset_index()\n",
    "clg['promed'] = 0\n",
    "clg"
   ]
  },
  {
   "cell_type": "code",
   "execution_count": 363,
   "metadata": {
    "scrolled": false
   },
   "outputs": [
    {
     "name": "stdout",
     "output_type": "stream",
     "text": [
      "0     2.693883\n",
      "1     2.714895\n",
      "2     2.709306\n",
      "3     2.680130\n",
      "4     2.688087\n",
      "        ...   \n",
      "75    2.846370\n",
      "76    2.846601\n",
      "77    2.847477\n",
      "78    2.847352\n",
      "79    2.847335\n",
      "Name: promed, Length: 80, dtype: float64\n"
     ]
    }
   ],
   "source": [
    "for i in range(0,80):\n",
    "    aaa = data_scl[data_scl['exp1'] <= scl['exp1'][i]]\n",
    "    scl['promed'][i] = aaa['lwage'].mean()\n",
    "print(scl['promed'])"
   ]
  },
  {
   "cell_type": "code",
   "execution_count": 364,
   "metadata": {
    "scrolled": true
   },
   "outputs": [
    {
     "name": "stdout",
     "output_type": "stream",
     "text": [
      "0     3.031143\n",
      "1     3.025765\n",
      "2     3.036540\n",
      "3     3.043327\n",
      "4     3.041500\n",
      "5     3.056320\n",
      "6     3.061331\n",
      "7     3.066631\n",
      "8     3.064546\n",
      "9     3.069037\n",
      "10    3.070462\n",
      "11    3.078424\n",
      "12    3.080384\n",
      "13    3.086025\n",
      "14    3.091045\n",
      "15    3.093595\n",
      "16    3.097808\n",
      "17    3.103874\n",
      "18    3.104785\n",
      "19    3.106513\n",
      "20    3.111446\n",
      "21    3.112612\n",
      "22    3.112105\n",
      "23    3.113757\n",
      "24    3.115030\n",
      "25    3.119647\n",
      "26    3.123534\n",
      "27    3.124874\n",
      "28    3.129070\n",
      "29    3.130263\n",
      "30    3.131678\n",
      "31    3.132625\n",
      "32    3.134061\n",
      "33    3.136884\n",
      "34    3.136722\n",
      "35    3.137094\n",
      "36    3.136946\n",
      "37    3.135319\n",
      "38    3.134201\n",
      "39    3.133670\n",
      "Name: promed, dtype: float64\n"
     ]
    }
   ],
   "source": [
    "for i in range(0,40):\n",
    "    aaa = data_clg[data_clg['exp1'] <= clg['exp1'][i]]\n",
    "    clg['promed'][i] = aaa['lwage'].mean()\n",
    "print(clg['promed'])"
   ]
  },
  {
   "cell_type": "code",
   "execution_count": 368,
   "metadata": {
    "scrolled": false
   },
   "outputs": [
    {
     "data": {
      "image/png": "[encoded data removed]",
      "text/plain": [
       "<Figure size 2000x1000 with 1 Axes>"
      ]
     },
     "metadata": {},
     "output_type": "display_data"
    }
   ],
   "source": [
    "plt.rcParams[\"figure.figsize\"] = (20,10)\n",
    "plt.rcParams.update({'font.size': 15})\n",
    "\n",
    "x = clg[\"exp1\"]\n",
    "x_1 = scl['exp1']\n",
    "y = clg[\"promed\"]\n",
    "y_1 = scl['promed']\n",
    "\n",
    "plt.plot(x, y, label = \"Collage Graduated\", linestyle='dashed')    \n",
    "plt.plot(x_1, y_1, label = \"Some College Education\", linestyle='dashed')\n",
    "\n",
    "plt.xticks()\n",
    "plt.legend()\n",
    "plt.title(\"Wage per experience for High school and Some college education\")\n",
    "plt.xlabel(\"Years of Potencial Experience\", size = 14)\n",
    "plt.ylabel(\"Log Wage(or Wage Gap)\", size = 14)\n",
    "plt.show()"
   ]
  },
  {
   "cell_type": "markdown",
   "metadata": {},
   "source": [
    "### * *Question*\n",
    "____"
   ]
  },
  {
   "cell_type": "markdown",
   "metadata": {},
   "source": [
    "#### The proof of the Frisch-Waugh-Lovell Theorem"
   ]
  },
  {
   "cell_type": "markdown",
   "metadata": {},
   "source": [
    "## Frisch-Waugh-Lovell Theorem"
   ]
  },
  {
   "cell_type": "markdown",
   "metadata": {},
   "source": [
    "#### Definition\n",
    "\n",
    "The Frisch-Waugh theorem says that the multiple regression\n",
    "coefficient of any single variable can also be obtained by first netting\n",
    "out the effect of other variable(s) in the regression model from both\n",
    "the dependent variable and the independent variable. When we consider\n",
    "a linear regression model, we are interested in understanding to what\n",
    "extent the independent variables $X_{A}$ and $X_{B}$explain the\n",
    "dispersion (or variance) observed in the dependent variable $Y$. "
   ]
  },
  {
   "cell_type": "code",
   "execution_count": 28,
   "metadata": {},
   "outputs": [
    {
     "data": {
      "image/jpeg": "[encoded data removed]",
      "text/plain": [
       "<IPython.core.display.Image object>"
      ]
     },
     "execution_count": 28,
     "metadata": {},
     "output_type": "execute_result"
    }
   ],
   "source": [
    "from IPython.display import Image\n",
    "Image(filename = \"diagram.jpeg\")"
   ]
  },
  {
   "cell_type": "markdown",
   "metadata": {},
   "source": [
    "In Figure 1 we can observe a Venn diagram that will facilitate\n",
    "the interpretation of the Frisch-Waugh-Lovell Theorem. First, by regressing\n",
    "Y as a function of $X_{A}$ and $X_{B}$, the effect of region A will\n",
    "be captured by $\\widehat{\\beta}_{A}$ and that of region B will be\n",
    "captured by $\\widehat{\\beta}_{B}$. For its part, area D represents\n",
    "a conflicting region, where we do not know to which variable to attribute\n",
    "the effect, since there is collinearity (correlation) between $X_{A}$\n",
    "and $X_{B}$. This conflict is known as the \\textquotedbl identification\n",
    "problem\\textquotedbl . Suppose we now only regress $Y$ on $X_{B}$.\n",
    "The ordinary least squares estimation will attribute to $\\beta_{B}$\n",
    "the effect of region D, which is misleading because part of that effect\n",
    "may be due to $X_{A}$ and not to $X_{B}$. Now we would fall into\n",
    "the \"endogeneity problem\" (one of the\n",
    "variables with which there is an identification problem is not being\n",
    "observed). Therefore, the Frisch-Waugh-Lovell theorem allows us to\n",
    "\\textquotedbl clean up\\textquotedbl{} the effect of $X_{A}$ . By\n",
    "applying it, we no longer have to worry about the region D and we\n",
    "can estimate $\\beta_{B}$ without any problem.\n",
    "\n",
    "\n"
   ]
  },
  {
   "cell_type": "markdown",
   "metadata": {},
   "source": [
    "#### Explication\n",
    "\n",
    "The setup of the theorem is the standard linear model in matrix form: \n",
    "$$ Y=X\\beta+\\mu $$\n",
    "\n",
    "\n",
    "where $Y$ is an n vector of observations of the dependent\n",
    "variable, $X$ is a $n$$\\times k$ non-stochastic matrix of observations\n",
    "of $k$ explanatory variables, and u is a vector of error terms. Let's\n",
    "partition $X$so the model is expressed as follows:\n",
    "\n",
    "\n",
    "\\begin{equation}\n",
    "X=\\beta_{1}X_{1}+\\beta_{2}X_{2}+\\mu\n",
    "\\end{equation}\n",
    "\n",
    "\n",
    "\n",
    "where $X_{1}$ and $X_{2}$ are matrices of observations\n",
    "of $k_{1}$and $k_{2}$ explanatory variables, and $\\beta_{1}$ and\n",
    "$\\beta_{2}$ are the corresponding coeficients vectors. Consequently,\n",
    "$X=[X_{1}$$X_{2}$] , $\\beta'=[\\beta'_{1}$ $\\beta'_{2}$] and\n",
    "$k=k_{1}+k_{2}$.\n",
    "\n",
    "\n",
    "\n",
    "Let $M_{1}=I-X_{1}(X'_{1}X_{1})^{-1}X'_{1}$, that is, $M_{1}$\n",
    "is an orthogonal projection matrix that projects any vector in $R^{n}$ onto\n",
    "the orthogonal complement of the linear space spanned by the columns\n",
    "of $X_{1}$. Let $Y^{*}=M_{1}Y$ and $X_{2}^{*}=M_{1}X_{2}$. $Y^{*}$\n",
    "and $X^{*}$ are, respectively, OLS residuals of regressing $Y$\n",
    "and all the columns of $X_{2}$ on $X_{1}$. \n",
    "\n",
    "\n",
    "Supose that we are insterested in estimating (like in previous section)\n",
    "in (1), and consider the fallowing alternative methods: \n",
    "\n",
    "* Method 1: Proceed as usual and regress $Y$ on $X$ obtaining the\n",
    "OLS estimator $\\widehat{\\beta}=[\\hat{\\beta}'_{1}$ $\\hat{\\beta}'_{2}]=X_{1}(X'X)^{-1}X'Y$.\n",
    "$\\hat{\\beta}{}_{2}$ would be the desired estimate. \n",
    "\n",
    "* Method 2 : Regress $Y^{*}$ on $X_{2}^{*}$ and obtain as estimate\n",
    "$$ \\tilde{\\beta}_{2}=(X_{2}^{*'}X_{1}^{*})^{-1}X_{2}^{*'}Y^{*} $$\n",
    "\n",
    "\n",
    "\n",
    "Let $e_{1}$ and $e_{2}$ be the residuals\n",
    "vectors of the regressions in Method 1 and 2, respectively. Now we\n",
    "can state the theorem.\n",
    "\n",
    "\n",
    "The theorem says that both methods yield exactly the same estimates\n",
    "of $\\beta_{2}$ and that residuals of both regressions are the same.\n",
    "That is, an estimate of $\\beta_{2}$can be obtained by directly regressing\n",
    "$Y$ on $X_{1}$ and $X_{2}$or in a two-step fashion. In the first\n",
    "step, we 'get rid' of the efect of $X_{1}$ by substracting to $Y$\n",
    "and $X_{2}$ the part of them that can be linearly explained by $X_{1}$,\n",
    "and in the second part we run a simple regression using this 'cleaned'\n",
    "variables ($Y^{*}$ and $X^{*}$). \n",
    "\n",
    "\n",
    "Technically, Method 1 projects $Y$ on the space spanned\n",
    "by the columns of $X$, and its residuals are projections of $Y$\n",
    "Y on the orthogonal complement of such space. Method 2 decomposes\n",
    "this procedure in two steps.\n",
    "\n",
    "\n",
    "1. `Eliminates' the effect of $X_{1}$ by first projecting $Y$ and $X_{2}$\n",
    "on the orthogonal complement of the space spanned by the columns of\n",
    "$X_{1}$, that is, it creates new variables $Y^{*}$ and $X_{2}^{*}$\n",
    "which are OLS residuals of regressing $Y$ and $X_{2}$ on $X_{1}$. \n",
    "\n",
    "2. Runs OLS on these transformed variables, that is, $Y^{*}$ is projected\n",
    "orthogonally on the space spanned by $X_{2}^{*}$, which, ny construction.,\n",
    "is orthogonal to the space spanned by $X_{1}$.\n",
    "\\end{enumerate}\n"
   ]
  },
  {
   "cell_type": "markdown",
   "metadata": {},
   "source": [
    "#### Algebraic proof \n",
    "\n",
    "For completeness, we give a standard algebraic proof of the\n",
    "theorem. The starting point is the orthogonal decomposition:\n",
    "\n",
    "$$\n",
    "Y=PY+MY=X_{1}\\hat{\\beta}{}_{1}+X_{2}\\hat{\\beta}{}_{2}+MY\n",
    "$$\n",
    "\n",
    "To prove the first part, multiply both sides by $X_{2}^{'}M_{1}$\n",
    "and get \n",
    "\n",
    "$$\n",
    "X_{2}^{'}M_{1}Y=X_{2}^{'}M_{1}X_{1}\\hat{\\beta}{}_{1}+X_{2}^{'}M_{1}X_{2}\\hat{\\beta}{}_{2}+X_{2}^{'}M_{1}MY\n",
    "$$\n",
    "\n",
    "The first term of the right hand side vanishes since, by definition,\n",
    "$M_{1}$projects $X_{1}$on its orthogonal complement, so $M_{1}X_{1}=0$.\n",
    "The third term vanishes too since $X_{2}^{'}M_{1}M=X_{2}^{'}M-P_{1}X_{2}^{'}M$\n",
    "and $X_{2}^{'}M=0$ for the same reasons as before. Then, we are left\n",
    "only with the second term. Solving for $\\hat{\\beta}{}_{2}$ proves\n",
    "the first part of the theorem. \n",
    "\n",
    "To prove the second part multiply the orthogonal decomposition\n",
    "by obtain:\n",
    "\n",
    "$$\n",
    "M_{1}Y=M_{1}X_{1}\\hat{\\beta}{}_{1}+M_{1}X_{2}\\hat{\\beta}{}_{2}+M_{1}MY\n",
    "$$\n",
    "\n",
    "\n",
    "Again the first term of the right hand side vanishes. Now\n",
    "for the third term, $MY$ belongs to the orthogonal complement of\n",
    "$[X_{1}X_{2}]$, so further projecting it on the orthogonal complement\n",
    "of $X_{1}$(which is what premultiplying by $M_{1}$ would do) has\n",
    "no e®ect, hence $M_{1}MY=MY.$This leaves: \n",
    "\n",
    "$$\n",
    "M_{1}Y-M_{1}X_{2}\\hat{\\beta}{}_{2}=MY\n",
    "$$\n",
    "\n",
    "\n",
    "From the first part of the theorem, the left hand side are\n",
    "the errors of projecting $Y^{*}$ on $X_{2}^{*}$ and, by definition,\n",
    "the right hand side are the errors of proyecting $Y$ on $[X_{1}X_{2}]$\n",
    "proving the second part of the theorem."
   ]
  }
 ],
 "metadata": {
  "hide_input": false,
  "kernelspec": {
   "display_name": "Python 3",
   "language": "python",
   "name": "python3"
  },
  "language_info": {
   "codemirror_mode": {
    "name": "ipython",
    "version": 3
   },
   "file_extension": ".py",
   "mimetype": "text/x-python",
   "name": "python",
   "nbconvert_exporter": "python",
   "pygments_lexer": "ipython3",
   "version": "3.7.1"
  }
 },
 "nbformat": 4,
 "nbformat_minor": 4
}
