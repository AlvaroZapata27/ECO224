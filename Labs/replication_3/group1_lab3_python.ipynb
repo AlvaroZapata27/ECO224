{
 "cells": [
  {
   "cell_type": "markdown",
   "metadata": {},
   "source": [
    "* Python code replication of:\n",
    "\" https://www.kaggle.com/victorchernozhukov/analyzing-rct-reemployment-experiment \"\n",
    "* Inspired from the work done by : Alexander Quispe and Anzony Quispe "
   ]
  },
  {
   "cell_type": "markdown",
   "metadata": {},
   "source": [
    "# 1. Multicollinearity \n"
   ]
  },
  {
   "cell_type": "markdown",
   "metadata": {},
   "source": [
    "Multicollinearity is a statistical concept that is used when independent variables in an econometric model are correlated. This can lead to inaccurate estimates and a wider confidence intervals whit less reliable probabilities in terms of the effect of independent variables.\n",
    "There are two kinds of multicollinearities:\n",
    "### Perfect multicollinearity:\n",
    "This is when an independent variable is a linear combination of two other independent variables.\n",
    "\n",
    "For example:\n",
    "\\begin{align}\n",
    "PBI_i = \\beta_0+\\beta_1export +\\beta_2import +β3balance+\\epsilon_i\\end{align}\n",
    "- Perfect multicollinearity will occur if we can express: balance = export − import\n",
    "- In this case, $\\beta_3$ will not be able to measure the effect of increasing the balance by keeping the export and import constant given their linear relationship.\n",
    "\n",
    "$Consequences$\n",
    "\n",
    "We cannot find a unique solution for $\\beta_{OLS} = (X'X)^{−1}X'y$\n",
    "\n",
    "because $rango(X)<K ⇒ |X'X| = 0 ⇒ \\not\\exists (X'X)^{-1}$ where K in the number of variables\n",
    "\n",
    "How to detect it?\n",
    "- Programmes will complain that we cannot reverse the matrix (X'X)\n",
    "- **Correction:** Exclude the variable that causes the problem\n",
    "\n",
    "### Imperfect multicollinearity:\n",
    "\n",
    "When the correlation between the explanatory variables is high, but not perfect.\n",
    "\n",
    "For example:\n",
    "\\begin{align}\n",
    "Consumo_i = \\beta_1 +\\beta_2Ingreso_i +\\beta_3Riqueza_i +\\epsilon_i\\end{align}\n",
    "- Although it is true there is no perfect collinearity, it is quite likely that wealth and income are highly correlated.\n"
   ]
  },
  {
   "cell_type": "markdown",
   "metadata": {},
   "source": [
    "## Create Matrix X"
   ]
  },
  {
   "cell_type": "code",
   "execution_count": 2,
   "metadata": {},
   "outputs": [],
   "source": [
    "import numpy as np\n",
    "from numpy import random as rd\n",
    "from numpy.linalg import det, inv\n",
    "import pandas as pd"
   ]
  },
  {
   "cell_type": "code",
   "execution_count": 3,
   "metadata": {},
   "outputs": [],
   "source": [
    "np.random.seed(12345676)\n",
    "n = 10"
   ]
  },
  {
   "cell_type": "code",
   "execution_count": 4,
   "metadata": {},
   "outputs": [],
   "source": [
    "V1= np.random.normal(0, 1, 10).reshape((10, 1))\n",
    "V2= np.random.normal(0, 1, 10).reshape((10, 1))\n",
    "V3= np.random.normal(0, 1, 10).reshape((10, 1))\n",
    "V4= np.random.normal(0, 1, 10).reshape((10, 1))\n",
    "V5= np.random.normal(0, 1, 10).reshape((10, 1))\n",
    "V6= np.random.normal(0, 1, 10).reshape((10, 1))\n",
    "V7= np.random.normal(0, 1, 10).reshape((10, 1))\n",
    "V8= np.random.normal(0, 1, 10).reshape((10, 1))\n",
    "V9= np.random.normal(0, 1, 10).reshape((10, 1))"
   ]
  },
  {
   "cell_type": "code",
   "execution_count": 5,
   "metadata": {},
   "outputs": [
    {
     "data": {
      "text/plain": [
       "array([[ 4.14783765],\n",
       "       [ 0.94190548],\n",
       "       [ 1.88687851],\n",
       "       [-0.39240701],\n",
       "       [ 0.38287931],\n",
       "       [-0.91164379],\n",
       "       [-2.5173253 ],\n",
       "       [-3.2334294 ],\n",
       "       [ 1.22275922],\n",
       "       [-0.62000125]])"
      ]
     },
     "execution_count": 5,
     "metadata": {},
     "output_type": "execute_result"
    }
   ],
   "source": [
    "V10= V1+V2+V3\n",
    "V10"
   ]
  },
  {
   "cell_type": "code",
   "execution_count": 6,
   "metadata": {},
   "outputs": [],
   "source": [
    "V1 = pd.DataFrame(V1)\n",
    "V2 = pd.DataFrame(V2)\n",
    "V3 = pd.DataFrame(V3)\n",
    "V4 = pd.DataFrame(V4)\n",
    "V5 = pd.DataFrame(V5)\n",
    "V6 = pd.DataFrame(V6)\n",
    "V7 = pd.DataFrame(V7)\n",
    "V8 = pd.DataFrame(V8)\n",
    "V9 = pd.DataFrame(V9)\n",
    "V10 = pd.DataFrame(V10)"
   ]
  },
  {
   "cell_type": "code",
   "execution_count": 11,
   "metadata": {},
   "outputs": [],
   "source": [
    "X=V1\n",
    "X[1]=V2\n",
    "X[2]=V3\n",
    "X[3]=V4\n",
    "X[4]=V5\n",
    "X[5]=V6\n",
    "X[6]=V7\n",
    "X[7]=V8\n",
    "X[8]=V9\n",
    "X[9]=V10"
   ]
  },
  {
   "cell_type": "code",
   "execution_count": 12,
   "metadata": {},
   "outputs": [
    {
     "data": {
      "text/html": [
       "<div>\n",
       "<style scoped>\n",
       "    .dataframe tbody tr th:only-of-type {\n",
       "        vertical-align: middle;\n",
       "    }\n",
       "\n",
       "    .dataframe tbody tr th {\n",
       "        vertical-align: top;\n",
       "    }\n",
       "\n",
       "    .dataframe thead th {\n",
       "        text-align: right;\n",
       "    }\n",
       "</style>\n",
       "<table border=\"1\" class=\"dataframe\">\n",
       "  <thead>\n",
       "    <tr style=\"text-align: right;\">\n",
       "      <th></th>\n",
       "      <th>0</th>\n",
       "      <th>1</th>\n",
       "      <th>2</th>\n",
       "      <th>3</th>\n",
       "      <th>4</th>\n",
       "      <th>5</th>\n",
       "      <th>6</th>\n",
       "      <th>7</th>\n",
       "      <th>8</th>\n",
       "      <th>9</th>\n",
       "    </tr>\n",
       "  </thead>\n",
       "  <tbody>\n",
       "    <tr>\n",
       "      <th>0</th>\n",
       "      <td>1.478010</td>\n",
       "      <td>1.976169</td>\n",
       "      <td>0.693658</td>\n",
       "      <td>-0.104154</td>\n",
       "      <td>0.637096</td>\n",
       "      <td>1.386870</td>\n",
       "      <td>0.623973</td>\n",
       "      <td>0.465636</td>\n",
       "      <td>0.787487</td>\n",
       "      <td>4.147838</td>\n",
       "    </tr>\n",
       "    <tr>\n",
       "      <th>1</th>\n",
       "      <td>0.535446</td>\n",
       "      <td>-0.183612</td>\n",
       "      <td>0.590071</td>\n",
       "      <td>-0.427384</td>\n",
       "      <td>1.499070</td>\n",
       "      <td>0.357679</td>\n",
       "      <td>-0.278220</td>\n",
       "      <td>-1.007811</td>\n",
       "      <td>0.428832</td>\n",
       "      <td>0.941905</td>\n",
       "    </tr>\n",
       "    <tr>\n",
       "      <th>2</th>\n",
       "      <td>0.435103</td>\n",
       "      <td>0.801823</td>\n",
       "      <td>0.649952</td>\n",
       "      <td>0.691949</td>\n",
       "      <td>1.301561</td>\n",
       "      <td>-0.252756</td>\n",
       "      <td>-0.233498</td>\n",
       "      <td>-1.862672</td>\n",
       "      <td>0.599670</td>\n",
       "      <td>1.886879</td>\n",
       "    </tr>\n",
       "    <tr>\n",
       "      <th>3</th>\n",
       "      <td>-0.969632</td>\n",
       "      <td>-2.069804</td>\n",
       "      <td>2.647029</td>\n",
       "      <td>0.671021</td>\n",
       "      <td>0.951883</td>\n",
       "      <td>-1.187876</td>\n",
       "      <td>0.853834</td>\n",
       "      <td>-0.069982</td>\n",
       "      <td>1.084192</td>\n",
       "      <td>-0.392407</td>\n",
       "    </tr>\n",
       "    <tr>\n",
       "      <th>4</th>\n",
       "      <td>0.292349</td>\n",
       "      <td>1.316675</td>\n",
       "      <td>-1.226144</td>\n",
       "      <td>-0.290246</td>\n",
       "      <td>-0.284168</td>\n",
       "      <td>-1.420234</td>\n",
       "      <td>0.462524</td>\n",
       "      <td>1.092454</td>\n",
       "      <td>1.434428</td>\n",
       "      <td>0.382879</td>\n",
       "    </tr>\n",
       "    <tr>\n",
       "      <th>5</th>\n",
       "      <td>-0.017582</td>\n",
       "      <td>-0.526087</td>\n",
       "      <td>-0.367975</td>\n",
       "      <td>1.523113</td>\n",
       "      <td>0.989829</td>\n",
       "      <td>-0.204974</td>\n",
       "      <td>-0.961469</td>\n",
       "      <td>-1.079214</td>\n",
       "      <td>0.757965</td>\n",
       "      <td>-0.911644</td>\n",
       "    </tr>\n",
       "    <tr>\n",
       "      <th>6</th>\n",
       "      <td>-2.018689</td>\n",
       "      <td>-0.634472</td>\n",
       "      <td>0.135836</td>\n",
       "      <td>-0.834642</td>\n",
       "      <td>-0.459663</td>\n",
       "      <td>0.605922</td>\n",
       "      <td>-0.542097</td>\n",
       "      <td>-1.415977</td>\n",
       "      <td>-1.378203</td>\n",
       "      <td>-2.517325</td>\n",
       "    </tr>\n",
       "    <tr>\n",
       "      <th>7</th>\n",
       "      <td>-1.069675</td>\n",
       "      <td>0.826882</td>\n",
       "      <td>-2.990636</td>\n",
       "      <td>-0.338342</td>\n",
       "      <td>1.373465</td>\n",
       "      <td>-0.717316</td>\n",
       "      <td>0.475660</td>\n",
       "      <td>0.721071</td>\n",
       "      <td>-1.744841</td>\n",
       "      <td>-3.233429</td>\n",
       "    </tr>\n",
       "    <tr>\n",
       "      <th>8</th>\n",
       "      <td>1.514364</td>\n",
       "      <td>-1.153390</td>\n",
       "      <td>0.861785</td>\n",
       "      <td>0.476205</td>\n",
       "      <td>-1.301873</td>\n",
       "      <td>-0.274516</td>\n",
       "      <td>-1.266407</td>\n",
       "      <td>0.215214</td>\n",
       "      <td>-0.373671</td>\n",
       "      <td>1.222759</td>\n",
       "    </tr>\n",
       "    <tr>\n",
       "      <th>9</th>\n",
       "      <td>-0.511424</td>\n",
       "      <td>0.172818</td>\n",
       "      <td>-0.281396</td>\n",
       "      <td>-0.673281</td>\n",
       "      <td>0.085254</td>\n",
       "      <td>-0.569988</td>\n",
       "      <td>0.971800</td>\n",
       "      <td>1.457914</td>\n",
       "      <td>-0.166193</td>\n",
       "      <td>-0.620001</td>\n",
       "    </tr>\n",
       "  </tbody>\n",
       "</table>\n",
       "</div>"
      ],
      "text/plain": [
       "          0         1         2         3         4         5         6  \\\n",
       "0  1.478010  1.976169  0.693658 -0.104154  0.637096  1.386870  0.623973   \n",
       "1  0.535446 -0.183612  0.590071 -0.427384  1.499070  0.357679 -0.278220   \n",
       "2  0.435103  0.801823  0.649952  0.691949  1.301561 -0.252756 -0.233498   \n",
       "3 -0.969632 -2.069804  2.647029  0.671021  0.951883 -1.187876  0.853834   \n",
       "4  0.292349  1.316675 -1.226144 -0.290246 -0.284168 -1.420234  0.462524   \n",
       "5 -0.017582 -0.526087 -0.367975  1.523113  0.989829 -0.204974 -0.961469   \n",
       "6 -2.018689 -0.634472  0.135836 -0.834642 -0.459663  0.605922 -0.542097   \n",
       "7 -1.069675  0.826882 -2.990636 -0.338342  1.373465 -0.717316  0.475660   \n",
       "8  1.514364 -1.153390  0.861785  0.476205 -1.301873 -0.274516 -1.266407   \n",
       "9 -0.511424  0.172818 -0.281396 -0.673281  0.085254 -0.569988  0.971800   \n",
       "\n",
       "          7         8         9  \n",
       "0  0.465636  0.787487  4.147838  \n",
       "1 -1.007811  0.428832  0.941905  \n",
       "2 -1.862672  0.599670  1.886879  \n",
       "3 -0.069982  1.084192 -0.392407  \n",
       "4  1.092454  1.434428  0.382879  \n",
       "5 -1.079214  0.757965 -0.911644  \n",
       "6 -1.415977 -1.378203 -2.517325  \n",
       "7  0.721071 -1.744841 -3.233429  \n",
       "8  0.215214 -0.373671  1.222759  \n",
       "9  1.457914 -0.166193 -0.620001  "
      ]
     },
     "execution_count": 12,
     "metadata": {},
     "output_type": "execute_result"
    }
   ],
   "source": [
    "X"
   ]
  },
  {
   "cell_type": "code",
   "execution_count": 13,
   "metadata": {},
   "outputs": [
    {
     "data": {
      "text/plain": [
       "array([[ 1.47801024,  1.97616896,  0.69365845, -0.10415423,  0.63709605,\n",
       "         1.38687042,  0.6239725 ,  0.46563557,  0.78748719,  4.14783765],\n",
       "       [ 0.53544581, -0.18361173,  0.59007139, -0.42738358,  1.49907025,\n",
       "         0.35767902, -0.27822046, -1.00781055,  0.42883159,  0.94190548],\n",
       "       [ 0.43510293,  0.80182311,  0.64995246,  0.69194923,  1.30156148,\n",
       "        -0.25275645, -0.23349838, -1.86267189,  0.59967013,  1.88687851],\n",
       "       [-0.96963219, -2.0698035 ,  2.64702868,  0.67102051,  0.95188279,\n",
       "        -1.18787584,  0.85383427, -0.06998172,  1.08419224, -0.39240701],\n",
       "       [ 0.29234879,  1.31667455, -1.22614402, -0.29024551, -0.28416754,\n",
       "        -1.4202337 ,  0.46252438,  1.09245446,  1.43442843,  0.38287931],\n",
       "       [-0.01758222, -0.52608664, -0.36797493,  1.52311337,  0.98982877,\n",
       "        -0.20497375, -0.96146892, -1.07921402,  0.75796481, -0.91164379],\n",
       "       [-2.01868932, -0.63447214,  0.13583616, -0.83464163, -0.45966302,\n",
       "         0.60592192, -0.54209696, -1.41597717, -1.37820259, -2.5173253 ],\n",
       "       [-1.06967526,  0.82688198, -2.99063612, -0.33834195,  1.37346452,\n",
       "        -0.7173161 ,  0.47566006,  0.72107145, -1.74484104, -3.2334294 ],\n",
       "       [ 1.51436369, -1.15338953,  0.86178506,  0.47620483, -1.30187288,\n",
       "        -0.27451592, -1.26640742,  0.21521361, -0.37367057,  1.22275922],\n",
       "       [-0.51142356,  0.17281789, -0.28139558, -0.6732808 ,  0.08525388,\n",
       "        -0.56998778,  0.97180023,  1.45791408, -0.16619338, -0.62000125]])"
      ]
     },
     "execution_count": 13,
     "metadata": {},
     "output_type": "execute_result"
    }
   ],
   "source": [
    "X=X.to_numpy()\n",
    "X"
   ]
  },
  {
   "cell_type": "code",
   "execution_count": 14,
   "metadata": {},
   "outputs": [
    {
     "data": {
      "text/plain": [
       "array([[-1.40716885e+16,  4.59968853e+14,  1.58972766e+16,\n",
       "        -1.85445318e+16, -1.48612806e+16,  1.25169206e+16,\n",
       "        -6.30044701e+15, -1.76900190e+16, -4.56064204e+15,\n",
       "         4.79377849e+16],\n",
       "       [-1.40716885e+16,  4.59968853e+14,  1.58972766e+16,\n",
       "        -1.85445318e+16, -1.48612806e+16,  1.25169206e+16,\n",
       "        -6.30044701e+15, -1.76900190e+16, -4.56064204e+15,\n",
       "         4.79377849e+16],\n",
       "       [-1.40716885e+16,  4.59968853e+14,  1.58972766e+16,\n",
       "        -1.85445318e+16, -1.48612806e+16,  1.25169206e+16,\n",
       "        -6.30044701e+15, -1.76900190e+16, -4.56064204e+15,\n",
       "         4.79377849e+16],\n",
       "       [ 1.65469607e-01, -5.78285817e-01,  7.59195685e-02,\n",
       "         1.52728865e-01, -1.80974830e-01,  2.18399186e-01,\n",
       "        -1.38053967e-01,  1.35921428e-01, -1.60067579e-02,\n",
       "        -2.49938487e-01],\n",
       "       [ 2.41178578e+00,  2.45285990e-01, -2.43952656e+00,\n",
       "         2.91702556e+00,  2.26714195e+00, -1.57887938e+00,\n",
       "         1.12893601e+00,  2.87826915e+00,  8.79113535e-01,\n",
       "        -6.90198145e+00],\n",
       "       [-9.35048739e-01,  8.96759415e-02,  7.97000973e-01,\n",
       "        -1.50794960e+00, -1.37744911e+00,  1.08978742e+00,\n",
       "        -5.57567965e-01, -1.46720656e+00, -6.57464495e-01,\n",
       "         3.42657887e+00],\n",
       "       [-9.25064172e+00,  7.18578381e-02,  9.75868962e+00,\n",
       "        -1.12515323e+01, -9.50181491e+00,  6.65055957e+00,\n",
       "        -4.82220274e+00, -1.08119736e+01, -3.64282755e+00,\n",
       "         2.81768470e+01],\n",
       "       [ 4.69004634e+00, -1.59879371e-01, -4.95359287e+00,\n",
       "         5.56185489e+00,  4.52885106e+00, -3.12246852e+00,\n",
       "         2.25635646e+00,  5.30747881e+00,  1.78871613e+00,\n",
       "        -1.33870195e+01],\n",
       "       [-2.97871979e+00,  3.07619321e-01,  2.99644976e+00,\n",
       "        -3.86953870e+00, -2.81937056e+00,  2.79327135e+00,\n",
       "        -1.34756415e+00, -3.92788903e+00, -1.22408931e+00,\n",
       "         9.80154227e+00],\n",
       "       [ 1.40716885e+16, -4.59968853e+14, -1.58972766e+16,\n",
       "         1.85445318e+16,  1.48612806e+16, -1.25169206e+16,\n",
       "         6.30044701e+15,  1.76900190e+16,  4.56064204e+15,\n",
       "        -4.79377849e+16]])"
      ]
     },
     "execution_count": 14,
     "metadata": {},
     "output_type": "execute_result"
    }
   ],
   "source": [
    "X.shape\n",
    "np.linalg.inv(X)"
   ]
  },
  {
   "cell_type": "markdown",
   "metadata": {},
   "source": [
    "### Resultado de invertir una matriz X con una columna que es combinacion lineal de otras 3 en R"
   ]
  },
  {
   "cell_type": "code",
   "execution_count": 16,
   "metadata": {},
   "outputs": [],
   "source": [
    "import os\n",
    "os.chdir('../replication_3')"
   ]
  },
  {
   "cell_type": "code",
   "execution_count": 17,
   "metadata": {},
   "outputs": [
    {
     "data": {
      "image/jpeg": "[encoded data removed]",
      "text/plain": [
       "<IPython.core.display.Image object>"
      ]
     },
     "execution_count": 17,
     "metadata": {},
     "output_type": "execute_result"
    }
   ],
   "source": [
    "from IPython.display import Image\n",
    "Image(filename=\"X_inverse_R_g1.jpeg\")"
   ]
  },
  {
   "cell_type": "markdown",
   "metadata": {},
   "source": [
    "As we can see, although X is a singular matrix , python shows us a result (not error message as R). This is because python work with statistical packages different from R, what allows this programme to display an inverse matrix even when it is singular."
   ]
  },
  {
   "cell_type": "markdown",
   "metadata": {
    "papermill": {
     "duration": 0.013538,
     "end_time": "2021-02-20T13:42:41.189745",
     "exception": false,
     "start_time": "2021-02-20T13:42:41.176207",
     "status": "completed"
    },
    "tags": []
   },
   "source": [
    "# 2. Analyzing RCT data with Precision Adjustment"
   ]
  },
  {
   "cell_type": "markdown",
   "metadata": {
    "papermill": {
     "duration": 0.011347,
     "end_time": "2021-02-20T13:42:41.213041",
     "exception": false,
     "start_time": "2021-02-20T13:42:41.201694",
     "status": "completed"
    },
    "tags": []
   },
   "source": [
    "## Data\n",
    "\n",
    "In this lab, we analyze the Pennsylvania re-employment bonus experiment, which was previously studied in \"Sequential testing of duration data: the case of the Pennsylvania ‘reemployment bonus’ experiment\" (Bilias, 2000), among others. These experiments were conducted in the 1980s by the U.S. Department of Labor to test the incentive effects of alternative compensation schemes for unemployment insurance (UI). In these experiments, UI claimants were randomly assigned either to a control group or one of five treatment groups. Actually, there are six treatment groups in the experiments. **Here we focus on treatment group 2.** In the control group the current rules of the UI applied. Individuals in the treatment groups were offered a cash bonus if they found a job within some pre-specified period of time (qualification period), provided that the job was retained for a specified duration. The treatments differed in the level of the bonus, the length of the qualification period, and whether the bonus was declining over time in the qualification period; see http://qed.econ.queensu.ca/jae/2000-v15.6/bilias/readme.b.txt for further details on data. \n",
    "  "
   ]
  },
  {
   "cell_type": "code",
   "execution_count": 25,
   "metadata": {},
   "outputs": [],
   "source": [
    "import pandas as pd\n",
    "import pyreadr\n",
    "import matplotlib.pyplot as plt\n",
    "import seaborn as sns"
   ]
  },
  {
   "cell_type": "code",
   "execution_count": 26,
   "metadata": {},
   "outputs": [],
   "source": [
    "## loading the data\n",
    "Penn = pd.read_csv(\"../data/penn_jae.dat\" , sep='\\s', engine='python')\n",
    "n = Penn.shape[0]\n",
    "p_1 = Penn.shape[1]\n",
    "Penn = Penn[ (Penn['tg'] == 2) | (Penn['tg'] == 0) ]"
   ]
  },
  {
   "cell_type": "code",
   "execution_count": 27,
   "metadata": {},
   "outputs": [
    {
     "name": "stderr",
     "output_type": "stream",
     "text": [
      "C:\\Users\\Stephy\\anaconda3\\lib\\site-packages\\seaborn\\distributions.py:2557: FutureWarning: `distplot` is a deprecated function and will be removed in a future version. Please adapt your code to use either `displot` (a figure-level function with similar flexibility) or `histplot` (an axes-level function for histograms).\n",
      "  warnings.warn(msg, FutureWarning)\n"
     ]
    },
    {
     "data": {
      "text/plain": [
       "<AxesSubplot:xlabel='inuidur1', ylabel='Density'>"
      ]
     },
     "execution_count": 27,
     "metadata": {},
     "output_type": "execute_result"
    },
    {
     "data": {
      "image/png": "[encoded data removed]",
      "text/plain": [
       "<Figure size 576x360 with 1 Axes>"
      ]
     },
     "metadata": {
      "needs_background": "light"
     },
     "output_type": "display_data"
    }
   ],
   "source": [
    "#Plotting the inuidur1 variable for the tg=2 group\n",
    "fig, ax = plt.subplots(figsize=(8, 5))\n",
    "\n",
    "sns.distplot(Penn[(Penn['tg'] == 2)].inuidur1)\n"
   ]
  },
  {
   "cell_type": "code",
   "execution_count": 28,
   "metadata": {},
   "outputs": [
    {
     "name": "stderr",
     "output_type": "stream",
     "text": [
      "C:\\Users\\Stephy\\anaconda3\\lib\\site-packages\\seaborn\\distributions.py:2557: FutureWarning: `distplot` is a deprecated function and will be removed in a future version. Please adapt your code to use either `displot` (a figure-level function with similar flexibility) or `histplot` (an axes-level function for histograms).\n",
      "  warnings.warn(msg, FutureWarning)\n"
     ]
    },
    {
     "data": {
      "text/plain": [
       "<AxesSubplot:xlabel='inuidur1', ylabel='Density'>"
      ]
     },
     "execution_count": 28,
     "metadata": {},
     "output_type": "execute_result"
    },
    {
     "data": {
      "image/png": "[encoded data removed]",
      "text/plain": [
       "<Figure size 576x360 with 1 Axes>"
      ]
     },
     "metadata": {
      "needs_background": "light"
     },
     "output_type": "display_data"
    }
   ],
   "source": [
    "#Plotting the inuidur1 variable for the tg=0 group\n",
    "fig, ax = plt.subplots(figsize=(8, 5))\n",
    "\n",
    "sns.distplot(Penn[(Penn['tg'] == 0)].inuidur1)"
   ]
  },
  {
   "cell_type": "markdown",
   "metadata": {},
   "source": [
    "We can see that the distributions of the control and the treatment group is similar, though the control group has more observations closer to the lower values of inuidur1."
   ]
  },
  {
   "cell_type": "code",
   "execution_count": 30,
   "metadata": {},
   "outputs": [
    {
     "name": "stdout",
     "output_type": "stream",
     "text": [
      "<class 'pandas.core.frame.DataFrame'>\n",
      "Int64Index: 5782 entries, 0 to 13911\n",
      "Data columns (total 24 columns):\n",
      " #   Column       Non-Null Count  Dtype  \n",
      "---  ------       --------------  -----  \n",
      " 0   abdt         5782 non-null   int64  \n",
      " 1   tg           5782 non-null   int64  \n",
      " 2   inuidur1     5782 non-null   int64  \n",
      " 3   inuidur2     5782 non-null   int64  \n",
      " 4   female       5782 non-null   int64  \n",
      " 5   black        5782 non-null   int64  \n",
      " 6   hispanic     5782 non-null   int64  \n",
      " 7   othrace      5782 non-null   int64  \n",
      " 8   dep          5782 non-null   int64  \n",
      " 9   q1           5782 non-null   int64  \n",
      " 10  q2           5782 non-null   int64  \n",
      " 11  q3           5782 non-null   int64  \n",
      " 12  q4           5782 non-null   int64  \n",
      " 13  Unnamed: 13  5782 non-null   int64  \n",
      " 14  q5           5782 non-null   int64  \n",
      " 15  q6           5782 non-null   int64  \n",
      " 16  recall       5782 non-null   int64  \n",
      " 17  agelt35      5782 non-null   int64  \n",
      " 18  agegt54      5782 non-null   int64  \n",
      " 19  durable      5782 non-null   int64  \n",
      " 20  nondurable   5782 non-null   int64  \n",
      " 21  lusd         5782 non-null   int64  \n",
      " 22  husd         5782 non-null   int64  \n",
      " 23  muld         0 non-null      float64\n",
      "dtypes: float64(1), int64(23)\n",
      "memory usage: 1.1 MB\n"
     ]
    }
   ],
   "source": [
    "#this columns were not dropped out :  Unnamed: 13, recall\n",
    "Penn.columns\n",
    "Penn.info()"
   ]
  },
  {
   "cell_type": "code",
   "execution_count": 31,
   "metadata": {},
   "outputs": [
    {
     "data": {
      "text/html": [
       "<div>\n",
       "<style scoped>\n",
       "    .dataframe tbody tr th:only-of-type {\n",
       "        vertical-align: middle;\n",
       "    }\n",
       "\n",
       "    .dataframe tbody tr th {\n",
       "        vertical-align: top;\n",
       "    }\n",
       "\n",
       "    .dataframe thead th {\n",
       "        text-align: right;\n",
       "    }\n",
       "</style>\n",
       "<table border=\"1\" class=\"dataframe\">\n",
       "  <thead>\n",
       "    <tr style=\"text-align: right;\">\n",
       "      <th></th>\n",
       "      <th>abdt</th>\n",
       "      <th>tg</th>\n",
       "      <th>inuidur1</th>\n",
       "      <th>inuidur2</th>\n",
       "      <th>female</th>\n",
       "      <th>black</th>\n",
       "      <th>hispanic</th>\n",
       "      <th>othrace</th>\n",
       "      <th>dep</th>\n",
       "      <th>q1</th>\n",
       "      <th>...</th>\n",
       "      <th>q6</th>\n",
       "      <th>recall</th>\n",
       "      <th>agelt35</th>\n",
       "      <th>agegt54</th>\n",
       "      <th>durable</th>\n",
       "      <th>nondurable</th>\n",
       "      <th>lusd</th>\n",
       "      <th>husd</th>\n",
       "      <th>muld</th>\n",
       "      <th>T2</th>\n",
       "    </tr>\n",
       "  </thead>\n",
       "  <tbody>\n",
       "    <tr>\n",
       "      <th>0</th>\n",
       "      <td>10824</td>\n",
       "      <td>0</td>\n",
       "      <td>18</td>\n",
       "      <td>18</td>\n",
       "      <td>0</td>\n",
       "      <td>0</td>\n",
       "      <td>0</td>\n",
       "      <td>0</td>\n",
       "      <td>2</td>\n",
       "      <td>0</td>\n",
       "      <td>...</td>\n",
       "      <td>0</td>\n",
       "      <td>0</td>\n",
       "      <td>0</td>\n",
       "      <td>0</td>\n",
       "      <td>0</td>\n",
       "      <td>0</td>\n",
       "      <td>1</td>\n",
       "      <td>0</td>\n",
       "      <td>NaN</td>\n",
       "      <td>0</td>\n",
       "    </tr>\n",
       "    <tr>\n",
       "      <th>1</th>\n",
       "      <td>10635</td>\n",
       "      <td>2</td>\n",
       "      <td>7</td>\n",
       "      <td>3</td>\n",
       "      <td>0</td>\n",
       "      <td>0</td>\n",
       "      <td>0</td>\n",
       "      <td>0</td>\n",
       "      <td>0</td>\n",
       "      <td>0</td>\n",
       "      <td>...</td>\n",
       "      <td>0</td>\n",
       "      <td>1</td>\n",
       "      <td>0</td>\n",
       "      <td>0</td>\n",
       "      <td>0</td>\n",
       "      <td>1</td>\n",
       "      <td>0</td>\n",
       "      <td>0</td>\n",
       "      <td>NaN</td>\n",
       "      <td>1</td>\n",
       "    </tr>\n",
       "    <tr>\n",
       "      <th>3</th>\n",
       "      <td>10824</td>\n",
       "      <td>0</td>\n",
       "      <td>1</td>\n",
       "      <td>1</td>\n",
       "      <td>0</td>\n",
       "      <td>0</td>\n",
       "      <td>0</td>\n",
       "      <td>0</td>\n",
       "      <td>0</td>\n",
       "      <td>0</td>\n",
       "      <td>...</td>\n",
       "      <td>0</td>\n",
       "      <td>0</td>\n",
       "      <td>0</td>\n",
       "      <td>0</td>\n",
       "      <td>0</td>\n",
       "      <td>1</td>\n",
       "      <td>0</td>\n",
       "      <td>0</td>\n",
       "      <td>NaN</td>\n",
       "      <td>0</td>\n",
       "    </tr>\n",
       "    <tr>\n",
       "      <th>4</th>\n",
       "      <td>10747</td>\n",
       "      <td>0</td>\n",
       "      <td>27</td>\n",
       "      <td>27</td>\n",
       "      <td>0</td>\n",
       "      <td>0</td>\n",
       "      <td>0</td>\n",
       "      <td>0</td>\n",
       "      <td>0</td>\n",
       "      <td>0</td>\n",
       "      <td>...</td>\n",
       "      <td>0</td>\n",
       "      <td>0</td>\n",
       "      <td>0</td>\n",
       "      <td>0</td>\n",
       "      <td>0</td>\n",
       "      <td>1</td>\n",
       "      <td>0</td>\n",
       "      <td>0</td>\n",
       "      <td>NaN</td>\n",
       "      <td>0</td>\n",
       "    </tr>\n",
       "    <tr>\n",
       "      <th>9</th>\n",
       "      <td>10754</td>\n",
       "      <td>2</td>\n",
       "      <td>20</td>\n",
       "      <td>20</td>\n",
       "      <td>1</td>\n",
       "      <td>0</td>\n",
       "      <td>0</td>\n",
       "      <td>0</td>\n",
       "      <td>0</td>\n",
       "      <td>0</td>\n",
       "      <td>...</td>\n",
       "      <td>0</td>\n",
       "      <td>0</td>\n",
       "      <td>0</td>\n",
       "      <td>0</td>\n",
       "      <td>0</td>\n",
       "      <td>0</td>\n",
       "      <td>0</td>\n",
       "      <td>1</td>\n",
       "      <td>NaN</td>\n",
       "      <td>1</td>\n",
       "    </tr>\n",
       "  </tbody>\n",
       "</table>\n",
       "<p>5 rows × 25 columns</p>\n",
       "</div>"
      ],
      "text/plain": [
       "    abdt  tg  inuidur1  inuidur2  female  black  hispanic  othrace dep  q1  \\\n",
       "0  10824   0        18        18       0      0         0        0   2   0   \n",
       "1  10635   2         7         3       0      0         0        0   0   0   \n",
       "3  10824   0         1         1       0      0         0        0   0   0   \n",
       "4  10747   0        27        27       0      0         0        0   0   0   \n",
       "9  10754   2        20        20       1      0         0        0   0   0   \n",
       "\n",
       "   ...  q6  recall  agelt35  agegt54  durable  nondurable  lusd  husd  muld  \\\n",
       "0  ...   0       0        0        0        0           0     1     0   NaN   \n",
       "1  ...   0       1        0        0        0           1     0     0   NaN   \n",
       "3  ...   0       0        0        0        0           1     0     0   NaN   \n",
       "4  ...   0       0        0        0        0           1     0     0   NaN   \n",
       "9  ...   0       0        0        0        0           0     0     1   NaN   \n",
       "\n",
       "   T2  \n",
       "0   0  \n",
       "1   1  \n",
       "3   0  \n",
       "4   0  \n",
       "9   1  \n",
       "\n",
       "[5 rows x 25 columns]"
      ]
     },
     "execution_count": 31,
     "metadata": {},
     "output_type": "execute_result"
    }
   ],
   "source": [
    "# Dependent variable\n",
    "Penn['T2'] = (Penn[['tg']]==2).astype(int)\n",
    "\n",
    "# Create category variable\n",
    "Penn['dep'] = Penn['dep'].astype( 'category' )\n",
    "Penn.head()"
   ]
  },
  {
   "cell_type": "code",
   "execution_count": 32,
   "metadata": {},
   "outputs": [
    {
     "data": {
      "text/plain": [
       "[2, 0, 1]\n",
       "Categories (3, int64): [2, 0, 1]"
      ]
     },
     "execution_count": 32,
     "metadata": {},
     "output_type": "execute_result"
    }
   ],
   "source": [
    "Penn['dep'].unique()"
   ]
  },
  {
   "cell_type": "markdown",
   "metadata": {
    "hide_input": false,
    "papermill": {
     "duration": 0.012846,
     "end_time": "2021-02-20T13:42:41.672662",
     "exception": false,
     "start_time": "2021-02-20T13:42:41.659816",
     "status": "completed"
    },
    "tags": []
   },
   "source": [
    "### Model \n",
    "To evaluate the impact of the treatments on unemployment duration, we consider the linear regression model:\n",
    "\n",
    "$$\n",
    "Y =  D \\beta_1 + W'\\beta_2 + \\varepsilon, \\quad E \\varepsilon (D,W')' = 0,\n",
    "$$\n",
    "\n",
    "where $Y$ is  the  log of duration of unemployment, $D$ is a treatment  indicators,  and $W$ is a set of controls including age group dummies, gender, race, number of dependents, quarter of the experiment, location within the state, existence of recall expectations, and type of occupation.   Here $\\beta_1$ is the ATE, if the RCT assumptions hold rigorously.\n",
    "\n",
    "\n",
    "We also consider interactive regression model:\n",
    "\n",
    "$$\n",
    "Y =  D \\alpha_1 + D W' \\alpha_2 + W'\\beta_2 + \\varepsilon, \\quad E \\varepsilon (D,W', DW')' = 0,\n",
    "$$\n",
    "where $W$'s are demeaned (apart from the intercept), so that $\\alpha_1$ is the ATE, if the RCT assumptions hold rigorously."
   ]
  },
  {
   "cell_type": "markdown",
   "metadata": {
    "papermill": {
     "duration": 0.012735,
     "end_time": "2021-02-20T13:42:41.698676",
     "exception": false,
     "start_time": "2021-02-20T13:42:41.685941",
     "status": "completed"
    },
    "tags": []
   },
   "source": [
    "Under RCT, the projection coefficient $\\beta_1$ has\n",
    "the interpretation of the causal effect of the treatment on\n",
    "the average outcome. We thus refer to $\\beta_1$ as the average\n",
    "treatment effect (ATE). Note that the covariates, here are\n",
    "independent of the treatment $D$, so we can identify $\\beta_1$ by\n",
    "just linear regression of $Y$ on $D$, without adding covariates.\n",
    "However we do add covariates in an effort to improve the\n",
    "precision of our estimates of the average treatment effect."
   ]
  },
  {
   "cell_type": "markdown",
   "metadata": {
    "papermill": {
     "duration": 0.012728,
     "end_time": "2021-02-20T13:42:41.724182",
     "exception": false,
     "start_time": "2021-02-20T13:42:41.711454",
     "status": "completed"
    },
    "tags": []
   },
   "source": [
    "### Analysis\n",
    "\n",
    "We consider \n",
    "\n",
    "*  classical 2-sample approach, no adjustment (CL)\n",
    "*  classical linear regression adjustment (CRA)\n",
    "*  interactive regression adjusment (IRA)\n",
    "\n",
    "and carry out robust inference using the *estimatr* R packages. "
   ]
  },
  {
   "cell_type": "markdown",
   "metadata": {
    "papermill": {
     "duration": 0.01276,
     "end_time": "2021-02-20T13:42:41.749736",
     "exception": false,
     "start_time": "2021-02-20T13:42:41.736976",
     "status": "completed"
    },
    "tags": []
   },
   "source": [
    "# Carry out covariate balance check"
   ]
  },
  {
   "cell_type": "markdown",
   "metadata": {
    "papermill": {
     "duration": 0.013486,
     "end_time": "2021-02-20T13:42:41.776684",
     "exception": false,
     "start_time": "2021-02-20T13:42:41.763198",
     "status": "completed"
    },
    "tags": []
   },
   "source": [
    "This is done using \"lm_robust\" command which unlike \"lm\" in the base command automatically does the correct Eicher-Huber-White standard errors, instead othe classical non-robus formula based on the homoscdedasticity command."
   ]
  },
  {
   "cell_type": "code",
   "execution_count": 33,
   "metadata": {
    "hide_input": false
   },
   "outputs": [],
   "source": [
    "import statsmodels.api as sm\n",
    "import statsmodels.formula.api as smf\n",
    "import patsy\n",
    "import numpy as np"
   ]
  },
  {
   "cell_type": "markdown",
   "metadata": {},
   "source": [
    "## Regress treatment on all covariates\n",
    "I use data from R"
   ]
  },
  {
   "cell_type": "code",
   "execution_count": 35,
   "metadata": {},
   "outputs": [],
   "source": [
    "y = Penn[['T2']].reset_index( drop = True )"
   ]
  },
  {
   "cell_type": "code",
   "execution_count": 38,
   "metadata": {},
   "outputs": [],
   "source": [
    "# Get data from R\n",
    "result = pyreadr.read_r('../data/m_reg_g1.RData')\n",
    "X_vars = result['X1']"
   ]
  },
  {
   "cell_type": "code",
   "execution_count": 39,
   "metadata": {},
   "outputs": [
    {
     "name": "stdout",
     "output_type": "stream",
     "text": [
      "                            OLS Regression Results                            \n",
      "==============================================================================\n",
      "Dep. Variable:                     T2   R-squared:                       0.019\n",
      "Model:                            OLS   Adj. R-squared:                  0.000\n",
      "Method:                 Least Squares   F-statistic:                     4.748\n",
      "Date:                Fri, 24 Sep 2021   Prob (F-statistic):           5.79e-51\n",
      "Time:                        16:17:55   Log-Likelihood:                -4065.8\n",
      "No. Observations:                5782   AIC:                             8352.\n",
      "Df Residuals:                    5672   BIC:                             9084.\n",
      "Df Model:                         109                                         \n",
      "Covariance Type:                  HC1                                         \n",
      "=======================================================================================\n",
      "                          coef    std err          t      P>|t|      [0.025      0.975]\n",
      "---------------------------------------------------------------------------------------\n",
      "Intercept               0.5090      0.032     15.741      0.000       0.446       0.572\n",
      "C(dep)[T.1]             0.0747      0.057      1.307      0.191      -0.037       0.187\n",
      "C(dep)[T.2]             0.0381      0.049      0.773      0.440      -0.058       0.135\n",
      "female                 -0.0182      0.036     -0.511      0.609      -0.088       0.052\n",
      "female:C(dep)[T.1]     -0.0185      0.045     -0.413      0.680      -0.106       0.069\n",
      "female:C(dep)[T.2]      0.0158      0.040      0.396      0.692      -0.062       0.094\n",
      "black                  -0.0108      0.068     -0.159      0.873      -0.144       0.122\n",
      "black:C(dep)[T.1]      -0.0020      0.067     -0.031      0.976      -0.132       0.128\n",
      "black:C(dep)[T.2]      -0.0110      0.063     -0.175      0.861      -0.134       0.112\n",
      "othrace                -0.1295      0.250     -0.519      0.604      -0.619       0.360\n",
      "othrace:C(dep)[T.1]     0.6118      0.232      2.636      0.008       0.157       1.067\n",
      "othrace:C(dep)[T.2]    -0.1486      0.269     -0.552      0.581      -0.676       0.379\n",
      "q2                     -0.0788      0.045     -1.767      0.077      -0.166       0.009\n",
      "C(dep)[T.1]:q2          0.0431      0.062      0.696      0.486      -0.078       0.164\n",
      "C(dep)[T.2]:q2          0.0090      0.053      0.170      0.865      -0.095       0.113\n",
      "q3                     -0.1042      0.042     -2.501      0.012      -0.186      -0.023\n",
      "C(dep)[T.1]:q3         -0.0303      0.058     -0.519      0.604      -0.145       0.084\n",
      "C(dep)[T.2]:q3          0.0386      0.052      0.737      0.461      -0.064       0.141\n",
      "q4                     -0.0646      0.042     -1.522      0.128      -0.148       0.019\n",
      "C(dep)[T.1]:q4         -0.0482      0.058     -0.829      0.407      -0.162       0.066\n",
      "C(dep)[T.2]:q4         -0.0112      0.054     -0.208      0.835      -0.117       0.094\n",
      "q5                     -0.1248      0.061     -2.031      0.042      -0.245      -0.004\n",
      "C(dep)[T.1]:q5         -0.0347      0.089     -0.388      0.698      -0.210       0.141\n",
      "C(dep)[T.2]:q5          0.0339      0.076      0.449      0.653      -0.114       0.182\n",
      "q6                     -0.0296      0.082     -0.360      0.719      -0.191       0.132\n",
      "C(dep)[T.1]:q6         -0.0186      0.069     -0.270      0.787      -0.154       0.117\n",
      "C(dep)[T.2]:q6          0.0447      0.060      0.745      0.456      -0.073       0.162\n",
      "agelt35                -0.0553      0.059     -0.930      0.353      -0.172       0.061\n",
      "C(dep)[T.1]:agelt35    -0.0869      0.061     -1.436      0.151      -0.206       0.032\n",
      "C(dep)[T.2]:agelt35    -0.1097      0.154     -0.713      0.476      -0.411       0.192\n",
      "agegt54                -0.0555      0.047     -1.173      0.241      -0.148       0.037\n",
      "C(dep)[T.1]:agegt54    -0.0006      0.058     -0.011      0.991      -0.115       0.114\n",
      "C(dep)[T.2]:agegt54    -0.1089      0.051     -2.127      0.033      -0.209      -0.009\n",
      "durable                -0.1152      0.060     -1.914      0.056      -0.233       0.003\n",
      "C(dep)[T.1]:durable    -0.0628      0.071     -0.880      0.379      -0.203       0.077\n",
      "C(dep)[T.2]:durable    -0.1011      0.059     -1.699      0.089      -0.218       0.016\n",
      "lusd                   -0.0655      0.042     -1.543      0.123      -0.149       0.018\n",
      "C(dep)[T.1]:lusd       -0.0247      0.055     -0.446      0.656      -0.133       0.084\n",
      "C(dep)[T.2]:lusd       -0.0528      0.050     -1.055      0.292      -0.151       0.045\n",
      "husd                   -0.0608      0.037     -1.625      0.104      -0.134       0.013\n",
      "C(dep)[T.1]:husd       -0.0272      0.049     -0.554      0.579      -0.124       0.069\n",
      "C(dep)[T.2]:husd       -0.0549      0.043     -1.267      0.205      -0.140       0.030\n",
      "female:black            0.0069      0.044      0.155      0.877      -0.080       0.094\n",
      "female:othrace          0.0383      0.174      0.219      0.826      -0.304       0.380\n",
      "female:q2              -0.0406      0.041     -1.000      0.317      -0.120       0.039\n",
      "female:q3               0.0383      0.039      0.989      0.323      -0.038       0.114\n",
      "female:q4               0.0362      0.039      0.932      0.351      -0.040       0.112\n",
      "female:q5               0.1090      0.061      1.791      0.073      -0.010       0.228\n",
      "female:q6              -0.0133      0.048     -0.277      0.782      -0.108       0.081\n",
      "female:agelt35         -0.0228      0.047     -0.480      0.631      -0.116       0.070\n",
      "female:agegt54         -0.0634      0.044     -1.446      0.148      -0.149       0.023\n",
      "female:durable         -0.0285      0.043     -0.657      0.511      -0.114       0.057\n",
      "female:lusd             0.0128      0.038      0.338      0.736      -0.062       0.087\n",
      "female:husd            -0.0166      0.032     -0.516      0.606      -0.080       0.047\n",
      "black:othrace       -3.855e-16   2.36e-16     -1.633      0.103   -8.48e-16    7.74e-17\n",
      "black:q2                0.1424      0.064      2.230      0.026       0.017       0.268\n",
      "black:q3                0.0355      0.058      0.607      0.544      -0.079       0.150\n",
      "black:q4               -0.0941      0.060     -1.564      0.118      -0.212       0.024\n",
      "black:q5                0.0064      0.089      0.072      0.942      -0.169       0.181\n",
      "black:q6               -0.0286      0.099     -0.289      0.773      -0.223       0.165\n",
      "black:agelt35          -0.0863      0.080     -1.079      0.281      -0.243       0.071\n",
      "black:agegt54          -0.0247      0.070     -0.353      0.724      -0.162       0.113\n",
      "black:durable          -0.0363      0.077     -0.471      0.637      -0.187       0.115\n",
      "black:lusd              0.1510      0.186      0.811      0.417      -0.214       0.516\n",
      "black:husd             -0.0033      0.054     -0.060      0.952      -0.109       0.103\n",
      "othrace:q2             -0.5813      0.367     -1.585      0.113      -1.300       0.138\n",
      "othrace:q3              0.1171      0.217      0.540      0.589      -0.308       0.542\n",
      "othrace:q4             -0.0792      0.220     -0.361      0.718      -0.510       0.352\n",
      "othrace:q5             -0.1960      0.195     -1.007      0.314      -0.578       0.186\n",
      "othrace:q6          -4.244e-16   1.77e-16     -2.398      0.017   -7.71e-16   -7.74e-17\n",
      "othrace:agelt35        -0.1305      0.379     -0.344      0.731      -0.873       0.612\n",
      "othrace:agegt54         0.0312      0.215      0.145      0.885      -0.390       0.453\n",
      "othrace:durable         0.4016      0.226      1.775      0.076      -0.042       0.845\n",
      "othrace:lusd           -0.8868      0.347     -2.554      0.011      -1.568      -0.206\n",
      "othrace:husd           -0.0610      0.183     -0.333      0.739      -0.419       0.298\n",
      "q2:q3                3.235e-17   1.98e-16      0.163      0.870   -3.56e-16    4.21e-16\n",
      "q2:q4                 1.04e-16   4.44e-16      0.234      0.815   -7.66e-16    9.74e-16\n",
      "q2:q5               -4.415e-16   2.52e-16     -1.751      0.080   -9.36e-16    5.29e-17\n",
      "q2:q6                  -0.0154      0.078     -0.198      0.843      -0.168       0.137\n",
      "q2:agelt35              0.1697      0.064      2.637      0.008       0.044       0.296\n",
      "q2:agegt54              0.0474      0.056      0.847      0.397      -0.062       0.157\n",
      "q2:durable              0.1072      0.063      1.697      0.090      -0.017       0.231\n",
      "q2:lusd                 0.0503      0.053      0.943      0.346      -0.054       0.155\n",
      "q2:husd                -0.0097      0.046     -0.208      0.835      -0.101       0.081\n",
      "q3:q4                1.351e-16   1.08e-16      1.254      0.210    -7.6e-17    3.46e-16\n",
      "q3:q5               -2.892e-16   2.89e-16     -1.000      0.317   -8.56e-16    2.77e-16\n",
      "q3:q6                  -0.1296      0.079     -1.639      0.101      -0.285       0.025\n",
      "q3:agelt35              0.1499      0.060      2.483      0.013       0.032       0.268\n",
      "q3:agegt54              0.1074      0.053      2.010      0.045       0.003       0.212\n",
      "q3:durable              0.1372      0.061      2.236      0.025       0.017       0.257\n",
      "q3:lusd                 0.0479      0.051      0.931      0.352      -0.053       0.149\n",
      "q3:husd                 0.0454      0.044      1.026      0.305      -0.041       0.132\n",
      "q4:q5                6.089e-17   9.45e-17      0.644      0.519   -1.24e-16    2.46e-16\n",
      "q4:q6                   0.0342      0.080      0.428      0.668      -0.122       0.191\n",
      "q4:agelt35              0.0759      0.060      1.276      0.202      -0.041       0.193\n",
      "q4:agegt54              0.0284      0.055      0.518      0.605      -0.079       0.136\n",
      "q4:durable              0.0608      0.060      1.008      0.314      -0.058       0.179\n",
      "q4:lusd                 0.0334      0.051      0.651      0.515      -0.067       0.134\n",
      "q4:husd                 0.0611      0.045      1.352      0.177      -0.028       0.150\n",
      "q5:q6                  -0.0330      0.129     -0.255      0.799      -0.287       0.221\n",
      "q5:agelt35              0.0551      0.091      0.606      0.544      -0.123       0.233\n",
      "q5:agegt54              0.1332      0.076      1.744      0.081      -0.017       0.283\n",
      "q5:durable              0.0982      0.100      0.987      0.324      -0.097       0.293\n",
      "q5:lusd                -0.0596      0.080     -0.745      0.456      -0.216       0.097\n",
      "q5:husd                -0.0066      0.067     -0.098      0.922      -0.139       0.125\n",
      "q6:agelt35             -0.0164      0.071     -0.231      0.818      -0.156       0.123\n",
      "q6:agegt54              0.0623      0.067      0.925      0.355      -0.070       0.194\n",
      "q6:durable              0.0175      0.072      0.241      0.809      -0.124       0.159\n",
      "q6:lusd                 0.0419      0.054      0.779      0.436      -0.064       0.147\n",
      "q6:husd                 0.0823      0.052      1.584      0.113      -0.020       0.184\n",
      "agelt35:agegt54        -0.0283      0.062     -0.457      0.648      -0.150       0.093\n",
      "agelt35:durable         0.0207      0.063      0.328      0.743      -0.103       0.145\n",
      "agelt35:lusd           -0.0533      0.056     -0.948      0.343      -0.164       0.057\n",
      "agelt35:husd           -0.0164      0.053     -0.312      0.755      -0.120       0.087\n",
      "agegt54:durable              0          0        nan        nan           0           0\n",
      "agegt54:lusd            0.0501      0.052      0.959      0.337      -0.052       0.152\n",
      "agegt54:husd            0.0508      0.043      1.181      0.238      -0.034       0.135\n",
      "durable:lusd            0.1570      0.056      2.822      0.005       0.048       0.266\n",
      "durable:husd            0.1278      0.053      2.414      0.016       0.024       0.232\n",
      "lusd:husd                    0          0        nan        nan           0           0\n",
      "==============================================================================\n",
      "Omnibus:                    22532.679   Durbin-Watson:                   2.015\n",
      "Prob(Omnibus):                  0.000   Jarque-Bera (JB):              902.476\n",
      "Skew:                           0.315   Prob(JB):                    1.07e-196\n",
      "Kurtosis:                       1.170   Cond. No.                     1.40e+16\n",
      "==============================================================================\n",
      "\n",
      "Notes:\n",
      "[1] Standard Errors are heteroscedasticity robust (HC1)\n",
      "[2] The smallest eigenvalue is 5.77e-29. This might indicate that there are\n",
      "strong multicollinearity problems or that the design matrix is singular.\n",
      "Number of regressors in the basic model: 120 \n",
      "\n"
     ]
    },
    {
     "name": "stderr",
     "output_type": "stream",
     "text": [
      "C:\\Users\\Stephy\\anaconda3\\lib\\site-packages\\statsmodels\\base\\model.py:1832: ValueWarning: covariance of constraints does not have full rank. The number of constraints is 119, but rank is 108\n",
      "  warnings.warn('covariance of constraints does not have full '\n"
     ]
    }
   ],
   "source": [
    "model = \"T2~(female+black+othrace+C(dep)+q2+q3+q4+q5+q6+agelt35+agegt54+durable+lusd+husd)**2\"\n",
    "model_results = smf.ols( model, data=Penn ).fit().get_robustcov_results(cov_type = \"HC1\")\n",
    "\n",
    "print(model_results.summary())\n",
    "print( \"Number of regressors in the basic model:\",len(model_results.params), '\\n')"
   ]
  },
  {
   "cell_type": "markdown",
   "metadata": {
    "papermill": {
     "duration": 0.02549,
     "end_time": "2021-02-20T13:42:42.269256",
     "exception": false,
     "start_time": "2021-02-20T13:42:42.243766",
     "status": "completed"
    },
    "tags": []
   },
   "source": [
    "We see that that even though this is a randomized experiment, balance conditions are failed."
   ]
  },
  {
   "cell_type": "markdown",
   "metadata": {
    "papermill": {
     "duration": 0.021046,
     "end_time": "2021-02-20T13:42:42.315674",
     "exception": false,
     "start_time": "2021-02-20T13:42:42.294628",
     "status": "completed"
    },
    "tags": []
   },
   "source": [
    "# Model Specification\n",
    "I use data from R."
   ]
  },
  {
   "cell_type": "markdown",
   "metadata": {},
   "source": [
    "## 1. classical 2-sample approach, no adjustment (CL)"
   ]
  },
  {
   "cell_type": "code",
   "execution_count": 40,
   "metadata": {
    "scrolled": false
   },
   "outputs": [
    {
     "name": "stdout",
     "output_type": "stream",
     "text": [
      "                            OLS Regression Results                            \n",
      "==============================================================================\n",
      "Dep. Variable:           log_inuidur1   R-squared:                       0.001\n",
      "Model:                            OLS   Adj. R-squared:                  0.001\n",
      "Method:                 Least Squares   F-statistic:                     5.879\n",
      "Date:                Fri, 24 Sep 2021   Prob (F-statistic):             0.0154\n",
      "Time:                        16:18:02   Log-Likelihood:                -9344.7\n",
      "No. Observations:                5782   AIC:                         1.869e+04\n",
      "Df Residuals:                    5780   BIC:                         1.871e+04\n",
      "Df Model:                           1                                         \n",
      "Covariance Type:                  HC1                                         \n",
      "==============================================================================\n",
      "                 coef    std err          t      P>|t|      [0.025      0.975]\n",
      "------------------------------------------------------------------------------\n",
      "Intercept      2.0568      0.021     98.158      0.000       2.016       2.098\n",
      "T2            -0.0788      0.033     -2.425      0.015      -0.143      -0.015\n",
      "==============================================================================\n",
      "Omnibus:                     3220.110   Durbin-Watson:                   1.978\n",
      "Prob(Omnibus):                  0.000   Jarque-Bera (JB):              593.120\n",
      "Skew:                          -0.541   Prob(JB):                    1.61e-129\n",
      "Kurtosis:                       1.865   Cond. No.                         2.47\n",
      "==============================================================================\n",
      "\n",
      "Notes:\n",
      "[1] Standard Errors are heteroscedasticity robust (HC1)\n"
     ]
    }
   ],
   "source": [
    "# model specifications\n",
    "# take log of inuidur1\n",
    "Penn[\"log_inuidur1\"] = np.log( Penn[\"inuidur1\"] ) \n",
    "log_inuidur1 = pd.DataFrame(np.log( Penn[\"inuidur1\"] ) ).reset_index( drop = True )\n",
    "\n",
    "# no adjustment (2-sample approach)\n",
    "formula_cl = 'log_inuidur1 ~ T2'\n",
    "\n",
    "# adding controls\n",
    "# Omitted dummies: q1, nondurable, muld\n",
    "\n",
    "ols_cl = smf.ols( formula = formula_cl, data = Penn ).fit().get_robustcov_results(cov_type = \"HC1\")\n",
    "\n",
    "\n",
    "\n",
    "\n",
    "# Results \n",
    "print(ols_cl.summary())\n"
   ]
  },
  {
   "cell_type": "code",
   "execution_count": 41,
   "metadata": {},
   "outputs": [],
   "source": [
    "ols_cra = smf.ols( formula =formula_cl, data=Penn ).fit().get_robustcov_results(cov_type = \"HC1\")\n"
   ]
  },
  {
   "cell_type": "markdown",
   "metadata": {},
   "source": [
    "## 2. Classical linear regression adjustment (CRA)"
   ]
  },
  {
   "cell_type": "code",
   "execution_count": 42,
   "metadata": {},
   "outputs": [],
   "source": [
    "#getting data\n",
    "# Get data from R\n",
    "result = pyreadr.read_r('../data/ols_cra_reg_g1.RData')\n",
    "X_vars_cra = result['X1']"
   ]
  },
  {
   "cell_type": "code",
   "execution_count": 43,
   "metadata": {},
   "outputs": [
    {
     "name": "stdout",
     "output_type": "stream",
     "text": [
      "                            OLS Regression Results                            \n",
      "==============================================================================\n",
      "Dep. Variable:               inuidur1   R-squared:                       0.056\n",
      "Model:                            OLS   Adj. R-squared:                  0.039\n",
      "Method:                 Least Squares   F-statistic:                     84.52\n",
      "Date:                Fri, 24 Sep 2021   Prob (F-statistic):               0.00\n",
      "Time:                        16:18:13   Log-Likelihood:                -9180.6\n",
      "No. Observations:                5782   AIC:                         1.857e+04\n",
      "Df Residuals:                    5678   BIC:                         1.926e+04\n",
      "Df Model:                         103                                         \n",
      "Covariance Type:                  HC1                                         \n",
      "========================================================================================\n",
      "                           coef    std err          t      P>|t|      [0.025      0.975]\n",
      "----------------------------------------------------------------------------------------\n",
      "(Intercept)              2.4472      0.358      6.834      0.000       1.745       3.149\n",
      "T2TRUE                  -0.0712      0.032     -2.222      0.026      -0.134      -0.008\n",
      "female                  -0.9428      0.283     -3.334      0.001      -1.497      -0.388\n",
      "black                   -0.6654      0.243     -2.738      0.006      -1.142      -0.189\n",
      "othrace                 -1.5495      0.731     -2.119      0.034      -2.983      -0.116\n",
      "factor(dep)1             0.2798      0.378      0.740      0.460      -0.462       1.022\n",
      "factor(dep)2             0.1678      0.368      0.456      0.648      -0.553       0.889\n",
      "q2                       0.0271      0.361      0.075      0.940      -0.680       0.734\n",
      "q3                      -0.3542      0.360     -0.984      0.325      -1.060       0.352\n",
      "q4                      -0.3380      0.361     -0.937      0.349      -1.045       0.369\n",
      "q5                      -0.1777      0.360     -0.494      0.621      -0.883       0.528\n",
      "q6                      -0.4456      0.361     -1.233      0.217      -1.154       0.263\n",
      "agelt35                 -0.3265      0.311     -1.050      0.294      -0.936       0.283\n",
      "agegt54                 -0.1552      0.480     -0.323      0.746      -1.095       0.785\n",
      "durable                 -1.0152      0.445     -2.282      0.023      -1.887      -0.143\n",
      "lusd                    -0.1194      0.174     -0.684      0.494      -0.461       0.223\n",
      "husd                     0.0703      0.188      0.374      0.708      -0.298       0.438\n",
      "female:black            -0.2840      0.118     -2.403      0.016      -0.516      -0.052\n",
      "female:othrace           0.4212      0.488      0.863      0.388      -0.536       1.378\n",
      "female:factor(dep)1     -0.0852      0.110     -0.776      0.438      -0.300       0.130\n",
      "female:factor(dep)2      0.0192      0.096      0.200      0.842      -0.169       0.207\n",
      "female:q2                0.7579      0.282      2.691      0.007       0.206       1.310\n",
      "female:q3                1.1132      0.280      3.969      0.000       0.563       1.663\n",
      "female:q4                1.0476      0.280      3.737      0.000       0.498       1.597\n",
      "female:q5                0.9392      0.280      3.357      0.001       0.391       1.488\n",
      "female:q6                1.0943      0.305      3.586      0.000       0.496       1.693\n",
      "female:agelt35           0.0897      0.072      1.250      0.211      -0.051       0.230\n",
      "female:agegt54           0.1052      0.119      0.882      0.378      -0.129       0.339\n",
      "female:durable           0.1479      0.105      1.414      0.157      -0.057       0.353\n",
      "female:lusd              0.1040      0.080      1.294      0.196      -0.054       0.262\n",
      "female:husd              0.0405      0.087      0.465      0.642      -0.130       0.211\n",
      "black:factor(dep)1       0.2551      0.178      1.435      0.151      -0.093       0.603\n",
      "black:factor(dep)2      -0.0027      0.169     -0.016      0.987      -0.333       0.328\n",
      "black:q2                 0.1579      0.254      0.621      0.535      -0.340       0.656\n",
      "black:q3                 0.3137      0.242      1.295      0.195      -0.161       0.788\n",
      "black:q4                 0.4071      0.253      1.608      0.108      -0.089       0.903\n",
      "black:q5                 0.4780      0.242      1.972      0.049       0.003       0.953\n",
      "black:agelt35           -0.0328      0.120     -0.273      0.785      -0.268       0.202\n",
      "black:agegt54            0.2404      0.215      1.118      0.264      -0.181       0.662\n",
      "black:durable            0.1605      0.182      0.883      0.378      -0.196       0.517\n",
      "black:lusd               0.0977      0.140      0.699      0.485      -0.176       0.372\n",
      "black:husd               0.5227      0.471      1.111      0.267      -0.400       1.445\n",
      "othrace:factor(dep)1     1.1662      0.569      2.050      0.040       0.051       2.281\n",
      "othrace:factor(dep)2    -0.7687      0.688     -1.117      0.264      -2.118       0.580\n",
      "othrace:q2               1.5108      0.755      2.000      0.046       0.030       2.992\n",
      "othrace:q3               0.2916      0.401      0.727      0.467      -0.495       1.078\n",
      "othrace:q4               0.9423      0.522      1.806      0.071      -0.080       1.965\n",
      "othrace:q5               0.9633      0.451      2.137      0.033       0.079       1.847\n",
      "othrace:agelt35         -0.1902      0.574     -0.331      0.740      -1.316       0.935\n",
      "othrace:agegt54         -1.5320      0.777     -1.971      0.049      -3.056      -0.008\n",
      "othrace:durable          1.9037      0.298      6.379      0.000       1.319       2.489\n",
      "othrace:lusd            -0.1288      0.385     -0.335      0.738      -0.883       0.625\n",
      "othrace:husd             0.6131      0.632      0.970      0.332      -0.626       1.853\n",
      "factor(dep)1:q2         -0.0578      0.377     -0.154      0.878      -0.796       0.681\n",
      "factor(dep)2:q2         -0.0868      0.366     -0.237      0.813      -0.805       0.631\n",
      "factor(dep)1:q3         -0.1448      0.377     -0.384      0.701      -0.883       0.594\n",
      "factor(dep)2:q3         -0.0664      0.366     -0.181      0.856      -0.784       0.651\n",
      "factor(dep)1:q4         -0.2323      0.376     -0.618      0.537      -0.969       0.504\n",
      "factor(dep)2:q4         -0.0189      0.366     -0.052      0.959      -0.737       0.699\n",
      "factor(dep)1:q5         -0.1367      0.375     -0.365      0.715      -0.871       0.598\n",
      "factor(dep)2:q5         -0.3474      0.366     -0.950      0.342      -1.065       0.370\n",
      "factor(dep)1:q6         -0.0754      0.424     -0.178      0.859      -0.906       0.755\n",
      "factor(dep)2:q6          0.1670      0.386      0.432      0.665      -0.590       0.924\n",
      "factor(dep)1:agelt35     0.0296      0.111      0.266      0.790      -0.188       0.247\n",
      "factor(dep)2:agelt35     0.0604      0.088      0.684      0.494      -0.113       0.234\n",
      "factor(dep)1:agegt54    -0.0654      0.158     -0.414      0.679      -0.375       0.244\n",
      "factor(dep)2:agegt54     0.2389      0.350      0.682      0.495      -0.448       0.926\n",
      "factor(dep)1:durable     0.2490      0.139      1.791      0.073      -0.024       0.522\n",
      "factor(dep)2:durable     0.1155      0.121      0.955      0.340      -0.122       0.353\n",
      "factor(dep)1:lusd       -0.1891      0.120     -1.578      0.115      -0.424       0.046\n",
      "factor(dep)2:lusd        0.0100      0.108      0.092      0.926      -0.202       0.222\n",
      "factor(dep)1:husd        0.0210      0.130      0.162      0.871      -0.234       0.276\n",
      "factor(dep)2:husd        0.0644      0.112      0.575      0.565      -0.155       0.284\n",
      "q2:agelt35               0.1075      0.311      0.346      0.729      -0.501       0.716\n",
      "q2:agegt54               0.2089      0.479      0.436      0.663      -0.730       1.148\n",
      "q2:durable               0.4369      0.445      0.983      0.326      -0.435       1.309\n",
      "q2:lusd                 -0.0452      0.178     -0.255      0.799      -0.393       0.303\n",
      "q2:husd                 -0.2224      0.187     -1.191      0.234      -0.588       0.144\n",
      "q3:agelt35               0.1805      0.311      0.581      0.561      -0.428       0.789\n",
      "q3:agegt54               0.5557      0.475      1.169      0.242      -0.376       1.487\n",
      "q3:durable               0.8396      0.444      1.889      0.059      -0.032       1.711\n",
      "q3:lusd                 -0.0160      0.175     -0.091      0.927      -0.359       0.327\n",
      "q3:husd                 -0.1131      0.185     -0.610      0.542      -0.476       0.250\n",
      "q4:agelt35               0.1183      0.310      0.381      0.703      -0.490       0.727\n",
      "q4:agegt54               0.3742      0.473      0.791      0.429      -0.553       1.301\n",
      "q4:durable               0.7434      0.447      1.663      0.096      -0.133       1.620\n",
      "q4:lusd                 -0.0222      0.178     -0.125      0.901      -0.371       0.326\n",
      "q4:husd                 -0.1848      0.186     -0.993      0.321      -0.550       0.180\n",
      "q5:agelt35              -0.0348      0.309     -0.112      0.910      -0.642       0.572\n",
      "q5:agegt54               0.2173      0.474      0.458      0.647      -0.712       1.147\n",
      "q5:durable               0.8554      0.444      1.928      0.054      -0.014       1.725\n",
      "q5:lusd                 -0.1843      0.177     -1.043      0.297      -0.531       0.162\n",
      "q5:husd                 -0.2742      0.184     -1.486      0.137      -0.636       0.088\n",
      "q6:agelt35               0.1822      0.333      0.547      0.584      -0.471       0.835\n",
      "q6:agegt54               0.6639      0.504      1.318      0.188      -0.324       1.652\n",
      "q6:durable               1.1467      0.466      2.462      0.014       0.234       2.060\n",
      "agelt35:durable          0.0130      0.097      0.134      0.894      -0.178       0.204\n",
      "agelt35:lusd            -0.0561      0.083     -0.679      0.497      -0.218       0.106\n",
      "agelt35:husd             0.0175      0.092      0.190      0.849      -0.162       0.197\n",
      "agegt54:durable         -0.0134      0.155     -0.086      0.931      -0.318       0.291\n",
      "agegt54:lusd            -0.0236      0.130     -0.182      0.856      -0.278       0.231\n",
      "agegt54:husd            -0.2739      0.144     -1.906      0.057      -0.556       0.008\n",
      "durable:lusd             0.2916      0.103      2.821      0.005       0.089       0.494\n",
      "durable:husd             0.3027      0.124      2.437      0.015       0.059       0.546\n",
      "==============================================================================\n",
      "Omnibus:                     1646.671   Durbin-Watson:                   2.004\n",
      "Prob(Omnibus):                  0.000   Jarque-Bera (JB):              492.421\n",
      "Skew:                          -0.503   Prob(JB):                    1.18e-107\n",
      "Kurtosis:                       1.984   Cond. No.                         245.\n",
      "==============================================================================\n",
      "\n",
      "Notes:\n",
      "[1] Standard Errors are heteroscedasticity robust (HC1)\n"
     ]
    },
    {
     "name": "stderr",
     "output_type": "stream",
     "text": [
      "C:\\Users\\Stephy\\anaconda3\\lib\\site-packages\\statsmodels\\base\\model.py:1832: ValueWarning: covariance of constraints does not have full rank. The number of constraints is 103, but rank is 102\n",
      "  warnings.warn('covariance of constraints does not have full '\n"
     ]
    }
   ],
   "source": [
    "formula_cra = 'log_inuidur1 ~ T2 + (female+black+othrace+dep+q2+q3+q4+q5+q6+agelt35+agegt54+durable+lusd+husd)**2'\n",
    "\n",
    "ols_cra = sm.OLS( log_inuidur1, X_vars_cra ).fit().get_robustcov_results(cov_type = \"HC1\")\n",
    "print(ols_cra.summary())"
   ]
  },
  {
   "cell_type": "markdown",
   "metadata": {
    "papermill": {
     "duration": 0.02768,
     "end_time": "2021-02-20T13:42:42.735966",
     "exception": false,
     "start_time": "2021-02-20T13:42:42.708286",
     "status": "completed"
    },
    "tags": []
   },
   "source": [
    "The interactive specificaiton corresponds to the approach introduced in Lin (2013)."
   ]
  },
  {
   "cell_type": "code",
   "execution_count": 44,
   "metadata": {},
   "outputs": [],
   "source": [
    "# create Y variable \n",
    "log_inuidur1 = pd.DataFrame(np.log( Penn[\"inuidur1\"] )).reset_index( drop = True )"
   ]
  },
  {
   "cell_type": "markdown",
   "metadata": {},
   "source": [
    "## 3. Interactive regression adjustment (IRA)"
   ]
  },
  {
   "cell_type": "code",
   "execution_count": 45,
   "metadata": {},
   "outputs": [
    {
     "ename": "PyreadrError",
     "evalue": "File b'../data/ols_ira_reg_g1.RData' does not exist!",
     "output_type": "error",
     "traceback": [
      "\u001b[1;31m---------------------------------------------------------------------------\u001b[0m",
      "\u001b[1;31mPyreadrError\u001b[0m                              Traceback (most recent call last)",
      "\u001b[1;32m<ipython-input-45-af12703e6878>\u001b[0m in \u001b[0;36m<module>\u001b[1;34m\u001b[0m\n\u001b[0;32m      4\u001b[0m \u001b[0mformula_ira\u001b[0m \u001b[1;33m=\u001b[0m \u001b[1;34m'T2 ~ (female+black+othrace+dep+q2+q3+q4+q5+q6+agelt35+agegt54+durable+lusd+husd)**2'\u001b[0m\u001b[1;33m\u001b[0m\u001b[1;33m\u001b[0m\u001b[0m\n\u001b[0;32m      5\u001b[0m \u001b[1;33m\u001b[0m\u001b[0m\n\u001b[1;32m----> 6\u001b[1;33m \u001b[0mresult\u001b[0m \u001b[1;33m=\u001b[0m \u001b[0mpyreadr\u001b[0m\u001b[1;33m.\u001b[0m\u001b[0mread_r\u001b[0m\u001b[1;33m(\u001b[0m\u001b[1;34m'../data/ols_ira_reg_g1.RData'\u001b[0m\u001b[1;33m)\u001b[0m\u001b[1;33m\u001b[0m\u001b[1;33m\u001b[0m\u001b[0m\n\u001b[0m\u001b[0;32m      7\u001b[0m \u001b[0mX_vars_ols_ira\u001b[0m \u001b[1;33m=\u001b[0m \u001b[0mresult\u001b[0m\u001b[1;33m[\u001b[0m\u001b[1;34m'S1'\u001b[0m\u001b[1;33m]\u001b[0m\u001b[1;33m\u001b[0m\u001b[1;33m\u001b[0m\u001b[0m\n\u001b[0;32m      8\u001b[0m \u001b[1;33m\u001b[0m\u001b[0m\n",
      "\u001b[1;32m~\\anaconda3\\lib\\site-packages\\pyreadr\\pyreadr.py\u001b[0m in \u001b[0;36mread_r\u001b[1;34m(path, use_objects, timezone)\u001b[0m\n\u001b[0;32m     63\u001b[0m     \u001b[0mfilename_bytes\u001b[0m \u001b[1;33m=\u001b[0m \u001b[0mos\u001b[0m\u001b[1;33m.\u001b[0m\u001b[0mpath\u001b[0m\u001b[1;33m.\u001b[0m\u001b[0mexpanduser\u001b[0m\u001b[1;33m(\u001b[0m\u001b[0mfilename_bytes\u001b[0m\u001b[1;33m)\u001b[0m\u001b[1;33m\u001b[0m\u001b[1;33m\u001b[0m\u001b[0m\n\u001b[0;32m     64\u001b[0m     \u001b[1;32mif\u001b[0m \u001b[1;32mnot\u001b[0m \u001b[0mos\u001b[0m\u001b[1;33m.\u001b[0m\u001b[0mpath\u001b[0m\u001b[1;33m.\u001b[0m\u001b[0misfile\u001b[0m\u001b[1;33m(\u001b[0m\u001b[0mfilename_bytes\u001b[0m\u001b[1;33m)\u001b[0m\u001b[1;33m:\u001b[0m\u001b[1;33m\u001b[0m\u001b[1;33m\u001b[0m\u001b[0m\n\u001b[1;32m---> 65\u001b[1;33m         \u001b[1;32mraise\u001b[0m \u001b[0mPyreadrError\u001b[0m\u001b[1;33m(\u001b[0m\u001b[1;34m\"File {0} does not exist!\"\u001b[0m\u001b[1;33m.\u001b[0m\u001b[0mformat\u001b[0m\u001b[1;33m(\u001b[0m\u001b[0mfilename_bytes\u001b[0m\u001b[1;33m)\u001b[0m\u001b[1;33m)\u001b[0m\u001b[1;33m\u001b[0m\u001b[1;33m\u001b[0m\u001b[0m\n\u001b[0m\u001b[0;32m     66\u001b[0m     \u001b[0mparser\u001b[0m\u001b[1;33m.\u001b[0m\u001b[0mparse\u001b[0m\u001b[1;33m(\u001b[0m\u001b[0mfilename_bytes\u001b[0m\u001b[1;33m)\u001b[0m\u001b[1;33m\u001b[0m\u001b[1;33m\u001b[0m\u001b[0m\n\u001b[0;32m     67\u001b[0m \u001b[1;33m\u001b[0m\u001b[0m\n",
      "\u001b[1;31mPyreadrError\u001b[0m: File b'../data/ols_ira_reg_g1.RData' does not exist!"
     ]
    }
   ],
   "source": [
    "# Reset index to estimation\n",
    "# Get data from R\n",
    "\n",
    "formula_ira = 'T2 ~ (female+black+othrace+dep+q2+q3+q4+q5+q6+agelt35+agegt54+durable+lusd+husd)**2'\n",
    "\n",
    "result = pyreadr.read_r('../data/ols_ira_reg_g1.RData')\n",
    "X_vars_ols_ira = result['S1']\n",
    "\n",
    "ols_ira = sm.OLS(log_inuidur1, X_vars_ols_ira  ).fit().get_robustcov_results(cov_type = \"HC1\")\n",
    "\n",
    "# Results \n",
    "print(ols_ira.summary())"
   ]
  },
  {
   "cell_type": "markdown",
   "metadata": {
    "papermill": {
     "duration": 0.030243,
     "end_time": "2021-02-20T13:42:43.724231",
     "exception": false,
     "start_time": "2021-02-20T13:42:43.693988",
     "status": "completed"
    },
    "tags": []
   },
   "source": [
    "## 4. Interactive regression adjustment (IRA) using Lasso."
   ]
  },
  {
   "cell_type": "code",
   "execution_count": 22,
   "metadata": {
    "scrolled": false
   },
   "outputs": [
    {
     "name": "stdout",
     "output_type": "stream",
     "text": [
      "Requirement already satisfied: multiprocess in c:\\programdata\\anaconda3\\lib\\site-packages (0.70.12.2)\n",
      "Requirement already satisfied: dill>=0.3.4 in c:\\programdata\\anaconda3\\lib\\site-packages (from multiprocess) (0.3.4)\n",
      "Note: you may need to restart the kernel to use updated packages.\n"
     ]
    }
   ],
   "source": [
    "pip install multiprocess "
   ]
  },
  {
   "cell_type": "code",
   "execution_count": 23,
   "metadata": {},
   "outputs": [],
   "source": [
    "import multiprocess"
   ]
  },
  {
   "cell_type": "code",
   "execution_count": 24,
   "metadata": {},
   "outputs": [],
   "source": [
    "import hdmpy"
   ]
  },
  {
   "cell_type": "markdown",
   "metadata": {},
   "source": [
    "Next we try out partialling out with lasso"
   ]
  },
  {
   "cell_type": "code",
   "execution_count": 46,
   "metadata": {},
   "outputs": [],
   "source": [
    "# Get data from R\n",
    "result = pyreadr.read_r('../data/rlasso_ira_reg_g1.RData')\n",
    "X_vars = result['S']"
   ]
  },
  {
   "cell_type": "code",
   "execution_count": 52,
   "metadata": {},
   "outputs": [
    {
     "data": {
      "text/html": [
       "<div>\n",
       "<style scoped>\n",
       "    .dataframe tbody tr th:only-of-type {\n",
       "        vertical-align: middle;\n",
       "    }\n",
       "\n",
       "    .dataframe tbody tr th {\n",
       "        vertical-align: top;\n",
       "    }\n",
       "\n",
       "    .dataframe thead th {\n",
       "        text-align: right;\n",
       "    }\n",
       "</style>\n",
       "<table border=\"1\" class=\"dataframe\">\n",
       "  <thead>\n",
       "    <tr style=\"text-align: right;\">\n",
       "      <th></th>\n",
       "      <th>T2TRUE</th>\n",
       "      <th>Xfemale</th>\n",
       "      <th>Xblack</th>\n",
       "      <th>Xothrace</th>\n",
       "      <th>Xfactor(dep)1</th>\n",
       "      <th>Xfactor(dep)2</th>\n",
       "      <th>Xq2</th>\n",
       "      <th>Xq3</th>\n",
       "      <th>Xq4</th>\n",
       "      <th>Xq5</th>\n",
       "      <th>...</th>\n",
       "      <th>T2TRUE:Xagelt35:agegt54</th>\n",
       "      <th>T2TRUE:Xagelt35:durable</th>\n",
       "      <th>T2TRUE:Xagelt35:lusd</th>\n",
       "      <th>T2TRUE:Xagelt35:husd</th>\n",
       "      <th>T2TRUE:Xagegt54:durable</th>\n",
       "      <th>T2TRUE:Xagegt54:lusd</th>\n",
       "      <th>T2TRUE:Xagegt54:husd</th>\n",
       "      <th>T2TRUE:Xdurable:lusd</th>\n",
       "      <th>T2TRUE:Xdurable:husd</th>\n",
       "      <th>T2TRUE:Xlusd:husd</th>\n",
       "    </tr>\n",
       "  </thead>\n",
       "  <tbody>\n",
       "    <tr>\n",
       "      <th>0</th>\n",
       "      <td>0.0</td>\n",
       "      <td>-0.400726</td>\n",
       "      <td>-0.118817</td>\n",
       "      <td>-0.005189</td>\n",
       "      <td>-0.116569</td>\n",
       "      <td>0.839329</td>\n",
       "      <td>-0.200104</td>\n",
       "      <td>-0.235559</td>\n",
       "      <td>-0.223279</td>\n",
       "      <td>0.736769</td>\n",
       "      <td>...</td>\n",
       "      <td>0.0</td>\n",
       "      <td>-0.000000</td>\n",
       "      <td>-0.00000</td>\n",
       "      <td>-0.00000</td>\n",
       "      <td>-0.000000</td>\n",
       "      <td>-0.000000</td>\n",
       "      <td>-0.000000</td>\n",
       "      <td>-0.000000</td>\n",
       "      <td>-0.000000</td>\n",
       "      <td>0.0</td>\n",
       "    </tr>\n",
       "    <tr>\n",
       "      <th>1</th>\n",
       "      <td>1.0</td>\n",
       "      <td>-0.400726</td>\n",
       "      <td>-0.118817</td>\n",
       "      <td>-0.005189</td>\n",
       "      <td>-0.116569</td>\n",
       "      <td>-0.160671</td>\n",
       "      <td>-0.200104</td>\n",
       "      <td>0.764441</td>\n",
       "      <td>-0.223279</td>\n",
       "      <td>-0.263231</td>\n",
       "      <td>...</td>\n",
       "      <td>0.0</td>\n",
       "      <td>-0.073504</td>\n",
       "      <td>0.86752</td>\n",
       "      <td>-0.12193</td>\n",
       "      <td>-0.018852</td>\n",
       "      <td>-0.032515</td>\n",
       "      <td>-0.027672</td>\n",
       "      <td>-0.054998</td>\n",
       "      <td>-0.029056</td>\n",
       "      <td>0.0</td>\n",
       "    </tr>\n",
       "    <tr>\n",
       "      <th>2</th>\n",
       "      <td>0.0</td>\n",
       "      <td>-0.400726</td>\n",
       "      <td>-0.118817</td>\n",
       "      <td>-0.005189</td>\n",
       "      <td>-0.116569</td>\n",
       "      <td>-0.160671</td>\n",
       "      <td>-0.200104</td>\n",
       "      <td>-0.235559</td>\n",
       "      <td>-0.223279</td>\n",
       "      <td>0.736769</td>\n",
       "      <td>...</td>\n",
       "      <td>0.0</td>\n",
       "      <td>-0.000000</td>\n",
       "      <td>-0.00000</td>\n",
       "      <td>-0.00000</td>\n",
       "      <td>-0.000000</td>\n",
       "      <td>-0.000000</td>\n",
       "      <td>-0.000000</td>\n",
       "      <td>-0.000000</td>\n",
       "      <td>-0.000000</td>\n",
       "      <td>0.0</td>\n",
       "    </tr>\n",
       "    <tr>\n",
       "      <th>3</th>\n",
       "      <td>0.0</td>\n",
       "      <td>-0.400726</td>\n",
       "      <td>-0.118817</td>\n",
       "      <td>-0.005189</td>\n",
       "      <td>-0.116569</td>\n",
       "      <td>-0.160671</td>\n",
       "      <td>-0.200104</td>\n",
       "      <td>-0.235559</td>\n",
       "      <td>0.776721</td>\n",
       "      <td>-0.263231</td>\n",
       "      <td>...</td>\n",
       "      <td>0.0</td>\n",
       "      <td>-0.000000</td>\n",
       "      <td>-0.00000</td>\n",
       "      <td>-0.00000</td>\n",
       "      <td>-0.000000</td>\n",
       "      <td>-0.000000</td>\n",
       "      <td>-0.000000</td>\n",
       "      <td>-0.000000</td>\n",
       "      <td>-0.000000</td>\n",
       "      <td>0.0</td>\n",
       "    </tr>\n",
       "    <tr>\n",
       "      <th>4</th>\n",
       "      <td>1.0</td>\n",
       "      <td>0.599274</td>\n",
       "      <td>-0.118817</td>\n",
       "      <td>-0.005189</td>\n",
       "      <td>-0.116569</td>\n",
       "      <td>-0.160671</td>\n",
       "      <td>-0.200104</td>\n",
       "      <td>-0.235559</td>\n",
       "      <td>0.776721</td>\n",
       "      <td>-0.263231</td>\n",
       "      <td>...</td>\n",
       "      <td>0.0</td>\n",
       "      <td>-0.073504</td>\n",
       "      <td>-0.13248</td>\n",
       "      <td>-0.12193</td>\n",
       "      <td>-0.018852</td>\n",
       "      <td>-0.032515</td>\n",
       "      <td>-0.027672</td>\n",
       "      <td>-0.054998</td>\n",
       "      <td>-0.029056</td>\n",
       "      <td>0.0</td>\n",
       "    </tr>\n",
       "    <tr>\n",
       "      <th>...</th>\n",
       "      <td>...</td>\n",
       "      <td>...</td>\n",
       "      <td>...</td>\n",
       "      <td>...</td>\n",
       "      <td>...</td>\n",
       "      <td>...</td>\n",
       "      <td>...</td>\n",
       "      <td>...</td>\n",
       "      <td>...</td>\n",
       "      <td>...</td>\n",
       "      <td>...</td>\n",
       "      <td>...</td>\n",
       "      <td>...</td>\n",
       "      <td>...</td>\n",
       "      <td>...</td>\n",
       "      <td>...</td>\n",
       "      <td>...</td>\n",
       "      <td>...</td>\n",
       "      <td>...</td>\n",
       "      <td>...</td>\n",
       "      <td>...</td>\n",
       "    </tr>\n",
       "    <tr>\n",
       "      <th>5777</th>\n",
       "      <td>0.0</td>\n",
       "      <td>0.599274</td>\n",
       "      <td>-0.118817</td>\n",
       "      <td>0.994811</td>\n",
       "      <td>-0.116569</td>\n",
       "      <td>0.839329</td>\n",
       "      <td>-0.200104</td>\n",
       "      <td>-0.235559</td>\n",
       "      <td>-0.223279</td>\n",
       "      <td>0.736769</td>\n",
       "      <td>...</td>\n",
       "      <td>0.0</td>\n",
       "      <td>-0.000000</td>\n",
       "      <td>-0.00000</td>\n",
       "      <td>-0.00000</td>\n",
       "      <td>-0.000000</td>\n",
       "      <td>-0.000000</td>\n",
       "      <td>-0.000000</td>\n",
       "      <td>-0.000000</td>\n",
       "      <td>-0.000000</td>\n",
       "      <td>0.0</td>\n",
       "    </tr>\n",
       "    <tr>\n",
       "      <th>5778</th>\n",
       "      <td>1.0</td>\n",
       "      <td>-0.400726</td>\n",
       "      <td>0.881183</td>\n",
       "      <td>-0.005189</td>\n",
       "      <td>-0.116569</td>\n",
       "      <td>-0.160671</td>\n",
       "      <td>-0.200104</td>\n",
       "      <td>-0.235559</td>\n",
       "      <td>0.776721</td>\n",
       "      <td>-0.263231</td>\n",
       "      <td>...</td>\n",
       "      <td>0.0</td>\n",
       "      <td>-0.073504</td>\n",
       "      <td>-0.13248</td>\n",
       "      <td>-0.12193</td>\n",
       "      <td>-0.018852</td>\n",
       "      <td>-0.032515</td>\n",
       "      <td>-0.027672</td>\n",
       "      <td>-0.054998</td>\n",
       "      <td>-0.029056</td>\n",
       "      <td>0.0</td>\n",
       "    </tr>\n",
       "    <tr>\n",
       "      <th>5779</th>\n",
       "      <td>0.0</td>\n",
       "      <td>-0.400726</td>\n",
       "      <td>-0.118817</td>\n",
       "      <td>-0.005189</td>\n",
       "      <td>-0.116569</td>\n",
       "      <td>0.839329</td>\n",
       "      <td>0.799896</td>\n",
       "      <td>-0.235559</td>\n",
       "      <td>-0.223279</td>\n",
       "      <td>-0.263231</td>\n",
       "      <td>...</td>\n",
       "      <td>0.0</td>\n",
       "      <td>-0.000000</td>\n",
       "      <td>0.00000</td>\n",
       "      <td>-0.00000</td>\n",
       "      <td>-0.000000</td>\n",
       "      <td>-0.000000</td>\n",
       "      <td>-0.000000</td>\n",
       "      <td>-0.000000</td>\n",
       "      <td>-0.000000</td>\n",
       "      <td>0.0</td>\n",
       "    </tr>\n",
       "    <tr>\n",
       "      <th>5780</th>\n",
       "      <td>1.0</td>\n",
       "      <td>0.599274</td>\n",
       "      <td>-0.118817</td>\n",
       "      <td>-0.005189</td>\n",
       "      <td>-0.116569</td>\n",
       "      <td>-0.160671</td>\n",
       "      <td>-0.200104</td>\n",
       "      <td>-0.235559</td>\n",
       "      <td>0.776721</td>\n",
       "      <td>-0.263231</td>\n",
       "      <td>...</td>\n",
       "      <td>0.0</td>\n",
       "      <td>-0.073504</td>\n",
       "      <td>-0.13248</td>\n",
       "      <td>-0.12193</td>\n",
       "      <td>-0.018852</td>\n",
       "      <td>0.967485</td>\n",
       "      <td>-0.027672</td>\n",
       "      <td>-0.054998</td>\n",
       "      <td>-0.029056</td>\n",
       "      <td>0.0</td>\n",
       "    </tr>\n",
       "    <tr>\n",
       "      <th>5781</th>\n",
       "      <td>0.0</td>\n",
       "      <td>-0.400726</td>\n",
       "      <td>-0.118817</td>\n",
       "      <td>-0.005189</td>\n",
       "      <td>-0.116569</td>\n",
       "      <td>-0.160671</td>\n",
       "      <td>-0.200104</td>\n",
       "      <td>-0.235559</td>\n",
       "      <td>0.776721</td>\n",
       "      <td>-0.263231</td>\n",
       "      <td>...</td>\n",
       "      <td>0.0</td>\n",
       "      <td>-0.000000</td>\n",
       "      <td>-0.00000</td>\n",
       "      <td>-0.00000</td>\n",
       "      <td>0.000000</td>\n",
       "      <td>0.000000</td>\n",
       "      <td>-0.000000</td>\n",
       "      <td>0.000000</td>\n",
       "      <td>-0.000000</td>\n",
       "      <td>0.0</td>\n",
       "    </tr>\n",
       "  </tbody>\n",
       "</table>\n",
       "<p>5782 rows × 239 columns</p>\n",
       "</div>"
      ],
      "text/plain": [
       "      T2TRUE   Xfemale    Xblack  Xothrace  Xfactor(dep)1  Xfactor(dep)2  \\\n",
       "0        0.0 -0.400726 -0.118817 -0.005189      -0.116569       0.839329   \n",
       "1        1.0 -0.400726 -0.118817 -0.005189      -0.116569      -0.160671   \n",
       "2        0.0 -0.400726 -0.118817 -0.005189      -0.116569      -0.160671   \n",
       "3        0.0 -0.400726 -0.118817 -0.005189      -0.116569      -0.160671   \n",
       "4        1.0  0.599274 -0.118817 -0.005189      -0.116569      -0.160671   \n",
       "...      ...       ...       ...       ...            ...            ...   \n",
       "5777     0.0  0.599274 -0.118817  0.994811      -0.116569       0.839329   \n",
       "5778     1.0 -0.400726  0.881183 -0.005189      -0.116569      -0.160671   \n",
       "5779     0.0 -0.400726 -0.118817 -0.005189      -0.116569       0.839329   \n",
       "5780     1.0  0.599274 -0.118817 -0.005189      -0.116569      -0.160671   \n",
       "5781     0.0 -0.400726 -0.118817 -0.005189      -0.116569      -0.160671   \n",
       "\n",
       "           Xq2       Xq3       Xq4       Xq5  ...  T2TRUE:Xagelt35:agegt54  \\\n",
       "0    -0.200104 -0.235559 -0.223279  0.736769  ...                      0.0   \n",
       "1    -0.200104  0.764441 -0.223279 -0.263231  ...                      0.0   \n",
       "2    -0.200104 -0.235559 -0.223279  0.736769  ...                      0.0   \n",
       "3    -0.200104 -0.235559  0.776721 -0.263231  ...                      0.0   \n",
       "4    -0.200104 -0.235559  0.776721 -0.263231  ...                      0.0   \n",
       "...        ...       ...       ...       ...  ...                      ...   \n",
       "5777 -0.200104 -0.235559 -0.223279  0.736769  ...                      0.0   \n",
       "5778 -0.200104 -0.235559  0.776721 -0.263231  ...                      0.0   \n",
       "5779  0.799896 -0.235559 -0.223279 -0.263231  ...                      0.0   \n",
       "5780 -0.200104 -0.235559  0.776721 -0.263231  ...                      0.0   \n",
       "5781 -0.200104 -0.235559  0.776721 -0.263231  ...                      0.0   \n",
       "\n",
       "      T2TRUE:Xagelt35:durable  T2TRUE:Xagelt35:lusd  T2TRUE:Xagelt35:husd  \\\n",
       "0                   -0.000000              -0.00000              -0.00000   \n",
       "1                   -0.073504               0.86752              -0.12193   \n",
       "2                   -0.000000              -0.00000              -0.00000   \n",
       "3                   -0.000000              -0.00000              -0.00000   \n",
       "4                   -0.073504              -0.13248              -0.12193   \n",
       "...                       ...                   ...                   ...   \n",
       "5777                -0.000000              -0.00000              -0.00000   \n",
       "5778                -0.073504              -0.13248              -0.12193   \n",
       "5779                -0.000000               0.00000              -0.00000   \n",
       "5780                -0.073504              -0.13248              -0.12193   \n",
       "5781                -0.000000              -0.00000              -0.00000   \n",
       "\n",
       "      T2TRUE:Xagegt54:durable  T2TRUE:Xagegt54:lusd  T2TRUE:Xagegt54:husd  \\\n",
       "0                   -0.000000             -0.000000             -0.000000   \n",
       "1                   -0.018852             -0.032515             -0.027672   \n",
       "2                   -0.000000             -0.000000             -0.000000   \n",
       "3                   -0.000000             -0.000000             -0.000000   \n",
       "4                   -0.018852             -0.032515             -0.027672   \n",
       "...                       ...                   ...                   ...   \n",
       "5777                -0.000000             -0.000000             -0.000000   \n",
       "5778                -0.018852             -0.032515             -0.027672   \n",
       "5779                -0.000000             -0.000000             -0.000000   \n",
       "5780                -0.018852              0.967485             -0.027672   \n",
       "5781                 0.000000              0.000000             -0.000000   \n",
       "\n",
       "      T2TRUE:Xdurable:lusd  T2TRUE:Xdurable:husd  T2TRUE:Xlusd:husd  \n",
       "0                -0.000000             -0.000000                0.0  \n",
       "1                -0.054998             -0.029056                0.0  \n",
       "2                -0.000000             -0.000000                0.0  \n",
       "3                -0.000000             -0.000000                0.0  \n",
       "4                -0.054998             -0.029056                0.0  \n",
       "...                    ...                   ...                ...  \n",
       "5777             -0.000000             -0.000000                0.0  \n",
       "5778             -0.054998             -0.029056                0.0  \n",
       "5779             -0.000000             -0.000000                0.0  \n",
       "5780             -0.054998             -0.029056                0.0  \n",
       "5781              0.000000             -0.000000                0.0  \n",
       "\n",
       "[5782 rows x 239 columns]"
      ]
     },
     "execution_count": 52,
     "metadata": {},
     "output_type": "execute_result"
    }
   ],
   "source": [
    "X_vars"
   ]
  },
  {
   "cell_type": "code",
   "execution_count": 53,
   "metadata": {},
   "outputs": [
    {
     "data": {
      "text/html": [
       "<div>\n",
       "<style scoped>\n",
       "    .dataframe tbody tr th:only-of-type {\n",
       "        vertical-align: middle;\n",
       "    }\n",
       "\n",
       "    .dataframe tbody tr th {\n",
       "        vertical-align: top;\n",
       "    }\n",
       "\n",
       "    .dataframe thead th {\n",
       "        text-align: right;\n",
       "    }\n",
       "</style>\n",
       "<table border=\"1\" class=\"dataframe\">\n",
       "  <thead>\n",
       "    <tr style=\"text-align: right;\">\n",
       "      <th></th>\n",
       "      <th>Coef.</th>\n",
       "      <th>Std.Err.</th>\n",
       "      <th>t</th>\n",
       "      <th>P&gt;|t|</th>\n",
       "    </tr>\n",
       "  </thead>\n",
       "  <tbody>\n",
       "    <tr>\n",
       "      <th>T2</th>\n",
       "      <td>7.268397e+10</td>\n",
       "      <td>1.069190e+11</td>\n",
       "      <td>0.679804</td>\n",
       "      <td>0.496629</td>\n",
       "    </tr>\n",
       "  </tbody>\n",
       "</table>\n",
       "</div>"
      ],
      "text/plain": [
       "           Coef.      Std.Err.         t     P>|t|\n",
       "T2  7.268397e+10  1.069190e+11  0.679804  0.496629"
      ]
     },
     "execution_count": 53,
     "metadata": {},
     "output_type": "execute_result"
    }
   ],
   "source": [
    "result = hdmpy.rlassoEffects( X_vars, log_inuidur1, index = 0  )       \n",
    "\n",
    "rlasso_ira = pd.DataFrame(np.array( (result.res['coefficients'][0] , result.res['se'][0] , \\\n",
    "           result.res['t'][0] , result.res['pval'][0] ) ).reshape(1, 4) , columns = ['Coef.' , \\\n",
    "                            \"Std.Err.\" , \"t\" , 'P>|t|'] , index = ['T2'])\n",
    "rlasso_ira"
   ]
  },
  {
   "cell_type": "markdown",
   "metadata": {
    "papermill": {
     "duration": 0.030965,
     "end_time": "2021-02-20T13:42:45.107753",
     "exception": false,
     "start_time": "2021-02-20T13:42:45.076788",
     "status": "completed"
    },
    "tags": []
   },
   "source": [
    "### Results"
   ]
  },
  {
   "cell_type": "code",
   "execution_count": 63,
   "metadata": {
    "scrolled": true
   },
   "outputs": [
    {
     "name": "stdout",
     "output_type": "stream",
     "text": [
      "\\begin{tabular}{lrrrr}\n",
      "\\toprule\n",
      "{} &      \\$CL\\$ &     \\$CRA\\$ &     \\$IRA\\$ &   \\$IRA Lasso\\$ \\\\\n",
      "\\midrule\n",
      "estimate       & -0.078825 & -0.071207 & -0.069904 &  7.268397e+10 \\\\\n",
      "standard error &  0.032509 &  0.032044 &  0.032076 &  1.069190e+11 \\\\\n",
      "\\bottomrule\n",
      "\\end{tabular}\n",
      "\n"
     ]
    }
   ],
   "source": [
    "table2 = np.zeros((2, 4))\n",
    "table2[0,0] = ols_cl.summary2().tables[1]['Coef.']['T2']\n",
    "table2[0,1] = ols_cra.summary2().tables[1]['Coef.']['T2TRUE']\n",
    "table2[0,2] = ols_ira.summary2().tables[1]['Coef.']['T2TRUE']\n",
    "table2[0,3] = rlasso_ira['Coef.']['T2']\n",
    "\n",
    "table2[1,0] = ols_cl.summary2().tables[1]['Std.Err.']['T2']\n",
    "table2[1,1] = ols_cra.summary2().tables[1]['Std.Err.']['T2TRUE']\n",
    "table2[1,2] = ols_ira.summary2().tables[1]['Std.Err.']['T2TRUE']\n",
    "table2[1,3] = rlasso_ira['Std.Err.']['T2']\n",
    "\n",
    "table2 = pd.DataFrame(table2, columns = [\"$CL$\", \"$CRA$\", \"$IRA$\", \"$IRA Lasso$\"], \\\n",
    "                      index = [\"estimate\",\"standard error\"])\n",
    "table2\n",
    "table2.to_latex\n",
    "print(table2.to_latex())"
   ]
  },
  {
   "cell_type": "markdown",
   "metadata": {
    "papermill": {
     "duration": 0.019862,
     "end_time": "2021-02-20T13:42:45.344887",
     "exception": false,
     "start_time": "2021-02-20T13:42:45.325025",
     "status": "completed"
    },
    "tags": []
   },
   "source": [
    "Treatment group 2 experiences an average decrease of about $7.26\\%$ in the length of unemployment spell.\n",
    "\n",
    "\n",
    "Observe that regression estimators delivers estimates that are slighly more efficient (lower standard errors) than the simple 2 mean estimator, but essentially all methods have very similar standard errors. From IRA results we also see that there is not any statistically detectable heterogeneity.  We also see the regression estimators offer slightly lower estimates -- these difference occur perhaps to due minor imbalance in the treatment allocation, which the regression estimators try to correct.\n",
    "\n",
    "\n"
   ]
  },
  {
   "cell_type": "markdown",
   "metadata": {},
   "source": [
    "***\n"
   ]
  },
  {
   "cell_type": "markdown",
   "metadata": {},
   "source": [
    "# Plotting"
   ]
  },
  {
   "cell_type": "markdown",
   "metadata": {},
   "source": [
    "Using the 3. interactive regression adjustment (IRA) plot the coefficients of the next variables\n",
    "- T2*female\n",
    "- T2*black\n",
    "- T2*agelt35\n",
    "- T2*factor(dep)1"
   ]
  },
  {
   "cell_type": "code",
   "execution_count": 71,
   "metadata": {},
   "outputs": [],
   "source": [
    "import seaborn as sns\n",
    "import matplotlib as mpl\n",
    "import matplotlib.pyplot as plt\n"
   ]
  },
  {
   "cell_type": "code",
   "execution_count": 72,
   "metadata": {},
   "outputs": [
    {
     "name": "stdout",
     "output_type": "stream",
     "text": [
      "                            OLS Regression Results                            \n",
      "==============================================================================\n",
      "Dep. Variable:               inuidur1   R-squared:                       0.073\n",
      "Model:                            OLS   Adj. R-squared:                  0.039\n",
      "Method:                 Least Squares   F-statistic:                     35.02\n",
      "Date:                Fri, 24 Sep 2021   Prob (F-statistic):               0.00\n",
      "Time:                        13:44:53   Log-Likelihood:                -9129.1\n",
      "No. Observations:                5782   AIC:                         1.866e+04\n",
      "Df Residuals:                    5579   BIC:                         2.002e+04\n",
      "Df Model:                         202                                         \n",
      "Covariance Type:                  HC1                                         \n",
      "================================================================================================\n",
      "                                   coef    std err          t      P>|t|      [0.025      0.975]\n",
      "------------------------------------------------------------------------------------------------\n",
      "(Intercept)                      2.0557      0.021     99.243      0.000       2.015       2.096\n",
      "T2TRUE                          -0.0699      0.032     -2.179      0.029      -0.133      -0.007\n",
      "Xfemale                         -0.6663      0.408     -1.633      0.103      -1.466       0.134\n",
      "Xblack                          -0.8635      0.297     -2.908      0.004      -1.446      -0.281\n",
      "Xothrace                        -3.8177      0.937     -4.076      0.000      -5.654      -1.982\n",
      "Xfactor(dep)1                    0.0359      0.648      0.055      0.956      -1.234       1.306\n",
      "Xfactor(dep)2                    0.2118      0.451      0.469      0.639      -0.673       1.096\n",
      "Xq2                             -0.2546      0.455     -0.559      0.576      -1.147       0.638\n",
      "Xq3                             -0.6212      0.455     -1.365      0.172      -1.513       0.271\n",
      "Xq4                             -0.4799      0.456     -1.052      0.293      -1.374       0.414\n",
      "Xq5                             -0.3719      0.454     -0.819      0.413      -1.262       0.518\n",
      "Xq6                             -0.6770      0.452     -1.497      0.134      -1.563       0.209\n",
      "Xagelt35                        -0.6777      0.409     -1.655      0.098      -1.480       0.125\n",
      "Xagegt54                        -0.3041      0.701     -0.434      0.664      -1.678       1.069\n",
      "Xdurable                        -0.8380      0.596     -1.405      0.160      -2.007       0.331\n",
      "Xlusd                           -0.0995      0.228     -0.436      0.662      -0.546       0.347\n",
      "Xhusd                           -0.0626      0.235     -0.267      0.790      -0.523       0.398\n",
      "Xfemale:black                   -0.2155      0.151     -1.432      0.152      -0.511       0.080\n",
      "Xfemale:othrace                  0.5994      0.563      1.066      0.287      -0.503       1.702\n",
      "Xfemale:factor(dep)1            -0.1734      0.142     -1.222      0.222      -0.452       0.105\n",
      "Xfemale:factor(dep)2             0.2166      0.126      1.715      0.086      -0.031       0.464\n",
      "Xfemale:q2                       0.3919      0.407      0.964      0.335      -0.405       1.189\n",
      "Xfemale:q3                       0.6850      0.406      1.686      0.092      -0.112       1.482\n",
      "Xfemale:q4                       0.7214      0.406      1.776      0.076      -0.075       1.518\n",
      "Xfemale:q5                       0.5658      0.405      1.398      0.162      -0.228       1.359\n",
      "Xfemale:q6                       0.9082      0.430      2.110      0.035       0.064       1.752\n",
      "Xfemale:agelt35                  0.1701      0.095      1.789      0.074      -0.016       0.356\n",
      "Xfemale:agegt54                  0.2358      0.160      1.472      0.141      -0.078       0.550\n",
      "Xfemale:durable                  0.0974      0.138      0.708      0.479      -0.172       0.367\n",
      "Xfemale:lusd                     0.0720      0.107      0.676      0.499      -0.137       0.281\n",
      "Xfemale:husd                     0.0610      0.116      0.524      0.601      -0.167       0.289\n",
      "Xblack:factor(dep)1              0.1090      0.228      0.477      0.633      -0.339       0.557\n",
      "Xblack:factor(dep)2             -0.2007      0.228     -0.878      0.380      -0.649       0.247\n",
      "Xblack:q2                        0.4267      0.321      1.331      0.183      -0.202       1.055\n",
      "Xblack:q3                        0.3299      0.303      1.089      0.276      -0.264       0.924\n",
      "Xblack:q4                        0.5443      0.311      1.753      0.080      -0.064       1.153\n",
      "Xblack:q5                        0.6597      0.300      2.198      0.028       0.071       1.248\n",
      "Xblack:agelt35                   0.0830      0.158      0.524      0.600      -0.227       0.393\n",
      "Xblack:agegt54                   0.4230      0.255      1.660      0.097      -0.076       0.922\n",
      "Xblack:durable                   0.4681      0.227      2.058      0.040       0.022       0.914\n",
      "Xblack:lusd                      0.3086      0.184      1.674      0.094      -0.053       0.670\n",
      "Xblack:husd                      0.5498      0.660      0.834      0.405      -0.743       1.843\n",
      "Xothrace:factor(dep)1            2.5202      1.855      1.359      0.174      -1.116       6.157\n",
      "Xothrace:factor(dep)2            1.1889      0.573      2.074      0.038       0.065       2.312\n",
      "Xothrace:q2                      2.0826      0.608      3.423      0.001       0.890       3.275\n",
      "Xothrace:q3                      0.9373      0.660      1.420      0.156      -0.357       2.232\n",
      "Xothrace:q4                      3.8597      0.881      4.384      0.000       2.134       5.586\n",
      "Xothrace:q5                      0.9712      0.553      1.758      0.079      -0.112       2.054\n",
      "Xothrace:agelt35                 2.2480      0.915      2.456      0.014       0.453       4.043\n",
      "Xothrace:agegt54                -4.1490      0.482     -8.610      0.000      -5.094      -3.204\n",
      "Xothrace:durable                 1.7506      0.370      4.725      0.000       1.024       2.477\n",
      "Xothrace:lusd                   -0.6944      0.495     -1.402      0.161      -1.665       0.276\n",
      "Xothrace:husd                    4.7889      0.818      5.855      0.000       3.185       6.392\n",
      "Xfactor(dep)1:q2                 0.2339      0.642      0.365      0.715      -1.024       1.492\n",
      "Xfactor(dep)2:q2                -0.2177      0.448     -0.486      0.627      -1.096       0.661\n",
      "Xfactor(dep)1:q3                 0.1543      0.644      0.240      0.811      -1.108       1.416\n",
      "Xfactor(dep)2:q3                -0.2545      0.450     -0.565      0.572      -1.137       0.628\n",
      "Xfactor(dep)1:q4                -0.0239      0.642     -0.037      0.970      -1.283       1.235\n",
      "Xfactor(dep)2:q4                -0.1619      0.451     -0.359      0.720      -1.046       0.722\n",
      "Xfactor(dep)1:q5                 0.1396      0.638      0.219      0.827      -1.112       1.391\n",
      "Xfactor(dep)2:q5                -0.5626      0.449     -1.253      0.210      -1.443       0.317\n",
      "Xfactor(dep)1:q6                 0.4833      0.680      0.710      0.477      -0.850       1.817\n",
      "Xfactor(dep)2:q6                -0.0048      0.477     -0.010      0.992      -0.941       0.931\n",
      "Xfactor(dep)1:agelt35            0.0508      0.149      0.340      0.734      -0.242       0.343\n",
      "Xfactor(dep)2:agelt35            0.1192      0.116      1.026      0.305      -0.109       0.347\n",
      "Xfactor(dep)1:agegt54            0.0366      0.205      0.178      0.858      -0.366       0.439\n",
      "Xfactor(dep)2:agegt54            0.2231      0.421      0.530      0.596      -0.602       1.048\n",
      "Xfactor(dep)1:durable            0.3397      0.184      1.845      0.065      -0.021       0.701\n",
      "Xfactor(dep)2:durable            0.1147      0.153      0.748      0.454      -0.186       0.415\n",
      "Xfactor(dep)1:lusd              -0.2604      0.162     -1.609      0.108      -0.578       0.057\n",
      "Xfactor(dep)2:lusd               0.1151      0.140      0.823      0.411      -0.159       0.389\n",
      "Xfactor(dep)1:husd              -0.0428      0.166     -0.258      0.796      -0.368       0.282\n",
      "Xfactor(dep)2:husd               0.0180      0.151      0.119      0.905      -0.278       0.314\n",
      "Xq2:agelt35                      0.5007      0.410      1.222      0.222      -0.302       1.304\n",
      "Xq2:agegt54                      0.4322      0.698      0.619      0.536      -0.936       1.800\n",
      "Xq2:durable                      0.2615      0.593      0.441      0.659      -0.901       1.424\n",
      "Xq2:lusd                        -0.0675      0.231     -0.292      0.770      -0.520       0.385\n",
      "Xq2:husd                        -0.1818      0.234     -0.778      0.437      -0.640       0.276\n",
      "Xq3:agelt35                      0.5137      0.410      1.254      0.210      -0.290       1.317\n",
      "Xq3:agegt54                      0.7246      0.696      1.042      0.298      -0.639       2.088\n",
      "Xq3:durable                      0.7224      0.592      1.221      0.222      -0.438       1.883\n",
      "Xq3:lusd                        -0.0014      0.230     -0.006      0.995      -0.453       0.450\n",
      "Xq3:husd                         0.0989      0.232      0.427      0.669      -0.355       0.553\n",
      "Xq4:agelt35                      0.4048      0.410      0.988      0.323      -0.398       1.208\n",
      "Xq4:agegt54                      0.2469      0.694      0.356      0.722      -1.113       1.607\n",
      "Xq4:durable                      0.5938      0.598      0.993      0.321      -0.578       1.766\n",
      "Xq4:lusd                        -0.1686      0.232     -0.726      0.468      -0.624       0.287\n",
      "Xq4:husd                        -0.1451      0.235     -0.618      0.537      -0.605       0.315\n",
      "Xq5:agelt35                      0.2160      0.408      0.529      0.597      -0.584       1.016\n",
      "Xq5:agegt54                      0.0996      0.692      0.144      0.885      -1.256       1.456\n",
      "Xq5:durable                      0.8536      0.590      1.446      0.148      -0.304       2.011\n",
      "Xq5:lusd                        -0.2593      0.234     -1.108      0.268      -0.718       0.199\n",
      "Xq5:husd                        -0.1736      0.232     -0.749      0.454      -0.628       0.280\n",
      "Xq6:agelt35                      0.3824      0.434      0.881      0.379      -0.469       1.234\n",
      "Xq6:agegt54                      0.8362      0.728      1.149      0.251      -0.591       2.263\n",
      "Xq6:durable                      1.0289      0.618      1.664      0.096      -0.183       2.241\n",
      "Xagelt35:durable                -0.0027      0.126     -0.021      0.983      -0.249       0.243\n",
      "Xagelt35:lusd                   -0.0574      0.109     -0.525      0.600      -0.272       0.157\n",
      "Xagelt35:husd                    0.0545      0.126      0.434      0.664      -0.192       0.301\n",
      "Xagegt54:durable                -0.1239      0.207     -0.598      0.550      -0.530       0.283\n",
      "Xagegt54:lusd                    0.0912      0.176      0.519      0.604      -0.253       0.436\n",
      "Xagegt54:husd                   -0.3146      0.189     -1.662      0.097      -0.686       0.056\n",
      "Xdurable:lusd                    0.2634      0.138      1.911      0.056      -0.007       0.533\n",
      "Xdurable:husd                    0.3138      0.158      1.984      0.047       0.004       0.624\n",
      "T2TRUE:Xfemale                  -0.6598      0.550     -1.200      0.230      -1.738       0.418\n",
      "T2TRUE:Xblack                    0.4526      0.510      0.887      0.375      -0.548       1.453\n",
      "T2TRUE:Xothrace                  2.2115      1.102      2.007      0.045       0.051       4.372\n",
      "T2TRUE:Xfactor(dep)1             0.7636      0.785      0.972      0.331      -0.776       2.303\n",
      "T2TRUE:Xfactor(dep)2            -0.0512      0.779     -0.066      0.948      -1.578       1.475\n",
      "T2TRUE:Xq2                       0.8969      0.737      1.217      0.224      -0.548       2.342\n",
      "T2TRUE:Xq3                       0.8962      0.736      1.218      0.223      -0.546       2.338\n",
      "T2TRUE:Xq4                       0.5890      0.736      0.800      0.424      -0.854       2.032\n",
      "T2TRUE:Xq5                       0.7173      0.735      0.976      0.329      -0.723       2.158\n",
      "T2TRUE:Xq6                       0.7812      0.743      1.051      0.293      -0.676       2.239\n",
      "T2TRUE:Xagelt35                  1.1233      0.637      1.762      0.078      -0.126       2.373\n",
      "T2TRUE:Xagegt54                  0.4143      0.871      0.475      0.635      -1.294       2.123\n",
      "T2TRUE:Xdurable                  0.0699      0.851      0.082      0.935      -1.598       1.737\n",
      "T2TRUE:Xlusd                    -0.0864      0.361     -0.240      0.811      -0.794       0.621\n",
      "T2TRUE:Xhusd                     0.2846      0.399      0.713      0.476      -0.497       1.067\n",
      "T2TRUE:Xfemale:black            -0.2036      0.243     -0.837      0.403      -0.681       0.274\n",
      "T2TRUE:Xfemale:othrace          -0.9119      0.580     -1.572      0.116      -2.049       0.225\n",
      "T2TRUE:Xfemale:factor(dep)1      0.1813      0.220      0.826      0.409      -0.249       0.612\n",
      "T2TRUE:Xfemale:factor(dep)2     -0.4690      0.199     -2.360      0.018      -0.859      -0.079\n",
      "T2TRUE:Xfemale:q2                0.8485      0.549      1.545      0.122      -0.228       1.925\n",
      "T2TRUE:Xfemale:q3                1.0429      0.546      1.910      0.056      -0.028       2.113\n",
      "T2TRUE:Xfemale:q4                0.7825      0.546      1.434      0.152      -0.287       1.852\n",
      "T2TRUE:Xfemale:q5                0.8994      0.545      1.651      0.099      -0.169       1.967\n",
      "T2TRUE:Xfemale:q6                0.4086      0.604      0.677      0.499      -0.775       1.592\n",
      "T2TRUE:Xfemale:agelt35          -0.1861      0.146     -1.276      0.202      -0.472       0.100\n",
      "T2TRUE:Xfemale:agegt54          -0.3821      0.244     -1.564      0.118      -0.861       0.097\n",
      "T2TRUE:Xfemale:durable           0.1104      0.215      0.514      0.607      -0.310       0.531\n",
      "T2TRUE:Xfemale:lusd              0.1061      0.163      0.650      0.515      -0.214       0.426\n",
      "T2TRUE:Xfemale:husd             -0.0426      0.179     -0.239      0.811      -0.393       0.307\n",
      "T2TRUE:Xblack:factor(dep)1       0.3636      0.350      1.038      0.299      -0.323       1.050\n",
      "T2TRUE:Xblack:factor(dep)2       0.4284      0.338      1.266      0.206      -0.235       1.092\n",
      "T2TRUE:Xblack:q2                -0.5878      0.529     -1.112      0.266      -1.625       0.449\n",
      "T2TRUE:Xblack:q3                -0.0625      0.510     -0.123      0.902      -1.062       0.937\n",
      "T2TRUE:Xblack:q4                -0.4010      0.537     -0.747      0.455      -1.453       0.651\n",
      "T2TRUE:Xblack:q5                -0.4359      0.509     -0.856      0.392      -1.434       0.562\n",
      "T2TRUE:Xblack:agelt35           -0.2159      0.242     -0.893      0.372      -0.690       0.258\n",
      "T2TRUE:Xblack:agegt54           -0.2617      0.487     -0.538      0.591      -1.216       0.692\n",
      "T2TRUE:Xblack:durable           -0.8365      0.350     -2.387      0.017      -1.524      -0.149\n",
      "T2TRUE:Xblack:lusd              -0.4265      0.280     -1.525      0.127      -0.975       0.122\n",
      "T2TRUE:Xblack:husd              -0.1958      0.891     -0.220      0.826      -1.943       1.551\n",
      "T2TRUE:Xothrace:factor(dep)1     0.4788      1.895      0.253      0.801      -3.236       4.193\n",
      "T2TRUE:Xothrace:factor(dep)2    -4.4514      0.782     -5.695      0.000      -5.984      -2.919\n",
      "T2TRUE:Xothrace:q3              -0.7826      0.915     -0.856      0.392      -2.576       1.010\n",
      "T2TRUE:Xothrace:q4              -2.4173      1.144     -2.113      0.035      -4.660      -0.174\n",
      "T2TRUE:Xothrace:q5               0.7621      0.796      0.958      0.338      -0.798       2.322\n",
      "T2TRUE:Xothrace:agelt35         -3.8313      0.954     -4.017      0.000      -5.701      -1.962\n",
      "T2TRUE:Xothrace:durable          1.5659      0.462      3.388      0.001       0.660       2.472\n",
      "T2TRUE:Xothrace:lusd             2.0930      0.514      4.076      0.000       1.086       3.100\n",
      "T2TRUE:Xfactor(dep)1:q2         -0.8318      0.778     -1.069      0.285      -2.358       0.694\n",
      "T2TRUE:Xfactor(dep)2:q2          0.2249      0.778      0.289      0.773      -1.300       1.750\n",
      "T2TRUE:Xfactor(dep)1:q3         -0.8573      0.780     -1.099      0.272      -2.387       0.672\n",
      "T2TRUE:Xfactor(dep)2:q3          0.3587      0.775      0.463      0.644      -1.161       1.878\n",
      "T2TRUE:Xfactor(dep)1:q4         -0.6286      0.776     -0.810      0.418      -2.151       0.894\n",
      "T2TRUE:Xfactor(dep)2:q4          0.2390      0.774      0.309      0.758      -1.279       1.757\n",
      "T2TRUE:Xfactor(dep)1:q5         -0.8385      0.775     -1.082      0.279      -2.358       0.681\n",
      "T2TRUE:Xfactor(dep)2:q5          0.4285      0.774      0.553      0.580      -1.090       1.947\n",
      "T2TRUE:Xfactor(dep)1:q6         -1.5382      0.893     -1.722      0.085      -3.289       0.213\n",
      "T2TRUE:Xfactor(dep)2:q6          0.2847      0.818      0.348      0.728      -1.319       1.888\n",
      "T2TRUE:Xfactor(dep)1:agelt35    -0.0778      0.224     -0.347      0.729      -0.518       0.362\n",
      "T2TRUE:Xfactor(dep)2:agelt35    -0.1017      0.180     -0.564      0.573      -0.455       0.252\n",
      "T2TRUE:Xfactor(dep)1:agegt54    -0.2825      0.324     -0.873      0.383      -0.917       0.352\n",
      "T2TRUE:Xfactor(dep)2:agegt54     0.3793      0.571      0.664      0.507      -0.741       1.500\n",
      "T2TRUE:Xfactor(dep)1:durable    -0.2186      0.280     -0.779      0.436      -0.768       0.331\n",
      "T2TRUE:Xfactor(dep)2:durable    -0.0951      0.260     -0.366      0.715      -0.605       0.414\n",
      "T2TRUE:Xfactor(dep)1:lusd        0.2161      0.243      0.888      0.374      -0.261       0.693\n",
      "T2TRUE:Xfactor(dep)2:lusd       -0.2071      0.222     -0.933      0.351      -0.642       0.228\n",
      "T2TRUE:Xfactor(dep)1:husd        0.1232      0.268      0.460      0.646      -0.402       0.649\n",
      "T2TRUE:Xfactor(dep)2:husd        0.1580      0.230      0.686      0.493      -0.293       0.609\n",
      "T2TRUE:Xq2:agelt35              -1.2408      0.636     -1.952      0.051      -2.487       0.005\n",
      "T2TRUE:Xq2:agegt54              -0.6020      0.871     -0.691      0.489      -2.309       1.105\n",
      "T2TRUE:Xq2:durable              -0.0778      0.855     -0.091      0.928      -1.754       1.598\n",
      "T2TRUE:Xq2:lusd                  0.0508      0.367      0.138      0.890      -0.669       0.771\n",
      "T2TRUE:Xq2:husd                 -0.0920      0.395     -0.233      0.816      -0.866       0.682\n",
      "T2TRUE:Xq3:agelt35              -1.1278      0.636     -1.775      0.076      -2.374       0.118\n",
      "T2TRUE:Xq3:agegt54              -0.5411      0.862     -0.628      0.530      -2.231       1.149\n",
      "T2TRUE:Xq3:durable              -0.1956      0.855     -0.229      0.819      -1.872       1.481\n",
      "T2TRUE:Xq3:lusd                 -0.0740      0.361     -0.205      0.838      -0.781       0.633\n",
      "T2TRUE:Xq3:husd                 -0.5532      0.391     -1.414      0.157      -1.320       0.214\n",
      "T2TRUE:Xq4:agelt35              -0.9926      0.634     -1.565      0.118      -2.236       0.251\n",
      "T2TRUE:Xq4:agegt54               0.2122      0.852      0.249      0.803      -1.458       1.883\n",
      "T2TRUE:Xq4:durable              -0.1188      0.862     -0.138      0.890      -1.808       1.571\n",
      "T2TRUE:Xq4:lusd                  0.3042      0.366      0.831      0.406      -0.414       1.022\n",
      "T2TRUE:Xq4:husd                 -0.0828      0.393     -0.211      0.833      -0.852       0.687\n",
      "T2TRUE:Xq5:agelt35              -0.9263      0.633     -1.464      0.143      -2.167       0.314\n",
      "T2TRUE:Xq5:agegt54               0.2188      0.862      0.254      0.800      -1.471       1.909\n",
      "T2TRUE:Xq5:durable              -0.4451      0.852     -0.523      0.601      -2.115       1.225\n",
      "T2TRUE:Xq5:lusd                  0.0896      0.364      0.246      0.806      -0.625       0.804\n",
      "T2TRUE:Xq5:husd                 -0.2456      0.391     -0.629      0.529      -1.011       0.520\n",
      "T2TRUE:Xq6:agelt35              -0.7320      0.684     -1.070      0.285      -2.073       0.609\n",
      "T2TRUE:Xq6:agegt54              -0.4355      0.935     -0.466      0.641      -2.268       1.397\n",
      "T2TRUE:Xq6:durable              -0.1469      0.905     -0.162      0.871      -1.921       1.627\n",
      "T2TRUE:Xagelt35:durable          0.0216      0.201      0.108      0.914      -0.371       0.415\n",
      "T2TRUE:Xagelt35:lusd             0.0680      0.170      0.401      0.688      -0.264       0.400\n",
      "T2TRUE:Xagelt35:husd            -0.0587      0.186     -0.316      0.752      -0.423       0.305\n",
      "T2TRUE:Xagegt54:durable          0.1732      0.318      0.545      0.586      -0.450       0.796\n",
      "T2TRUE:Xagegt54:lusd            -0.1245      0.267     -0.467      0.641      -0.647       0.398\n",
      "T2TRUE:Xagegt54:husd             0.2899      0.296      0.979      0.328      -0.291       0.870\n",
      "T2TRUE:Xdurable:lusd             0.1281      0.212      0.605      0.545      -0.287       0.543\n",
      "T2TRUE:Xdurable:husd             0.0133      0.255      0.052      0.958      -0.487       0.514\n",
      "==============================================================================\n",
      "Omnibus:                     1349.401   Durbin-Watson:                   1.997\n",
      "Prob(Omnibus):                  0.000   Jarque-Bera (JB):              465.384\n",
      "Skew:                          -0.496   Prob(JB):                    8.77e-102\n",
      "Kurtosis:                       2.027   Cond. No.                         714.\n",
      "==============================================================================\n",
      "\n",
      "Warnings:\n",
      "[1] Standard Errors are heteroscedasticity robust (HC1)\n"
     ]
    },
    {
     "name": "stderr",
     "output_type": "stream",
     "text": [
      "C:\\ProgramData\\Anaconda3\\lib\\site-packages\\statsmodels\\base\\model.py:1830: ValueWarning: covariance of constraints does not have full rank. The number of constraints is 202, but rank is 188\n",
      "  warnings.warn('covariance of constraints does not have full '\n"
     ]
    },
    {
     "ename": "AttributeError",
     "evalue": "module 'seaborn' has no attribute 'coefplot'",
     "output_type": "error",
     "traceback": [
      "\u001b[1;31m---------------------------------------------------------------------------\u001b[0m",
      "\u001b[1;31mAttributeError\u001b[0m                            Traceback (most recent call last)",
      "\u001b[1;32m<ipython-input-72-90f181f2852b>\u001b[0m in \u001b[0;36m<module>\u001b[1;34m\u001b[0m\n\u001b[0;32m     11\u001b[0m \u001b[0mmpl\u001b[0m\u001b[1;33m.\u001b[0m\u001b[0mrc\u001b[0m\u001b[1;33m(\u001b[0m\u001b[1;34m\"figure\"\u001b[0m\u001b[1;33m,\u001b[0m \u001b[0mfigsize\u001b[0m\u001b[1;33m=\u001b[0m\u001b[1;33m(\u001b[0m\u001b[1;36m10\u001b[0m\u001b[1;33m,\u001b[0m \u001b[1;36m15\u001b[0m\u001b[1;33m)\u001b[0m\u001b[1;33m)\u001b[0m\u001b[1;33m\u001b[0m\u001b[1;33m\u001b[0m\u001b[0m\n\u001b[0;32m     12\u001b[0m \u001b[1;33m\u001b[0m\u001b[0m\n\u001b[1;32m---> 13\u001b[1;33m \u001b[0msns\u001b[0m\u001b[1;33m.\u001b[0m\u001b[0mcoefplot\u001b[0m\u001b[1;33m(\u001b[0m\u001b[1;33m)\u001b[0m\u001b[1;33m;\u001b[0m\u001b[1;33m\u001b[0m\u001b[1;33m\u001b[0m\u001b[0m\n\u001b[0m",
      "\u001b[1;31mAttributeError\u001b[0m: module 'seaborn' has no attribute 'coefplot'"
     ]
    }
   ],
   "source": [
    "result = pyreadr.read_r('D:/2021-2/estadística_aplicada/data/ols_ira_reg.RData')\n",
    "X_vars_ols_ira = result['S1']\n",
    "\n",
    "ols_ira = sm.OLS(log_inuidur1, X_vars_ols_ira  ).fit().get_robustcov_results(cov_type = \"HC1\")\n",
    "\n",
    "# Results \n",
    "print(ols_ira.summary())\n",
    "\n",
    "\n",
    "sns.set(style=\"ticks\") \n",
    "mpl.rc(\"figure\", figsize=(10, 15))\n",
    "    \n",
    "sns.coefplot();"
   ]
  },
  {
   "cell_type": "code",
   "execution_count": 85,
   "metadata": {},
   "outputs": [],
   "source": [
    "table3 = np.zeros((4, 2))\n",
    "\n",
    "table3[0,0] = ols_ira.summary2().tables[1]['Coef.']['Xq2']\n",
    "table3[1,0] = ols_ira.summary2().tables[1]['Coef.']['T2TRUE:Xblack']\n",
    "table3[2,0] = ols_ira.summary2().tables[1]['Coef.']['T2TRUE:Xagelt35']\n",
    "table3[3,0] = ols_ira.summary2().tables[1]['Coef.']['T2TRUE:Xfactor(dep)1']\n",
    "\n",
    "table3[0,1] = ols_ira.summary2().tables[1]['Std.Err.']['T2TRUE:Xfemale']\n",
    "table3[1,1] = ols_ira.summary2().tables[1]['Std.Err.']['T2TRUE:Xblack']\n",
    "table3[2,1] = ols_ira.summary2().tables[1]['Std.Err.']['T2TRUE:Xagelt35']\n",
    "table3[3,1] = ols_ira.summary2().tables[1]['Std.Err.']['T2TRUE:Xfactor(dep)1']\n",
    "\n",
    "\n",
    "\n",
    "\n",
    "table3 = pd.DataFrame(table3, columns = [\"coef\",'err'], \\\n",
    "                      index = ['T2TRUE:Xfemale','T2TRUE:Xblack','T2TRUE:Xagelt35','T2TRUE:Xfactor(dep)1'])\n"
   ]
  },
  {
   "cell_type": "code",
   "execution_count": 96,
   "metadata": {},
   "outputs": [
    {
     "data": {
      "text/html": [
       "<div>\n",
       "<style scoped>\n",
       "    .dataframe tbody tr th:only-of-type {\n",
       "        vertical-align: middle;\n",
       "    }\n",
       "\n",
       "    .dataframe tbody tr th {\n",
       "        vertical-align: top;\n",
       "    }\n",
       "\n",
       "    .dataframe thead th {\n",
       "        text-align: right;\n",
       "    }\n",
       "</style>\n",
       "<table border=\"1\" class=\"dataframe\">\n",
       "  <thead>\n",
       "    <tr style=\"text-align: right;\">\n",
       "      <th></th>\n",
       "      <th>level_0</th>\n",
       "      <th>index</th>\n",
       "      <th>coef</th>\n",
       "      <th>err</th>\n",
       "    </tr>\n",
       "  </thead>\n",
       "  <tbody>\n",
       "    <tr>\n",
       "      <th>0</th>\n",
       "      <td>0</td>\n",
       "      <td>T2TRUE:Xfemale</td>\n",
       "      <td>-0.254644</td>\n",
       "      <td>0.549897</td>\n",
       "    </tr>\n",
       "    <tr>\n",
       "      <th>1</th>\n",
       "      <td>1</td>\n",
       "      <td>T2TRUE:Xblack</td>\n",
       "      <td>0.452557</td>\n",
       "      <td>0.510319</td>\n",
       "    </tr>\n",
       "    <tr>\n",
       "      <th>2</th>\n",
       "      <td>2</td>\n",
       "      <td>T2TRUE:Xagelt35</td>\n",
       "      <td>1.123320</td>\n",
       "      <td>0.637419</td>\n",
       "    </tr>\n",
       "    <tr>\n",
       "      <th>3</th>\n",
       "      <td>3</td>\n",
       "      <td>T2TRUE:Xfactor(dep)1</td>\n",
       "      <td>0.763602</td>\n",
       "      <td>0.785448</td>\n",
       "    </tr>\n",
       "  </tbody>\n",
       "</table>\n",
       "</div>"
      ],
      "text/plain": [
       "   level_0                 index      coef       err\n",
       "0        0        T2TRUE:Xfemale -0.254644  0.549897\n",
       "1        1         T2TRUE:Xblack  0.452557  0.510319\n",
       "2        2       T2TRUE:Xagelt35  1.123320  0.637419\n",
       "3        3  T2TRUE:Xfactor(dep)1  0.763602  0.785448"
      ]
     },
     "execution_count": 96,
     "metadata": {},
     "output_type": "execute_result"
    }
   ],
   "source": [
    "table3 =table3.reset_index()\n",
    "table3"
   ]
  },
  {
   "cell_type": "code",
   "execution_count": 95,
   "metadata": {},
   "outputs": [
    {
     "name": "stderr",
     "output_type": "stream",
     "text": [
      "<ipython-input-95-f3b38bcc47db>:7: FutureWarning: The pandas.np module is deprecated and will be removed from pandas in a future version. Import numpy directly instead\n",
      "  ax.scatter(x=pd.np.arange(table3.shape[0]),\n"
     ]
    },
    {
     "data": {
      "image/png": "[encoded data removed]",
      "text/plain": [
       "<Figure size 576x360 with 1 Axes>"
      ]
     },
     "metadata": {},
     "output_type": "display_data"
    }
   ],
   "source": [
    "fig, ax = plt.subplots(figsize=(8, 5))\n",
    "table3.plot(x='index', y='coef', kind='bar', \n",
    "             ax=ax, color='none', \n",
    "             yerr='err', legend=False)\n",
    "ax.set_ylabel('')\n",
    "ax.set_xlabel('')\n",
    "ax.scatter(x=pd.np.arange(table3.shape[0]), \n",
    "           marker='s', s=120, \n",
    "           y=table3['coef'], color='black')\n",
    "ax.axhline(y=0, linestyle='--', color='black', linewidth=4)\n",
    "ax.xaxis.set_ticks_position('none')\n",
    "_ = ax.set_xticklabels(['T2TRUE:Xfemale','T2TRUE:Xblack','T2TRUE:Xagelt35','T2TRUE:Xfactor(dep)1'], \n",
    "                       rotation=45, fontsize=16)"
   ]
  }
 ],
 "metadata": {
  "hide_input": false,
  "kernelspec": {
   "display_name": "Python 3",
   "language": "python",
   "name": "python3"
  },
  "language_info": {
   "codemirror_mode": {
    "name": "ipython",
    "version": 3
   },
   "file_extension": ".py",
   "mimetype": "text/x-python",
   "name": "python",
   "nbconvert_exporter": "python",
   "pygments_lexer": "ipython3",
   "version": "3.8.8"
  }
 },
 "nbformat": 4,
 "nbformat_minor": 4
}
